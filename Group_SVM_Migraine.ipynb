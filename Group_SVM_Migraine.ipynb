{
 "cells": [
  {
   "cell_type": "markdown",
   "metadata": {},
   "source": [
    "# SVM for an Explainable VTE predictor"
   ]
  },
  {
   "cell_type": "code",
   "execution_count": 223,
   "metadata": {},
   "outputs": [],
   "source": [
    "import pandas as pd\n",
    "import numpy as np\n",
    "from sklearn import svm\n",
    "from sklearn.model_selection import train_test_split\n",
    "from sklearn.multiclass import OneVsRestClassifier\n",
    "from sklearn.preprocessing import MinMaxScaler\n",
    "from scipy import stats\n",
    "import pickle\n",
    "import os"
   ]
  },
  {
   "cell_type": "code",
   "execution_count": 224,
   "metadata": {},
   "outputs": [],
   "source": [
    "def save_model(model, filename):\n",
    "    try:\n",
    "        os.mkdir(\"../models/\")\n",
    "    except:\n",
    "        print(\"Directory already exists\\n\")\n",
    "        \n",
    "    with open(f\"../models/{filename}.pickle\", \"wb\") as f:\n",
    "        pickle.dump(model, f, protocol=pickle.HIGHEST_PROTOCOL)\n",
    "        \n",
    "    return True\n",
    "\n",
    "def open_model(filename):\n",
    "    with open(f\"../models/{filename}.pickle\", \"rb\") as f:\n",
    "        model = pickle.load(f)\n",
    "    return model"
   ]
  },
  {
   "cell_type": "code",
   "execution_count": 225,
   "metadata": {},
   "outputs": [],
   "source": [
    "# data paths\n",
    "TRAIN_PATH = \"../data/ValidationSetTrain.xls\""
    "TEST_PATH = \"../data/ValidationSetTest.xls\""
   ]
  },
  {
   "cell_type": "code",
   "execution_count": 226,
   "metadata": {},
   "outputs": [
    {
     "data": {
      "text/html": [
       "<div>\n",
       "<style scoped>\n",
       "    .dataframe tbody tr th:only-of-type {\n",
       "        vertical-align: middle;\n",
       "    }\n",
       "\n",
       "    .dataframe tbody tr th {\n",
       "        vertical-align: top;\n",
       "    }\n",
       "\n",
       "    .dataframe thead th {\n",
       "        text-align: right;\n",
       "    }\n",
       "</style>\n",
       "<table border=\"1\" class=\"dataframe\">\n",
       "  <thead>\n",
       "    <tr style=\"text-align: right;\">\n",
       "      <th></th>\n",
       "      <th>cod.</th>\n",
       "      <th>età (all'arruolamento)</th>\n",
       "      <th>genere</th>\n",
       "      <th>menopausa</th>\n",
       "      <th>menarca (età)</th>\n",
       "      <th>emicrania</th>\n",
       "      <th>diagnosi</th>\n",
       "      <th>lato</th>\n",
       "      <th>onset (età)</th>\n",
       "      <th>familiarità</th>\n",
       "      <th>...</th>\n",
       "      <th>bmi</th>\n",
       "      <th>fumo si=1/no=0</th>\n",
       "      <th>alcool si=1/no=0</th>\n",
       "      <th>caffè si=1/no=0</th>\n",
       "      <th>oc/hrt si=1/no=0</th>\n",
       "      <th>familiarità per cardiopatia</th>\n",
       "      <th>ipertensione arteriosa</th>\n",
       "      <th>ima si=1/no=0</th>\n",
       "      <th>dislipidemia si=1/no=0</th>\n",
       "      <th>diabete si=1/no=0</th>\n",
       "    </tr>\n",
       "  </thead>\n",
       "  <tbody>\n",
       "    <tr>\n",
       "      <th>0</th>\n",
       "      <td>BB12592</td>\n",
       "      <td>42.0</td>\n",
       "      <td>1</td>\n",
       "      <td>0.0</td>\n",
       "      <td>NaN</td>\n",
       "      <td>2</td>\n",
       "      <td>ESA</td>\n",
       "      <td>1.0</td>\n",
       "      <td>20.0</td>\n",
       "      <td>1.0</td>\n",
       "      <td>...</td>\n",
       "      <td>31.2</td>\n",
       "      <td>1.0</td>\n",
       "      <td>1.0</td>\n",
       "      <td>0.0</td>\n",
       "      <td>0.0</td>\n",
       "      <td>0.0</td>\n",
       "      <td>0.0</td>\n",
       "      <td>0.0</td>\n",
       "      <td>0.0</td>\n",
       "      <td>0.0</td>\n",
       "    </tr>\n",
       "    <tr>\n",
       "      <th>1</th>\n",
       "      <td>SOD001</td>\n",
       "      <td>42.0</td>\n",
       "      <td>1</td>\n",
       "      <td>0.0</td>\n",
       "      <td>15.5</td>\n",
       "      <td>3</td>\n",
       "      <td>EC</td>\n",
       "      <td>2.0</td>\n",
       "      <td>30.0</td>\n",
       "      <td>1.0</td>\n",
       "      <td>...</td>\n",
       "      <td>NaN</td>\n",
       "      <td>NaN</td>\n",
       "      <td>NaN</td>\n",
       "      <td>NaN</td>\n",
       "      <td>NaN</td>\n",
       "      <td>NaN</td>\n",
       "      <td>NaN</td>\n",
       "      <td>NaN</td>\n",
       "      <td>NaN</td>\n",
       "      <td>NaN</td>\n",
       "    </tr>\n",
       "    <tr>\n",
       "      <th>2</th>\n",
       "      <td>SOD002</td>\n",
       "      <td>38.0</td>\n",
       "      <td>1</td>\n",
       "      <td>0.0</td>\n",
       "      <td>12.5</td>\n",
       "      <td>3</td>\n",
       "      <td>EC+MOH</td>\n",
       "      <td>1.0</td>\n",
       "      <td>15.0</td>\n",
       "      <td>1.0</td>\n",
       "      <td>...</td>\n",
       "      <td>23.7</td>\n",
       "      <td>1.0</td>\n",
       "      <td>0.0</td>\n",
       "      <td>1.0</td>\n",
       "      <td>0.0</td>\n",
       "      <td>0.0</td>\n",
       "      <td>0.0</td>\n",
       "      <td>0.0</td>\n",
       "      <td>0.0</td>\n",
       "      <td>0.0</td>\n",
       "    </tr>\n",
       "    <tr>\n",
       "      <th>3</th>\n",
       "      <td>SOD003</td>\n",
       "      <td>44.0</td>\n",
       "      <td>0</td>\n",
       "      <td>NaN</td>\n",
       "      <td>NaN</td>\n",
       "      <td>3</td>\n",
       "      <td>EC+MOH</td>\n",
       "      <td>1.0</td>\n",
       "      <td>16.0</td>\n",
       "      <td>1.0</td>\n",
       "      <td>...</td>\n",
       "      <td>NaN</td>\n",
       "      <td>0.0</td>\n",
       "      <td>0.0</td>\n",
       "      <td>1.0</td>\n",
       "      <td>NaN</td>\n",
       "      <td>1.0</td>\n",
       "      <td>0.0</td>\n",
       "      <td>0.0</td>\n",
       "      <td>0.0</td>\n",
       "      <td>0.0</td>\n",
       "    </tr>\n",
       "    <tr>\n",
       "      <th>4</th>\n",
       "      <td>SOD004</td>\n",
       "      <td>72.0</td>\n",
       "      <td>0</td>\n",
       "      <td>NaN</td>\n",
       "      <td>NaN</td>\n",
       "      <td>3</td>\n",
       "      <td>EC</td>\n",
       "      <td>1.0</td>\n",
       "      <td>41.0</td>\n",
       "      <td>1.0</td>\n",
       "      <td>...</td>\n",
       "      <td>22.8</td>\n",
       "      <td>0.0</td>\n",
       "      <td>0.0</td>\n",
       "      <td>0.0</td>\n",
       "      <td>NaN</td>\n",
       "      <td>0.0</td>\n",
       "      <td>0.0</td>\n",
       "      <td>0.0</td>\n",
       "      <td>0.0</td>\n",
       "      <td>0.0</td>\n",
       "    </tr>\n",
       "  </tbody>\n",
       "</table>\n",
       "<p>5 rows × 40 columns</p>\n",
       "</div>"
      ],
      "text/plain": [
       "      cod.   età (all'arruolamento)  genere  menopausa  menarca (età)  \\\n",
       "0  BB12592                     42.0       1        0.0            NaN   \n",
       "1    SOD001                    42.0       1        0.0           15.5   \n",
       "2    SOD002                    38.0       1        0.0           12.5   \n",
       "3    SOD003                    44.0       0        NaN            NaN   \n",
       "4    SOD004                    72.0       0        NaN            NaN   \n",
       "\n",
       "   emicrania diagnosi  lato  onset (età)  familiarità  ...   bmi  \\\n",
       "0          2      ESA   1.0         20.0          1.0  ...  31.2   \n",
       "1          3       EC   2.0         30.0          1.0  ...   NaN   \n",
       "2          3   EC+MOH   1.0         15.0          1.0  ...  23.7   \n",
       "3          3   EC+MOH   1.0         16.0          1.0  ...   NaN   \n",
       "4          3       EC   1.0         41.0          1.0  ...  22.8   \n",
       "\n",
       "   fumo si=1/no=0 alcool si=1/no=0  caffè si=1/no=0 oc/hrt si=1/no=0  \\\n",
       "0             1.0              1.0              0.0              0.0   \n",
       "1             NaN              NaN              NaN              NaN   \n",
       "2             1.0              0.0              1.0              0.0   \n",
       "3             0.0              0.0              1.0              NaN   \n",
       "4             0.0              0.0              0.0              NaN   \n",
       "\n",
       "   familiarità per cardiopatia  ipertensione arteriosa  ima si=1/no=0  \\\n",
       "0                          0.0                     0.0            0.0   \n",
       "1                          NaN                     NaN            NaN   \n",
       "2                          0.0                     0.0            0.0   \n",
       "3                          1.0                     0.0            0.0   \n",
       "4                          0.0                     0.0            0.0   \n",
       "\n",
       "   dislipidemia si=1/no=0  diabete si=1/no=0  \n",
       "0                     0.0                0.0  \n",
       "1                     NaN                NaN  \n",
       "2                     0.0                0.0  \n",
       "3                     0.0                0.0  \n",
       "4                     0.0                0.0  \n",
       "\n",
       "[5 rows x 40 columns]"
      ]
     },
     "execution_count": 226,
     "metadata": {},
     "output_type": "execute_result"
    }
   ],
   "source": [
    "data = pd.read_excel(DATASET_PATH, skiprows=1)\n",
    "\n",
    "# columns name cleaner \n",
    "d_columns_temp = data.columns\n",
    "d_columns = []\n",
    "\n",
    "for c in d_columns_temp:\n",
    "    c_cleaned = c.split(\"\\n\")[0].lower()\n",
    "    d_columns.append(c_cleaned)\n",
    "\n",
    "data.columns = d_columns\n",
    "\n",
    "# features groups\n",
    "groups_temp = list(pd.read_excel(DATASET_PATH).columns.values)\n",
    "groups = []\n",
    "\n",
    "for index in range(len(groups_temp)):\n",
    "    if \"NA:\" not in groups_temp[index] and \"Unnamed:\" not in groups_temp[index]:\n",
    "        groups.append(groups_temp[index])\n",
    "        \n",
    "data.head()"
   ]
  },
  {
   "cell_type": "code",
   "execution_count": null,
   "metadata": {},
   "outputs": [],
   "source": []
  },
  {
   "cell_type": "code",
   "execution_count": 227,
   "metadata": {},
   "outputs": [
    {
     "data": {
      "text/plain": [
       "array([2, 3, 1, 4, 5], dtype=int64)"
      ]
     },
     "execution_count": 227,
     "metadata": {},
     "output_type": "execute_result"
    }
   ],
   "source": [
    "CLASSES = data[\"emicrania\"].unique()\n",
    "CLASSES"
   ]
  },
  {
   "cell_type": "code",
   "execution_count": 228,
   "metadata": {},
   "outputs": [
    {
     "data": {
      "text/html": [
       "<div>\n",
       "<style scoped>\n",
       "    .dataframe tbody tr th:only-of-type {\n",
       "        vertical-align: middle;\n",
       "    }\n",
       "\n",
       "    .dataframe tbody tr th {\n",
       "        vertical-align: top;\n",
       "    }\n",
       "\n",
       "    .dataframe thead th {\n",
       "        text-align: right;\n",
       "    }\n",
       "</style>\n",
       "<table border=\"1\" class=\"dataframe\">\n",
       "  <thead>\n",
       "    <tr style=\"text-align: right;\">\n",
       "      <th></th>\n",
       "      <th>cod.</th>\n",
       "      <th>età (all'arruolamento)</th>\n",
       "      <th>genere</th>\n",
       "      <th>menopausa</th>\n",
       "      <th>menarca (età)</th>\n",
       "      <th>emicrania</th>\n",
       "      <th>diagnosi</th>\n",
       "      <th>lato</th>\n",
       "      <th>onset (età)</th>\n",
       "      <th>familiarità</th>\n",
       "      <th>...</th>\n",
       "      <th>bmi</th>\n",
       "      <th>fumo si=1/no=0</th>\n",
       "      <th>alcool si=1/no=0</th>\n",
       "      <th>caffè si=1/no=0</th>\n",
       "      <th>oc/hrt si=1/no=0</th>\n",
       "      <th>familiarità per cardiopatia</th>\n",
       "      <th>ipertensione arteriosa</th>\n",
       "      <th>ima si=1/no=0</th>\n",
       "      <th>dislipidemia si=1/no=0</th>\n",
       "      <th>diabete si=1/no=0</th>\n",
       "    </tr>\n",
       "  </thead>\n",
       "  <tbody>\n",
       "    <tr>\n",
       "      <th>0</th>\n",
       "      <td>BB12592</td>\n",
       "      <td>42.0</td>\n",
       "      <td>1</td>\n",
       "      <td>0.0</td>\n",
       "      <td>NaN</td>\n",
       "      <td>2</td>\n",
       "      <td>ESA</td>\n",
       "      <td>1.0</td>\n",
       "      <td>20.0</td>\n",
       "      <td>1.0</td>\n",
       "      <td>...</td>\n",
       "      <td>31.2</td>\n",
       "      <td>1.0</td>\n",
       "      <td>1.0</td>\n",
       "      <td>0.0</td>\n",
       "      <td>0.0</td>\n",
       "      <td>0.0</td>\n",
       "      <td>0.0</td>\n",
       "      <td>0.0</td>\n",
       "      <td>0.0</td>\n",
       "      <td>0.0</td>\n",
       "    </tr>\n",
       "    <tr>\n",
       "      <th>1</th>\n",
       "      <td>SOD001</td>\n",
       "      <td>42.0</td>\n",
       "      <td>1</td>\n",
       "      <td>0.0</td>\n",
       "      <td>15.5</td>\n",
       "      <td>3</td>\n",
       "      <td>EC</td>\n",
       "      <td>2.0</td>\n",
       "      <td>30.0</td>\n",
       "      <td>1.0</td>\n",
       "      <td>...</td>\n",
       "      <td>NaN</td>\n",
       "      <td>NaN</td>\n",
       "      <td>NaN</td>\n",
       "      <td>NaN</td>\n",
       "      <td>NaN</td>\n",
       "      <td>NaN</td>\n",
       "      <td>NaN</td>\n",
       "      <td>NaN</td>\n",
       "      <td>NaN</td>\n",
       "      <td>NaN</td>\n",
       "    </tr>\n",
       "    <tr>\n",
       "      <th>2</th>\n",
       "      <td>SOD002</td>\n",
       "      <td>38.0</td>\n",
       "      <td>1</td>\n",
       "      <td>0.0</td>\n",
       "      <td>12.5</td>\n",
       "      <td>3</td>\n",
       "      <td>EC+MOH</td>\n",
       "      <td>1.0</td>\n",
       "      <td>15.0</td>\n",
       "      <td>1.0</td>\n",
       "      <td>...</td>\n",
       "      <td>23.7</td>\n",
       "      <td>1.0</td>\n",
       "      <td>0.0</td>\n",
       "      <td>1.0</td>\n",
       "      <td>0.0</td>\n",
       "      <td>0.0</td>\n",
       "      <td>0.0</td>\n",
       "      <td>0.0</td>\n",
       "      <td>0.0</td>\n",
       "      <td>0.0</td>\n",
       "    </tr>\n",
       "    <tr>\n",
       "      <th>3</th>\n",
       "      <td>SOD003</td>\n",
       "      <td>44.0</td>\n",
       "      <td>0</td>\n",
       "      <td>NaN</td>\n",
       "      <td>NaN</td>\n",
       "      <td>3</td>\n",
       "      <td>EC+MOH</td>\n",
       "      <td>1.0</td>\n",
       "      <td>16.0</td>\n",
       "      <td>1.0</td>\n",
       "      <td>...</td>\n",
       "      <td>NaN</td>\n",
       "      <td>0.0</td>\n",
       "      <td>0.0</td>\n",
       "      <td>1.0</td>\n",
       "      <td>NaN</td>\n",
       "      <td>1.0</td>\n",
       "      <td>0.0</td>\n",
       "      <td>0.0</td>\n",
       "      <td>0.0</td>\n",
       "      <td>0.0</td>\n",
       "    </tr>\n",
       "    <tr>\n",
       "      <th>4</th>\n",
       "      <td>SOD004</td>\n",
       "      <td>72.0</td>\n",
       "      <td>0</td>\n",
       "      <td>NaN</td>\n",
       "      <td>NaN</td>\n",
       "      <td>3</td>\n",
       "      <td>EC</td>\n",
       "      <td>1.0</td>\n",
       "      <td>41.0</td>\n",
       "      <td>1.0</td>\n",
       "      <td>...</td>\n",
       "      <td>22.8</td>\n",
       "      <td>0.0</td>\n",
       "      <td>0.0</td>\n",
       "      <td>0.0</td>\n",
       "      <td>NaN</td>\n",
       "      <td>0.0</td>\n",
       "      <td>0.0</td>\n",
       "      <td>0.0</td>\n",
       "      <td>0.0</td>\n",
       "      <td>0.0</td>\n",
       "    </tr>\n",
       "  </tbody>\n",
       "</table>\n",
       "<p>5 rows × 40 columns</p>\n",
       "</div>"
      ],
      "text/plain": [
       "      cod.   età (all'arruolamento)  genere  menopausa  menarca (età)  \\\n",
       "0  BB12592                     42.0       1        0.0            NaN   \n",
       "1    SOD001                    42.0       1        0.0           15.5   \n",
       "2    SOD002                    38.0       1        0.0           12.5   \n",
       "3    SOD003                    44.0       0        NaN            NaN   \n",
       "4    SOD004                    72.0       0        NaN            NaN   \n",
       "\n",
       "   emicrania diagnosi  lato  onset (età)  familiarità  ...   bmi  \\\n",
       "0          2      ESA   1.0         20.0          1.0  ...  31.2   \n",
       "1          3       EC   2.0         30.0          1.0  ...   NaN   \n",
       "2          3   EC+MOH   1.0         15.0          1.0  ...  23.7   \n",
       "3          3   EC+MOH   1.0         16.0          1.0  ...   NaN   \n",
       "4          3       EC   1.0         41.0          1.0  ...  22.8   \n",
       "\n",
       "   fumo si=1/no=0 alcool si=1/no=0  caffè si=1/no=0 oc/hrt si=1/no=0  \\\n",
       "0             1.0              1.0              0.0              0.0   \n",
       "1             NaN              NaN              NaN              NaN   \n",
       "2             1.0              0.0              1.0              0.0   \n",
       "3             0.0              0.0              1.0              NaN   \n",
       "4             0.0              0.0              0.0              NaN   \n",
       "\n",
       "   familiarità per cardiopatia  ipertensione arteriosa  ima si=1/no=0  \\\n",
       "0                          0.0                     0.0            0.0   \n",
       "1                          NaN                     NaN            NaN   \n",
       "2                          0.0                     0.0            0.0   \n",
       "3                          1.0                     0.0            0.0   \n",
       "4                          0.0                     0.0            0.0   \n",
       "\n",
       "   dislipidemia si=1/no=0  diabete si=1/no=0  \n",
       "0                     0.0                0.0  \n",
       "1                     NaN                NaN  \n",
       "2                     0.0                0.0  \n",
       "3                     0.0                0.0  \n",
       "4                     0.0                0.0  \n",
       "\n",
       "[5 rows x 40 columns]"
      ]
     },
     "execution_count": 228,
     "metadata": {},
     "output_type": "execute_result"
    }
   ],
   "source": [
    "data.head()"
   ]
  },
  {
   "cell_type": "code",
   "execution_count": 229,
   "metadata": {},
   "outputs": [
    {
     "data": {
      "text/html": [
       "<div>\n",
       "<style scoped>\n",
       "    .dataframe tbody tr th:only-of-type {\n",
       "        vertical-align: middle;\n",
       "    }\n",
       "\n",
       "    .dataframe tbody tr th {\n",
       "        vertical-align: top;\n",
       "    }\n",
       "\n",
       "    .dataframe thead th {\n",
       "        text-align: right;\n",
       "    }\n",
       "</style>\n",
       "<table border=\"1\" class=\"dataframe\">\n",
       "  <thead>\n",
       "    <tr style=\"text-align: right;\">\n",
       "      <th></th>\n",
       "      <th>età (all'arruolamento)</th>\n",
       "      <th>genere</th>\n",
       "      <th>menopausa</th>\n",
       "      <th>menarca (età)</th>\n",
       "      <th>emicrania</th>\n",
       "      <th>lato</th>\n",
       "      <th>onset (età)</th>\n",
       "      <th>familiarità</th>\n",
       "      <th>uas</th>\n",
       "      <th>emicrania mestruale</th>\n",
       "      <th>...</th>\n",
       "      <th>bmi</th>\n",
       "      <th>fumo si=1/no=0</th>\n",
       "      <th>alcool si=1/no=0</th>\n",
       "      <th>caffè si=1/no=0</th>\n",
       "      <th>oc/hrt si=1/no=0</th>\n",
       "      <th>familiarità per cardiopatia</th>\n",
       "      <th>ipertensione arteriosa</th>\n",
       "      <th>ima si=1/no=0</th>\n",
       "      <th>dislipidemia si=1/no=0</th>\n",
       "      <th>diabete si=1/no=0</th>\n",
       "    </tr>\n",
       "  </thead>\n",
       "  <tbody>\n",
       "    <tr>\n",
       "      <th>count</th>\n",
       "      <td>1038.000000</td>\n",
       "      <td>1039.000000</td>\n",
       "      <td>850.000000</td>\n",
       "      <td>266.000000</td>\n",
       "      <td>1039.000000</td>\n",
       "      <td>1037.000000</td>\n",
       "      <td>1037.000000</td>\n",
       "      <td>774.000000</td>\n",
       "      <td>1037.000000</td>\n",
       "      <td>464.000000</td>\n",
       "      <td>...</td>\n",
       "      <td>722.000000</td>\n",
       "      <td>495.000000</td>\n",
       "      <td>495.000000</td>\n",
       "      <td>494.000000</td>\n",
       "      <td>394.000000</td>\n",
       "      <td>491.000000</td>\n",
       "      <td>495.000000</td>\n",
       "      <td>495.00000</td>\n",
       "      <td>495.000000</td>\n",
       "      <td>493.000000</td>\n",
       "    </tr>\n",
       "    <tr>\n",
       "      <th>mean</th>\n",
       "      <td>42.315029</td>\n",
       "      <td>0.820019</td>\n",
       "      <td>0.243529</td>\n",
       "      <td>12.204887</td>\n",
       "      <td>1.607315</td>\n",
       "      <td>1.533462</td>\n",
       "      <td>19.481196</td>\n",
       "      <td>0.713178</td>\n",
       "      <td>0.509161</td>\n",
       "      <td>0.400862</td>\n",
       "      <td>...</td>\n",
       "      <td>23.339515</td>\n",
       "      <td>0.272727</td>\n",
       "      <td>0.155556</td>\n",
       "      <td>0.831984</td>\n",
       "      <td>0.164975</td>\n",
       "      <td>0.260692</td>\n",
       "      <td>0.103030</td>\n",
       "      <td>0.00404</td>\n",
       "      <td>0.125253</td>\n",
       "      <td>0.018256</td>\n",
       "    </tr>\n",
       "    <tr>\n",
       "      <th>std</th>\n",
       "      <td>12.814378</td>\n",
       "      <td>0.384356</td>\n",
       "      <td>0.429465</td>\n",
       "      <td>1.225644</td>\n",
       "      <td>0.896248</td>\n",
       "      <td>0.717358</td>\n",
       "      <td>10.407938</td>\n",
       "      <td>0.452570</td>\n",
       "      <td>0.500157</td>\n",
       "      <td>0.490602</td>\n",
       "      <td>...</td>\n",
       "      <td>3.572552</td>\n",
       "      <td>0.454803</td>\n",
       "      <td>0.362800</td>\n",
       "      <td>0.374260</td>\n",
       "      <td>0.371630</td>\n",
       "      <td>0.439460</td>\n",
       "      <td>0.304306</td>\n",
       "      <td>0.06350</td>\n",
       "      <td>0.331340</td>\n",
       "      <td>0.134010</td>\n",
       "    </tr>\n",
       "    <tr>\n",
       "      <th>min</th>\n",
       "      <td>13.000000</td>\n",
       "      <td>0.000000</td>\n",
       "      <td>0.000000</td>\n",
       "      <td>8.500000</td>\n",
       "      <td>1.000000</td>\n",
       "      <td>1.000000</td>\n",
       "      <td>-1.000000</td>\n",
       "      <td>0.000000</td>\n",
       "      <td>0.000000</td>\n",
       "      <td>0.000000</td>\n",
       "      <td>...</td>\n",
       "      <td>5.000000</td>\n",
       "      <td>0.000000</td>\n",
       "      <td>0.000000</td>\n",
       "      <td>0.000000</td>\n",
       "      <td>0.000000</td>\n",
       "      <td>0.000000</td>\n",
       "      <td>0.000000</td>\n",
       "      <td>0.00000</td>\n",
       "      <td>0.000000</td>\n",
       "      <td>0.000000</td>\n",
       "    </tr>\n",
       "    <tr>\n",
       "      <th>25%</th>\n",
       "      <td>33.000000</td>\n",
       "      <td>1.000000</td>\n",
       "      <td>0.000000</td>\n",
       "      <td>11.000000</td>\n",
       "      <td>1.000000</td>\n",
       "      <td>1.000000</td>\n",
       "      <td>12.000000</td>\n",
       "      <td>0.000000</td>\n",
       "      <td>0.000000</td>\n",
       "      <td>0.000000</td>\n",
       "      <td>...</td>\n",
       "      <td>21.000000</td>\n",
       "      <td>0.000000</td>\n",
       "      <td>0.000000</td>\n",
       "      <td>1.000000</td>\n",
       "      <td>0.000000</td>\n",
       "      <td>0.000000</td>\n",
       "      <td>0.000000</td>\n",
       "      <td>0.00000</td>\n",
       "      <td>0.000000</td>\n",
       "      <td>0.000000</td>\n",
       "    </tr>\n",
       "    <tr>\n",
       "      <th>50%</th>\n",
       "      <td>42.000000</td>\n",
       "      <td>1.000000</td>\n",
       "      <td>0.000000</td>\n",
       "      <td>12.000000</td>\n",
       "      <td>1.000000</td>\n",
       "      <td>1.000000</td>\n",
       "      <td>17.000000</td>\n",
       "      <td>1.000000</td>\n",
       "      <td>1.000000</td>\n",
       "      <td>0.000000</td>\n",
       "      <td>...</td>\n",
       "      <td>23.000000</td>\n",
       "      <td>0.000000</td>\n",
       "      <td>0.000000</td>\n",
       "      <td>1.000000</td>\n",
       "      <td>0.000000</td>\n",
       "      <td>0.000000</td>\n",
       "      <td>0.000000</td>\n",
       "      <td>0.00000</td>\n",
       "      <td>0.000000</td>\n",
       "      <td>0.000000</td>\n",
       "    </tr>\n",
       "    <tr>\n",
       "      <th>75%</th>\n",
       "      <td>51.000000</td>\n",
       "      <td>1.000000</td>\n",
       "      <td>0.000000</td>\n",
       "      <td>13.000000</td>\n",
       "      <td>2.000000</td>\n",
       "      <td>2.000000</td>\n",
       "      <td>25.000000</td>\n",
       "      <td>1.000000</td>\n",
       "      <td>1.000000</td>\n",
       "      <td>1.000000</td>\n",
       "      <td>...</td>\n",
       "      <td>25.000000</td>\n",
       "      <td>1.000000</td>\n",
       "      <td>0.000000</td>\n",
       "      <td>1.000000</td>\n",
       "      <td>0.000000</td>\n",
       "      <td>1.000000</td>\n",
       "      <td>0.000000</td>\n",
       "      <td>0.00000</td>\n",
       "      <td>0.000000</td>\n",
       "      <td>0.000000</td>\n",
       "    </tr>\n",
       "    <tr>\n",
       "      <th>max</th>\n",
       "      <td>78.000000</td>\n",
       "      <td>1.000000</td>\n",
       "      <td>1.000000</td>\n",
       "      <td>16.000000</td>\n",
       "      <td>5.000000</td>\n",
       "      <td>4.000000</td>\n",
       "      <td>73.000000</td>\n",
       "      <td>1.000000</td>\n",
       "      <td>1.000000</td>\n",
       "      <td>1.000000</td>\n",
       "      <td>...</td>\n",
       "      <td>46.800000</td>\n",
       "      <td>2.000000</td>\n",
       "      <td>1.000000</td>\n",
       "      <td>1.000000</td>\n",
       "      <td>1.000000</td>\n",
       "      <td>1.000000</td>\n",
       "      <td>1.000000</td>\n",
       "      <td>1.00000</td>\n",
       "      <td>1.000000</td>\n",
       "      <td>1.000000</td>\n",
       "    </tr>\n",
       "  </tbody>\n",
       "</table>\n",
       "<p>8 rows × 27 columns</p>\n",
       "</div>"
      ],
      "text/plain": [
       "       età (all'arruolamento)       genere   menopausa  menarca (età)  \\\n",
       "count             1038.000000  1039.000000  850.000000     266.000000   \n",
       "mean                42.315029     0.820019    0.243529      12.204887   \n",
       "std                 12.814378     0.384356    0.429465       1.225644   \n",
       "min                 13.000000     0.000000    0.000000       8.500000   \n",
       "25%                 33.000000     1.000000    0.000000      11.000000   \n",
       "50%                 42.000000     1.000000    0.000000      12.000000   \n",
       "75%                 51.000000     1.000000    0.000000      13.000000   \n",
       "max                 78.000000     1.000000    1.000000      16.000000   \n",
       "\n",
       "         emicrania         lato  onset (età)  familiarità          uas  \\\n",
       "count  1039.000000  1037.000000  1037.000000   774.000000  1037.000000   \n",
       "mean      1.607315     1.533462    19.481196     0.713178     0.509161   \n",
       "std       0.896248     0.717358    10.407938     0.452570     0.500157   \n",
       "min       1.000000     1.000000    -1.000000     0.000000     0.000000   \n",
       "25%       1.000000     1.000000    12.000000     0.000000     0.000000   \n",
       "50%       1.000000     1.000000    17.000000     1.000000     1.000000   \n",
       "75%       2.000000     2.000000    25.000000     1.000000     1.000000   \n",
       "max       5.000000     4.000000    73.000000     1.000000     1.000000   \n",
       "\n",
       "       emicrania mestruale  ...         bmi  fumo si=1/no=0  alcool si=1/no=0  \\\n",
       "count           464.000000  ...  722.000000      495.000000        495.000000   \n",
       "mean              0.400862  ...   23.339515        0.272727          0.155556   \n",
       "std               0.490602  ...    3.572552        0.454803          0.362800   \n",
       "min               0.000000  ...    5.000000        0.000000          0.000000   \n",
       "25%               0.000000  ...   21.000000        0.000000          0.000000   \n",
       "50%               0.000000  ...   23.000000        0.000000          0.000000   \n",
       "75%               1.000000  ...   25.000000        1.000000          0.000000   \n",
       "max               1.000000  ...   46.800000        2.000000          1.000000   \n",
       "\n",
       "       caffè si=1/no=0  oc/hrt si=1/no=0  familiarità per cardiopatia  \\\n",
       "count       494.000000        394.000000                   491.000000   \n",
       "mean          0.831984          0.164975                     0.260692   \n",
       "std           0.374260          0.371630                     0.439460   \n",
       "min           0.000000          0.000000                     0.000000   \n",
       "25%           1.000000          0.000000                     0.000000   \n",
       "50%           1.000000          0.000000                     0.000000   \n",
       "75%           1.000000          0.000000                     1.000000   \n",
       "max           1.000000          1.000000                     1.000000   \n",
       "\n",
       "       ipertensione arteriosa  ima si=1/no=0  dislipidemia si=1/no=0  \\\n",
       "count              495.000000      495.00000              495.000000   \n",
       "mean                 0.103030        0.00404                0.125253   \n",
       "std                  0.304306        0.06350                0.331340   \n",
       "min                  0.000000        0.00000                0.000000   \n",
       "25%                  0.000000        0.00000                0.000000   \n",
       "50%                  0.000000        0.00000                0.000000   \n",
       "75%                  0.000000        0.00000                0.000000   \n",
       "max                  1.000000        1.00000                1.000000   \n",
       "\n",
       "       diabete si=1/no=0  \n",
       "count         493.000000  \n",
       "mean            0.018256  \n",
       "std             0.134010  \n",
       "min             0.000000  \n",
       "25%             0.000000  \n",
       "50%             0.000000  \n",
       "75%             0.000000  \n",
       "max             1.000000  \n",
       "\n",
       "[8 rows x 27 columns]"
      ]
     },
     "execution_count": 229,
     "metadata": {},
     "output_type": "execute_result"
    }
   ],
   "source": [
    "data.describe()"
   ]
  },
  {
   "cell_type": "code",
   "execution_count": 230,
   "metadata": {},
   "outputs": [
    {
     "name": "stdout",
     "output_type": "stream",
     "text": [
      "<class 'pandas.core.frame.DataFrame'>\n",
      "RangeIndex: 1039 entries, 0 to 1038\n",
      "Data columns (total 40 columns):\n",
      " #   Column                                 Non-Null Count  Dtype  \n",
      "---  ------                                 --------------  -----  \n",
      " 0   cod.                                   1039 non-null   object \n",
      " 1   età (all'arruolamento)                 1038 non-null   float64\n",
      " 2   genere                                 1039 non-null   int64  \n",
      " 3   menopausa                              850 non-null    float64\n",
      " 4   menarca (età)                          266 non-null    float64\n",
      " 5   emicrania                              1039 non-null   int64  \n",
      " 6   diagnosi                               1039 non-null   object \n",
      " 7   lato                                   1037 non-null   float64\n",
      " 8   onset (età)                            1037 non-null   float64\n",
      " 9   familiarità                            774 non-null    float64\n",
      " 10  frequenza attacchi al mese             1031 non-null   object \n",
      " 11  uas                                    1037 non-null   float64\n",
      " 12  sintomi dopaminergici                  1012 non-null   object \n",
      " 13  emicrania mestruale                    464 non-null    float64\n",
      " 14  profilassi                             1036 non-null   object \n",
      " 15  abuso farmaco                          1033 non-null   float64\n",
      " 16  quantita' farmaco abusata (cp*mese)    159 non-null    float64\n",
      " 17  durata abuso (anni)                    353 non-null    float64\n",
      " 18  sistemica neuropsichiatrica (ex 1)     1035 non-null   float64\n",
      " 19  sistemica altro (ex 4)                 1035 non-null   float64\n",
      " 20  sistemica cardiovascolare (ex 2)       1034 non-null   float64\n",
      " 21  sistemica endocrino-metabolica (ex 3)  1033 non-null   float64\n",
      " 22  ace                                    493 non-null    object \n",
      " 23  dbh                                    388 non-null    object \n",
      " 24  lta -294                               379 non-null    object \n",
      " 25  pgr                                    386 non-null    object \n",
      " 26  comt val158met                         386 non-null    object \n",
      " 27  comt leu136leu                         384 non-null    object \n",
      " 28  sod 1 +35a/c                           494 non-null    object \n",
      " 29  sod 2                                  493 non-null    object \n",
      " 30  bmi                                    722 non-null    float64\n",
      " 31  fumo si=1/no=0                         495 non-null    float64\n",
      " 32  alcool si=1/no=0                       495 non-null    float64\n",
      " 33  caffè si=1/no=0                        494 non-null    float64\n",
      " 34  oc/hrt si=1/no=0                       394 non-null    float64\n",
      " 35  familiarità per cardiopatia            491 non-null    float64\n",
      " 36  ipertensione arteriosa                 495 non-null    float64\n",
      " 37  ima si=1/no=0                          495 non-null    float64\n",
      " 38  dislipidemia si=1/no=0                 495 non-null    float64\n",
      " 39  diabete si=1/no=0                      493 non-null    float64\n",
      "dtypes: float64(25), int64(2), object(13)\n",
      "memory usage: 324.8+ KB\n"
     ]
    }
   ],
   "source": [
    "data.info()"
   ]
  },
  {
   "cell_type": "markdown",
   "metadata": {},
   "source": [
    "## Fill NaN data"
   ]
  },
  {
   "cell_type": "code",
   "execution_count": 231,
   "metadata": {},
   "outputs": [],
   "source": [
    "import random\n",
    "\n",
    "def compute_mode(a):\n",
    "    elements = list(a.fillna(-1).unique())\n",
    "    arr_count = np.zeros(len(elements))\n",
    "    for el in list(elements):\n",
    "        if type(el) != str and el != np.nan:\n",
    "            arr_count[elements.index(el)] += 1\n",
    "    return elements[np.argmax(arr_count)]\n",
    "    \n",
    "\n",
    "def fill_binary_columns(list_of_indexes):\n",
    "    for index in list_of_indexes:\n",
    "        mode = compute_mode(data[data.columns[index]])\n",
    "        data[data.columns[index]] = data[data.columns[index]].replace(\"/\",mode)\n",
    "        data[data.columns[index]] = data[data.columns[index]].replace(\"O\",mode)\n",
    "        data[data.columns[index]] = data[data.columns[index]].fillna(mode)\n",
    "  \n",
    "        \n",
    "def fill_categorical_columns(list_of_indexes):\n",
    "    for index in list_of_indexes:\n",
    "        mode = compute_mode( data[data.columns[index]])\n",
    "        data[data.columns[index]] = data[data.columns[index]].replace(\"/\",mode)\n",
    "        data[data.columns[index]] = data[data.columns[index]].replace(\"O\",mode)\n",
    "        data[data.columns[index]] = data[data.columns[index]].fillna(mode)\n",
    "\n",
    "\n",
    "        \n",
    "def fill_range_columns(list_of_indexes):\n",
    "    for index in list_of_indexes:\n",
    "        mode = compute_mode( data[data.columns[index]])        \n",
    "        data[data.columns[index]] = data[data.columns[index]].replace(\"/\",mode)\n",
    "        data[data.columns[index]] = data[data.columns[index]].replace(\"O\",mode)\n",
    "        data[data.columns[index]] = data[data.columns[index]].fillna(mode)\n",
    "        data[data.columns[index]] = data[data.columns[index]].apply(categorical_to_integer, args=(index,))\n",
    "\n",
    "\n",
    "\n",
    "def get_unique_range_value(index):\n",
    "    return list(data[data.columns[index]].unique())\n",
    "    \n",
    "def categorical_to_integer(row, c):\n",
    "    c = get_unique_range_value(c)\n",
    "    return  c.index(row)\n",
    "\n",
    "def build_target_column(row):\n",
    "    return list(CLASSES).index(row)"
   ]
  },
  {
   "cell_type": "code",
   "execution_count": 232,
   "metadata": {},
   "outputs": [],
   "source": [
    "# fill NaN values\n",
    "columns = data.columns\n",
    "\n",
    "binary_columns = [2, 3, 9, 12, 13, 14, 15, 18, 19, 20, 21, 31, 32, 33]\n",
    "\n",
    "categorical_columns = []\n",
    "categorical_columns.extend(list(range(22,30)))\n",
    "categorical_columns.extend(list(range(30,31)))\n",
    "categorical_columns.extend(list(range(33,40)))\n",
    "\n",
    "range_columns = [10, 4, 6, 7 , 8]\n",
    "range_columns.extend(categorical_columns)\n",
    "\n",
    "\n",
    "fill_binary_columns(binary_columns)\n",
    "fill_categorical_columns(categorical_columns)\n",
    "fill_range_columns(range_columns)\n",
    "\n",
    "for c in range(len(columns)):\n",
    "    if c not in binary_columns and c not in categorical_columns and c not in range_columns and data[columns[c]].dtype != object:\n",
    "        data[columns[c]] = data[columns[c]].fillna(compute_mode(data[data.columns[c]])) \n",
    "\n",
    "for c in range_columns:\n",
    "    data[columns[c]] = data[columns[c]].apply(categorical_to_integer, args=(c,))\n",
    "    \n",
    "#data[\"diagnosi\"] = data[\"diagnosi\"].apply(build_target_column)\n",
    "data\n",
    "original_data = data\n"
   ]
  },
  {
   "cell_type": "code",
   "execution_count": 233,
   "metadata": {},
   "outputs": [],
   "source": [
    "original_data\n",
    "original_data.to_csv(\"../data/data_with_nan_filled.csv\")"
   ]
  },
  {
   "cell_type": "code",
   "execution_count": 234,
   "metadata": {},
   "outputs": [],
   "source": [
    "data_with_no_target = data.drop(\"emicrania\", axis=1)\n",
    "columns_to_scale = data_with_no_target.columns[1:]\n",
    "scaler = MinMaxScaler()\n",
    "data_with_no_target[columns_to_scale] = scaler.fit_transform(data_with_no_target[columns_to_scale])"
   ]
  },
  {
   "cell_type": "code",
   "execution_count": 235,
   "metadata": {},
   "outputs": [
    {
     "data": {
      "text/html": [
       "<div>\n",
       "<style scoped>\n",
       "    .dataframe tbody tr th:only-of-type {\n",
       "        vertical-align: middle;\n",
       "    }\n",
       "\n",
       "    .dataframe tbody tr th {\n",
       "        vertical-align: top;\n",
       "    }\n",
       "\n",
       "    .dataframe thead th {\n",
       "        text-align: right;\n",
       "    }\n",
       "</style>\n",
       "<table border=\"1\" class=\"dataframe\">\n",
       "  <thead>\n",
       "    <tr style=\"text-align: right;\">\n",
       "      <th></th>\n",
       "      <th>cod.</th>\n",
       "      <th>età (all'arruolamento)</th>\n",
       "      <th>genere</th>\n",
       "      <th>menopausa</th>\n",
       "      <th>menarca (età)</th>\n",
       "      <th>emicrania</th>\n",
       "      <th>diagnosi</th>\n",
       "      <th>lato</th>\n",
       "      <th>onset (età)</th>\n",
       "      <th>familiarità</th>\n",
       "      <th>...</th>\n",
       "      <th>bmi</th>\n",
       "      <th>fumo si=1/no=0</th>\n",
       "      <th>alcool si=1/no=0</th>\n",
       "      <th>caffè si=1/no=0</th>\n",
       "      <th>oc/hrt si=1/no=0</th>\n",
       "      <th>familiarità per cardiopatia</th>\n",
       "      <th>ipertensione arteriosa</th>\n",
       "      <th>ima si=1/no=0</th>\n",
       "      <th>dislipidemia si=1/no=0</th>\n",
       "      <th>diabete si=1/no=0</th>\n",
       "    </tr>\n",
       "  </thead>\n",
       "  <tbody>\n",
       "    <tr>\n",
       "      <th>0</th>\n",
       "      <td>BB12592</td>\n",
       "      <td>0.446154</td>\n",
       "      <td>1.0</td>\n",
       "      <td>0.0</td>\n",
       "      <td>0.000000</td>\n",
       "      <td>2</td>\n",
       "      <td>0.000000</td>\n",
       "      <td>0.00</td>\n",
       "      <td>0.000000</td>\n",
       "      <td>1.0</td>\n",
       "      <td>...</td>\n",
       "      <td>0.000</td>\n",
       "      <td>0.5</td>\n",
       "      <td>1.0</td>\n",
       "      <td>0.0</td>\n",
       "      <td>0.0</td>\n",
       "      <td>0.0</td>\n",
       "      <td>0.0</td>\n",
       "      <td>0.0</td>\n",
       "      <td>0.0</td>\n",
       "      <td>0.0</td>\n",
       "    </tr>\n",
       "    <tr>\n",
       "      <th>1</th>\n",
       "      <td>SOD001</td>\n",
       "      <td>0.446154</td>\n",
       "      <td>1.0</td>\n",
       "      <td>0.0</td>\n",
       "      <td>0.066667</td>\n",
       "      <td>3</td>\n",
       "      <td>0.071429</td>\n",
       "      <td>0.25</td>\n",
       "      <td>0.017544</td>\n",
       "      <td>1.0</td>\n",
       "      <td>...</td>\n",
       "      <td>0.000</td>\n",
       "      <td>0.5</td>\n",
       "      <td>1.0</td>\n",
       "      <td>0.0</td>\n",
       "      <td>0.0</td>\n",
       "      <td>0.0</td>\n",
       "      <td>0.0</td>\n",
       "      <td>0.0</td>\n",
       "      <td>0.0</td>\n",
       "      <td>0.0</td>\n",
       "    </tr>\n",
       "    <tr>\n",
       "      <th>2</th>\n",
       "      <td>SOD002</td>\n",
       "      <td>0.384615</td>\n",
       "      <td>1.0</td>\n",
       "      <td>0.0</td>\n",
       "      <td>0.133333</td>\n",
       "      <td>3</td>\n",
       "      <td>0.142857</td>\n",
       "      <td>0.00</td>\n",
       "      <td>0.035088</td>\n",
       "      <td>1.0</td>\n",
       "      <td>...</td>\n",
       "      <td>0.004</td>\n",
       "      <td>0.5</td>\n",
       "      <td>0.0</td>\n",
       "      <td>1.0</td>\n",
       "      <td>0.0</td>\n",
       "      <td>0.0</td>\n",
       "      <td>0.0</td>\n",
       "      <td>0.0</td>\n",
       "      <td>0.0</td>\n",
       "      <td>0.0</td>\n",
       "    </tr>\n",
       "    <tr>\n",
       "      <th>3</th>\n",
       "      <td>SOD003</td>\n",
       "      <td>0.476923</td>\n",
       "      <td>0.0</td>\n",
       "      <td>0.0</td>\n",
       "      <td>0.000000</td>\n",
       "      <td>3</td>\n",
       "      <td>0.142857</td>\n",
       "      <td>0.00</td>\n",
       "      <td>0.052632</td>\n",
       "      <td>1.0</td>\n",
       "      <td>...</td>\n",
       "      <td>0.000</td>\n",
       "      <td>0.0</td>\n",
       "      <td>0.0</td>\n",
       "      <td>1.0</td>\n",
       "      <td>0.0</td>\n",
       "      <td>1.0</td>\n",
       "      <td>0.0</td>\n",
       "      <td>0.0</td>\n",
       "      <td>0.0</td>\n",
       "      <td>0.0</td>\n",
       "    </tr>\n",
       "    <tr>\n",
       "      <th>4</th>\n",
       "      <td>SOD004</td>\n",
       "      <td>0.907692</td>\n",
       "      <td>0.0</td>\n",
       "      <td>0.0</td>\n",
       "      <td>0.000000</td>\n",
       "      <td>3</td>\n",
       "      <td>0.071429</td>\n",
       "      <td>0.00</td>\n",
       "      <td>0.070175</td>\n",
       "      <td>1.0</td>\n",
       "      <td>...</td>\n",
       "      <td>0.008</td>\n",
       "      <td>0.0</td>\n",
       "      <td>0.0</td>\n",
       "      <td>0.0</td>\n",
       "      <td>0.0</td>\n",
       "      <td>0.0</td>\n",
       "      <td>0.0</td>\n",
       "      <td>0.0</td>\n",
       "      <td>0.0</td>\n",
       "      <td>0.0</td>\n",
       "    </tr>\n",
       "    <tr>\n",
       "      <th>...</th>\n",
       "      <td>...</td>\n",
       "      <td>...</td>\n",
       "      <td>...</td>\n",
       "      <td>...</td>\n",
       "      <td>...</td>\n",
       "      <td>...</td>\n",
       "      <td>...</td>\n",
       "      <td>...</td>\n",
       "      <td>...</td>\n",
       "      <td>...</td>\n",
       "      <td>...</td>\n",
       "      <td>...</td>\n",
       "      <td>...</td>\n",
       "      <td>...</td>\n",
       "      <td>...</td>\n",
       "      <td>...</td>\n",
       "      <td>...</td>\n",
       "      <td>...</td>\n",
       "      <td>...</td>\n",
       "      <td>...</td>\n",
       "      <td>...</td>\n",
       "    </tr>\n",
       "    <tr>\n",
       "      <th>1034</th>\n",
       "      <td>255</td>\n",
       "      <td>0.676923</td>\n",
       "      <td>1.0</td>\n",
       "      <td>1.0</td>\n",
       "      <td>0.000000</td>\n",
       "      <td>1</td>\n",
       "      <td>0.357143</td>\n",
       "      <td>0.25</td>\n",
       "      <td>0.614035</td>\n",
       "      <td>1.0</td>\n",
       "      <td>...</td>\n",
       "      <td>0.096</td>\n",
       "      <td>0.5</td>\n",
       "      <td>1.0</td>\n",
       "      <td>0.0</td>\n",
       "      <td>0.0</td>\n",
       "      <td>0.0</td>\n",
       "      <td>0.0</td>\n",
       "      <td>0.0</td>\n",
       "      <td>0.0</td>\n",
       "      <td>0.0</td>\n",
       "    </tr>\n",
       "    <tr>\n",
       "      <th>1035</th>\n",
       "      <td>256</td>\n",
       "      <td>0.630769</td>\n",
       "      <td>1.0</td>\n",
       "      <td>0.0</td>\n",
       "      <td>0.000000</td>\n",
       "      <td>1</td>\n",
       "      <td>0.142857</td>\n",
       "      <td>1.00</td>\n",
       "      <td>0.105263</td>\n",
       "      <td>1.0</td>\n",
       "      <td>...</td>\n",
       "      <td>0.992</td>\n",
       "      <td>0.5</td>\n",
       "      <td>1.0</td>\n",
       "      <td>0.0</td>\n",
       "      <td>0.0</td>\n",
       "      <td>0.0</td>\n",
       "      <td>0.0</td>\n",
       "      <td>0.0</td>\n",
       "      <td>0.0</td>\n",
       "      <td>0.0</td>\n",
       "    </tr>\n",
       "    <tr>\n",
       "      <th>1036</th>\n",
       "      <td>257</td>\n",
       "      <td>0.292308</td>\n",
       "      <td>1.0</td>\n",
       "      <td>0.0</td>\n",
       "      <td>0.000000</td>\n",
       "      <td>1</td>\n",
       "      <td>0.142857</td>\n",
       "      <td>0.25</td>\n",
       "      <td>0.000000</td>\n",
       "      <td>1.0</td>\n",
       "      <td>...</td>\n",
       "      <td>0.996</td>\n",
       "      <td>0.5</td>\n",
       "      <td>1.0</td>\n",
       "      <td>0.0</td>\n",
       "      <td>0.0</td>\n",
       "      <td>0.0</td>\n",
       "      <td>0.0</td>\n",
       "      <td>0.0</td>\n",
       "      <td>0.0</td>\n",
       "      <td>0.0</td>\n",
       "    </tr>\n",
       "    <tr>\n",
       "      <th>1037</th>\n",
       "      <td>258</td>\n",
       "      <td>0.738462</td>\n",
       "      <td>1.0</td>\n",
       "      <td>1.0</td>\n",
       "      <td>0.000000</td>\n",
       "      <td>1</td>\n",
       "      <td>0.142857</td>\n",
       "      <td>1.00</td>\n",
       "      <td>0.122807</td>\n",
       "      <td>1.0</td>\n",
       "      <td>...</td>\n",
       "      <td>0.504</td>\n",
       "      <td>0.5</td>\n",
       "      <td>1.0</td>\n",
       "      <td>0.0</td>\n",
       "      <td>0.0</td>\n",
       "      <td>0.0</td>\n",
       "      <td>0.0</td>\n",
       "      <td>0.0</td>\n",
       "      <td>0.0</td>\n",
       "      <td>0.0</td>\n",
       "    </tr>\n",
       "    <tr>\n",
       "      <th>1038</th>\n",
       "      <td>259</td>\n",
       "      <td>0.353846</td>\n",
       "      <td>1.0</td>\n",
       "      <td>0.0</td>\n",
       "      <td>0.000000</td>\n",
       "      <td>1</td>\n",
       "      <td>0.071429</td>\n",
       "      <td>0.00</td>\n",
       "      <td>0.596491</td>\n",
       "      <td>1.0</td>\n",
       "      <td>...</td>\n",
       "      <td>1.000</td>\n",
       "      <td>0.5</td>\n",
       "      <td>1.0</td>\n",
       "      <td>0.0</td>\n",
       "      <td>0.0</td>\n",
       "      <td>0.0</td>\n",
       "      <td>0.0</td>\n",
       "      <td>0.0</td>\n",
       "      <td>0.0</td>\n",
       "      <td>0.0</td>\n",
       "    </tr>\n",
       "  </tbody>\n",
       "</table>\n",
       "<p>1039 rows × 40 columns</p>\n",
       "</div>"
      ],
      "text/plain": [
       "         cod.   età (all'arruolamento)  genere  menopausa  menarca (età)  \\\n",
       "0     BB12592                 0.446154     1.0        0.0       0.000000   \n",
       "1       SOD001                0.446154     1.0        0.0       0.066667   \n",
       "2       SOD002                0.384615     1.0        0.0       0.133333   \n",
       "3       SOD003                0.476923     0.0        0.0       0.000000   \n",
       "4       SOD004                0.907692     0.0        0.0       0.000000   \n",
       "...        ...                     ...     ...        ...            ...   \n",
       "1034       255                0.676923     1.0        1.0       0.000000   \n",
       "1035       256                0.630769     1.0        0.0       0.000000   \n",
       "1036       257                0.292308     1.0        0.0       0.000000   \n",
       "1037       258                0.738462     1.0        1.0       0.000000   \n",
       "1038       259                0.353846     1.0        0.0       0.000000   \n",
       "\n",
       "      emicrania  diagnosi  lato  onset (età)  familiarità  ...    bmi  \\\n",
       "0             2  0.000000  0.00     0.000000          1.0  ...  0.000   \n",
       "1             3  0.071429  0.25     0.017544          1.0  ...  0.000   \n",
       "2             3  0.142857  0.00     0.035088          1.0  ...  0.004   \n",
       "3             3  0.142857  0.00     0.052632          1.0  ...  0.000   \n",
       "4             3  0.071429  0.00     0.070175          1.0  ...  0.008   \n",
       "...         ...       ...   ...          ...          ...  ...    ...   \n",
       "1034          1  0.357143  0.25     0.614035          1.0  ...  0.096   \n",
       "1035          1  0.142857  1.00     0.105263          1.0  ...  0.992   \n",
       "1036          1  0.142857  0.25     0.000000          1.0  ...  0.996   \n",
       "1037          1  0.142857  1.00     0.122807          1.0  ...  0.504   \n",
       "1038          1  0.071429  0.00     0.596491          1.0  ...  1.000   \n",
       "\n",
       "      fumo si=1/no=0  alcool si=1/no=0  caffè si=1/no=0  oc/hrt si=1/no=0  \\\n",
       "0                0.5               1.0              0.0               0.0   \n",
       "1                0.5               1.0              0.0               0.0   \n",
       "2                0.5               0.0              1.0               0.0   \n",
       "3                0.0               0.0              1.0               0.0   \n",
       "4                0.0               0.0              0.0               0.0   \n",
       "...              ...               ...              ...               ...   \n",
       "1034             0.5               1.0              0.0               0.0   \n",
       "1035             0.5               1.0              0.0               0.0   \n",
       "1036             0.5               1.0              0.0               0.0   \n",
       "1037             0.5               1.0              0.0               0.0   \n",
       "1038             0.5               1.0              0.0               0.0   \n",
       "\n",
       "      familiarità per cardiopatia  ipertensione arteriosa  ima si=1/no=0  \\\n",
       "0                             0.0                     0.0            0.0   \n",
       "1                             0.0                     0.0            0.0   \n",
       "2                             0.0                     0.0            0.0   \n",
       "3                             1.0                     0.0            0.0   \n",
       "4                             0.0                     0.0            0.0   \n",
       "...                           ...                     ...            ...   \n",
       "1034                          0.0                     0.0            0.0   \n",
       "1035                          0.0                     0.0            0.0   \n",
       "1036                          0.0                     0.0            0.0   \n",
       "1037                          0.0                     0.0            0.0   \n",
       "1038                          0.0                     0.0            0.0   \n",
       "\n",
       "      dislipidemia si=1/no=0  diabete si=1/no=0  \n",
       "0                        0.0                0.0  \n",
       "1                        0.0                0.0  \n",
       "2                        0.0                0.0  \n",
       "3                        0.0                0.0  \n",
       "4                        0.0                0.0  \n",
       "...                      ...                ...  \n",
       "1034                     0.0                0.0  \n",
       "1035                     0.0                0.0  \n",
       "1036                     0.0                0.0  \n",
       "1037                     0.0                0.0  \n",
       "1038                     0.0                0.0  \n",
       "\n",
       "[1039 rows x 40 columns]"
      ]
     },
     "execution_count": 235,
     "metadata": {},
     "output_type": "execute_result"
    }
   ],
   "source": [
    "data_with_no_target.insert(5, \"emicrania\",data[\"emicrania\"])\n",
    "data = data_with_no_target\n",
    "data"
   ]
  },
  {
   "cell_type": "markdown",
   "metadata": {},
   "source": [
    "## Save normalized dataset"
   ]
  },
  {
   "cell_type": "code",
   "execution_count": 242,
   "metadata": {},
   "outputs": [
    {
     "name": "stdin",
     "output_type": "stream",
     "text": [
      "Do you want to save ready_dataset.csv? Y/N \n"
     ]
    },
    {
     "name": "stdout",
     "output_type": "stream",
     "text": [
      "Skipped\n"
     ]
    }
   ],
   "source": [
    "rewrite = input(\"Do you want to save ready_dataset.csv? Y/N\")\n",
    "if rewrite.upper()==\"Y\":\n",
    "    data.to_csv(\"../data/ready_dataset.csv\")\n",
    "    print(\"Dataset saved\")\n",
    "else:\n",
    "    print(\"Skipped\")"
   ]
  },
  {
   "cell_type": "markdown",
   "metadata": {},
   "source": [
    "# Features Groups"
   ]
  },
  {
   "cell_type": "code",
   "execution_count": 243,
   "metadata": {},
   "outputs": [],
   "source": [
    "# data paths\n",
    "DATASET_PATH = \"../data/migraine_experiments.xls\"\n",
    "\n",
    "groups = []\n",
    "# features groups\n",
    "groups_temp = list(pd.read_excel(TRAIN_PATH).columns.values)\n",
    "\n",
    "for index in range(len(groups_temp)):\n",
    "    if \"NA:\" not in groups_temp[index] and \"Unnamed:\" not in groups_temp[index]:\n",
    "        groups.append(groups_temp[index])\n",
    "        \n",
    "\n",
    "groups_indexes = [range(1,5), range(6,14), range(14,18), range(18, 22), range(22,30), range(30,40)]\n",
    "\n",
    "\n",
    "groups_dictionary = {}\n",
    "\n",
    "for gi in range(len(groups_indexes)):\n",
    "    groups_dictionary[groups[gi]] = list(groups_indexes[gi])"
   ]
  },
  {
   "cell_type": "code",
   "execution_count": 244,
   "metadata": {},
   "outputs": [],
   "source": [
    "from sklearn.utils import shuffle\n",
    "\n",
    "class Dataset():\n",
    "    def __init__(self, train, target_column, groups_dictionary):\n",
    "        self.data = train\n",
    "        self.target_column = target_column\n",
    "        self.groups = groups_dictionary\n",
    "        self.dataset = self.create_dataset()\n",
    "        self.dataset = shuffle(self.dataset)\n",
    "\n",
    "    \n",
    "    def create_dataset(self):\n",
    "        codes = []\n",
    "        g1, g2, g3, g4, g5, g6 = [], [], [], [], [], []\n",
    "        vectors = [g1, g2, g3, g4, g5, g6]\n",
    "        targets = []\n",
    "        \n",
    "        for e in self.data.values:\n",
    "            codes.append(e[0])\n",
    "            for index in range(len(self.groups)):\n",
    "                vectors[index].append(np.array(e[self.groups[list(self.groups.keys())[index]]], dtype=object), )\n",
    "            targets.append(e[self.target_column])\n",
    "        \n",
    "        columns = [\"code\"]\n",
    "        columns.extend(groups)\n",
    "        columns.append(\"target\")\n",
    "        return pd.DataFrame({columns[0]:codes, columns[1]:g1,columns[2]:g2,columns[3]:g3, columns[4]:g4,\n",
    "                             columns[5]:g5, columns[6]:g6, columns[7]:targets})\n",
    "    \n",
    "    # function to split data in train and test, take in input the dataset, target_column name, \n",
    "    # test_size and random_state and return two tuple of training and test_set \n",
    "    def split_dataset(self, test_size=0.2, random_state = 42):\n",
    "        x_train, x_test, y_train, y_test = train_test_split(self.dataset.drop([\"target\"], axis=1), self.dataset[\"target\"], \n",
    "                                                            test_size=test_size, random_state=random_state)\n",
    "        return (x_train, y_train), (x_test, y_test)\n",
    "\n",
    "    \n",
    "    def n_fold(self, n, x, y):\n",
    "        folds = []\n",
    "        start = 0\n",
    "        FOLD_SIZE = int(len(x)/n)\n",
    "\n",
    "        for fold in range(n):\n",
    "            folds.append((x[start: start + FOLD_SIZE], \n",
    "                        y[start: start + FOLD_SIZE]))\n",
    "            \n",
    "            start = start + FOLD_SIZE\n",
    "    \n",
    "        return folds\n",
    "\n",
    "    \n",
    "    \n",
    "    \n",
    "    "
   ]
  },
  {
   "cell_type": "code",
   "execution_count": 245,
   "metadata": {},
   "outputs": [],
   "source": [
    "TARGET_COLUMN = 5\n",
    "\n",
    "data = pd.read_csv(\"../data/ready_dataset.csv\", index_col=0)\n",
    "original_data = pd.read_csv(\"../data/data_with_nan_filled.csv\")\n",
    "dataset = Dataset(data, TARGET_COLUMN, groups_dictionary)"
   ]
  },
  {
   "cell_type": "code",
   "execution_count": null,
   "metadata": {},
   "outputs": [],
   "source": []
  },
  {
   "cell_type": "markdown",
   "metadata": {},
   "source": [
    "## Defining the SVM model and the kernel function\n",
    "We can now define the svm model with sklearn library. We can also create a particular kernel function and pass it like argument to the svm\n",
    "\n",
    "```python\n",
    ">>> from sklearn import svm\n",
    ">>> def my_kernel(X, Y):\n",
    "...     return np.dot(X, Y.T)\n",
    "...\n",
    ">>> clf = svm.SVC(kernel=\"linear\")\n",
    "```"
   ]
  },
  {
   "cell_type": "markdown",
   "metadata": {},
   "source": [
    "## Kernel \n",
    "\n",
    "kernel function --> (a, b) --> (a * b) / sqrt(a^2 * b^2) --> result\n",
    "- a and b are group vector\n",
    "\n",
    "\n",
    "result --> ArrayMath.cosine(vector, weights) --> result\n",
    "- values are groups vector\n",
    "- weights\n"
   ]
  },
  {
   "cell_type": "code",
   "execution_count": 246,
   "metadata": {},
   "outputs": [
    {
     "name": "stdout",
     "output_type": "stream",
     "text": [
      "(4,)\n",
      "(8,)\n",
      "(4,)\n",
      "(4,)\n",
      "(8,)\n",
      "(10,)\n"
     ]
    }
   ],
   "source": [
    "for el in dataset.dataset.values[0]:\n",
    "    if type(el) != str and type(el) != int:\n",
    "        print(el.shape)"
   ]
  },
  {
   "cell_type": "code",
   "execution_count": 247,
   "metadata": {},
   "outputs": [],
   "source": [
    "from sklearn import svm\n",
    "\n",
    "def K(X,Y):\n",
    "    # function that compute single example function\n",
    "    v = []\n",
    "    for a,b in zip(X,Y):\n",
    "        # vector of computed values\n",
    "        v.append(compute_kernel(a, b))\n",
    "    # return vector with weight \n",
    "    return np.cos(np.dot(v, weights))\n",
    "\n",
    "\n",
    "def compute_kernel(X,Y):\n",
    "    # single component function\n",
    "    try:\n",
    "        norm_x = np.dot(X,X)\n",
    "        norm_y = np.dot(Y,Y)\n",
    "        if norm_x != 0  and norm_y != 0:\n",
    "            return np.divide(np.dot(X, Y), np.sqrt(np.dot(norm_x, norm_y)))\n",
    "        else:\n",
    "            return 0\n",
    "    except:\n",
    "        return 0\n",
    "\n",
    "def kernel_function(X, Y):\n",
    "        vector = []\n",
    "        gram_matrix = np.zeros((X.shape[0], Y.shape[0]))\n",
    "        for i, x in enumerate(X):\n",
    "            for j, y in enumerate(Y):\n",
    "                gram_matrix[i, j] = K(x, y)\n",
    "        return gram_matrix          \n",
    "\n",
    "\n",
    "class GroupKernel():\n",
    "    def __init__(self, weights):\n",
    "        self.weights = weights"
   ]
  },
  {
   "cell_type": "markdown",
   "metadata": {},
   "source": [
    "## Data Transformation\n",
    "\n",
    "Initial Kernel:\n",
    "- ## $K(X, Y)$ = $\\frac{{\\sum_{i=1}^{n} w_i x_i y_i}}{\\sum_{j=1}^{m} w_j}$\n",
    "\n",
    "In order to use a linear kernel in our svm we take in input the weights vector $w$ and the data and we compute:\n",
    "- ## $\\alpha_i$ = $\\sqrt{\\frac{w_i}{\\sum_{j=1}^{m} w_j}}$\n",
    "- ## $w$ = [$\\alpha_1$, ... , $\\alpha_n$]\n",
    "- ## $X$ = [$x_1\\alpha_1$, ... , $x_n\\alpha_n$]\n",
    "\n",
    "With this tranformation we can perform the previous kernel with a linear kernel"
   ]
  },
  {
   "cell_type": "code",
   "execution_count": 248,
   "metadata": {},
   "outputs": [
    {
     "data": {
      "text/plain": [
       "array([[1, 2, 3],\n",
       "       [2, 2, 2]])"
      ]
     },
     "execution_count": 248,
     "metadata": {},
     "output_type": "execute_result"
    }
   ],
   "source": [
    "a = [[1,1,1], [2,2,2]]\n",
    "b = [[1,2,3], [1,1,1]]\n",
    "np.multiply(a,b)"
   ]
  },
  {
   "cell_type": "code",
   "execution_count": 249,
   "metadata": {},
   "outputs": [],
   "source": [
    "def transform_data(data,w):\n",
    "    tranformed = []\n",
    "    data_to_process = data[data.columns[1:]]\n",
    "    # compute alfa vector multiplied eith weights vector\n",
    "    w = [np.sqrt(np.divide(w_i, np.sum(w))) for w_i in w]\n",
    "    \n",
    "    for d in data_to_process.values:\n",
    "        # multiply x with w\n",
    "        prod = np.multiply(d, w)\n",
    "        prod = np.array(prod)\n",
    "        \n",
    "        # reshape in one dimension\n",
    "        prod = np.concatenate(prod)\n",
    "        tranformed.append(prod)\n",
    "    \n",
    "    transformed = np.array(tranformed)\n",
    "    # return also the example code\n",
    "    return transformed, data[\"code\"]"
   ]
  },
  {
   "cell_type": "markdown",
   "metadata": {},
   "source": [
    "## Experiments"
   ]
  },
  {
   "cell_type": "code",
   "execution_count": 250,
   "metadata": {},
   "outputs": [],
   "source": [
    "def create_prediction_csv(data, preds, g_truth, file_id=0):\n",
    "    output = pd.DataFrame({\"cod\": data, \"preds\": preds, \"real_value\":g_truth})\n",
    "    output.to_csv(f\"../experiments/predictions-{file_id}.csv\")\n",
    "    return True"
   ]
  },
  {
   "cell_type": "code",
   "execution_count": 251,
   "metadata": {},
   "outputs": [],
   "source": [
    "import random\n",
    "from sklearn.metrics import precision_score, recall_score, f1_score\n",
    "import time\n",
    "import os\n",
    "\n",
    "def random_search(train, test, max_iteration=20, iteration_id=0):\n",
    "    \n",
    "    best_iteration = 0\n",
    "    it = 0\n",
    "    best_f1 = -1\n",
    "    output = open(f\"../experiments/performances-{iteration_id}.txt\", \"w\")\n",
    "    \n",
    "    while(best_iteration < max_iteration - 1):\n",
    "        start_time = time.process_time()\n",
    "\n",
    "        # total iteration\n",
    "        print(f\"Iteration: {it+1}\") \n",
    "        print(f\"============================\")\n",
    "\n",
    "\n",
    "        # random weights initialization\n",
    "        global weights\n",
    "        \n",
    "        weights = np.zeros(6)\n",
    "        for w in range(len(weights)):\n",
    "            weights[w] = random.uniform(0,1)\n",
    "\n",
    "        group_kernel = GroupKernel(weights)\n",
    "\n",
    "        # values\n",
    "        x, train_codes= transform_data(train[0], weights)    \n",
    "        # labels\n",
    "        y = train[1]\n",
    "\n",
    "        # svm with group kernel function\n",
    "        clf = OneVsRestClassifier(svm.SVC(kernel = \"linear\"))\n",
    "\n",
    "        # learning\n",
    "        clf.fit(x, y.values)\n",
    "        \n",
    "        x_t, test_codes = transform_data(test[0], weights)\n",
    "        \n",
    "        # predictions\n",
    "        preds = clf.predict(x_t)\n",
    "        \n",
    "        \n",
    "        # evaluation\n",
    "        precision = precision_score(preds, test[1].values, average=\"macro\")\n",
    "        recall = recall_score(preds, test[1].values, average=\"macro\") \n",
    "        f1 = f1_score(preds, test[1].values, average=\"macro\")\n",
    "        \n",
    "        \n",
    "        print(f\"Precision: {precision} Recall: {recall} F1: {f1}\\nWeights: {weights}\\n\")\n",
    "        # total time computation\n",
    "        total_time = time.process_time() - start_time\n",
    "        print(f\"Total time execution: {total_time}\")\n",
    "        # write execution time to file\n",
    "        time_file = open(f\"../experiments/time_of_execution-{iteration_id}.txt\", \"a\")\n",
    "        time_file.write(f\"{total_time}\\n\")\n",
    "        time_file.close  \n",
    "        \n",
    "        \n",
    "        if f1 > best_f1:\n",
    "            print(\"Best F1\")            \n",
    "            best_iteration = 0\n",
    "            best_f1 = f1  \n",
    "            output.write(f\"Precision: {precision} Recall: {recall} F1: {f1}\\nWeights: {weights}\")\n",
    "            \n",
    "            create_prediction_csv(data=test[0][\"code\"], preds=preds, g_truth=test[1].values, file_id=iteration_id)\n",
    "\n",
    "        else:\n",
    "            best_iteration += 1\n",
    "            \n",
    "        save_model(clf, f\"model_{iteration_id}\")\n",
    "            \n",
    "        it+=1\n",
    "        print(f\"Best Results: {best_iteration+1}/{20}\\n\\n\")\n",
    "        \n",
    "    output.close()\n",
    "\n",
    "    \n",
    "    return\n",
    "\n"
   ]
  },
  {
   "cell_type": "markdown",
   "metadata": {},
   "source": [
    "## 3-FOLD CROSS VALIDATION"
   ]
  },
  {
   "cell_type": "code",
   "execution_count": 252,
   "metadata": {},
   "outputs": [],
   "source": [
    "train_data, test_data = dataset.split_dataset()\n",
    "folds = dataset.n_fold(3, train_data[0], train_data[1])\n",
    "x_fold_1, y_fold_1, x_fold_2, y_fold_2, x_fold_3, y_fold_3 = folds[0][0], folds[0][1], folds[1][0], folds[1][1], folds[2][0], folds[2][1] "
   ]
  },
  {
   "cell_type": "code",
   "execution_count": 253,
   "metadata": {},
   "outputs": [
    {
     "name": "stderr",
     "output_type": "stream",
     "text": [
      "C:\\Users\\semin\\anaconda3\\lib\\site-packages\\seaborn\\_decorators.py:36: FutureWarning:\n",
      "\n",
      "Pass the following variable as a keyword arg: x. From version 0.12, the only valid positional argument will be `data`, and passing other arguments without an explicit keyword will result in an error or misinterpretation.\n",
      "\n"
     ]
    },
    {
     "data": {
      "text/plain": [
       "<AxesSubplot:ylabel='count'>"
      ]
     },
     "execution_count": 253,
     "metadata": {},
     "output_type": "execute_result"
    },
    {
     "data": {
      "image/png": "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\n",
      "text/plain": [
       "<Figure size 1440x576 with 1 Axes>"
      ]
     },
     "metadata": {
      "needs_background": "light"
     },
     "output_type": "display_data"
    }
   ],
   "source": [
    "import seaborn as sns\n",
    "\n",
    "sns.countplot(train_data[1].values)"
   ]
  },
  {
   "cell_type": "code",
   "execution_count": 254,
   "metadata": {},
   "outputs": [
    {
     "data": {
      "text/plain": [
       "(array([[0.0, 0.0, 0.0, ..., 0.0, 0.0, 0.0],\n",
       "        [0.0, 0.0, 0.0, ..., 0.0, 0.0, 0.0],\n",
       "        [0.0, 0.0, 0.0, ..., 0.0, 0.0, 0.0],\n",
       "        ...,\n",
       "        [0.0, 0.0, 0.0, ..., 0.0, 0.0, 0.0],\n",
       "        [0.0, 0.0, 0.0, ..., 0.0, 0.0, 0.0],\n",
       "        [0.0, 0.0, 0.0, ..., 0.0, 0.0, 0.0]], dtype=object),\n",
       " 393    SOD443\n",
       " 535    SOD590\n",
       " 374    SOD423\n",
       " 185    SOD231\n",
       " 691    SOD755\n",
       "         ...  \n",
       " 153    SOD197\n",
       " 69     SOD089\n",
       " 703    SOD769\n",
       " 558    SOD615\n",
       " 808        29\n",
       " Name: code, Length: 831, dtype: object)"
      ]
     },
     "execution_count": 254,
     "metadata": {},
     "output_type": "execute_result"
    }
   ],
   "source": [
    "# transforming data example\n",
    "transform_data(train_data[0], [0,0,0,0,0,1])"
   ]
  },
  {
   "cell_type": "code",
   "execution_count": 255,
   "metadata": {},
   "outputs": [
    {
     "data": {
      "text/plain": [
       "array([1, 4, 2, 3, 5], dtype=int64)"
      ]
     },
     "execution_count": 255,
     "metadata": {},
     "output_type": "execute_result"
    }
   ],
   "source": [
    "dataset.dataset[\"target\"].unique()"
   ]
  },
  {
   "cell_type": "code",
   "execution_count": 256,
   "metadata": {
    "collapsed": true,
    "jupyter": {
     "outputs_hidden": true
    }
   },
   "outputs": [
    {
     "name": "stdout",
     "output_type": "stream",
     "text": [
      "Iteration: 1\n",
      "============================\n",
      "Precision: 0.35584369334369337 Recall: 0.43787878787878787 F1: 0.34909320832665774\n",
      "Weights: [0.50007596 0.08621878 0.42368262 0.92128573 0.48259856 0.7147389 ]\n",
      "\n",
      "Total time execution: 0.046875\n",
      "Best F1\n",
      "Directory already exists\n",
      "\n",
      "Best Results: 1/20\n",
      "\n",
      "\n",
      "Iteration: 2\n",
      "============================\n",
      "Precision: 0.5267935767935767 Recall: 0.5465951103160405 F1: 0.5340040883709432\n",
      "Weights: [0.13321354 0.45310918 0.3519626  0.12690316 0.45013056 0.85981452]\n",
      "\n",
      "Total time execution: 0.0625\n",
      "Best F1\n",
      "Directory already exists\n",
      "\n",
      "Best Results: 1/20\n",
      "\n",
      "\n",
      "Iteration: 3\n",
      "============================\n",
      "Precision: 0.5145461020461021 Recall: 0.5348556495769039 F1: 0.5210861576153533\n",
      "Weights: [0.44052526 0.5557202  0.03032201 0.55160315 0.40004942 0.82580043]\n",
      "\n",
      "Total time execution: 0.046875\n",
      "Directory already exists\n",
      "\n",
      "Best Results: 2/20\n",
      "\n",
      "\n",
      "Iteration: 4\n",
      "============================\n"
     ]
    },
    {
     "name": "stderr",
     "output_type": "stream",
     "text": [
      "C:\\Users\\semin\\anaconda3\\lib\\site-packages\\sklearn\\metrics\\_classification.py:1221: UndefinedMetricWarning:\n",
      "\n",
      "Recall is ill-defined and being set to 0.0 in labels with no true samples. Use `zero_division` parameter to control this behavior.\n",
      "\n",
      "C:\\Users\\semin\\anaconda3\\lib\\site-packages\\sklearn\\metrics\\_classification.py:1221: UndefinedMetricWarning:\n",
      "\n",
      "Recall is ill-defined and being set to 0.0 in labels with no true samples. Use `zero_division` parameter to control this behavior.\n",
      "\n",
      "C:\\Users\\semin\\anaconda3\\lib\\site-packages\\sklearn\\metrics\\_classification.py:1221: UndefinedMetricWarning:\n",
      "\n",
      "Recall is ill-defined and being set to 0.0 in labels with no true samples. Use `zero_division` parameter to control this behavior.\n",
      "\n",
      "C:\\Users\\semin\\anaconda3\\lib\\site-packages\\sklearn\\metrics\\_classification.py:1221: UndefinedMetricWarning:\n",
      "\n",
      "Recall is ill-defined and being set to 0.0 in labels with no true samples. Use `zero_division` parameter to control this behavior.\n",
      "\n"
     ]
    },
    {
     "name": "stdout",
     "output_type": "stream",
     "text": [
      "Precision: 0.4051411551411551 Recall: 0.4996163469557965 F1: 0.4267734843514394\n",
      "Weights: [0.88638858 0.38865241 0.93799556 0.55769401 0.62911726 0.6879433 ]\n",
      "\n",
      "Total time execution: 0.0625\n",
      "Directory already exists\n",
      "\n",
      "Best Results: 3/20\n",
      "\n",
      "\n",
      "Iteration: 5\n",
      "============================\n",
      "Precision: 0.5131151256151256 Recall: 0.5472240215924427 F1: 0.5243992978960602\n",
      "Weights: [0.83650047 0.77041344 0.32929002 0.09363539 0.77966319 0.220806  ]\n",
      "\n",
      "Total time execution: 0.0625\n",
      "Directory already exists\n",
      "\n",
      "Best Results: 4/20\n",
      "\n",
      "\n",
      "Iteration: 6\n",
      "============================\n",
      "Precision: 0.5219535094535095 Recall: 0.5409183064997019 F1: 0.528802209914834\n",
      "Weights: [0.0297491  0.66694351 0.27048317 0.95346788 0.43714277 0.79300362]\n",
      "\n",
      "Total time execution: 0.046875\n",
      "Directory already exists\n",
      "\n",
      "Best Results: 5/20\n",
      "\n",
      "\n",
      "Iteration: 7\n",
      "============================\n",
      "Precision: 0.3897565397565398 Recall: 0.4841414141414141 F1: 0.40594177064765297\n",
      "Weights: [0.88821399 0.29363234 0.60231669 0.95411514 0.08636821 0.59176925]\n",
      "\n",
      "Total time execution: 0.0625\n"
     ]
    },
    {
     "name": "stderr",
     "output_type": "stream",
     "text": [
      "C:\\Users\\semin\\anaconda3\\lib\\site-packages\\sklearn\\metrics\\_classification.py:1221: UndefinedMetricWarning:\n",
      "\n",
      "Recall is ill-defined and being set to 0.0 in labels with no true samples. Use `zero_division` parameter to control this behavior.\n",
      "\n",
      "C:\\Users\\semin\\anaconda3\\lib\\site-packages\\sklearn\\metrics\\_classification.py:1221: UndefinedMetricWarning:\n",
      "\n",
      "Recall is ill-defined and being set to 0.0 in labels with no true samples. Use `zero_division` parameter to control this behavior.\n",
      "\n",
      "C:\\Users\\semin\\anaconda3\\lib\\site-packages\\sklearn\\metrics\\_classification.py:1221: UndefinedMetricWarning:\n",
      "\n",
      "Recall is ill-defined and being set to 0.0 in labels with no true samples. Use `zero_division` parameter to control this behavior.\n",
      "\n",
      "C:\\Users\\semin\\anaconda3\\lib\\site-packages\\sklearn\\metrics\\_classification.py:1221: UndefinedMetricWarning:\n",
      "\n",
      "Recall is ill-defined and being set to 0.0 in labels with no true samples. Use `zero_division` parameter to control this behavior.\n",
      "\n"
     ]
    },
    {
     "name": "stdout",
     "output_type": "stream",
     "text": [
      "Directory already exists\n",
      "\n",
      "Best Results: 6/20\n",
      "\n",
      "\n",
      "Iteration: 8\n",
      "============================\n",
      "Precision: 0.36382737632737633 Recall: 0.4353195673549656 F1: 0.36446253580581933\n",
      "Weights: [0.42067184 0.12942091 0.52331314 0.22360437 0.76184071 0.66890653]\n",
      "\n",
      "Total time execution: 0.046875\n",
      "Directory already exists\n",
      "\n",
      "Best Results: 7/20\n",
      "\n",
      "\n",
      "Iteration: 9\n",
      "============================\n",
      "Precision: 0.35242812742812746 Recall: 0.4326996966632962 F1: 0.35085796485940335\n",
      "Weights: [0.46507965 0.08241489 0.20275657 0.5168991  0.66757265 0.461873  ]\n",
      "\n",
      "Total time execution: 0.0625\n",
      "Directory already exists\n",
      "\n",
      "Best Results: 8/20\n",
      "\n",
      "\n",
      "Iteration: 10\n",
      "============================\n",
      "Precision: 0.5071386946386947 Recall: 0.5359618605849762 F1: 0.5167258891645988\n",
      "Weights: [0.77483682 0.89282518 0.21873831 0.79340097 0.82606397 0.31096483]\n",
      "\n",
      "Total time execution: 0.0625\n",
      "Directory already exists\n",
      "\n",
      "Best Results: 9/20\n",
      "\n",
      "\n",
      "Iteration: 11\n",
      "============================\n"
     ]
    },
    {
     "name": "stderr",
     "output_type": "stream",
     "text": [
      "C:\\Users\\semin\\anaconda3\\lib\\site-packages\\sklearn\\metrics\\_classification.py:1221: UndefinedMetricWarning:\n",
      "\n",
      "Recall is ill-defined and being set to 0.0 in labels with no true samples. Use `zero_division` parameter to control this behavior.\n",
      "\n",
      "C:\\Users\\semin\\anaconda3\\lib\\site-packages\\sklearn\\metrics\\_classification.py:1221: UndefinedMetricWarning:\n",
      "\n",
      "Recall is ill-defined and being set to 0.0 in labels with no true samples. Use `zero_division` parameter to control this behavior.\n",
      "\n",
      "C:\\Users\\semin\\anaconda3\\lib\\site-packages\\sklearn\\metrics\\_classification.py:1221: UndefinedMetricWarning:\n",
      "\n",
      "Recall is ill-defined and being set to 0.0 in labels with no true samples. Use `zero_division` parameter to control this behavior.\n",
      "\n",
      "C:\\Users\\semin\\anaconda3\\lib\\site-packages\\sklearn\\metrics\\_classification.py:1221: UndefinedMetricWarning:\n",
      "\n",
      "Recall is ill-defined and being set to 0.0 in labels with no true samples. Use `zero_division` parameter to control this behavior.\n",
      "\n"
     ]
    },
    {
     "name": "stdout",
     "output_type": "stream",
     "text": [
      "Precision: 0.3869010619010619 Recall: 0.4875548687416453 F1: 0.4033845438338114\n",
      "Weights: [0.7004517  0.1555008  0.76289105 0.32350731 0.17457446 0.19010965]\n",
      "\n",
      "Total time execution: 0.046875\n",
      "Directory already exists\n",
      "\n",
      "Best Results: 10/20\n",
      "\n",
      "\n",
      "Iteration: 12\n",
      "============================\n",
      "Precision: 0.5193861693861694 Recall: 0.5443503712663054 F1: 0.528148107947741\n",
      "Weights: [0.37891276 0.3832808  0.07453651 0.76859694 0.20704741 0.44980196]\n",
      "\n",
      "Total time execution: 0.0625\n",
      "Directory already exists\n",
      "\n",
      "Best Results: 11/20\n",
      "\n",
      "\n",
      "Iteration: 13\n",
      "============================\n",
      "Precision: 0.356986531986532 Recall: 0.3342830712303423 F1: 0.3417256011315417\n",
      "Weights: [0.3302791  0.04659134 0.99946176 0.46683966 0.07244891 0.97976743]\n",
      "\n",
      "Total time execution: 0.0625\n",
      "Directory already exists\n",
      "\n",
      "Best Results: 12/20\n",
      "\n",
      "\n",
      "Iteration: 14\n",
      "============================\n"
     ]
    },
    {
     "name": "stderr",
     "output_type": "stream",
     "text": [
      "C:\\Users\\semin\\anaconda3\\lib\\site-packages\\sklearn\\metrics\\_classification.py:1221: UndefinedMetricWarning:\n",
      "\n",
      "Recall is ill-defined and being set to 0.0 in labels with no true samples. Use `zero_division` parameter to control this behavior.\n",
      "\n",
      "C:\\Users\\semin\\anaconda3\\lib\\site-packages\\sklearn\\metrics\\_classification.py:1221: UndefinedMetricWarning:\n",
      "\n",
      "Recall is ill-defined and being set to 0.0 in labels with no true samples. Use `zero_division` parameter to control this behavior.\n",
      "\n",
      "C:\\Users\\semin\\anaconda3\\lib\\site-packages\\sklearn\\metrics\\_classification.py:1221: UndefinedMetricWarning:\n",
      "\n",
      "Recall is ill-defined and being set to 0.0 in labels with no true samples. Use `zero_division` parameter to control this behavior.\n",
      "\n",
      "C:\\Users\\semin\\anaconda3\\lib\\site-packages\\sklearn\\metrics\\_classification.py:1221: UndefinedMetricWarning:\n",
      "\n",
      "Recall is ill-defined and being set to 0.0 in labels with no true samples. Use `zero_division` parameter to control this behavior.\n",
      "\n"
     ]
    },
    {
     "name": "stdout",
     "output_type": "stream",
     "text": [
      "Precision: 0.5219535094535095 Recall: 0.5409183064997019 F1: 0.528802209914834\n",
      "Weights: [0.41284328 0.58735185 0.68958319 0.38473052 0.52118447 0.23905013]\n",
      "\n",
      "Total time execution: 0.0625\n",
      "Directory already exists\n",
      "\n",
      "Best Results: 13/20\n",
      "\n",
      "\n",
      "Iteration: 15\n",
      "============================\n",
      "Precision: 0.5145461020461021 Recall: 0.5384570940594217 F1: 0.5228651955729704\n",
      "Weights: [0.48658418 0.51048041 0.08263925 0.38044653 0.27061038 0.19256666]\n",
      "\n",
      "Total time execution: 0.046875\n",
      "Directory already exists\n",
      "\n",
      "Best Results: 14/20\n",
      "\n",
      "\n",
      "Iteration: 16\n",
      "============================\n",
      "Precision: 0.3470117845117845 Recall: 0.3356191612005565 F1: 0.3356801609253206\n",
      "Weights: [0.06078032 0.02732396 0.44984727 0.66712357 0.91582728 0.3049455 ]\n",
      "\n",
      "Total time execution: 0.0625\n",
      "Directory already exists\n",
      "\n",
      "Best Results: 15/20\n",
      "\n",
      "\n",
      "Iteration: 17\n",
      "============================\n",
      "Precision: 0.3686674436674437 Recall: 0.45659099653712965 F1: 0.36840705563093623\n",
      "Weights: [0.03304167 0.09645346 0.61368591 0.22498311 0.01720993 0.89001557]\n",
      "\n",
      "Total time execution: 0.0625\n",
      "Directory already exists\n",
      "\n",
      "Best Results: 16/20\n",
      "\n",
      "\n",
      "Iteration: 18\n",
      "============================\n"
     ]
    },
    {
     "name": "stderr",
     "output_type": "stream",
     "text": [
      "C:\\Users\\semin\\anaconda3\\lib\\site-packages\\sklearn\\metrics\\_classification.py:1221: UndefinedMetricWarning:\n",
      "\n",
      "Recall is ill-defined and being set to 0.0 in labels with no true samples. Use `zero_division` parameter to control this behavior.\n",
      "\n",
      "C:\\Users\\semin\\anaconda3\\lib\\site-packages\\sklearn\\metrics\\_classification.py:1221: UndefinedMetricWarning:\n",
      "\n",
      "Recall is ill-defined and being set to 0.0 in labels with no true samples. Use `zero_division` parameter to control this behavior.\n",
      "\n",
      "C:\\Users\\semin\\anaconda3\\lib\\site-packages\\sklearn\\metrics\\_classification.py:1221: UndefinedMetricWarning:\n",
      "\n",
      "Recall is ill-defined and being set to 0.0 in labels with no true samples. Use `zero_division` parameter to control this behavior.\n",
      "\n",
      "C:\\Users\\semin\\anaconda3\\lib\\site-packages\\sklearn\\metrics\\_classification.py:1221: UndefinedMetricWarning:\n",
      "\n",
      "Recall is ill-defined and being set to 0.0 in labels with no true samples. Use `zero_division` parameter to control this behavior.\n",
      "\n"
     ]
    },
    {
     "name": "stdout",
     "output_type": "stream",
     "text": [
      "Precision: 0.5381928256928257 Recall: 0.5466516996426766 F1: 0.5412884361167201\n",
      "Weights: [0.70259548 0.51975029 0.16512673 0.03722567 0.0650236  0.8498183 ]\n",
      "\n",
      "Total time execution: 0.046875\n",
      "Best F1\n",
      "Directory already exists\n",
      "\n",
      "Best Results: 1/20\n",
      "\n",
      "\n",
      "Iteration: 19\n",
      "============================\n",
      "Precision: 0.38747086247086243 Recall: 0.5012832080200501 F1: 0.413106691842993\n",
      "Weights: [0.63240804 0.20596071 0.07529753 0.62163323 0.63014634 0.50540767]\n",
      "\n",
      "Total time execution: 0.046875\n",
      "Directory already exists\n",
      "\n",
      "Best Results: 2/20\n",
      "\n",
      "\n",
      "Iteration: 20\n",
      "============================\n",
      "Precision: 0.3609718984718985 Recall: 0.4392020643112346 F1: 0.35879109611114035\n",
      "Weights: [0.31300998 0.14390433 0.93483683 0.40516633 0.96758681 0.88464714]\n",
      "\n",
      "Total time execution: 0.0625\n",
      "Directory already exists\n",
      "\n",
      "Best Results: 3/20\n",
      "\n",
      "\n",
      "Iteration: 21\n",
      "============================\n",
      "Precision: 0.4205257705257705 Recall: 0.5084848484848485 F1: 0.44448754330107326\n",
      "Weights: [0.49648778 0.41771114 0.95783436 0.85545514 0.9653201  0.47150698]\n",
      "\n",
      "Total time execution: 0.0625\n"
     ]
    },
    {
     "name": "stderr",
     "output_type": "stream",
     "text": [
      "C:\\Users\\semin\\anaconda3\\lib\\site-packages\\sklearn\\metrics\\_classification.py:1221: UndefinedMetricWarning:\n",
      "\n",
      "Recall is ill-defined and being set to 0.0 in labels with no true samples. Use `zero_division` parameter to control this behavior.\n",
      "\n",
      "C:\\Users\\semin\\anaconda3\\lib\\site-packages\\sklearn\\metrics\\_classification.py:1221: UndefinedMetricWarning:\n",
      "\n",
      "Recall is ill-defined and being set to 0.0 in labels with no true samples. Use `zero_division` parameter to control this behavior.\n",
      "\n",
      "C:\\Users\\semin\\anaconda3\\lib\\site-packages\\sklearn\\metrics\\_classification.py:1221: UndefinedMetricWarning:\n",
      "\n",
      "Recall is ill-defined and being set to 0.0 in labels with no true samples. Use `zero_division` parameter to control this behavior.\n",
      "\n",
      "C:\\Users\\semin\\anaconda3\\lib\\site-packages\\sklearn\\metrics\\_classification.py:1221: UndefinedMetricWarning:\n",
      "\n",
      "Recall is ill-defined and being set to 0.0 in labels with no true samples. Use `zero_division` parameter to control this behavior.\n",
      "\n"
     ]
    },
    {
     "name": "stdout",
     "output_type": "stream",
     "text": [
      "Directory already exists\n",
      "\n",
      "Best Results: 4/20\n",
      "\n",
      "\n",
      "Iteration: 22\n",
      "============================\n",
      "Precision: 0.5282180782180783 Recall: 0.5468864468864469 F1: 0.5343898916146348\n",
      "Weights: [0.38152244 0.70205338 0.9245369  0.06857398 0.77432783 0.73299049]\n",
      "\n",
      "Total time execution: 0.046875\n",
      "Directory already exists\n",
      "\n",
      "Best Results: 5/20\n",
      "\n",
      "\n",
      "Iteration: 23\n",
      "============================\n",
      "Precision: 0.5208106708106708 Recall: 0.5446192893401015 F1: 0.5284310108170048\n",
      "Weights: [0.04482165 0.62555688 0.14328082 0.14338383 0.9687235  0.43538108]\n",
      "\n",
      "Total time execution: 0.0625\n",
      "Directory already exists\n",
      "\n",
      "Best Results: 6/20\n",
      "\n",
      "\n",
      "Iteration: 24\n",
      "============================\n",
      "Precision: 0.5256507381507382 Recall: 0.5506345177664975 F1: 0.5337587160249222\n",
      "Weights: [0.72834544 0.82340986 0.67496295 0.09929491 0.75924895 0.62349853]\n",
      "\n",
      "Total time execution: 0.0625\n",
      "Directory already exists\n",
      "\n",
      "Best Results: 7/20\n",
      "\n",
      "\n",
      "Iteration: 25\n",
      "============================\n"
     ]
    },
    {
     "name": "stderr",
     "output_type": "stream",
     "text": [
      "C:\\Users\\semin\\anaconda3\\lib\\site-packages\\sklearn\\metrics\\_classification.py:1221: UndefinedMetricWarning:\n",
      "\n",
      "Recall is ill-defined and being set to 0.0 in labels with no true samples. Use `zero_division` parameter to control this behavior.\n",
      "\n",
      "C:\\Users\\semin\\anaconda3\\lib\\site-packages\\sklearn\\metrics\\_classification.py:1221: UndefinedMetricWarning:\n",
      "\n",
      "Recall is ill-defined and being set to 0.0 in labels with no true samples. Use `zero_division` parameter to control this behavior.\n",
      "\n",
      "C:\\Users\\semin\\anaconda3\\lib\\site-packages\\sklearn\\metrics\\_classification.py:1221: UndefinedMetricWarning:\n",
      "\n",
      "Recall is ill-defined and being set to 0.0 in labels with no true samples. Use `zero_division` parameter to control this behavior.\n",
      "\n",
      "C:\\Users\\semin\\anaconda3\\lib\\site-packages\\sklearn\\metrics\\_classification.py:1221: UndefinedMetricWarning:\n",
      "\n",
      "Recall is ill-defined and being set to 0.0 in labels with no true samples. Use `zero_division` parameter to control this behavior.\n",
      "\n"
     ]
    },
    {
     "name": "stdout",
     "output_type": "stream",
     "text": [
      "Precision: 0.5256572131572131 Recall: 0.5421394756446303 F1: 0.5316989831275546\n",
      "Weights: [0.99251042 0.73278657 0.69340974 0.29472217 0.2571724  0.7351221 ]\n",
      "\n",
      "Total time execution: 0.046875\n",
      "Directory already exists\n",
      "\n",
      "Best Results: 8/20\n",
      "\n",
      "\n",
      "Iteration: 26\n",
      "============================\n",
      "Precision: 0.5111305361305362 Recall: 0.5257875457875458 F1: 0.514257676842984\n",
      "Weights: [0.13910031 0.75946654 0.01350039 0.65604399 0.02517803 0.79863978]\n",
      "\n",
      "Total time execution: 0.0625\n",
      "Directory already exists\n",
      "\n",
      "Best Results: 9/20\n",
      "\n",
      "\n",
      "Iteration: 27\n",
      "============================\n",
      "Precision: 0.5319217819217819 Recall: 0.5480172620474706 F1: 0.5372965919070578\n",
      "Weights: [0.09692306 0.66538954 0.71870007 0.11049413 0.39394903 0.6388746 ]\n",
      "\n",
      "Total time execution: 0.046875\n",
      "Directory already exists\n",
      "\n",
      "Best Results: 10/20\n",
      "\n",
      "\n",
      "Iteration: 28\n",
      "============================\n",
      "Precision: 0.5222416472416473 Recall: 0.5331709080435785 F1: 0.5251065850864693\n",
      "Weights: [0.3190172  0.7112392  0.04848662 0.2521703  0.48329328 0.9942406 ]\n",
      "\n",
      "Total time execution: 0.046875\n",
      "Directory already exists\n",
      "\n",
      "Best Results: 11/20\n",
      "\n",
      "\n",
      "Iteration: 29\n",
      "============================\n"
     ]
    },
    {
     "name": "stderr",
     "output_type": "stream",
     "text": [
      "C:\\Users\\semin\\anaconda3\\lib\\site-packages\\sklearn\\metrics\\_classification.py:1221: UndefinedMetricWarning:\n",
      "\n",
      "Recall is ill-defined and being set to 0.0 in labels with no true samples. Use `zero_division` parameter to control this behavior.\n",
      "\n",
      "C:\\Users\\semin\\anaconda3\\lib\\site-packages\\sklearn\\metrics\\_classification.py:1221: UndefinedMetricWarning:\n",
      "\n",
      "Recall is ill-defined and being set to 0.0 in labels with no true samples. Use `zero_division` parameter to control this behavior.\n",
      "\n",
      "C:\\Users\\semin\\anaconda3\\lib\\site-packages\\sklearn\\metrics\\_classification.py:1221: UndefinedMetricWarning:\n",
      "\n",
      "Recall is ill-defined and being set to 0.0 in labels with no true samples. Use `zero_division` parameter to control this behavior.\n",
      "\n",
      "C:\\Users\\semin\\anaconda3\\lib\\site-packages\\sklearn\\metrics\\_classification.py:1221: UndefinedMetricWarning:\n",
      "\n",
      "Recall is ill-defined and being set to 0.0 in labels with no true samples. Use `zero_division` parameter to control this behavior.\n",
      "\n"
     ]
    },
    {
     "name": "stdout",
     "output_type": "stream",
     "text": [
      "Precision: 0.5304972804972805 Recall: 0.5477158580251363 F1: 0.5368616968616969\n",
      "Weights: [0.0340878  0.6963704  0.72462185 0.79783109 0.76848652 0.50138053]\n",
      "\n",
      "Total time execution: 0.0625\n",
      "Directory already exists\n",
      "\n",
      "Best Results: 12/20\n",
      "\n",
      "\n",
      "Iteration: 30\n",
      "============================\n",
      "Precision: 0.4438875938875939 Recall: 0.5163990290139868 F1: 0.4690277777777778\n",
      "Weights: [0.45712772 0.3321744  0.89411583 0.70692304 0.37892009 0.0380637 ]\n",
      "\n",
      "Total time execution: 0.046875\n",
      "Directory already exists\n",
      "\n",
      "Best Results: 13/20\n",
      "\n",
      "\n",
      "Iteration: 31\n",
      "============================\n",
      "Precision: 0.5267935767935767 Recall: 0.5465951103160405 F1: 0.5340040883709432\n",
      "Weights: [0.06807384 0.61542068 0.89874712 0.38269296 0.55397136 0.95928729]\n",
      "\n",
      "Total time execution: 0.0625\n",
      "Directory already exists\n",
      "\n",
      "Best Results: 14/20\n",
      "\n",
      "\n",
      "Iteration: 32\n",
      "============================\n",
      "Precision: 0.5182498057498057 Recall: 0.5396912611198326 F1: 0.525858147229115\n",
      "Weights: [0.49024016 0.36020903 0.18990152 0.37945501 0.06297632 0.04347978]\n",
      "\n",
      "Total time execution: 0.046875\n",
      "Directory already exists\n",
      "\n",
      "Best Results: 15/20\n",
      "\n",
      "\n",
      "Iteration: 33\n",
      "============================\n",
      "Precision: 0.5171069671069671 Recall: 0.5434809634809635 F1: 0.5253754852102317\n",
      "Weights: [0.62586568 0.79052083 0.44763561 0.10885482 0.57875954 0.15895409]\n",
      "\n",
      "Total time execution: 0.046875\n",
      "Directory already exists\n",
      "\n",
      "Best Results: 16/20\n",
      "\n",
      "\n",
      "Iteration: 34\n",
      "============================\n",
      "Precision: 0.44587865837865837 Recall: 0.5230719517449376 F1: 0.4707484722189803\n",
      "Weights: [0.27944521 0.28492186 0.21842639 0.78224764 0.11146452 0.78869345]\n",
      "\n",
      "Total time execution: 0.0625\n",
      "Directory already exists\n",
      "\n",
      "Best Results: 17/20\n",
      "\n",
      "\n",
      "Iteration: 35\n",
      "============================\n",
      "Precision: 0.3609718984718985 Recall: 0.4392020643112346 F1: 0.35879109611114035\n",
      "Weights: [0.37210533 0.10226832 0.54588723 0.48633046 0.46305755 0.93827817]\n",
      "\n",
      "Total time execution: 0.0625\n",
      "Directory already exists\n",
      "\n",
      "Best Results: 18/20\n",
      "\n",
      "\n",
      "Iteration: 36\n",
      "============================\n"
     ]
    },
    {
     "name": "stderr",
     "output_type": "stream",
     "text": [
      "C:\\Users\\semin\\anaconda3\\lib\\site-packages\\sklearn\\metrics\\_classification.py:1221: UndefinedMetricWarning:\n",
      "\n",
      "Recall is ill-defined and being set to 0.0 in labels with no true samples. Use `zero_division` parameter to control this behavior.\n",
      "\n",
      "C:\\Users\\semin\\anaconda3\\lib\\site-packages\\sklearn\\metrics\\_classification.py:1221: UndefinedMetricWarning:\n",
      "\n",
      "Recall is ill-defined and being set to 0.0 in labels with no true samples. Use `zero_division` parameter to control this behavior.\n",
      "\n",
      "C:\\Users\\semin\\anaconda3\\lib\\site-packages\\sklearn\\metrics\\_classification.py:1221: UndefinedMetricWarning:\n",
      "\n",
      "Recall is ill-defined and being set to 0.0 in labels with no true samples. Use `zero_division` parameter to control this behavior.\n",
      "\n",
      "C:\\Users\\semin\\anaconda3\\lib\\site-packages\\sklearn\\metrics\\_classification.py:1221: UndefinedMetricWarning:\n",
      "\n",
      "Recall is ill-defined and being set to 0.0 in labels with no true samples. Use `zero_division` parameter to control this behavior.\n",
      "\n"
     ]
    },
    {
     "name": "stdout",
     "output_type": "stream",
     "text": [
      "Precision: 0.5193861693861694 Recall: 0.5443503712663054 F1: 0.528148107947741\n",
      "Weights: [0.97658285 0.75805264 0.90391878 0.57342592 0.59842208 0.17843553]\n",
      "\n",
      "Total time execution: 0.046875\n",
      "Directory already exists\n",
      "\n",
      "Best Results: 19/20\n",
      "\n",
      "\n",
      "Iteration: 37\n",
      "============================\n",
      "Precision: 0.40001295001295 Recall: 0.4927188000582496 F1: 0.4192543188807914\n",
      "Weights: [0.35152612 0.28384332 0.75224021 0.79236485 0.31004671 0.70839187]\n",
      "\n",
      "Total time execution: 0.0625\n",
      "Directory already exists\n",
      "\n",
      "Best Results: 20/20\n",
      "\n",
      "\n",
      "Iteration: 1\n",
      "============================\n",
      "Precision: 0.36496373996374 Recall: 0.4555261869799314 F1: 0.3656340075694914\n",
      "Weights: [0.14013174 0.14648878 0.79304367 0.9184072  0.89443581 0.82008846]\n",
      "\n",
      "Total time execution: 0.046875\n",
      "Best F1\n",
      "Directory already exists\n",
      "\n",
      "Best Results: 1/20\n",
      "\n",
      "\n",
      "Iteration: 2\n",
      "============================\n"
     ]
    },
    {
     "name": "stderr",
     "output_type": "stream",
     "text": [
      "C:\\Users\\semin\\anaconda3\\lib\\site-packages\\sklearn\\metrics\\_classification.py:1221: UndefinedMetricWarning:\n",
      "\n",
      "Recall is ill-defined and being set to 0.0 in labels with no true samples. Use `zero_division` parameter to control this behavior.\n",
      "\n",
      "C:\\Users\\semin\\anaconda3\\lib\\site-packages\\sklearn\\metrics\\_classification.py:1221: UndefinedMetricWarning:\n",
      "\n",
      "Recall is ill-defined and being set to 0.0 in labels with no true samples. Use `zero_division` parameter to control this behavior.\n",
      "\n",
      "C:\\Users\\semin\\anaconda3\\lib\\site-packages\\sklearn\\metrics\\_classification.py:1221: UndefinedMetricWarning:\n",
      "\n",
      "Recall is ill-defined and being set to 0.0 in labels with no true samples. Use `zero_division` parameter to control this behavior.\n",
      "\n",
      "C:\\Users\\semin\\anaconda3\\lib\\site-packages\\sklearn\\metrics\\_classification.py:1221: UndefinedMetricWarning:\n",
      "\n",
      "Recall is ill-defined and being set to 0.0 in labels with no true samples. Use `zero_division` parameter to control this behavior.\n",
      "\n"
     ]
    },
    {
     "name": "stdout",
     "output_type": "stream",
     "text": [
      "Precision: 0.5020040145040146 Recall: 0.5405728429985855 F1: 0.5130929617062457\n",
      "Weights: [0.51583816 0.5183355  0.03282074 0.17423686 0.5500196  0.12139422]\n",
      "\n",
      "Total time execution: 0.046875\n",
      "Best F1\n",
      "Directory already exists\n",
      "\n",
      "Best Results: 1/20\n",
      "\n",
      "\n",
      "Iteration: 3\n",
      "============================\n",
      "Precision: 0.4963124838124838 Recall: 0.5335170998632011 F1: 0.5112469088691043\n",
      "Weights: [0.62663645 0.47770885 0.47410841 0.85845443 0.80542924 0.29760957]\n",
      "\n",
      "Total time execution: 0.078125\n",
      "Directory already exists\n",
      "\n",
      "Best Results: 2/20\n",
      "\n",
      "\n",
      "Iteration: 4\n",
      "============================\n",
      "Precision: 0.5267935767935767 Recall: 0.5465951103160405 F1: 0.5340040883709432\n",
      "Weights: [0.77047792 0.68639971 0.49529017 0.53521077 0.56655654 0.77460101]\n",
      "\n",
      "Total time execution: 0.0625\n",
      "Best F1\n",
      "Directory already exists\n",
      "\n",
      "Best Results: 1/20\n",
      "\n",
      "\n",
      "Iteration: 5\n",
      "============================\n"
     ]
    },
    {
     "name": "stderr",
     "output_type": "stream",
     "text": [
      "C:\\Users\\semin\\anaconda3\\lib\\site-packages\\sklearn\\metrics\\_classification.py:1221: UndefinedMetricWarning:\n",
      "\n",
      "Recall is ill-defined and being set to 0.0 in labels with no true samples. Use `zero_division` parameter to control this behavior.\n",
      "\n",
      "C:\\Users\\semin\\anaconda3\\lib\\site-packages\\sklearn\\metrics\\_classification.py:1221: UndefinedMetricWarning:\n",
      "\n",
      "Recall is ill-defined and being set to 0.0 in labels with no true samples. Use `zero_division` parameter to control this behavior.\n",
      "\n",
      "C:\\Users\\semin\\anaconda3\\lib\\site-packages\\sklearn\\metrics\\_classification.py:1221: UndefinedMetricWarning:\n",
      "\n",
      "Recall is ill-defined and being set to 0.0 in labels with no true samples. Use `zero_division` parameter to control this behavior.\n",
      "\n",
      "C:\\Users\\semin\\anaconda3\\lib\\site-packages\\sklearn\\metrics\\_classification.py:1221: UndefinedMetricWarning:\n",
      "\n",
      "Recall is ill-defined and being set to 0.0 in labels with no true samples. Use `zero_division` parameter to control this behavior.\n",
      "\n"
     ]
    },
    {
     "name": "stdout",
     "output_type": "stream",
     "text": [
      "Precision: 0.517961667961668 Recall: 0.5440428482373447 F1: 0.5277404454348155\n",
      "Weights: [0.62007452 0.40941039 0.32006938 0.13418618 0.57247538 0.70998243]\n",
      "\n",
      "Total time execution: 0.046875\n",
      "Directory already exists\n",
      "\n",
      "Best Results: 2/20\n",
      "\n",
      "\n",
      "Iteration: 6\n",
      "============================\n",
      "Precision: 0.3609718984718985 Recall: 0.4392020643112346 F1: 0.35879109611114035\n",
      "Weights: [0.59864078 0.16001891 0.78776977 0.94437187 0.74372266 0.93213675]\n",
      "\n",
      "Total time execution: 0.0625\n",
      "Directory already exists\n",
      "\n",
      "Best Results: 3/20\n",
      "\n",
      "\n",
      "Iteration: 7\n",
      "============================\n",
      "Precision: 0.5307854182854183 Recall: 0.5435657089024964 F1: 0.5349912734467049\n",
      "Weights: [0.29279637 0.60842326 0.86821919 0.47710556 0.07028212 0.54317463]\n",
      "\n",
      "Total time execution: 0.0625\n",
      "Best F1\n",
      "Directory already exists\n",
      "\n",
      "Best Results: 1/20\n",
      "\n",
      "\n",
      "Iteration: 8\n",
      "============================\n",
      "Precision: 0.5344891219891219 Recall: 0.5447916666666666 F1: 0.5378450159270193\n",
      "Weights: [0.10484799 0.86772129 0.86482013 0.97708292 0.18595836 0.44447702]\n",
      "\n",
      "Total time execution: 0.046875\n",
      "Best F1\n"
     ]
    },
    {
     "name": "stderr",
     "output_type": "stream",
     "text": [
      "C:\\Users\\semin\\anaconda3\\lib\\site-packages\\sklearn\\metrics\\_classification.py:1221: UndefinedMetricWarning:\n",
      "\n",
      "Recall is ill-defined and being set to 0.0 in labels with no true samples. Use `zero_division` parameter to control this behavior.\n",
      "\n",
      "C:\\Users\\semin\\anaconda3\\lib\\site-packages\\sklearn\\metrics\\_classification.py:1221: UndefinedMetricWarning:\n",
      "\n",
      "Recall is ill-defined and being set to 0.0 in labels with no true samples. Use `zero_division` parameter to control this behavior.\n",
      "\n",
      "C:\\Users\\semin\\anaconda3\\lib\\site-packages\\sklearn\\metrics\\_classification.py:1221: UndefinedMetricWarning:\n",
      "\n",
      "Recall is ill-defined and being set to 0.0 in labels with no true samples. Use `zero_division` parameter to control this behavior.\n",
      "\n",
      "C:\\Users\\semin\\anaconda3\\lib\\site-packages\\sklearn\\metrics\\_classification.py:1221: UndefinedMetricWarning:\n",
      "\n",
      "Recall is ill-defined and being set to 0.0 in labels with no true samples. Use `zero_division` parameter to control this behavior.\n",
      "\n"
     ]
    },
    {
     "name": "stdout",
     "output_type": "stream",
     "text": [
      "Directory already exists\n",
      "\n",
      "Best Results: 1/20\n",
      "\n",
      "\n",
      "Iteration: 9\n",
      "============================\n",
      "Precision: 0.4267903392903392 Recall: 0.511921477440415 F1: 0.4510460311445533\n",
      "Weights: [0.1474351  0.30797473 0.93146262 0.06315715 0.89431169 0.74590363]\n",
      "\n",
      "Total time execution: 0.046875\n",
      "Directory already exists\n",
      "\n",
      "Best Results: 2/20\n",
      "\n",
      "\n",
      "Iteration: 10\n",
      "============================\n",
      "Precision: 0.3612600362600363 Recall: 0.45444976076555027 F1: 0.36281526111794854\n",
      "Weights: [0.22084741 0.09623703 0.34374413 0.53511214 0.54570407 0.86924804]\n",
      "\n",
      "Total time execution: 0.046875\n",
      "Directory already exists\n",
      "\n",
      "Best Results: 3/20\n",
      "\n",
      "\n",
      "Iteration: 11\n",
      "============================\n",
      "Precision: 0.29886363636363633 Recall: 0.31160714285714286 F1: 0.29185217919681816\n",
      "Weights: [0.43837705 0.02964915 0.04632935 0.92122364 0.77963142 0.23891155]\n",
      "\n",
      "Total time execution: 0.0625\n",
      "Directory already exists\n",
      "\n",
      "Best Results: 4/20\n",
      "\n",
      "\n",
      "Iteration: 12\n",
      "============================\n"
     ]
    },
    {
     "name": "stderr",
     "output_type": "stream",
     "text": [
      "C:\\Users\\semin\\anaconda3\\lib\\site-packages\\sklearn\\metrics\\_classification.py:1221: UndefinedMetricWarning:\n",
      "\n",
      "Recall is ill-defined and being set to 0.0 in labels with no true samples. Use `zero_division` parameter to control this behavior.\n",
      "\n",
      "C:\\Users\\semin\\anaconda3\\lib\\site-packages\\sklearn\\metrics\\_classification.py:1221: UndefinedMetricWarning:\n",
      "\n",
      "Recall is ill-defined and being set to 0.0 in labels with no true samples. Use `zero_division` parameter to control this behavior.\n",
      "\n",
      "C:\\Users\\semin\\anaconda3\\lib\\site-packages\\sklearn\\metrics\\_classification.py:1221: UndefinedMetricWarning:\n",
      "\n",
      "Recall is ill-defined and being set to 0.0 in labels with no true samples. Use `zero_division` parameter to control this behavior.\n",
      "\n",
      "C:\\Users\\semin\\anaconda3\\lib\\site-packages\\sklearn\\metrics\\_classification.py:1221: UndefinedMetricWarning:\n",
      "\n",
      "Recall is ill-defined and being set to 0.0 in labels with no true samples. Use `zero_division` parameter to control this behavior.\n",
      "\n"
     ]
    },
    {
     "name": "stdout",
     "output_type": "stream",
     "text": [
      "Precision: 0.5193861693861694 Recall: 0.5443503712663054 F1: 0.528148107947741\n",
      "Weights: [0.81083257 0.51973569 0.82225726 0.12015128 0.45999945 0.24805252]\n",
      "\n",
      "Total time execution: 0.0625\n",
      "Directory already exists\n",
      "\n",
      "Best Results: 5/20\n",
      "\n",
      "\n",
      "Iteration: 13\n",
      "============================\n",
      "Precision: 0.5171134421134421 Recall: 0.5352415026833631 F1: 0.5236003314587248\n",
      "Weights: [0.66625548 0.94408969 0.91522837 0.71576717 0.59259538 0.00202316]\n",
      "\n",
      "Total time execution: 0.0625\n",
      "Directory already exists\n",
      "\n",
      "Best Results: 6/20\n",
      "\n",
      "\n",
      "Iteration: 14\n",
      "============================\n",
      "Precision: 0.43733488733488735 Recall: 0.5163867725078782 F1: 0.46273449383133347\n",
      "Weights: [0.84920427 0.30799064 0.37003405 0.84028218 0.05533471 0.19436891]\n",
      "\n",
      "Total time execution: 0.046875\n",
      "Directory already exists\n",
      "\n",
      "Best Results: 7/20\n",
      "\n",
      "\n",
      "Iteration: 15\n",
      "============================\n",
      "Precision: 0.5319217819217819 Recall: 0.5480172620474706 F1: 0.5372965919070578\n",
      "Weights: [0.1162511  0.86229133 0.4516261  0.52695765 0.55734862 0.57948074]\n",
      "\n",
      "Total time execution: 0.046875\n",
      "Directory already exists\n",
      "\n",
      "Best Results: 8/20\n",
      "\n",
      "\n",
      "Iteration: 16\n",
      "============================\n"
     ]
    },
    {
     "name": "stderr",
     "output_type": "stream",
     "text": [
      "C:\\Users\\semin\\anaconda3\\lib\\site-packages\\sklearn\\metrics\\_classification.py:1221: UndefinedMetricWarning:\n",
      "\n",
      "Recall is ill-defined and being set to 0.0 in labels with no true samples. Use `zero_division` parameter to control this behavior.\n",
      "\n",
      "C:\\Users\\semin\\anaconda3\\lib\\site-packages\\sklearn\\metrics\\_classification.py:1221: UndefinedMetricWarning:\n",
      "\n",
      "Recall is ill-defined and being set to 0.0 in labels with no true samples. Use `zero_division` parameter to control this behavior.\n",
      "\n",
      "C:\\Users\\semin\\anaconda3\\lib\\site-packages\\sklearn\\metrics\\_classification.py:1221: UndefinedMetricWarning:\n",
      "\n",
      "Recall is ill-defined and being set to 0.0 in labels with no true samples. Use `zero_division` parameter to control this behavior.\n",
      "\n",
      "C:\\Users\\semin\\anaconda3\\lib\\site-packages\\sklearn\\metrics\\_classification.py:1221: UndefinedMetricWarning:\n",
      "\n",
      "Recall is ill-defined and being set to 0.0 in labels with no true samples. Use `zero_division` parameter to control this behavior.\n",
      "\n"
     ]
    },
    {
     "name": "stdout",
     "output_type": "stream",
     "text": [
      "Precision: 0.5230898730898732 Recall: 0.5454735740450026 F1: 0.5311000827129859\n",
      "Weights: [0.25994114 0.57167342 0.84024121 0.55180493 0.3105633  0.07485576]\n",
      "\n",
      "Total time execution: 0.0625\n",
      "Directory already exists\n",
      "\n",
      "Best Results: 9/20\n",
      "\n",
      "\n",
      "Iteration: 17\n",
      "============================\n",
      "Precision: 0.5344891219891219 Recall: 0.5447916666666666 F1: 0.5378450159270193\n",
      "Weights: [0.07558938 0.77981905 0.99899865 0.56595053 0.18431869 0.23150251]\n",
      "\n",
      "Total time execution: 0.0625\n",
      "Directory already exists\n",
      "\n",
      "Best Results: 10/20\n",
      "\n",
      "\n",
      "Iteration: 18\n",
      "============================\n",
      "Precision: 0.5267935767935767 Recall: 0.5465951103160405 F1: 0.5340040883709432\n",
      "Weights: [0.25688041 0.69046212 0.82552222 0.96249922 0.78087113 0.85235941]\n",
      "\n",
      "Total time execution: 0.0625\n",
      "Directory already exists\n",
      "\n",
      "Best Results: 11/20\n",
      "\n",
      "\n",
      "Iteration: 19\n",
      "============================\n",
      "Precision: 0.5307854182854183 Recall: 0.5435657089024964 F1: 0.5349912734467049\n",
      "Weights: [0.2074013  0.87651305 0.84787954 0.17523275 0.37890194 0.93118966]\n",
      "\n",
      "Total time execution: 0.046875\n",
      "Directory already exists\n",
      "\n",
      "Best Results: 12/20\n",
      "\n",
      "\n",
      "Iteration: 20\n",
      "============================\n"
     ]
    },
    {
     "name": "stderr",
     "output_type": "stream",
     "text": [
      "C:\\Users\\semin\\anaconda3\\lib\\site-packages\\sklearn\\metrics\\_classification.py:1221: UndefinedMetricWarning:\n",
      "\n",
      "Recall is ill-defined and being set to 0.0 in labels with no true samples. Use `zero_division` parameter to control this behavior.\n",
      "\n",
      "C:\\Users\\semin\\anaconda3\\lib\\site-packages\\sklearn\\metrics\\_classification.py:1221: UndefinedMetricWarning:\n",
      "\n",
      "Recall is ill-defined and being set to 0.0 in labels with no true samples. Use `zero_division` parameter to control this behavior.\n",
      "\n",
      "C:\\Users\\semin\\anaconda3\\lib\\site-packages\\sklearn\\metrics\\_classification.py:1221: UndefinedMetricWarning:\n",
      "\n",
      "Recall is ill-defined and being set to 0.0 in labels with no true samples. Use `zero_division` parameter to control this behavior.\n",
      "\n",
      "C:\\Users\\semin\\anaconda3\\lib\\site-packages\\sklearn\\metrics\\_classification.py:1221: UndefinedMetricWarning:\n",
      "\n",
      "Recall is ill-defined and being set to 0.0 in labels with no true samples. Use `zero_division` parameter to control this behavior.\n",
      "\n"
     ]
    },
    {
     "name": "stdout",
     "output_type": "stream",
     "text": [
      "Precision: 0.5270817145817146 Recall: 0.5423351714217214 F1: 0.5320917994857706\n",
      "Weights: [0.36606804 0.99796837 0.38118694 0.2568819  0.84449493 0.91280932]\n",
      "\n",
      "Total time execution: 0.046875\n",
      "Directory already exists\n",
      "\n",
      "Best Results: 13/20\n",
      "\n",
      "\n",
      "Iteration: 21\n",
      "============================\n",
      "Precision: 0.5082750582750583 Recall: 0.5409608636977058 F1: 0.5189876420218696\n",
      "Weights: [0.53829099 0.50690731 0.05033346 0.57101483 0.50694677 0.30336261]\n",
      "\n",
      "Total time execution: 0.046875\n",
      "Directory already exists\n",
      "\n",
      "Best Results: 14/20\n",
      "\n",
      "\n",
      "Iteration: 22\n",
      "============================\n",
      "Precision: 0.5267935767935767 Recall: 0.5465951103160405 F1: 0.5340040883709432\n",
      "Weights: [0.23223361 0.71077235 0.86349962 0.63931563 0.88193818 0.99891526]\n",
      "\n",
      "Total time execution: 0.046875\n",
      "Directory already exists\n",
      "\n",
      "Best Results: 15/20\n",
      "\n",
      "\n",
      "Iteration: 23\n",
      "============================\n",
      "Precision: 0.5199689199689199 Recall: 0.5248593197973864 F1: 0.5206820246057303\n",
      "Weights: [0.16315508 0.64882116 0.39750039 0.44393792 0.00766598 0.00126946]\n",
      "\n",
      "Total time execution: 0.046875\n",
      "Directory already exists\n",
      "\n",
      "Best Results: 16/20\n",
      "\n",
      "\n",
      "Iteration: 24\n",
      "============================\n"
     ]
    },
    {
     "name": "stderr",
     "output_type": "stream",
     "text": [
      "C:\\Users\\semin\\anaconda3\\lib\\site-packages\\sklearn\\metrics\\_classification.py:1221: UndefinedMetricWarning:\n",
      "\n",
      "Recall is ill-defined and being set to 0.0 in labels with no true samples. Use `zero_division` parameter to control this behavior.\n",
      "\n",
      "C:\\Users\\semin\\anaconda3\\lib\\site-packages\\sklearn\\metrics\\_classification.py:1221: UndefinedMetricWarning:\n",
      "\n",
      "Recall is ill-defined and being set to 0.0 in labels with no true samples. Use `zero_division` parameter to control this behavior.\n",
      "\n",
      "C:\\Users\\semin\\anaconda3\\lib\\site-packages\\sklearn\\metrics\\_classification.py:1221: UndefinedMetricWarning:\n",
      "\n",
      "Recall is ill-defined and being set to 0.0 in labels with no true samples. Use `zero_division` parameter to control this behavior.\n",
      "\n",
      "C:\\Users\\semin\\anaconda3\\lib\\site-packages\\sklearn\\metrics\\_classification.py:1221: UndefinedMetricWarning:\n",
      "\n",
      "Recall is ill-defined and being set to 0.0 in labels with no true samples. Use `zero_division` parameter to control this behavior.\n",
      "\n"
     ]
    },
    {
     "name": "stdout",
     "output_type": "stream",
     "text": [
      "Precision: 0.4381831131831132 Recall: 0.5245215843346684 F1: 0.4651282051282052\n",
      "Weights: [0.36543801 0.24215345 0.48112877 0.00399808 0.8932663  0.42324321]\n",
      "\n",
      "Total time execution: 0.078125\n",
      "Directory already exists\n",
      "\n",
      "Best Results: 17/20\n",
      "\n",
      "\n",
      "Iteration: 25\n",
      "============================\n",
      "Precision: 0.4797850297850298 Recall: 0.5328048780487805 F1: 0.5000260343543361\n",
      "Weights: [0.69830482 0.4369848  0.18352342 0.42723487 0.92878407 0.72389124]\n",
      "\n",
      "Total time execution: 0.0625\n",
      "Directory already exists\n",
      "\n",
      "Best Results: 18/20\n",
      "\n",
      "\n",
      "Iteration: 26\n",
      "============================\n",
      "Precision: 0.4054228179228179 Recall: 0.5069786096256685 F1: 0.43219428325811304\n",
      "Weights: [0.65209641 0.22275854 0.09713113 0.33092606 0.50300766 0.4492546 ]\n",
      "\n",
      "Total time execution: 0.046875\n",
      "Directory already exists\n",
      "\n",
      "Best Results: 19/20\n",
      "\n",
      "\n",
      "Iteration: 27\n",
      "============================\n",
      "Precision: 0.3470117845117845 Recall: 0.3369085805934242 F1: 0.33651708105922784\n",
      "Weights: [0.47758717 0.07136832 0.46438113 0.32362334 0.92172513 0.10799951]\n",
      "\n",
      "Total time execution: 0.0625\n",
      "Directory already exists\n",
      "\n",
      "Best Results: 20/20\n",
      "\n",
      "\n",
      "Iteration: 1\n",
      "============================\n"
     ]
    },
    {
     "name": "stderr",
     "output_type": "stream",
     "text": [
      "C:\\Users\\semin\\anaconda3\\lib\\site-packages\\sklearn\\metrics\\_classification.py:1221: UndefinedMetricWarning:\n",
      "\n",
      "Recall is ill-defined and being set to 0.0 in labels with no true samples. Use `zero_division` parameter to control this behavior.\n",
      "\n",
      "C:\\Users\\semin\\anaconda3\\lib\\site-packages\\sklearn\\metrics\\_classification.py:1221: UndefinedMetricWarning:\n",
      "\n",
      "Recall is ill-defined and being set to 0.0 in labels with no true samples. Use `zero_division` parameter to control this behavior.\n",
      "\n",
      "C:\\Users\\semin\\anaconda3\\lib\\site-packages\\sklearn\\metrics\\_classification.py:1221: UndefinedMetricWarning:\n",
      "\n",
      "Recall is ill-defined and being set to 0.0 in labels with no true samples. Use `zero_division` parameter to control this behavior.\n",
      "\n",
      "C:\\Users\\semin\\anaconda3\\lib\\site-packages\\sklearn\\metrics\\_classification.py:1221: UndefinedMetricWarning:\n",
      "\n",
      "Recall is ill-defined and being set to 0.0 in labels with no true samples. Use `zero_division` parameter to control this behavior.\n",
      "\n"
     ]
    },
    {
     "name": "stdout",
     "output_type": "stream",
     "text": [
      "Precision: 0.4151094276094276 Recall: 0.5083106409719312 F1: 0.4379738182573515\n",
      "Weights: [0.67800515 0.35526297 0.77753866 0.97026278 0.00132573 0.81485436]\n",
      "\n",
      "Total time execution: 0.046875\n",
      "Best F1\n",
      "Directory already exists\n",
      "\n",
      "Best Results: 1/20\n",
      "\n",
      "\n",
      "Iteration: 2\n",
      "============================\n",
      "Precision: 0.5256572131572131 Recall: 0.5421394756446303 F1: 0.5316989831275546\n",
      "Weights: [0.41727096 0.84865403 0.91394517 0.37178742 0.78000258 0.7112678 ]\n",
      "\n",
      "Total time execution: 0.0625\n",
      "Best F1\n",
      "Directory already exists\n",
      "\n",
      "Best Results: 1/20\n",
      "\n",
      "\n",
      "Iteration: 3\n",
      "============================\n",
      "Precision: 0.5259453509453509 Recall: 0.5379839849269901 F1: 0.5298256299535354\n",
      "Weights: [0.63247573 0.59577278 0.08833019 0.09185171 0.20904427 0.41320389]\n",
      "\n",
      "Total time execution: 0.046875\n",
      "Directory already exists\n",
      "\n",
      "Best Results: 2/20\n",
      "\n",
      "\n",
      "Iteration: 4\n",
      "============================\n"
     ]
    },
    {
     "name": "stderr",
     "output_type": "stream",
     "text": [
      "C:\\Users\\semin\\anaconda3\\lib\\site-packages\\sklearn\\metrics\\_classification.py:1221: UndefinedMetricWarning:\n",
      "\n",
      "Recall is ill-defined and being set to 0.0 in labels with no true samples. Use `zero_division` parameter to control this behavior.\n",
      "\n",
      "C:\\Users\\semin\\anaconda3\\lib\\site-packages\\sklearn\\metrics\\_classification.py:1221: UndefinedMetricWarning:\n",
      "\n",
      "Recall is ill-defined and being set to 0.0 in labels with no true samples. Use `zero_division` parameter to control this behavior.\n",
      "\n",
      "C:\\Users\\semin\\anaconda3\\lib\\site-packages\\sklearn\\metrics\\_classification.py:1221: UndefinedMetricWarning:\n",
      "\n",
      "Recall is ill-defined and being set to 0.0 in labels with no true samples. Use `zero_division` parameter to control this behavior.\n",
      "\n"
     ]
    },
    {
     "name": "stdout",
     "output_type": "stream",
     "text": [
      "Precision: 0.5307854182854183 Recall: 0.5435657089024964 F1: 0.5349912734467049\n",
      "Weights: [0.74714427 0.94756431 0.8017177  0.31718266 0.59549188 0.67108929]\n",
      "\n",
      "Total time execution: 0.0625\n",
      "Best F1\n",
      "Directory already exists\n",
      "\n",
      "Best Results: 1/20\n",
      "\n",
      "\n",
      "Iteration: 5\n",
      "============================\n",
      "Precision: 0.36496373996374 Recall: 0.4396676011213456 F1: 0.36671832008237537\n",
      "Weights: [0.58879068 0.18898291 0.73062768 0.63512968 0.5649569  0.87591876]\n",
      "\n",
      "Total time execution: 0.0625\n",
      "Directory already exists\n",
      "\n",
      "Best Results: 2/20\n",
      "\n",
      "\n",
      "Iteration: 6\n",
      "============================\n",
      "Precision: 0.5256572131572131 Recall: 0.5421394756446303 F1: 0.5316989831275546\n",
      "Weights: [0.08976645 0.71755324 0.85980083 0.80967672 0.3899372  0.63522219]\n",
      "\n",
      "Total time execution: 0.046875\n",
      "Directory already exists\n",
      "\n",
      "Best Results: 3/20\n",
      "\n",
      "\n",
      "Iteration: 7\n",
      "============================\n",
      "Precision: 0.3544191919191919 Recall: 0.3375287356321839 F1: 0.34126559714795013\n",
      "Weights: [0.60698841 0.08090979 0.61077234 0.78071453 0.20039277 0.83837612]\n",
      "\n",
      "Total time execution: 0.0625\n",
      "Directory already exists\n",
      "\n",
      "Best Results: 4/20\n",
      "\n",
      "\n",
      "Iteration: 8\n",
      "============================\n"
     ]
    },
    {
     "name": "stderr",
     "output_type": "stream",
     "text": [
      "C:\\Users\\semin\\anaconda3\\lib\\site-packages\\sklearn\\metrics\\_classification.py:1221: UndefinedMetricWarning:\n",
      "\n",
      "Recall is ill-defined and being set to 0.0 in labels with no true samples. Use `zero_division` parameter to control this behavior.\n",
      "\n",
      "C:\\Users\\semin\\anaconda3\\lib\\site-packages\\sklearn\\metrics\\_classification.py:1221: UndefinedMetricWarning:\n",
      "\n",
      "Recall is ill-defined and being set to 0.0 in labels with no true samples. Use `zero_division` parameter to control this behavior.\n",
      "\n",
      "C:\\Users\\semin\\anaconda3\\lib\\site-packages\\sklearn\\metrics\\_classification.py:1221: UndefinedMetricWarning:\n",
      "\n",
      "Recall is ill-defined and being set to 0.0 in labels with no true samples. Use `zero_division` parameter to control this behavior.\n",
      "\n",
      "C:\\Users\\semin\\anaconda3\\lib\\site-packages\\sklearn\\metrics\\_classification.py:1221: UndefinedMetricWarning:\n",
      "\n",
      "Recall is ill-defined and being set to 0.0 in labels with no true samples. Use `zero_division` parameter to control this behavior.\n",
      "\n"
     ]
    },
    {
     "name": "stdout",
     "output_type": "stream",
     "text": [
      "Precision: 0.5154008029008029 Recall: 0.535985215985216 F1: 0.5237073530022884\n",
      "Weights: [0.41991558 0.41438436 0.55760551 0.98472052 0.09913737 0.30318293]\n",
      "\n",
      "Total time execution: 0.046875\n",
      "Directory already exists\n",
      "\n",
      "Best Results: 5/20\n",
      "\n",
      "\n",
      "Iteration: 9\n",
      "============================\n",
      "Precision: 0.5256572131572131 Recall: 0.5421394756446303 F1: 0.5316989831275546\n",
      "Weights: [0.99517888 0.74049458 0.61498996 0.42764226 0.55570747 0.70300996]\n",
      "\n",
      "Total time execution: 0.046875\n",
      "Directory already exists\n",
      "\n",
      "Best Results: 6/20\n",
      "\n",
      "\n",
      "Iteration: 10\n",
      "============================\n",
      "Precision: 0.3544191919191919 Recall: 0.3375287356321839 F1: 0.34126559714795013\n",
      "Weights: [0.69617798 0.05382159 0.80947449 0.75675304 0.53387835 0.89663036]\n",
      "\n",
      "Total time execution: 0.0625\n",
      "Directory already exists\n",
      "\n",
      "Best Results: 7/20\n",
      "\n",
      "\n",
      "Iteration: 11\n",
      "============================\n",
      "Precision: 0.5293609168609168 Recall: 0.5433559186927063 F1: 0.5345500028426857\n",
      "Weights: [0.22299421 0.69624975 0.64739967 0.94470514 0.99339596 0.24054384]\n",
      "\n",
      "Total time execution: 0.0625\n",
      "Directory already exists\n",
      "\n",
      "Best Results: 8/20\n",
      "\n",
      "\n",
      "Iteration: 12\n",
      "============================\n",
      "Precision: 0.3857646982646982 Recall: 0.48312858312858314 F1: 0.4011346528561173\n",
      "Weights: [0.21006335 0.13778508 0.38778466 0.60178882 0.37096864 0.17374968]\n",
      "\n",
      "Total time execution: 0.0625\n",
      "Directory already exists\n",
      "\n",
      "Best Results: 9/20\n",
      "\n",
      "\n",
      "Iteration: 13\n",
      "============================\n",
      "Precision: 0.45755957005957004 Recall: 0.5275967508623567 F1: 0.4821887133485072\n",
      "Weights: [0.33472706 0.41133249 0.5089455  0.75850993 0.80103931 0.72669124]\n",
      "\n",
      "Total time execution: 0.0625\n",
      "Directory already exists\n",
      "\n",
      "Best Results: 10/20\n",
      "\n",
      "\n",
      "Iteration: 14\n",
      "============================\n",
      "Precision: 0.5156824656824657 Recall: 0.5432245532245533 F1: 0.5251465263980909\n",
      "Weights: [0.5725522  0.49262578 0.26802075 0.13559013 0.13163562 0.06859211]\n",
      "\n",
      "Total time execution: 0.046875\n",
      "Directory already exists\n",
      "\n",
      "Best Results: 11/20\n",
      "\n",
      "\n",
      "Iteration: 15\n",
      "============================\n"
     ]
    },
    {
     "name": "stderr",
     "output_type": "stream",
     "text": [
      "C:\\Users\\semin\\anaconda3\\lib\\site-packages\\sklearn\\metrics\\_classification.py:1221: UndefinedMetricWarning:\n",
      "\n",
      "Recall is ill-defined and being set to 0.0 in labels with no true samples. Use `zero_division` parameter to control this behavior.\n",
      "\n",
      "C:\\Users\\semin\\anaconda3\\lib\\site-packages\\sklearn\\metrics\\_classification.py:1221: UndefinedMetricWarning:\n",
      "\n",
      "Recall is ill-defined and being set to 0.0 in labels with no true samples. Use `zero_division` parameter to control this behavior.\n",
      "\n",
      "C:\\Users\\semin\\anaconda3\\lib\\site-packages\\sklearn\\metrics\\_classification.py:1221: UndefinedMetricWarning:\n",
      "\n",
      "Recall is ill-defined and being set to 0.0 in labels with no true samples. Use `zero_division` parameter to control this behavior.\n",
      "\n",
      "C:\\Users\\semin\\anaconda3\\lib\\site-packages\\sklearn\\metrics\\_classification.py:1221: UndefinedMetricWarning:\n",
      "\n",
      "Recall is ill-defined and being set to 0.0 in labels with no true samples. Use `zero_division` parameter to control this behavior.\n",
      "\n"
     ]
    },
    {
     "name": "stdout",
     "output_type": "stream",
     "text": [
      "Precision: 0.5193861693861694 Recall: 0.5443503712663054 F1: 0.528148107947741\n",
      "Weights: [0.45871332 0.57851496 0.91499465 0.85516461 0.30514994 0.03950071]\n",
      "\n",
      "Total time execution: 0.0625\n",
      "Directory already exists\n",
      "\n",
      "Best Results: 12/20\n",
      "\n",
      "\n",
      "Iteration: 16\n",
      "============================\n",
      "Precision: 0.5219535094535095 Recall: 0.5409183064997019 F1: 0.528802209914834\n",
      "Weights: [0.59099126 0.41627551 0.14778313 0.18288723 0.22469771 0.45864337]\n",
      "\n",
      "Total time execution: 0.046875\n",
      "Directory already exists\n",
      "\n",
      "Best Results: 13/20\n",
      "\n",
      "\n",
      "Iteration: 17\n",
      "============================\n",
      "Precision: 0.5256572131572131 Recall: 0.5421394756446303 F1: 0.5316989831275546\n",
      "Weights: [0.72281211 0.58182302 0.81159782 0.68338663 0.12463908 0.35264631]\n",
      "\n",
      "Total time execution: 0.046875\n",
      "Directory already exists\n",
      "\n",
      "Best Results: 14/20\n",
      "\n",
      "\n",
      "Iteration: 18\n",
      "============================\n",
      "Precision: 0.40001295001295 Recall: 0.4927188000582496 F1: 0.4192543188807914\n",
      "Weights: [0.50195727 0.27008884 0.54027527 0.31577053 0.2343294  0.77479589]\n",
      "\n",
      "Total time execution: 0.0625\n",
      "Directory already exists\n",
      "\n",
      "Best Results: 15/20\n",
      "\n",
      "\n",
      "Iteration: 19\n",
      "============================\n"
     ]
    },
    {
     "name": "stderr",
     "output_type": "stream",
     "text": [
      "C:\\Users\\semin\\anaconda3\\lib\\site-packages\\sklearn\\metrics\\_classification.py:1221: UndefinedMetricWarning:\n",
      "\n",
      "Recall is ill-defined and being set to 0.0 in labels with no true samples. Use `zero_division` parameter to control this behavior.\n",
      "\n",
      "C:\\Users\\semin\\anaconda3\\lib\\site-packages\\sklearn\\metrics\\_classification.py:1221: UndefinedMetricWarning:\n",
      "\n",
      "Recall is ill-defined and being set to 0.0 in labels with no true samples. Use `zero_division` parameter to control this behavior.\n",
      "\n",
      "C:\\Users\\semin\\anaconda3\\lib\\site-packages\\sklearn\\metrics\\_classification.py:1221: UndefinedMetricWarning:\n",
      "\n",
      "Recall is ill-defined and being set to 0.0 in labels with no true samples. Use `zero_division` parameter to control this behavior.\n",
      "\n",
      "C:\\Users\\semin\\anaconda3\\lib\\site-packages\\sklearn\\metrics\\_classification.py:1221: UndefinedMetricWarning:\n",
      "\n",
      "Recall is ill-defined and being set to 0.0 in labels with no true samples. Use `zero_division` parameter to control this behavior.\n",
      "\n"
     ]
    },
    {
     "name": "stdout",
     "output_type": "stream",
     "text": [
      "Precision: 0.4370467495467496 Recall: 0.519916397610469 F1: 0.46284048445657644\n",
      "Weights: [0.94527161 0.37604048 0.77903591 0.00990331 0.90869423 0.69970425]\n",
      "\n",
      "Total time execution: 0.046875\n",
      "Directory already exists\n",
      "\n",
      "Best Results: 16/20\n",
      "\n",
      "\n",
      "Iteration: 20\n",
      "============================\n",
      "Precision: 0.37522015022015026 Recall: 0.466030303030303 F1: 0.38346621505290185\n",
      "Weights: [0.2578985  0.13667406 0.59382214 0.29097053 0.48396663 0.637898  ]\n",
      "\n",
      "Total time execution: 0.046875\n",
      "Directory already exists\n",
      "\n",
      "Best Results: 17/20\n",
      "\n",
      "\n",
      "Iteration: 21\n",
      "============================\n",
      "Precision: 0.35071548821548826 Recall: 0.33657822863831444 F1: 0.3384960830297889\n",
      "Weights: [0.3365174  0.05207977 0.93777532 0.82980539 0.35585128 0.29870063]\n",
      "\n",
      "Total time execution: 0.0625\n",
      "Directory already exists\n",
      "\n",
      "Best Results: 18/20\n",
      "\n",
      "\n",
      "Iteration: 22\n",
      "============================\n",
      "Precision: 0.49944314944314944 Recall: 0.5305695006747638 F1: 0.5095116108067079\n",
      "Weights: [0.68248586 0.45910142 0.03665712 0.61461031 0.39656657 0.41286463]\n",
      "\n",
      "Total time execution: 0.046875\n"
     ]
    },
    {
     "name": "stderr",
     "output_type": "stream",
     "text": [
      "C:\\Users\\semin\\anaconda3\\lib\\site-packages\\sklearn\\metrics\\_classification.py:1221: UndefinedMetricWarning:\n",
      "\n",
      "Recall is ill-defined and being set to 0.0 in labels with no true samples. Use `zero_division` parameter to control this behavior.\n",
      "\n",
      "C:\\Users\\semin\\anaconda3\\lib\\site-packages\\sklearn\\metrics\\_classification.py:1221: UndefinedMetricWarning:\n",
      "\n",
      "Recall is ill-defined and being set to 0.0 in labels with no true samples. Use `zero_division` parameter to control this behavior.\n",
      "\n",
      "C:\\Users\\semin\\anaconda3\\lib\\site-packages\\sklearn\\metrics\\_classification.py:1221: UndefinedMetricWarning:\n",
      "\n",
      "Recall is ill-defined and being set to 0.0 in labels with no true samples. Use `zero_division` parameter to control this behavior.\n",
      "\n",
      "C:\\Users\\semin\\anaconda3\\lib\\site-packages\\sklearn\\metrics\\_classification.py:1221: UndefinedMetricWarning:\n",
      "\n",
      "Recall is ill-defined and being set to 0.0 in labels with no true samples. Use `zero_division` parameter to control this behavior.\n",
      "\n"
     ]
    },
    {
     "name": "stdout",
     "output_type": "stream",
     "text": [
      "Directory already exists\n",
      "\n",
      "Best Results: 19/20\n",
      "\n",
      "\n",
      "Iteration: 23\n",
      "============================\n",
      "Precision: 0.5094114219114219 Recall: 0.5462210775643612 F1: 0.5212833143867626\n",
      "Weights: [0.38000637 0.61190472 0.19063177 0.16091804 0.76978023 0.08531128]\n",
      "\n",
      "Total time execution: 0.046875\n",
      "Directory already exists\n",
      "\n",
      "Best Results: 20/20\n",
      "\n",
      "\n",
      "Iteration: 1\n",
      "============================\n",
      "Precision: 0.37038008288008284 Recall: 0.46059595959595956 F1: 0.3783870761654266\n",
      "Weights: [0.16921344 0.0887591  0.22825384 0.28982428 0.35423144 0.43654151]\n",
      "\n",
      "Total time execution: 0.0625\n",
      "Best F1\n",
      "Directory already exists\n",
      "\n",
      "Best Results: 1/20\n",
      "\n",
      "\n",
      "Iteration: 2\n",
      "============================\n",
      "Precision: 0.4515831390831391 Recall: 0.5185814185814186 F1: 0.47554695304695305\n",
      "Weights: [0.95000084 0.42687708 0.36802956 0.99102025 0.50027264 0.29708399]\n",
      "\n",
      "Total time execution: 0.046875\n",
      "Best F1\n",
      "Directory already exists\n",
      "\n",
      "Best Results: 1/20\n",
      "\n",
      "\n",
      "Iteration: 3\n",
      "============================\n"
     ]
    },
    {
     "name": "stderr",
     "output_type": "stream",
     "text": [
      "C:\\Users\\semin\\anaconda3\\lib\\site-packages\\sklearn\\metrics\\_classification.py:1221: UndefinedMetricWarning:\n",
      "\n",
      "Recall is ill-defined and being set to 0.0 in labels with no true samples. Use `zero_division` parameter to control this behavior.\n",
      "\n",
      "C:\\Users\\semin\\anaconda3\\lib\\site-packages\\sklearn\\metrics\\_classification.py:1221: UndefinedMetricWarning:\n",
      "\n",
      "Recall is ill-defined and being set to 0.0 in labels with no true samples. Use `zero_division` parameter to control this behavior.\n",
      "\n",
      "C:\\Users\\semin\\anaconda3\\lib\\site-packages\\sklearn\\metrics\\_classification.py:1221: UndefinedMetricWarning:\n",
      "\n",
      "Recall is ill-defined and being set to 0.0 in labels with no true samples. Use `zero_division` parameter to control this behavior.\n",
      "\n",
      "C:\\Users\\semin\\anaconda3\\lib\\site-packages\\sklearn\\metrics\\_classification.py:1221: UndefinedMetricWarning:\n",
      "\n",
      "Recall is ill-defined and being set to 0.0 in labels with no true samples. Use `zero_division` parameter to control this behavior.\n",
      "\n"
     ]
    },
    {
     "name": "stdout",
     "output_type": "stream",
     "text": [
      "Precision: 0.5233780108780108 Recall: 0.5376127016056611 F1: 0.5273648648648649\n",
      "Weights: [0.26931445 0.72183929 0.30499061 0.40359421 0.00748886 0.26025829]\n",
      "\n",
      "Total time execution: 0.0625\n",
      "Best F1\n",
      "Directory already exists\n",
      "\n",
      "Best Results: 1/20\n",
      "\n",
      "\n",
      "Iteration: 4\n",
      "============================\n",
      "Precision: 0.4937451437451438 Recall: 0.5370115203772887 F1: 0.510604669970207\n",
      "Weights: [0.47628821 0.28022513 0.26456539 0.17698452 0.8300477  0.11522125]\n",
      "\n",
      "Total time execution: 0.0625\n",
      "Directory already exists\n",
      "\n",
      "Best Results: 2/20\n",
      "\n",
      "\n",
      "Iteration: 5\n",
      "============================\n",
      "Precision: 0.5282180782180783 Recall: 0.5468864468864469 F1: 0.5343898916146348\n",
      "Weights: [0.33670088 0.74200271 0.33267664 0.17621513 0.95374115 0.51248393]\n",
      "\n",
      "Total time execution: 0.0625\n",
      "Best F1\n",
      "Directory already exists\n",
      "\n",
      "Best Results: 1/20\n",
      "\n",
      "\n",
      "Iteration: 6\n",
      "============================\n",
      "Precision: 0.5114089614089614 Recall: 0.5396986544194665 F1: 0.5230799407743107\n",
      "Weights: [0.43250327 0.48203017 0.88932257 0.90947714 0.25873509 0.51373009]\n",
      "\n",
      "Total time execution: 0.046875\n",
      "Directory already exists\n",
      "\n",
      "Best Results: 2/20\n",
      "\n"
     ]
    },
    {
     "name": "stderr",
     "output_type": "stream",
     "text": [
      "C:\\Users\\semin\\anaconda3\\lib\\site-packages\\sklearn\\metrics\\_classification.py:1221: UndefinedMetricWarning:\n",
      "\n",
      "Recall is ill-defined and being set to 0.0 in labels with no true samples. Use `zero_division` parameter to control this behavior.\n",
      "\n",
      "C:\\Users\\semin\\anaconda3\\lib\\site-packages\\sklearn\\metrics\\_classification.py:1221: UndefinedMetricWarning:\n",
      "\n",
      "Recall is ill-defined and being set to 0.0 in labels with no true samples. Use `zero_division` parameter to control this behavior.\n",
      "\n",
      "C:\\Users\\semin\\anaconda3\\lib\\site-packages\\sklearn\\metrics\\_classification.py:1221: UndefinedMetricWarning:\n",
      "\n",
      "Recall is ill-defined and being set to 0.0 in labels with no true samples. Use `zero_division` parameter to control this behavior.\n",
      "\n"
     ]
    },
    {
     "name": "stdout",
     "output_type": "stream",
     "text": [
      "\n",
      "Iteration: 7\n",
      "============================\n",
      "Precision: 0.5219535094535095 Recall: 0.5409183064997019 F1: 0.528802209914834\n",
      "Weights: [0.44728233 0.6581686  0.91054743 0.79394542 0.97571828 0.33685665]\n",
      "\n",
      "Total time execution: 0.046875\n",
      "Directory already exists\n",
      "\n",
      "Best Results: 3/20\n",
      "\n",
      "\n",
      "Iteration: 8\n",
      "============================\n",
      "Precision: 0.5071386946386947 Recall: 0.5359618605849762 F1: 0.5167258891645988\n",
      "Weights: [0.41683821 0.5734831  0.08117245 0.16524137 0.7378908  0.08497158]\n",
      "\n",
      "Total time execution: 0.0625\n",
      "Directory already exists\n",
      "\n",
      "Best Results: 4/20\n",
      "\n",
      "\n",
      "Iteration: 9\n",
      "============================\n",
      "Precision: 0.5116970991970992 Recall: 0.5380289509199909 F1: 0.522010680220354\n",
      "Weights: [0.72407493 0.43642999 0.40428277 0.57390023 0.57992383 0.21714569]\n",
      "\n",
      "Total time execution: 0.046875\n",
      "Directory already exists\n",
      "\n",
      "Best Results: 5/20\n",
      "\n",
      "\n",
      "Iteration: 10\n",
      "============================\n"
     ]
    },
    {
     "name": "stderr",
     "output_type": "stream",
     "text": [
      "C:\\Users\\semin\\anaconda3\\lib\\site-packages\\sklearn\\metrics\\_classification.py:1221: UndefinedMetricWarning:\n",
      "\n",
      "Recall is ill-defined and being set to 0.0 in labels with no true samples. Use `zero_division` parameter to control this behavior.\n",
      "\n",
      "C:\\Users\\semin\\anaconda3\\lib\\site-packages\\sklearn\\metrics\\_classification.py:1221: UndefinedMetricWarning:\n",
      "\n",
      "Recall is ill-defined and being set to 0.0 in labels with no true samples. Use `zero_division` parameter to control this behavior.\n",
      "\n",
      "C:\\Users\\semin\\anaconda3\\lib\\site-packages\\sklearn\\metrics\\_classification.py:1221: UndefinedMetricWarning:\n",
      "\n",
      "Recall is ill-defined and being set to 0.0 in labels with no true samples. Use `zero_division` parameter to control this behavior.\n",
      "\n",
      "C:\\Users\\semin\\anaconda3\\lib\\site-packages\\sklearn\\metrics\\_classification.py:1221: UndefinedMetricWarning:\n",
      "\n",
      "Recall is ill-defined and being set to 0.0 in labels with no true samples. Use `zero_division` parameter to control this behavior.\n",
      "\n"
     ]
    },
    {
     "name": "stdout",
     "output_type": "stream",
     "text": [
      "Precision: 0.5168188293188293 Recall: 0.5482283210926427 F1: 0.5274613730355666\n",
      "Weights: [0.44384083 0.94100123 0.58108629 0.07863601 0.93700442 0.0512236 ]\n",
      "\n",
      "Total time execution: 0.0625\n",
      "Directory already exists\n",
      "\n",
      "Best Results: 6/20\n",
      "\n",
      "\n",
      "Iteration: 11\n",
      "============================\n",
      "Precision: 0.4114057239057239 Recall: 0.5037651864264767 F1: 0.4338921856042903\n",
      "Weights: [0.02366148 0.19998175 0.25567435 0.11414804 0.7671141  0.64569914]\n",
      "\n",
      "Total time execution: 0.0625\n",
      "Directory already exists\n",
      "\n",
      "Best Results: 7/20\n",
      "\n",
      "\n",
      "Iteration: 12\n",
      "============================\n",
      "Precision: 0.3145363895363895 Recall: 0.4591596638655462 F1: 0.32266139657444004\n",
      "Weights: [0.64442292 0.11660016 0.01056251 0.81746617 0.48169082 0.16136019]\n",
      "\n",
      "Total time execution: 0.0625\n",
      "Directory already exists\n",
      "\n",
      "Best Results: 8/20\n",
      "\n",
      "\n",
      "Iteration: 13\n",
      "============================\n"
     ]
    },
    {
     "name": "stderr",
     "output_type": "stream",
     "text": [
      "C:\\Users\\semin\\anaconda3\\lib\\site-packages\\sklearn\\metrics\\_classification.py:1221: UndefinedMetricWarning:\n",
      "\n",
      "Recall is ill-defined and being set to 0.0 in labels with no true samples. Use `zero_division` parameter to control this behavior.\n",
      "\n",
      "C:\\Users\\semin\\anaconda3\\lib\\site-packages\\sklearn\\metrics\\_classification.py:1221: UndefinedMetricWarning:\n",
      "\n",
      "Recall is ill-defined and being set to 0.0 in labels with no true samples. Use `zero_division` parameter to control this behavior.\n",
      "\n",
      "C:\\Users\\semin\\anaconda3\\lib\\site-packages\\sklearn\\metrics\\_classification.py:1221: UndefinedMetricWarning:\n",
      "\n",
      "Recall is ill-defined and being set to 0.0 in labels with no true samples. Use `zero_division` parameter to control this behavior.\n",
      "\n",
      "C:\\Users\\semin\\anaconda3\\lib\\site-packages\\sklearn\\metrics\\_classification.py:1221: UndefinedMetricWarning:\n",
      "\n",
      "Recall is ill-defined and being set to 0.0 in labels with no true samples. Use `zero_division` parameter to control this behavior.\n",
      "\n"
     ]
    },
    {
     "name": "stdout",
     "output_type": "stream",
     "text": [
      "Precision: 0.5108423983423983 Recall: 0.5372144522144522 F1: 0.5198216885325772\n",
      "Weights: [0.70424146 0.69053157 0.26408383 0.3694905  0.49858453 0.06641474]\n",
      "\n",
      "Total time execution: 0.0625\n",
      "Directory already exists\n",
      "\n",
      "Best Results: 9/20\n",
      "\n",
      "\n",
      "Iteration: 14\n",
      "============================\n",
      "Precision: 0.5077052577052577 Recall: 0.5411182898620084 F1: 0.5208\n",
      "Weights: [0.41653256 0.36953459 0.46542512 0.27804287 0.53601672 0.55413051]\n",
      "\n",
      "Total time execution: 0.046875\n",
      "Directory already exists\n",
      "\n",
      "Best Results: 10/20\n",
      "\n",
      "\n",
      "Iteration: 15\n",
      "============================\n",
      "Precision: 0.5193861693861694 Recall: 0.5443503712663054 F1: 0.528148107947741\n",
      "Weights: [0.66786604 0.55589829 0.84460476 0.75436724 0.16874472 0.1070808 ]\n",
      "\n",
      "Total time execution: 0.0625\n",
      "Directory already exists\n",
      "\n",
      "Best Results: 11/20\n",
      "\n",
      "\n",
      "Iteration: 16\n",
      "============================\n",
      "Precision: 0.4911875161875162 Recall: 0.5219320066334991 F1: 0.4998087648807859\n",
      "Weights: [0.10523059 0.53935009 0.02417473 0.62766172 0.06224045 0.05589296]\n",
      "\n",
      "Total time execution: 0.046875\n",
      "Directory already exists\n",
      "\n"
     ]
    },
    {
     "name": "stderr",
     "output_type": "stream",
     "text": [
      "C:\\Users\\semin\\anaconda3\\lib\\site-packages\\sklearn\\metrics\\_classification.py:1221: UndefinedMetricWarning:\n",
      "\n",
      "Recall is ill-defined and being set to 0.0 in labels with no true samples. Use `zero_division` parameter to control this behavior.\n",
      "\n",
      "C:\\Users\\semin\\anaconda3\\lib\\site-packages\\sklearn\\metrics\\_classification.py:1221: UndefinedMetricWarning:\n",
      "\n",
      "Recall is ill-defined and being set to 0.0 in labels with no true samples. Use `zero_division` parameter to control this behavior.\n",
      "\n",
      "C:\\Users\\semin\\anaconda3\\lib\\site-packages\\sklearn\\metrics\\_classification.py:1221: UndefinedMetricWarning:\n",
      "\n",
      "Recall is ill-defined and being set to 0.0 in labels with no true samples. Use `zero_division` parameter to control this behavior.\n",
      "\n"
     ]
    },
    {
     "name": "stdout",
     "output_type": "stream",
     "text": [
      "Best Results: 12/20\n",
      "\n",
      "\n",
      "Iteration: 17\n",
      "============================\n",
      "Precision: 0.4370467495467496 Recall: 0.519916397610469 F1: 0.46284048445657644\n",
      "Weights: [0.7733898  0.42480698 0.43392859 0.92211382 0.66854154 0.56370246]\n",
      "\n",
      "Total time execution: 0.046875\n",
      "Directory already exists\n",
      "\n",
      "Best Results: 13/20\n",
      "\n",
      "\n",
      "Iteration: 18\n",
      "============================\n",
      "Precision: 0.48832880082880087 Recall: 0.5371350226719241 F1: 0.5075342055871392\n",
      "Weights: [0.46578837 0.39116466 0.51070258 0.22182241 0.68650884 0.77798237]\n",
      "\n",
      "Total time execution: 0.0625\n",
      "Directory already exists\n",
      "\n",
      "Best Results: 14/20\n",
      "\n",
      "\n",
      "Iteration: 19\n",
      "============================\n",
      "Precision: 0.5168253043253044 Recall: 0.5394836759673269 F1: 0.5254427979735595\n",
      "Weights: [0.48229013 0.58515712 0.39316263 0.85033933 0.97074889 0.31937539]\n",
      "\n",
      "Total time execution: 0.0625\n",
      "Directory already exists\n",
      "\n",
      "Best Results: 15/20\n",
      "\n",
      "\n",
      "Iteration: 20\n",
      "============================\n"
     ]
    },
    {
     "name": "stderr",
     "output_type": "stream",
     "text": [
      "C:\\Users\\semin\\anaconda3\\lib\\site-packages\\sklearn\\metrics\\_classification.py:1221: UndefinedMetricWarning:\n",
      "\n",
      "Recall is ill-defined and being set to 0.0 in labels with no true samples. Use `zero_division` parameter to control this behavior.\n",
      "\n",
      "C:\\Users\\semin\\anaconda3\\lib\\site-packages\\sklearn\\metrics\\_classification.py:1221: UndefinedMetricWarning:\n",
      "\n",
      "Recall is ill-defined and being set to 0.0 in labels with no true samples. Use `zero_division` parameter to control this behavior.\n",
      "\n",
      "C:\\Users\\semin\\anaconda3\\lib\\site-packages\\sklearn\\metrics\\_classification.py:1221: UndefinedMetricWarning:\n",
      "\n",
      "Recall is ill-defined and being set to 0.0 in labels with no true samples. Use `zero_division` parameter to control this behavior.\n",
      "\n",
      "C:\\Users\\semin\\anaconda3\\lib\\site-packages\\sklearn\\metrics\\_classification.py:1221: UndefinedMetricWarning:\n",
      "\n",
      "Recall is ill-defined and being set to 0.0 in labels with no true samples. Use `zero_division` parameter to control this behavior.\n",
      "\n"
     ]
    },
    {
     "name": "stdout",
     "output_type": "stream",
     "text": [
      "Precision: 0.4689523439523439 Recall: 0.5394069060307828 F1: 0.4946548188653452\n",
      "Weights: [0.70711473 0.34080277 0.42191466 0.05524476 0.6217232  0.78408511]\n",
      "\n",
      "Total time execution: 0.046875\n",
      "Directory already exists\n",
      "\n",
      "Best Results: 16/20\n",
      "\n",
      "\n",
      "Iteration: 21\n",
      "============================\n",
      "Precision: 0.5230898730898732 Recall: 0.5454735740450026 F1: 0.5311000827129859\n",
      "Weights: [0.55299701 0.87579247 0.35465022 0.99249161 0.38584183 0.95539357]\n",
      "\n",
      "Total time execution: 0.046875\n",
      "Directory already exists\n",
      "\n",
      "Best Results: 17/20\n",
      "\n",
      "\n",
      "Iteration: 22\n",
      "============================\n",
      "Precision: 0.5319217819217819 Recall: 0.5480172620474706 F1: 0.5372965919070578\n",
      "Weights: [0.05470879 0.53267714 0.33042206 0.20776357 0.51238247 0.60588147]\n",
      "\n",
      "Total time execution: 0.0625\n",
      "Best F1\n",
      "Directory already exists\n",
      "\n",
      "Best Results: 1/20\n",
      "\n",
      "\n",
      "Iteration: 23\n",
      "============================\n"
     ]
    },
    {
     "name": "stderr",
     "output_type": "stream",
     "text": [
      "C:\\Users\\semin\\anaconda3\\lib\\site-packages\\sklearn\\metrics\\_classification.py:1221: UndefinedMetricWarning:\n",
      "\n",
      "Recall is ill-defined and being set to 0.0 in labels with no true samples. Use `zero_division` parameter to control this behavior.\n",
      "\n",
      "C:\\Users\\semin\\anaconda3\\lib\\site-packages\\sklearn\\metrics\\_classification.py:1221: UndefinedMetricWarning:\n",
      "\n",
      "Recall is ill-defined and being set to 0.0 in labels with no true samples. Use `zero_division` parameter to control this behavior.\n",
      "\n",
      "C:\\Users\\semin\\anaconda3\\lib\\site-packages\\sklearn\\metrics\\_classification.py:1221: UndefinedMetricWarning:\n",
      "\n",
      "Recall is ill-defined and being set to 0.0 in labels with no true samples. Use `zero_division` parameter to control this behavior.\n",
      "\n",
      "C:\\Users\\semin\\anaconda3\\lib\\site-packages\\sklearn\\metrics\\_classification.py:1221: UndefinedMetricWarning:\n",
      "\n",
      "Recall is ill-defined and being set to 0.0 in labels with no true samples. Use `zero_division` parameter to control this behavior.\n",
      "\n"
     ]
    },
    {
     "name": "stdout",
     "output_type": "stream",
     "text": [
      "Precision: 0.23106060606060605 Recall: 0.23972850678733032 F1: 0.21033725287504845\n",
      "Weights: [0.25188306 0.00732963 0.0077648  0.4987818  0.62089669 0.41532322]\n",
      "\n",
      "Total time execution: 0.0625\n",
      "Directory already exists\n",
      "\n",
      "Best Results: 2/20\n",
      "\n",
      "\n",
      "Iteration: 24\n",
      "============================\n",
      "Precision: 0.3740837865837866 Recall: 0.46168650793650795 F1: 0.3812097571459273\n",
      "Weights: [0.82634812 0.25610778 0.77174675 0.94529011 0.92730326 0.66050334]\n",
      "\n",
      "Total time execution: 0.046875\n",
      "Directory already exists\n",
      "\n",
      "Best Results: 3/20\n",
      "\n",
      "\n",
      "Iteration: 25\n",
      "============================\n",
      "Precision: 0.3609718984718985 Recall: 0.4392020643112346 F1: 0.35879109611114035\n",
      "Weights: [0.77560149 0.16244728 0.77161043 0.48246911 0.93991476 0.64159927]\n",
      "\n",
      "Total time execution: 0.0625\n",
      "Directory already exists\n",
      "\n",
      "Best Results: 4/20\n",
      "\n",
      "\n",
      "Iteration: 26\n",
      "============================\n",
      "Precision: 0.35242812742812746 Recall: 0.4326996966632962 F1: 0.35085796485940335\n",
      "Weights: [0.85352234 0.12389675 0.19626739 0.5932726  0.68705302 0.95774702]\n",
      "\n",
      "Total time execution: 0.078125\n",
      "Directory already exists\n",
      "\n",
      "Best Results: 5/20\n",
      "\n",
      "\n",
      "Iteration: 27\n",
      "============================\n",
      "Precision: 0.5307854182854183 Recall: 0.5435657089024964 F1: 0.5349912734467049\n",
      "Weights: [0.31283931 0.80584197 0.30328267 0.25264955 0.91979953 0.89563633]\n",
      "\n",
      "Total time execution: 0.046875\n",
      "Directory already exists\n",
      "\n",
      "Best Results: 6/20\n",
      "\n",
      "\n",
      "Iteration: 28\n",
      "============================\n",
      "Precision: 0.5256572131572131 Recall: 0.5421394756446303 F1: 0.5316989831275546\n",
      "Weights: [0.58517176 0.73419118 0.61955948 0.626866   0.79141524 0.26632629]\n",
      "\n",
      "Total time execution: 0.046875\n",
      "Directory already exists\n",
      "\n",
      "Best Results: 7/20\n",
      "\n",
      "\n",
      "Iteration: 29\n",
      "============================\n",
      "Precision: 0.4512950012950013 Recall: 0.5214114832535885 F1: 0.47529993815708094\n",
      "Weights: [0.69528931 0.42112953 0.60107894 0.79910498 0.54907119 0.49169039]\n",
      "\n",
      "Total time execution: 0.0625\n",
      "Directory already exists\n",
      "\n",
      "Best Results: 8/20\n",
      "\n",
      "\n",
      "Iteration: 30\n",
      "============================\n"
     ]
    },
    {
     "name": "stderr",
     "output_type": "stream",
     "text": [
      "C:\\Users\\semin\\anaconda3\\lib\\site-packages\\sklearn\\metrics\\_classification.py:1221: UndefinedMetricWarning:\n",
      "\n",
      "Recall is ill-defined and being set to 0.0 in labels with no true samples. Use `zero_division` parameter to control this behavior.\n",
      "\n",
      "C:\\Users\\semin\\anaconda3\\lib\\site-packages\\sklearn\\metrics\\_classification.py:1221: UndefinedMetricWarning:\n",
      "\n",
      "Recall is ill-defined and being set to 0.0 in labels with no true samples. Use `zero_division` parameter to control this behavior.\n",
      "\n",
      "C:\\Users\\semin\\anaconda3\\lib\\site-packages\\sklearn\\metrics\\_classification.py:1221: UndefinedMetricWarning:\n",
      "\n",
      "Recall is ill-defined and being set to 0.0 in labels with no true samples. Use `zero_division` parameter to control this behavior.\n",
      "\n",
      "C:\\Users\\semin\\anaconda3\\lib\\site-packages\\sklearn\\metrics\\_classification.py:1221: UndefinedMetricWarning:\n",
      "\n",
      "Recall is ill-defined and being set to 0.0 in labels with no true samples. Use `zero_division` parameter to control this behavior.\n",
      "\n",
      "C:\\Users\\semin\\anaconda3\\lib\\site-packages\\sklearn\\metrics\\_classification.py:1221: UndefinedMetricWarning:\n",
      "\n",
      "Recall is ill-defined and being set to 0.0 in labels with no true samples. Use `zero_division` parameter to control this behavior.\n",
      "\n",
      "C:\\Users\\semin\\anaconda3\\lib\\site-packages\\sklearn\\metrics\\_classification.py:1221: UndefinedMetricWarning:\n",
      "\n",
      "Recall is ill-defined and being set to 0.0 in labels with no true samples. Use `zero_division` parameter to control this behavior.\n",
      "\n",
      "C:\\Users\\semin\\anaconda3\\lib\\site-packages\\sklearn\\metrics\\_classification.py:1221: UndefinedMetricWarning:\n",
      "\n",
      "Recall is ill-defined and being set to 0.0 in labels with no true samples. Use `zero_division` parameter to control this behavior.\n",
      "\n"
     ]
    },
    {
     "name": "stdout",
     "output_type": "stream",
     "text": [
      "Precision: 0.36382737632737633 Recall: 0.4353195673549656 F1: 0.36446253580581933\n",
      "Weights: [0.21327435 0.13036447 0.48468939 0.1049425  0.72867716 0.91263952]\n",
      "\n",
      "Total time execution: 0.0625\n",
      "Directory already exists\n",
      "\n",
      "Best Results: 9/20\n",
      "\n",
      "\n",
      "Iteration: 31\n",
      "============================\n",
      "Precision: 0.4689588189588189 Recall: 0.5248419150858176 F1: 0.48966833691243145\n",
      "Weights: [0.02300975 0.3277396  0.45439999 0.95056775 0.68282363 0.30067424]\n",
      "\n",
      "Total time execution: 0.046875\n",
      "Directory already exists\n",
      "\n",
      "Best Results: 10/20\n",
      "\n",
      "\n",
      "Iteration: 32\n",
      "============================\n",
      "Precision: 0.5256572131572131 Recall: 0.5421394756446303 F1: 0.5316989831275546\n",
      "Weights: [0.75858286 0.75829953 0.96171722 0.668629   0.97843496 0.844182  ]\n",
      "\n",
      "Total time execution: 0.046875\n",
      "Directory already exists\n",
      "\n",
      "Best Results: 11/20\n",
      "\n",
      "\n",
      "Iteration: 33\n",
      "============================\n",
      "Precision: 0.5267935767935767 Recall: 0.5465951103160405 F1: 0.5340040883709432\n",
      "Weights: [0.54927589 0.66054866 0.49344502 0.66177079 0.67939315 0.92530912]\n",
      "\n",
      "Total time execution: 0.0625\n",
      "Directory already exists\n",
      "\n",
      "Best Results: 12/20\n",
      "\n",
      "\n",
      "Iteration: 34\n",
      "============================\n"
     ]
    },
    {
     "name": "stderr",
     "output_type": "stream",
     "text": [
      "C:\\Users\\semin\\anaconda3\\lib\\site-packages\\sklearn\\metrics\\_classification.py:1221: UndefinedMetricWarning:\n",
      "\n",
      "Recall is ill-defined and being set to 0.0 in labels with no true samples. Use `zero_division` parameter to control this behavior.\n",
      "\n",
      "C:\\Users\\semin\\anaconda3\\lib\\site-packages\\sklearn\\metrics\\_classification.py:1221: UndefinedMetricWarning:\n",
      "\n",
      "Recall is ill-defined and being set to 0.0 in labels with no true samples. Use `zero_division` parameter to control this behavior.\n",
      "\n",
      "C:\\Users\\semin\\anaconda3\\lib\\site-packages\\sklearn\\metrics\\_classification.py:1221: UndefinedMetricWarning:\n",
      "\n",
      "Recall is ill-defined and being set to 0.0 in labels with no true samples. Use `zero_division` parameter to control this behavior.\n",
      "\n",
      "C:\\Users\\semin\\anaconda3\\lib\\site-packages\\sklearn\\metrics\\_classification.py:1221: UndefinedMetricWarning:\n",
      "\n",
      "Recall is ill-defined and being set to 0.0 in labels with no true samples. Use `zero_division` parameter to control this behavior.\n",
      "\n"
     ]
    },
    {
     "name": "stdout",
     "output_type": "stream",
     "text": [
      "Precision: 0.3470117845117845 Recall: 0.3356191612005565 F1: 0.3356801609253206\n",
      "Weights: [0.7736363  0.05447249 0.62626253 0.28148141 0.66294884 0.51017563]\n",
      "\n",
      "Total time execution: 0.0625\n",
      "Directory already exists\n",
      "\n",
      "Best Results: 13/20\n",
      "\n",
      "\n",
      "Iteration: 35\n",
      "============================\n",
      "Precision: 0.5267935767935767 Recall: 0.5465951103160405 F1: 0.5340040883709432\n",
      "Weights: [0.49584198 0.81227115 0.40349108 0.37357651 0.87231802 0.90567602]\n",
      "\n",
      "Total time execution: 0.0625\n",
      "Directory already exists\n",
      "\n",
      "Best Results: 14/20\n",
      "\n",
      "\n",
      "Iteration: 36\n",
      "============================\n",
      "Precision: 0.5256572131572131 Recall: 0.5421394756446303 F1: 0.5316989831275546\n",
      "Weights: [0.77721054 0.67349872 0.97055265 0.78762761 0.3602853  0.6220615 ]\n",
      "\n",
      "Total time execution: 0.046875\n",
      "Directory already exists\n",
      "\n",
      "Best Results: 15/20\n",
      "\n",
      "\n",
      "Iteration: 37\n",
      "============================\n",
      "Precision: 0.34587542087542084 Recall: 0.3311744049941475 F1: 0.33343645526670324\n",
      "Weights: [0.52970397 0.06496145 0.33667059 0.95445184 0.79808193 0.65408448]\n",
      "\n",
      "Total time execution: 0.0625\n",
      "Directory already exists\n",
      "\n",
      "Best Results: 16/20\n",
      "\n",
      "\n",
      "Iteration: 38\n",
      "============================\n"
     ]
    },
    {
     "name": "stderr",
     "output_type": "stream",
     "text": [
      "C:\\Users\\semin\\anaconda3\\lib\\site-packages\\sklearn\\metrics\\_classification.py:1221: UndefinedMetricWarning:\n",
      "\n",
      "Recall is ill-defined and being set to 0.0 in labels with no true samples. Use `zero_division` parameter to control this behavior.\n",
      "\n",
      "C:\\Users\\semin\\anaconda3\\lib\\site-packages\\sklearn\\metrics\\_classification.py:1221: UndefinedMetricWarning:\n",
      "\n",
      "Recall is ill-defined and being set to 0.0 in labels with no true samples. Use `zero_division` parameter to control this behavior.\n",
      "\n",
      "C:\\Users\\semin\\anaconda3\\lib\\site-packages\\sklearn\\metrics\\_classification.py:1221: UndefinedMetricWarning:\n",
      "\n",
      "Recall is ill-defined and being set to 0.0 in labels with no true samples. Use `zero_division` parameter to control this behavior.\n",
      "\n",
      "C:\\Users\\semin\\anaconda3\\lib\\site-packages\\sklearn\\metrics\\_classification.py:1221: UndefinedMetricWarning:\n",
      "\n",
      "Recall is ill-defined and being set to 0.0 in labels with no true samples. Use `zero_division` parameter to control this behavior.\n",
      "\n"
     ]
    },
    {
     "name": "stdout",
     "output_type": "stream",
     "text": [
      "Precision: 0.35071548821548826 Recall: 0.33657822863831444 F1: 0.3384960830297889\n",
      "Weights: [0.42750374 0.0494629  0.93651365 0.37342349 0.63097271 0.51346174]\n",
      "\n",
      "Total time execution: 0.0625\n",
      "Directory already exists\n",
      "\n",
      "Best Results: 17/20\n",
      "\n",
      "\n",
      "Iteration: 39\n",
      "============================\n",
      "Precision: 0.5259453509453509 Recall: 0.5379839849269901 F1: 0.5298256299535354\n",
      "Weights: [0.14605379 0.81895685 0.26921312 0.35453784 0.37142884 0.15789235]\n",
      "\n",
      "Total time execution: 0.046875\n",
      "Directory already exists\n",
      "\n",
      "Best Results: 18/20\n",
      "\n",
      "\n",
      "Iteration: 40\n",
      "============================\n",
      "Precision: 0.4094081844081844 Recall: 0.5214171122994652 F1: 0.438979460256056\n",
      "Weights: [0.28740386 0.15234248 0.01939023 0.31306284 0.5063986  0.31040024]\n",
      "\n",
      "Total time execution: 0.0625\n",
      "Directory already exists\n",
      "\n",
      "Best Results: 19/20\n",
      "\n",
      "\n",
      "Iteration: 41\n",
      "============================\n",
      "Precision: 0.4051411551411551 Recall: 0.4996163469557965 F1: 0.4267734843514394\n",
      "Weights: [0.75918276 0.22561677 0.46759764 0.29335189 0.05993918 0.62605607]\n",
      "\n",
      "Total time execution: 0.046875\n",
      "Directory already exists\n",
      "\n",
      "Best Results: 20/20\n",
      "\n",
      "\n",
      "Iteration: 1\n",
      "============================\n",
      "Precision: 0.3612600362600363 Recall: 0.43867809057527535 F1: 0.3638923479976864\n",
      "Weights: [0.80502886 0.1585505  0.97415267 0.54788618 0.04075038 0.22407535]\n",
      "\n",
      "Total time execution: 0.046875\n",
      "Best F1\n",
      "Directory already exists\n",
      "\n",
      "Best Results: 1/20\n",
      "\n",
      "\n",
      "Iteration: 2\n",
      "============================\n",
      "Precision: 0.5267935767935767 Recall: 0.5465951103160405 F1: 0.5340040883709432\n",
      "Weights: [0.42860812 0.43678928 0.26843958 0.45086322 0.48356483 0.41932128]\n",
      "\n",
      "Total time execution: 0.046875\n",
      "Best F1\n",
      "Directory already exists\n",
      "\n",
      "Best Results: 1/20\n",
      "\n",
      "\n",
      "Iteration: 3\n",
      "============================\n",
      "Precision: 0.36382737632737633 Recall: 0.4353195673549656 F1: 0.36446253580581933\n",
      "Weights: [0.27004052 0.1133941  0.43998873 0.23863238 0.77426693 0.57721139]\n",
      "\n",
      "Total time execution: 0.0625\n",
      "Directory already exists\n",
      "\n",
      "Best Results: 2/20\n",
      "\n",
      "\n",
      "Iteration: 4\n",
      "============================\n"
     ]
    },
    {
     "name": "stderr",
     "output_type": "stream",
     "text": [
      "C:\\Users\\semin\\anaconda3\\lib\\site-packages\\sklearn\\metrics\\_classification.py:1221: UndefinedMetricWarning:\n",
      "\n",
      "Recall is ill-defined and being set to 0.0 in labels with no true samples. Use `zero_division` parameter to control this behavior.\n",
      "\n",
      "C:\\Users\\semin\\anaconda3\\lib\\site-packages\\sklearn\\metrics\\_classification.py:1221: UndefinedMetricWarning:\n",
      "\n",
      "Recall is ill-defined and being set to 0.0 in labels with no true samples. Use `zero_division` parameter to control this behavior.\n",
      "\n",
      "C:\\Users\\semin\\anaconda3\\lib\\site-packages\\sklearn\\metrics\\_classification.py:1221: UndefinedMetricWarning:\n",
      "\n",
      "Recall is ill-defined and being set to 0.0 in labels with no true samples. Use `zero_division` parameter to control this behavior.\n",
      "\n",
      "C:\\Users\\semin\\anaconda3\\lib\\site-packages\\sklearn\\metrics\\_classification.py:1221: UndefinedMetricWarning:\n",
      "\n",
      "Recall is ill-defined and being set to 0.0 in labels with no true samples. Use `zero_division` parameter to control this behavior.\n",
      "\n",
      "C:\\Users\\semin\\anaconda3\\lib\\site-packages\\sklearn\\metrics\\_classification.py:1221: UndefinedMetricWarning:\n",
      "\n",
      "Recall is ill-defined and being set to 0.0 in labels with no true samples. Use `zero_division` parameter to control this behavior.\n",
      "\n",
      "C:\\Users\\semin\\anaconda3\\lib\\site-packages\\sklearn\\metrics\\_classification.py:1221: UndefinedMetricWarning:\n",
      "\n",
      "Recall is ill-defined and being set to 0.0 in labels with no true samples. Use `zero_division` parameter to control this behavior.\n",
      "\n",
      "C:\\Users\\semin\\anaconda3\\lib\\site-packages\\sklearn\\metrics\\_classification.py:1221: UndefinedMetricWarning:\n",
      "\n",
      "Recall is ill-defined and being set to 0.0 in labels with no true samples. Use `zero_division` parameter to control this behavior.\n",
      "\n"
     ]
    },
    {
     "name": "stdout",
     "output_type": "stream",
     "text": [
      "Precision: 0.5171134421134421 Recall: 0.5352415026833631 F1: 0.5236003314587248\n",
      "Weights: [0.58868521 0.73517403 0.40674474 0.87619691 0.35730552 0.19403589]\n",
      "\n",
      "Total time execution: 0.046875\n",
      "Directory already exists\n",
      "\n",
      "Best Results: 3/20\n",
      "\n",
      "\n",
      "Iteration: 5\n",
      "============================\n",
      "Precision: 0.5156824656824657 Recall: 0.5432245532245533 F1: 0.5251465263980909\n",
      "Weights: [0.67450792 0.93120469 0.21136427 0.35615385 0.92187281 0.80819529]\n",
      "\n",
      "Total time execution: 0.0625\n",
      "Directory already exists\n",
      "\n",
      "Best Results: 4/20\n",
      "\n",
      "\n",
      "Iteration: 6\n",
      "============================\n",
      "Precision: 0.5222416472416473 Recall: 0.5366530807959722 F1: 0.5268870070644832\n",
      "Weights: [0.17216066 0.38771381 0.08935164 0.11316278 0.1188006  0.25679469]\n",
      "\n",
      "Total time execution: 0.046875\n",
      "Directory already exists\n",
      "\n",
      "Best Results: 5/20\n",
      "\n",
      "\n",
      "Iteration: 7\n",
      "============================\n",
      "Precision: 0.3521399896399896 Recall: 0.4042283298097251 F1: 0.3464624351222289\n",
      "Weights: [0.54190761 0.10652475 0.95158071 0.71097745 0.74175261 0.28861812]\n",
      "\n",
      "Total time execution: 0.046875\n",
      "Directory already exists\n",
      "\n",
      "Best Results: 6/20\n",
      "\n",
      "\n",
      "Iteration: 8\n",
      "============================\n"
     ]
    },
    {
     "name": "stderr",
     "output_type": "stream",
     "text": [
      "C:\\Users\\semin\\anaconda3\\lib\\site-packages\\sklearn\\metrics\\_classification.py:1221: UndefinedMetricWarning:\n",
      "\n",
      "Recall is ill-defined and being set to 0.0 in labels with no true samples. Use `zero_division` parameter to control this behavior.\n",
      "\n",
      "C:\\Users\\semin\\anaconda3\\lib\\site-packages\\sklearn\\metrics\\_classification.py:1221: UndefinedMetricWarning:\n",
      "\n",
      "Recall is ill-defined and being set to 0.0 in labels with no true samples. Use `zero_division` parameter to control this behavior.\n",
      "\n",
      "C:\\Users\\semin\\anaconda3\\lib\\site-packages\\sklearn\\metrics\\_classification.py:1221: UndefinedMetricWarning:\n",
      "\n",
      "Recall is ill-defined and being set to 0.0 in labels with no true samples. Use `zero_division` parameter to control this behavior.\n",
      "\n",
      "C:\\Users\\semin\\anaconda3\\lib\\site-packages\\sklearn\\metrics\\_classification.py:1221: UndefinedMetricWarning:\n",
      "\n",
      "Recall is ill-defined and being set to 0.0 in labels with no true samples. Use `zero_division` parameter to control this behavior.\n",
      "\n"
     ]
    },
    {
     "name": "stdout",
     "output_type": "stream",
     "text": [
      "Precision: 0.5165371665371665 Recall: 0.5436953421370846 F1: 0.5272067776195415\n",
      "Weights: [0.085837   0.29917201 0.34386293 0.28596396 0.40809511 0.71957076]\n",
      "\n",
      "Total time execution: 0.0625\n",
      "Directory already exists\n",
      "\n",
      "Best Results: 7/20\n",
      "\n",
      "\n",
      "Iteration: 9\n",
      "============================\n",
      "Precision: 0.503434990934991 Recall: 0.5310698227982015 F1: 0.5117891029168959\n",
      "Weights: [0.69251782 0.94051873 0.01536875 0.74012168 0.26964062 0.3176251 ]\n",
      "\n",
      "Total time execution: 0.0625\n",
      "Directory already exists\n",
      "\n",
      "Best Results: 8/20\n",
      "\n",
      "\n",
      "Iteration: 10\n",
      "============================\n",
      "Precision: 0.5319217819217819 Recall: 0.5480172620474706 F1: 0.5372965919070578\n",
      "Weights: [0.41745591 0.83889644 0.48864668 0.03340182 0.2046423  0.64936178]\n",
      "\n",
      "Total time execution: 0.046875\n",
      "Best F1\n",
      "Directory already exists\n",
      "\n",
      "Best Results: 1/20\n",
      "\n",
      "\n",
      "Iteration: 11\n",
      "============================\n",
      "Precision: 0.36525187775187773 Recall: 0.4492012412366394 F1: 0.37018721830068824\n",
      "Weights: [0.96438594 0.18490688 0.46705654 0.60603026 0.21773726 0.78774297]\n",
      "\n",
      "Total time execution: 0.046875\n",
      "Directory already exists\n",
      "\n",
      "Best Results: 2/20\n",
      "\n",
      "\n",
      "Iteration: 12\n",
      "============================\n",
      "Precision: 0.520529008029008 Recall: 0.5406956201693044 F1: 0.5283368922182938\n",
      "Weights: [0.95924639 0.47224705 0.41409075 0.7627676  0.13624195 0.37439858]\n",
      "\n",
      "Total time execution: 0.046875\n",
      "Directory already exists\n",
      "\n",
      "Best Results: 3/20\n",
      "\n",
      "\n",
      "Iteration: 13\n",
      "============================\n",
      "Precision: 0.5344891219891219 Recall: 0.5447916666666666 F1: 0.5378450159270193\n",
      "Weights: [0.20719608 0.91722148 0.74551708 0.63573629 0.21838538 0.38741871]\n",
      "\n",
      "Total time execution: 0.0625\n",
      "Best F1\n",
      "Directory already exists\n",
      "\n",
      "Best Results: 1/20\n",
      "\n",
      "\n",
      "Iteration: 14\n",
      "============================\n",
      "Precision: 0.3470117845117845 Recall: 0.3356191612005565 F1: 0.3356801609253206\n",
      "Weights: [0.99102891 0.03318429 0.96777484 0.74552489 0.83212342 0.21229696]\n",
      "\n",
      "Total time execution: 0.0625\n",
      "Directory already exists\n",
      "\n",
      "Best Results: 2/20\n",
      "\n",
      "\n",
      "Iteration: 15\n",
      "============================\n"
     ]
    },
    {
     "name": "stderr",
     "output_type": "stream",
     "text": [
      "C:\\Users\\semin\\anaconda3\\lib\\site-packages\\sklearn\\metrics\\_classification.py:1221: UndefinedMetricWarning:\n",
      "\n",
      "Recall is ill-defined and being set to 0.0 in labels with no true samples. Use `zero_division` parameter to control this behavior.\n",
      "\n",
      "C:\\Users\\semin\\anaconda3\\lib\\site-packages\\sklearn\\metrics\\_classification.py:1221: UndefinedMetricWarning:\n",
      "\n",
      "Recall is ill-defined and being set to 0.0 in labels with no true samples. Use `zero_division` parameter to control this behavior.\n",
      "\n",
      "C:\\Users\\semin\\anaconda3\\lib\\site-packages\\sklearn\\metrics\\_classification.py:1221: UndefinedMetricWarning:\n",
      "\n",
      "Recall is ill-defined and being set to 0.0 in labels with no true samples. Use `zero_division` parameter to control this behavior.\n",
      "\n",
      "C:\\Users\\semin\\anaconda3\\lib\\site-packages\\sklearn\\metrics\\_classification.py:1221: UndefinedMetricWarning:\n",
      "\n",
      "Recall is ill-defined and being set to 0.0 in labels with no true samples. Use `zero_division` parameter to control this behavior.\n",
      "\n",
      "C:\\Users\\semin\\anaconda3\\lib\\site-packages\\sklearn\\metrics\\_classification.py:1221: UndefinedMetricWarning:\n",
      "\n",
      "Recall is ill-defined and being set to 0.0 in labels with no true samples. Use `zero_division` parameter to control this behavior.\n",
      "\n",
      "C:\\Users\\semin\\anaconda3\\lib\\site-packages\\sklearn\\metrics\\_classification.py:1221: UndefinedMetricWarning:\n",
      "\n",
      "Recall is ill-defined and being set to 0.0 in labels with no true samples. Use `zero_division` parameter to control this behavior.\n",
      "\n",
      "C:\\Users\\semin\\anaconda3\\lib\\site-packages\\sklearn\\metrics\\_classification.py:1221: UndefinedMetricWarning:\n",
      "\n",
      "Recall is ill-defined and being set to 0.0 in labels with no true samples. Use `zero_division` parameter to control this behavior.\n",
      "\n"
     ]
    },
    {
     "name": "stdout",
     "output_type": "stream",
     "text": [
      "Precision: 0.3843401968401968 Recall: 0.47807807807807806 F1: 0.39666876953309116\n",
      "Weights: [0.24801551 0.17983987 0.70755819 0.40252519 0.75259373 0.56473423]\n",
      "\n",
      "Total time execution: 0.078125\n",
      "Directory already exists\n",
      "\n",
      "Best Results: 3/20\n",
      "\n",
      "\n",
      "Iteration: 16\n",
      "============================\n",
      "Precision: 0.3470117845117845 Recall: 0.3356191612005565 F1: 0.3356801609253206\n",
      "Weights: [0.67050709 0.02027276 0.25037777 0.24764547 0.56399401 0.57776623]\n",
      "\n",
      "Total time execution: 0.0625\n",
      "Directory already exists\n",
      "\n",
      "Best Results: 4/20\n",
      "\n",
      "\n",
      "Iteration: 17\n",
      "============================\n",
      "Precision: 0.5282180782180783 Recall: 0.547072152653548 F1: 0.5350085821589421\n",
      "Weights: [0.89946789 0.79859473 0.4161628  0.03389059 0.29780076 0.62761264]\n",
      "\n",
      "Total time execution: 0.046875\n",
      "Directory already exists\n",
      "\n",
      "Best Results: 5/20\n",
      "\n",
      "\n",
      "Iteration: 18\n",
      "============================\n",
      "Precision: 0.5319217819217819 Recall: 0.5480172620474706 F1: 0.5372965919070578\n",
      "Weights: [0.11598244 0.64380869 0.88457717 0.1471505  0.39849228 0.29886661]\n",
      "\n",
      "Total time execution: 0.0625\n",
      "Directory already exists\n",
      "\n",
      "Best Results: 6/20\n",
      "\n",
      "\n",
      "Iteration: 19\n",
      "============================\n"
     ]
    },
    {
     "name": "stderr",
     "output_type": "stream",
     "text": [
      "C:\\Users\\semin\\anaconda3\\lib\\site-packages\\sklearn\\metrics\\_classification.py:1221: UndefinedMetricWarning:\n",
      "\n",
      "Recall is ill-defined and being set to 0.0 in labels with no true samples. Use `zero_division` parameter to control this behavior.\n",
      "\n",
      "C:\\Users\\semin\\anaconda3\\lib\\site-packages\\sklearn\\metrics\\_classification.py:1221: UndefinedMetricWarning:\n",
      "\n",
      "Recall is ill-defined and being set to 0.0 in labels with no true samples. Use `zero_division` parameter to control this behavior.\n",
      "\n",
      "C:\\Users\\semin\\anaconda3\\lib\\site-packages\\sklearn\\metrics\\_classification.py:1221: UndefinedMetricWarning:\n",
      "\n",
      "Recall is ill-defined and being set to 0.0 in labels with no true samples. Use `zero_division` parameter to control this behavior.\n",
      "\n",
      "C:\\Users\\semin\\anaconda3\\lib\\site-packages\\sklearn\\metrics\\_classification.py:1221: UndefinedMetricWarning:\n",
      "\n",
      "Recall is ill-defined and being set to 0.0 in labels with no true samples. Use `zero_division` parameter to control this behavior.\n",
      "\n"
     ]
    },
    {
     "name": "stdout",
     "output_type": "stream",
     "text": [
      "Precision: 0.5068505568505569 Recall: 0.5406909581646424 F1: 0.5187418849738685\n",
      "Weights: [0.95583331 0.58145395 0.52473625 0.68655532 0.48104556 0.09025739]\n",
      "\n",
      "Total time execution: 0.0625\n",
      "Directory already exists\n",
      "\n",
      "Best Results: 7/20\n",
      "\n",
      "\n",
      "Iteration: 20\n",
      "============================\n",
      "Precision: 0.5307854182854183 Recall: 0.5435657089024964 F1: 0.5349912734467049\n",
      "Weights: [0.20913666 0.60859353 0.91412312 0.25167436 0.25448237 0.95219861]\n",
      "\n",
      "Total time execution: 0.0625\n",
      "Directory already exists\n",
      "\n",
      "Best Results: 8/20\n",
      "\n",
      "\n",
      "Iteration: 21\n",
      "============================\n",
      "Precision: 0.43619204869204864 Recall: 0.5168421629103002 F1: 0.46271376259705566\n",
      "Weights: [0.24176632 0.23348134 0.04859077 0.37748304 0.12681282 0.95003519]\n",
      "\n",
      "Total time execution: 0.046875\n",
      "Directory already exists\n",
      "\n",
      "Best Results: 9/20\n",
      "\n",
      "\n",
      "Iteration: 22\n",
      "============================\n",
      "Precision: 0.42308663558663556 Recall: 0.5143205235310498 F1: 0.4493754398311049\n",
      "Weights: [0.61362151 0.18882586 0.56678694 0.03791448 0.27461047 0.20238126]\n",
      "\n",
      "Total time execution: 0.0625\n",
      "Directory already exists\n",
      "\n",
      "Best Results: 10/20\n",
      "\n",
      "\n",
      "Iteration: 23\n",
      "============================\n"
     ]
    },
    {
     "name": "stderr",
     "output_type": "stream",
     "text": [
      "C:\\Users\\semin\\anaconda3\\lib\\site-packages\\sklearn\\metrics\\_classification.py:1221: UndefinedMetricWarning:\n",
      "\n",
      "Recall is ill-defined and being set to 0.0 in labels with no true samples. Use `zero_division` parameter to control this behavior.\n",
      "\n",
      "C:\\Users\\semin\\anaconda3\\lib\\site-packages\\sklearn\\metrics\\_classification.py:1221: UndefinedMetricWarning:\n",
      "\n",
      "Recall is ill-defined and being set to 0.0 in labels with no true samples. Use `zero_division` parameter to control this behavior.\n",
      "\n",
      "C:\\Users\\semin\\anaconda3\\lib\\site-packages\\sklearn\\metrics\\_classification.py:1221: UndefinedMetricWarning:\n",
      "\n",
      "Recall is ill-defined and being set to 0.0 in labels with no true samples. Use `zero_division` parameter to control this behavior.\n",
      "\n",
      "C:\\Users\\semin\\anaconda3\\lib\\site-packages\\sklearn\\metrics\\_classification.py:1221: UndefinedMetricWarning:\n",
      "\n",
      "Recall is ill-defined and being set to 0.0 in labels with no true samples. Use `zero_division` parameter to control this behavior.\n",
      "\n"
     ]
    },
    {
     "name": "stdout",
     "output_type": "stream",
     "text": [
      "Precision: 0.5267935767935767 Recall: 0.5465951103160405 F1: 0.5340040883709432\n",
      "Weights: [0.44594196 0.57061486 0.56595507 0.59627055 0.69203904 0.51340985]\n",
      "\n",
      "Total time execution: 0.0625\n",
      "Directory already exists\n",
      "\n",
      "Best Results: 11/20\n",
      "\n",
      "\n",
      "Iteration: 24\n",
      "============================\n",
      "Precision: 0.5114089614089614 Recall: 0.5422128259337562 F1: 0.5236960508664572\n",
      "Weights: [0.75711771 0.47773953 0.40685205 0.57732417 0.69663868 0.5349915 ]\n",
      "\n",
      "Total time execution: 0.0625\n",
      "Directory already exists\n",
      "\n",
      "Best Results: 12/20\n",
      "\n",
      "\n",
      "Iteration: 25\n",
      "============================\n",
      "Precision: 0.3857646982646982 Recall: 0.48312858312858314 F1: 0.4011346528561173\n",
      "Weights: [0.84008391 0.21062581 0.35566679 0.56069612 0.56665946 0.46641816]\n",
      "\n",
      "Total time execution: 0.0625\n",
      "Directory already exists\n",
      "\n",
      "Best Results: 13/20\n",
      "\n",
      "\n",
      "Iteration: 26\n",
      "============================\n",
      "Precision: 0.43078218078218083 Recall: 0.5133205292360221 F1: 0.4553832966239522\n",
      "Weights: [0.99752766 0.49005073 0.78913241 0.69366334 0.91844794 0.44170608]\n",
      "\n",
      "Total time execution: 0.046875\n",
      "Directory already exists\n",
      "\n",
      "Best Results: 14/20\n",
      "\n",
      "\n",
      "Iteration: 27\n",
      "============================\n"
     ]
    },
    {
     "name": "stderr",
     "output_type": "stream",
     "text": [
      "C:\\Users\\semin\\anaconda3\\lib\\site-packages\\sklearn\\metrics\\_classification.py:1221: UndefinedMetricWarning:\n",
      "\n",
      "Recall is ill-defined and being set to 0.0 in labels with no true samples. Use `zero_division` parameter to control this behavior.\n",
      "\n",
      "C:\\Users\\semin\\anaconda3\\lib\\site-packages\\sklearn\\metrics\\_classification.py:1221: UndefinedMetricWarning:\n",
      "\n",
      "Recall is ill-defined and being set to 0.0 in labels with no true samples. Use `zero_division` parameter to control this behavior.\n",
      "\n",
      "C:\\Users\\semin\\anaconda3\\lib\\site-packages\\sklearn\\metrics\\_classification.py:1221: UndefinedMetricWarning:\n",
      "\n",
      "Recall is ill-defined and being set to 0.0 in labels with no true samples. Use `zero_division` parameter to control this behavior.\n",
      "\n",
      "C:\\Users\\semin\\anaconda3\\lib\\site-packages\\sklearn\\metrics\\_classification.py:1221: UndefinedMetricWarning:\n",
      "\n",
      "Recall is ill-defined and being set to 0.0 in labels with no true samples. Use `zero_division` parameter to control this behavior.\n",
      "\n"
     ]
    },
    {
     "name": "stdout",
     "output_type": "stream",
     "text": [
      "Precision: 0.520529008029008 Recall: 0.5374582504370893 F1: 0.527144807144807\n",
      "Weights: [0.03184517 0.35230081 0.88538075 0.64092351 0.08745001 0.23729503]\n",
      "\n",
      "Total time execution: 0.0625\n",
      "Directory already exists\n",
      "\n",
      "Best Results: 15/20\n",
      "\n",
      "\n",
      "Iteration: 28\n",
      "============================\n",
      "Precision: 0.5128334628334628 Recall: 0.5397708044916166 F1: 0.5237157082672211\n",
      "Weights: [0.25736087 0.43762473 0.84734797 0.23054361 0.49744556 0.84173004]\n",
      "\n",
      "Total time execution: 0.0625\n",
      "Directory already exists\n",
      "\n",
      "Best Results: 16/20\n",
      "\n",
      "\n",
      "Iteration: 29\n",
      "============================\n",
      "Precision: 0.49744884744884743 Recall: 0.5380910573184498 F1: 0.5135435970107676\n",
      "Weights: [0.52290571 0.35026394 0.29412841 0.34860036 0.83216295 0.30841098]\n",
      "\n",
      "Total time execution: 0.0625\n",
      "Directory already exists\n",
      "\n",
      "Best Results: 17/20\n",
      "\n",
      "\n",
      "Iteration: 30\n",
      "============================\n",
      "Precision: 0.5270817145817146 Recall: 0.5423351714217214 F1: 0.5320917994857706\n",
      "Weights: [0.11218651 0.93708443 0.43429105 0.9921811  0.58166753 0.74783551]\n",
      "\n",
      "Total time execution: 0.046875\n",
      "Directory already exists\n",
      "\n",
      "Best Results: 18/20\n",
      "\n",
      "\n",
      "Iteration: 31\n",
      "============================\n"
     ]
    },
    {
     "name": "stderr",
     "output_type": "stream",
     "text": [
      "C:\\Users\\semin\\anaconda3\\lib\\site-packages\\sklearn\\metrics\\_classification.py:1221: UndefinedMetricWarning:\n",
      "\n",
      "Recall is ill-defined and being set to 0.0 in labels with no true samples. Use `zero_division` parameter to control this behavior.\n",
      "\n",
      "C:\\Users\\semin\\anaconda3\\lib\\site-packages\\sklearn\\metrics\\_classification.py:1221: UndefinedMetricWarning:\n",
      "\n",
      "Recall is ill-defined and being set to 0.0 in labels with no true samples. Use `zero_division` parameter to control this behavior.\n",
      "\n",
      "C:\\Users\\semin\\anaconda3\\lib\\site-packages\\sklearn\\metrics\\_classification.py:1221: UndefinedMetricWarning:\n",
      "\n",
      "Recall is ill-defined and being set to 0.0 in labels with no true samples. Use `zero_division` parameter to control this behavior.\n",
      "\n",
      "C:\\Users\\semin\\anaconda3\\lib\\site-packages\\sklearn\\metrics\\_classification.py:1221: UndefinedMetricWarning:\n",
      "\n",
      "Recall is ill-defined and being set to 0.0 in labels with no true samples. Use `zero_division` parameter to control this behavior.\n",
      "\n"
     ]
    },
    {
     "name": "stdout",
     "output_type": "stream",
     "text": [
      "Precision: 0.34587542087542084 Recall: 0.3311744049941475 F1: 0.33343645526670324\n",
      "Weights: [0.52419708 0.00127502 0.18902537 0.50502138 0.61395723 0.85434282]\n",
      "\n",
      "Total time execution: 0.078125\n",
      "Directory already exists\n",
      "\n",
      "Best Results: 19/20\n",
      "\n",
      "\n",
      "Iteration: 32\n",
      "============================\n",
      "Precision: 0.5256572131572131 Recall: 0.5421394756446303 F1: 0.5316989831275546\n",
      "Weights: [0.5868001  0.88100366 0.9892322  0.94527213 0.28222439 0.67050475]\n",
      "\n",
      "Total time execution: 0.0625\n",
      "Directory already exists\n",
      "\n",
      "Best Results: 20/20\n",
      "\n",
      "\n",
      "Iteration: 1\n",
      "============================\n",
      "Precision: 0.5095414695598519 Recall: 0.6423582428605146 F1: 0.5504234417344174\n",
      "Weights: [0.98955949 0.29026533 0.0647167  0.72925405 0.05715177 0.76119223]\n",
      "\n",
      "Total time execution: 0.046875\n",
      "Best F1\n",
      "Directory already exists\n",
      "\n",
      "Best Results: 1/20\n",
      "\n",
      "\n",
      "Iteration: 2\n",
      "============================\n",
      "Precision: 0.5691716371863431 Recall: 0.6634372571872572 F1: 0.6045400238948626\n",
      "Weights: [0.83892533 0.38309821 0.66363389 0.25433687 0.66854238 0.62966498]\n",
      "\n",
      "Total time execution: 0.046875\n",
      "Best F1\n",
      "Directory already exists\n",
      "\n",
      "Best Results: 1/20\n",
      "\n",
      "\n",
      "Iteration: 3\n",
      "============================\n",
      "Precision: 0.6059652663512958 Recall: 0.6756530681882807 F1: 0.630970467464583\n",
      "Weights: [0.72783939 0.70374787 0.30627339 0.00513306 0.78360806 0.10510494]\n",
      "\n",
      "Total time execution: 0.0625\n",
      "Best F1\n",
      "Directory already exists\n",
      "\n",
      "Best Results: 1/20\n",
      "\n",
      "\n",
      "Iteration: 4\n",
      "============================\n",
      "Precision: 0.48850781571369806 Recall: 0.6251285856753594 F1: 0.530130892936885\n",
      "Weights: [0.81484844 0.26308161 0.01088084 0.89021391 0.35265989 0.49390147]\n",
      "\n",
      "Total time execution: 0.0625\n",
      "Directory already exists\n",
      "\n",
      "Best Results: 2/20\n",
      "\n",
      "\n",
      "Iteration: 5\n",
      "============================\n",
      "Precision: 0.6303347387906211 Recall: 0.6654302380206703 F1: 0.6439917763764429\n",
      "Weights: [0.86811428 0.9009197  0.51038373 0.74617956 0.21234561 0.80123603]\n",
      "\n",
      "Total time execution: 0.046875\n",
      "Best F1\n",
      "Directory already exists\n",
      "\n",
      "Best Results: 1/20\n",
      "\n",
      "\n",
      "Iteration: 6\n",
      "============================\n"
     ]
    },
    {
     "name": "stderr",
     "output_type": "stream",
     "text": [
      "C:\\Users\\semin\\anaconda3\\lib\\site-packages\\sklearn\\metrics\\_classification.py:1221: UndefinedMetricWarning:\n",
      "\n",
      "Recall is ill-defined and being set to 0.0 in labels with no true samples. Use `zero_division` parameter to control this behavior.\n",
      "\n",
      "C:\\Users\\semin\\anaconda3\\lib\\site-packages\\sklearn\\metrics\\_classification.py:1221: UndefinedMetricWarning:\n",
      "\n",
      "Recall is ill-defined and being set to 0.0 in labels with no true samples. Use `zero_division` parameter to control this behavior.\n",
      "\n",
      "C:\\Users\\semin\\anaconda3\\lib\\site-packages\\sklearn\\metrics\\_classification.py:1221: UndefinedMetricWarning:\n",
      "\n",
      "Recall is ill-defined and being set to 0.0 in labels with no true samples. Use `zero_division` parameter to control this behavior.\n",
      "\n",
      "C:\\Users\\semin\\anaconda3\\lib\\site-packages\\sklearn\\metrics\\_classification.py:1221: UndefinedMetricWarning:\n",
      "\n",
      "Recall is ill-defined and being set to 0.0 in labels with no true samples. Use `zero_division` parameter to control this behavior.\n",
      "\n"
     ]
    },
    {
     "name": "stdout",
     "output_type": "stream",
     "text": [
      "Precision: 0.6160466371863431 Recall: 0.6697923786739577 F1: 0.6379446640316206\n",
      "Weights: [0.87514083 0.61618884 0.78274527 0.8952857  0.15931317 0.29806948]\n",
      "\n",
      "Total time execution: 0.0625\n",
      "Directory already exists\n",
      "\n",
      "Best Results: 2/20\n",
      "\n",
      "\n",
      "Iteration: 7\n",
      "============================\n",
      "Precision: 0.5664978403948993 Recall: 0.6480473751600513 F1: 0.5976053979511426\n",
      "Weights: [0.71131968 0.46676035 0.53277465 0.67685632 0.70407781 0.84494302]\n",
      "\n",
      "Total time execution: 0.0625\n",
      "Directory already exists\n",
      "\n",
      "Best Results: 3/20\n",
      "\n",
      "\n",
      "Iteration: 8\n",
      "============================\n",
      "Precision: 0.6064312525709584 Recall: 0.6639355485572187 F1: 0.6284075100127642\n",
      "Weights: [0.54730319 0.46497348 0.16054402 0.6887173  0.18499049 0.18031801]\n",
      "\n",
      "Total time execution: 0.0625\n",
      "Directory already exists\n",
      "\n",
      "Best Results: 4/20\n",
      "\n",
      "\n",
      "Iteration: 9\n",
      "============================\n",
      "Precision: 0.6330085355820649 Recall: 0.682388631879294 F1: 0.6511746680286007\n",
      "Weights: [0.20638706 0.33707763 0.93215098 0.278611   0.03886799 0.04286022]\n",
      "\n",
      "Total time execution: 0.046875\n",
      "Best F1\n",
      "Directory already exists\n",
      "\n",
      "Best Results: 1/20\n",
      "\n",
      "\n",
      "Iteration: 10\n",
      "============================\n"
     ]
    },
    {
     "name": "stderr",
     "output_type": "stream",
     "text": [
      "C:\\Users\\semin\\anaconda3\\lib\\site-packages\\sklearn\\metrics\\_classification.py:1221: UndefinedMetricWarning:\n",
      "\n",
      "Recall is ill-defined and being set to 0.0 in labels with no true samples. Use `zero_division` parameter to control this behavior.\n",
      "\n",
      "C:\\Users\\semin\\anaconda3\\lib\\site-packages\\sklearn\\metrics\\_classification.py:1221: UndefinedMetricWarning:\n",
      "\n",
      "Recall is ill-defined and being set to 0.0 in labels with no true samples. Use `zero_division` parameter to control this behavior.\n",
      "\n",
      "C:\\Users\\semin\\anaconda3\\lib\\site-packages\\sklearn\\metrics\\_classification.py:1221: UndefinedMetricWarning:\n",
      "\n",
      "Recall is ill-defined and being set to 0.0 in labels with no true samples. Use `zero_division` parameter to control this behavior.\n",
      "\n",
      "C:\\Users\\semin\\anaconda3\\lib\\site-packages\\sklearn\\metrics\\_classification.py:1221: UndefinedMetricWarning:\n",
      "\n",
      "Recall is ill-defined and being set to 0.0 in labels with no true samples. Use `zero_division` parameter to control this behavior.\n",
      "\n"
     ]
    },
    {
     "name": "stdout",
     "output_type": "stream",
     "text": [
      "Precision: 0.4059800493624023 Recall: 0.4210753803596127 F1: 0.4036214953271028\n",
      "Weights: [0.73713716 0.0428732  0.4290623  0.23220626 0.89982234 0.82817288]\n",
      "\n",
      "Total time execution: 0.0625\n",
      "Directory already exists\n",
      "\n",
      "Best Results: 2/20\n",
      "\n",
      "\n",
      "Iteration: 11\n",
      "============================\n",
      "Precision: 0.5906712772521596 Recall: 0.654091213950369 F1: 0.614621212121212\n",
      "Weights: [0.73351681 0.8929403  0.13223384 0.73363048 0.93489909 0.71044055]\n",
      "\n",
      "Total time execution: 0.0625\n",
      "Directory already exists\n",
      "\n",
      "Best Results: 3/20\n",
      "\n",
      "\n",
      "Iteration: 12\n",
      "============================\n",
      "Precision: 0.6238591371863431 Recall: 0.6714605437665783 F1: 0.6431744363344372\n",
      "Weights: [0.23066754 0.6123892  0.72002395 0.81928316 0.40672903 0.58062791]\n",
      "\n",
      "Total time execution: 0.046875\n",
      "Directory already exists\n",
      "\n",
      "Best Results: 4/20\n",
      "\n",
      "\n",
      "Iteration: 13\n",
      "============================\n",
      "Precision: 0.5912722387906211 Recall: 0.6590544445728818 F1: 0.6185696450560669\n",
      "Weights: [0.69443916 0.44341251 0.33863919 0.29413789 0.40751873 0.92257886]\n",
      "\n",
      "Total time execution: 0.046875\n",
      "Directory already exists\n",
      "\n",
      "Best Results: 5/20\n",
      "\n",
      "\n",
      "Iteration: 14\n",
      "============================\n"
     ]
    },
    {
     "name": "stderr",
     "output_type": "stream",
     "text": [
      "C:\\Users\\semin\\anaconda3\\lib\\site-packages\\sklearn\\metrics\\_classification.py:1221: UndefinedMetricWarning:\n",
      "\n",
      "Recall is ill-defined and being set to 0.0 in labels with no true samples. Use `zero_division` parameter to control this behavior.\n",
      "\n",
      "C:\\Users\\semin\\anaconda3\\lib\\site-packages\\sklearn\\metrics\\_classification.py:1221: UndefinedMetricWarning:\n",
      "\n",
      "Recall is ill-defined and being set to 0.0 in labels with no true samples. Use `zero_division` parameter to control this behavior.\n",
      "\n",
      "C:\\Users\\semin\\anaconda3\\lib\\site-packages\\sklearn\\metrics\\_classification.py:1221: UndefinedMetricWarning:\n",
      "\n",
      "Recall is ill-defined and being set to 0.0 in labels with no true samples. Use `zero_division` parameter to control this behavior.\n",
      "\n",
      "C:\\Users\\semin\\anaconda3\\lib\\site-packages\\sklearn\\metrics\\_classification.py:1221: UndefinedMetricWarning:\n",
      "\n",
      "Recall is ill-defined and being set to 0.0 in labels with no true samples. Use `zero_division` parameter to control this behavior.\n",
      "\n"
     ]
    },
    {
     "name": "stdout",
     "output_type": "stream",
     "text": [
      "Precision: 0.6059652663512958 Recall: 0.6701496334327806 F1: 0.629472394950066\n",
      "Weights: [0.65466484 0.82356481 0.20663587 0.51887093 0.84932994 0.11857774]\n",
      "\n",
      "Total time execution: 0.046875\n",
      "Directory already exists\n",
      "\n",
      "Best Results: 6/20\n",
      "\n",
      "\n",
      "Iteration: 15\n",
      "============================\n",
      "Precision: 0.6351424310983134 Recall: 0.6672698662470495 F1: 0.6479134664618535\n",
      "Weights: [0.15957722 0.85587959 0.37057556 0.91606389 0.44098449 0.73687173]\n",
      "\n",
      "Total time execution: 0.046875\n",
      "Directory already exists\n",
      "\n",
      "Best Results: 7/20\n",
      "\n",
      "\n",
      "Iteration: 16\n",
      "============================\n",
      "Precision: 0.5638979586589881 Recall: 0.6658617541645064 F1: 0.6013802191704813\n",
      "Weights: [0.64686026 0.43390269 0.34400067 0.93858393 0.90359156 0.11574269]\n",
      "\n",
      "Total time execution: 0.0625\n",
      "Directory already exists\n",
      "\n",
      "Best Results: 8/20\n",
      "\n",
      "\n",
      "Iteration: 17\n",
      "============================\n"
     ]
    },
    {
     "name": "stderr",
     "output_type": "stream",
     "text": [
      "C:\\Users\\semin\\anaconda3\\lib\\site-packages\\sklearn\\metrics\\_classification.py:1221: UndefinedMetricWarning:\n",
      "\n",
      "Recall is ill-defined and being set to 0.0 in labels with no true samples. Use `zero_division` parameter to control this behavior.\n",
      "\n",
      "C:\\Users\\semin\\anaconda3\\lib\\site-packages\\sklearn\\metrics\\_classification.py:1221: UndefinedMetricWarning:\n",
      "\n",
      "Recall is ill-defined and being set to 0.0 in labels with no true samples. Use `zero_division` parameter to control this behavior.\n",
      "\n",
      "C:\\Users\\semin\\anaconda3\\lib\\site-packages\\sklearn\\metrics\\_classification.py:1221: UndefinedMetricWarning:\n",
      "\n",
      "Recall is ill-defined and being set to 0.0 in labels with no true samples. Use `zero_division` parameter to control this behavior.\n",
      "\n",
      "C:\\Users\\semin\\anaconda3\\lib\\site-packages\\sklearn\\metrics\\_classification.py:1221: UndefinedMetricWarning:\n",
      "\n",
      "Recall is ill-defined and being set to 0.0 in labels with no true samples. Use `zero_division` parameter to control this behavior.\n",
      "\n"
     ]
    },
    {
     "name": "stdout",
     "output_type": "stream",
     "text": [
      "Precision: 0.4372300493624023 Recall: 0.6251412429378531 F1: 0.4602301769854962\n",
      "Weights: [0.87020847 0.16028965 0.65353221 0.56225582 0.0859398  0.11619142]\n",
      "\n",
      "Total time execution: 0.0625\n",
      "Directory already exists\n",
      "\n",
      "Best Results: 9/20\n",
      "\n",
      "\n",
      "Iteration: 18\n",
      "============================\n",
      "Precision: 0.43589315096668035 Recall: 0.6187176538240369 F1: 0.4574567911540061\n",
      "Weights: [0.5863537  0.1602172  0.4818868  0.71069182 0.77711871 0.39157212]\n",
      "\n",
      "Total time execution: 0.0625\n",
      "Directory already exists\n",
      "\n",
      "Best Results: 10/20\n",
      "\n",
      "\n",
      "Iteration: 19\n",
      "============================\n",
      "Precision: 0.6228532496914849 Recall: 0.6526357199055861 F1: 0.6346097578816472\n",
      "Weights: [0.58858279 0.97907681 0.10447294 0.08480563 0.84318372 0.96870281]\n",
      "\n",
      "Total time execution: 0.046875\n",
      "Directory already exists\n",
      "\n",
      "Best Results: 11/20\n",
      "\n",
      "\n",
      "Iteration: 20\n",
      "============================\n",
      "Precision: 0.6330085355820649 Recall: 0.6772234556614862 F1: 0.6495780590717299\n",
      "Weights: [0.06770681 0.81054928 0.80689742 0.60474369 0.45962904 0.76427029]\n",
      "\n",
      "Total time execution: 0.0625\n",
      "Directory already exists\n",
      "\n",
      "Best Results: 12/20\n",
      "\n",
      "\n",
      "Iteration: 21\n",
      "============================\n"
     ]
    },
    {
     "name": "stderr",
     "output_type": "stream",
     "text": [
      "C:\\Users\\semin\\anaconda3\\lib\\site-packages\\sklearn\\metrics\\_classification.py:1221: UndefinedMetricWarning:\n",
      "\n",
      "Recall is ill-defined and being set to 0.0 in labels with no true samples. Use `zero_division` parameter to control this behavior.\n",
      "\n",
      "C:\\Users\\semin\\anaconda3\\lib\\site-packages\\sklearn\\metrics\\_classification.py:1221: UndefinedMetricWarning:\n",
      "\n",
      "Recall is ill-defined and being set to 0.0 in labels with no true samples. Use `zero_division` parameter to control this behavior.\n",
      "\n",
      "C:\\Users\\semin\\anaconda3\\lib\\site-packages\\sklearn\\metrics\\_classification.py:1221: UndefinedMetricWarning:\n",
      "\n",
      "Recall is ill-defined and being set to 0.0 in labels with no true samples. Use `zero_division` parameter to control this behavior.\n",
      "\n",
      "C:\\Users\\semin\\anaconda3\\lib\\site-packages\\sklearn\\metrics\\_classification.py:1221: UndefinedMetricWarning:\n",
      "\n",
      "Recall is ill-defined and being set to 0.0 in labels with no true samples. Use `zero_division` parameter to control this behavior.\n",
      "\n"
     ]
    },
    {
     "name": "stdout",
     "output_type": "stream",
     "text": [
      "Precision: 0.6273299310983134 Recall: 0.6679181213831364 F1: 0.6443529999618366\n",
      "Weights: [0.15392181 0.61512921 0.15195182 0.21257639 0.55496419 0.50229124]\n",
      "\n",
      "Total time execution: 0.0625\n",
      "Directory already exists\n",
      "\n",
      "Best Results: 13/20\n",
      "\n",
      "\n",
      "Iteration: 22\n",
      "============================\n",
      "Precision: 0.6316716371863431 Recall: 0.6730978260869566 F1: 0.6482573454553222\n",
      "Weights: [0.24655831 0.70593586 0.99297424 0.67054471 0.44208527 0.95982545]\n",
      "\n",
      "Total time execution: 0.046875\n",
      "Directory already exists\n",
      "\n",
      "Best Results: 14/20\n",
      "\n",
      "\n",
      "Iteration: 23\n",
      "============================\n",
      "Precision: 0.43502223879062113 Recall: 0.5928030303030303 F1: 0.4455402287149208\n",
      "Weights: [0.05498064 0.09132692 0.13131335 0.75735894 0.3809685  0.58605083]\n",
      "\n",
      "Total time execution: 0.0625\n",
      "Directory already exists\n",
      "\n",
      "Best Results: 15/20\n",
      "\n",
      "\n",
      "Iteration: 24\n",
      "============================\n",
      "Precision: 0.5442622634718223 Recall: 0.6421126919602529 F1: 0.5793010752688172\n",
      "Weights: [0.24753295 0.29343061 0.03915538 0.92396579 0.58022114 0.42801393]\n",
      "\n",
      "Total time execution: 0.0625\n",
      "Directory already exists\n",
      "\n",
      "Best Results: 16/20\n",
      "\n",
      "\n",
      "Iteration: 25\n",
      "============================\n"
     ]
    },
    {
     "name": "stderr",
     "output_type": "stream",
     "text": [
      "C:\\Users\\semin\\anaconda3\\lib\\site-packages\\sklearn\\metrics\\_classification.py:1221: UndefinedMetricWarning:\n",
      "\n",
      "Recall is ill-defined and being set to 0.0 in labels with no true samples. Use `zero_division` parameter to control this behavior.\n",
      "\n",
      "C:\\Users\\semin\\anaconda3\\lib\\site-packages\\sklearn\\metrics\\_classification.py:1221: UndefinedMetricWarning:\n",
      "\n",
      "Recall is ill-defined and being set to 0.0 in labels with no true samples. Use `zero_division` parameter to control this behavior.\n",
      "\n",
      "C:\\Users\\semin\\anaconda3\\lib\\site-packages\\sklearn\\metrics\\_classification.py:1221: UndefinedMetricWarning:\n",
      "\n",
      "Recall is ill-defined and being set to 0.0 in labels with no true samples. Use `zero_division` parameter to control this behavior.\n",
      "\n",
      "C:\\Users\\semin\\anaconda3\\lib\\site-packages\\sklearn\\metrics\\_classification.py:1221: UndefinedMetricWarning:\n",
      "\n",
      "Recall is ill-defined and being set to 0.0 in labels with no true samples. Use `zero_division` parameter to control this behavior.\n",
      "\n"
     ]
    },
    {
     "name": "stdout",
     "output_type": "stream",
     "text": [
      "Precision: 0.42406995577951456 Recall: 0.6414716748768473 F1: 0.4343795112113804\n",
      "Weights: [0.3236851  0.09814457 0.09143325 0.55723118 0.83235444 0.97212332]\n",
      "\n",
      "Total time execution: 0.0625\n",
      "Directory already exists\n",
      "\n",
      "Best Results: 17/20\n",
      "\n",
      "\n",
      "Iteration: 26\n",
      "============================\n",
      "Precision: 0.6112389448786507 Recall: 0.667948717948718 F1: 0.6339584429005084\n",
      "Weights: [0.77631716 0.51796988 0.68054259 0.55527724 0.19828369 0.25976773]\n",
      "\n",
      "Total time execution: 0.046875\n",
      "Directory already exists\n",
      "\n",
      "Best Results: 18/20\n",
      "\n",
      "\n",
      "Iteration: 27\n",
      "============================\n",
      "Precision: 0.6330085355820649 Recall: 0.6772234556614862 F1: 0.6495780590717299\n",
      "Weights: [0.0560061  0.72997135 0.99781154 0.26721228 0.43239688 0.36177132]\n",
      "\n",
      "Total time execution: 0.0625\n",
      "Directory already exists\n",
      "\n",
      "Best Results: 19/20\n",
      "\n",
      "\n",
      "Iteration: 28\n",
      "============================\n",
      "Precision: 0.6351424310983134 Recall: 0.6672698662470495 F1: 0.6479134664618535\n",
      "Weights: [0.31038903 0.98975393 0.78462501 0.52075412 0.16129024 0.70866592]\n",
      "\n",
      "Total time execution: 0.046875\n",
      "Directory already exists\n",
      "\n",
      "Best Results: 20/20\n",
      "\n",
      "\n",
      "Iteration: 1\n",
      "============================\n"
     ]
    },
    {
     "name": "stderr",
     "output_type": "stream",
     "text": [
      "C:\\Users\\semin\\anaconda3\\lib\\site-packages\\sklearn\\metrics\\_classification.py:1221: UndefinedMetricWarning:\n",
      "\n",
      "Recall is ill-defined and being set to 0.0 in labels with no true samples. Use `zero_division` parameter to control this behavior.\n",
      "\n",
      "C:\\Users\\semin\\anaconda3\\lib\\site-packages\\sklearn\\metrics\\_classification.py:1221: UndefinedMetricWarning:\n",
      "\n",
      "Recall is ill-defined and being set to 0.0 in labels with no true samples. Use `zero_division` parameter to control this behavior.\n",
      "\n",
      "C:\\Users\\semin\\anaconda3\\lib\\site-packages\\sklearn\\metrics\\_classification.py:1221: UndefinedMetricWarning:\n",
      "\n",
      "Recall is ill-defined and being set to 0.0 in labels with no true samples. Use `zero_division` parameter to control this behavior.\n",
      "\n",
      "C:\\Users\\semin\\anaconda3\\lib\\site-packages\\sklearn\\metrics\\_classification.py:1221: UndefinedMetricWarning:\n",
      "\n",
      "Recall is ill-defined and being set to 0.0 in labels with no true samples. Use `zero_division` parameter to control this behavior.\n",
      "\n"
     ]
    },
    {
     "name": "stdout",
     "output_type": "stream",
     "text": [
      "Precision: 0.6316716371863431 Recall: 0.6711799187255008 F1: 0.6467634170679856\n",
      "Weights: [0.41088848 0.72762161 0.70935641 0.70628566 0.3423505  0.58710842]\n",
      "\n",
      "Total time execution: 0.078125\n",
      "Best F1\n",
      "Directory already exists\n",
      "\n",
      "Best Results: 1/20\n",
      "\n",
      "\n",
      "Iteration: 2\n",
      "============================\n",
      "Precision: 0.6094360602632661 Recall: 0.6657994814556344 F1: 0.6309862537961497\n",
      "Weights: [0.93754161 0.95358334 0.21201291 0.25206166 0.66771175 0.18570341]\n",
      "\n",
      "Total time execution: 0.0625\n",
      "Directory already exists\n",
      "\n",
      "Best Results: 2/20\n",
      "\n",
      "\n",
      "Iteration: 3\n",
      "============================\n",
      "Precision: 0.5926091371863431 Recall: 0.6645518867924528 F1: 0.6212950855399368\n",
      "Weights: [0.38043853 0.56350438 0.62668054 0.65169602 0.56042693 0.97229818]\n",
      "\n",
      "Total time execution: 0.046875\n",
      "Directory already exists\n",
      "\n",
      "Best Results: 3/20\n",
      "\n",
      "\n",
      "Iteration: 4\n",
      "============================\n",
      "Precision: 0.5847966371863431 Recall: 0.667310687754613 F1: 0.6169158148584583\n",
      "Weights: [0.95802508 0.55026882 0.9331334  0.74689871 0.25643401 0.93734966]\n",
      "\n",
      "Total time execution: 0.046875\n",
      "Directory already exists\n",
      "\n",
      "Best Results: 4/20\n",
      "\n",
      "\n",
      "Iteration: 5\n",
      "============================\n"
     ]
    },
    {
     "name": "stderr",
     "output_type": "stream",
     "text": [
      "C:\\Users\\semin\\anaconda3\\lib\\site-packages\\sklearn\\metrics\\_classification.py:1221: UndefinedMetricWarning:\n",
      "\n",
      "Recall is ill-defined and being set to 0.0 in labels with no true samples. Use `zero_division` parameter to control this behavior.\n",
      "\n",
      "C:\\Users\\semin\\anaconda3\\lib\\site-packages\\sklearn\\metrics\\_classification.py:1221: UndefinedMetricWarning:\n",
      "\n",
      "Recall is ill-defined and being set to 0.0 in labels with no true samples. Use `zero_division` parameter to control this behavior.\n",
      "\n",
      "C:\\Users\\semin\\anaconda3\\lib\\site-packages\\sklearn\\metrics\\_classification.py:1221: UndefinedMetricWarning:\n",
      "\n",
      "Recall is ill-defined and being set to 0.0 in labels with no true samples. Use `zero_division` parameter to control this behavior.\n",
      "\n",
      "C:\\Users\\semin\\anaconda3\\lib\\site-packages\\sklearn\\metrics\\_classification.py:1221: UndefinedMetricWarning:\n",
      "\n",
      "Recall is ill-defined and being set to 0.0 in labels with no true samples. Use `zero_division` parameter to control this behavior.\n",
      "\n"
     ]
    },
    {
     "name": "stdout",
     "output_type": "stream",
     "text": [
      "Precision: 0.4342252416700946 Recall: 0.6132043060009161 F1: 0.451354025553165\n",
      "Weights: [0.1502152  0.1239811  0.6209587  0.37898253 0.71060203 0.89033719]\n",
      "\n",
      "Total time execution: 0.0625\n",
      "Directory already exists\n",
      "\n",
      "Best Results: 5/20\n",
      "\n",
      "\n",
      "Iteration: 6\n",
      "============================\n",
      "Precision: 0.4282156262854792 Recall: 0.6759169100941254 F1: 0.43111409031220355\n",
      "Weights: [0.64819726 0.05582211 0.45313016 0.67966491 0.14919233 0.89025464]\n",
      "\n",
      "Total time execution: 0.046875\n",
      "Directory already exists\n",
      "\n",
      "Best Results: 6/20\n",
      "\n",
      "\n",
      "Iteration: 7\n",
      "============================\n",
      "Precision: 0.6316716371863431 Recall: 0.6760215325845631 F1: 0.6483122362869198\n",
      "Weights: [0.73982826 0.9692683  0.55619232 0.97445159 0.0627258  0.48708407]\n",
      "\n",
      "Total time execution: 0.046875\n",
      "Best F1\n",
      "Directory already exists\n",
      "\n",
      "Best Results: 1/20\n",
      "\n",
      "\n",
      "Iteration: 8\n",
      "============================\n",
      "Precision: 0.6303347387906211 Recall: 0.6676217538874418 F1: 0.6455306574735287\n",
      "Weights: [0.86125048 0.71629004 0.31537859 0.71512572 0.17668301 0.96053575]\n",
      "\n",
      "Total time execution: 0.046875\n",
      "Directory already exists\n",
      "\n",
      "Best Results: 2/20\n",
      "\n",
      "\n",
      "Iteration: 9\n",
      "============================\n"
     ]
    },
    {
     "name": "stderr",
     "output_type": "stream",
     "text": [
      "C:\\Users\\semin\\anaconda3\\lib\\site-packages\\sklearn\\metrics\\_classification.py:1221: UndefinedMetricWarning:\n",
      "\n",
      "Recall is ill-defined and being set to 0.0 in labels with no true samples. Use `zero_division` parameter to control this behavior.\n",
      "\n",
      "C:\\Users\\semin\\anaconda3\\lib\\site-packages\\sklearn\\metrics\\_classification.py:1221: UndefinedMetricWarning:\n",
      "\n",
      "Recall is ill-defined and being set to 0.0 in labels with no true samples. Use `zero_division` parameter to control this behavior.\n",
      "\n",
      "C:\\Users\\semin\\anaconda3\\lib\\site-packages\\sklearn\\metrics\\_classification.py:1221: UndefinedMetricWarning:\n",
      "\n",
      "Recall is ill-defined and being set to 0.0 in labels with no true samples. Use `zero_division` parameter to control this behavior.\n",
      "\n",
      "C:\\Users\\semin\\anaconda3\\lib\\site-packages\\sklearn\\metrics\\_classification.py:1221: UndefinedMetricWarning:\n",
      "\n",
      "Recall is ill-defined and being set to 0.0 in labels with no true samples. Use `zero_division` parameter to control this behavior.\n",
      "\n"
     ]
    },
    {
     "name": "stdout",
     "output_type": "stream",
     "text": [
      "Precision: 0.40844495577951456 Recall: 0.6479872881355933 F1: 0.40844733178220693\n",
      "Weights: [0.74462429 0.05187017 0.10456778 0.20438299 0.64275139 0.80125912]\n",
      "\n",
      "Total time execution: 0.0625\n",
      "Directory already exists\n",
      "\n",
      "Best Results: 3/20\n",
      "\n",
      "\n",
      "Iteration: 10\n",
      "============================\n",
      "Precision: 0.4073169477581242 Recall: 0.42866034380557205 F1: 0.4069448920399613\n",
      "Weights: [0.86243853 0.00918376 0.87326221 0.89583219 0.95047337 0.88270039]\n",
      "\n",
      "Total time execution: 0.046875\n",
      "Directory already exists\n",
      "\n",
      "Best Results: 4/20\n",
      "\n",
      "\n",
      "Iteration: 11\n",
      "============================\n",
      "Precision: 0.46080252468120114 Recall: 0.644746254047135 F1: 0.4872180451127819\n",
      "Weights: [0.32564853 0.17057287 0.56471617 0.63868053 0.07754372 0.99721016]\n",
      "\n",
      "Total time execution: 0.046875\n",
      "Directory already exists\n",
      "\n",
      "Best Results: 5/20\n",
      "\n",
      "\n",
      "Iteration: 12\n",
      "============================\n"
     ]
    },
    {
     "name": "stderr",
     "output_type": "stream",
     "text": [
      "C:\\Users\\semin\\anaconda3\\lib\\site-packages\\sklearn\\metrics\\_classification.py:1221: UndefinedMetricWarning:\n",
      "\n",
      "Recall is ill-defined and being set to 0.0 in labels with no true samples. Use `zero_division` parameter to control this behavior.\n",
      "\n",
      "C:\\Users\\semin\\anaconda3\\lib\\site-packages\\sklearn\\metrics\\_classification.py:1221: UndefinedMetricWarning:\n",
      "\n",
      "Recall is ill-defined and being set to 0.0 in labels with no true samples. Use `zero_division` parameter to control this behavior.\n",
      "\n",
      "C:\\Users\\semin\\anaconda3\\lib\\site-packages\\sklearn\\metrics\\_classification.py:1221: UndefinedMetricWarning:\n",
      "\n",
      "Recall is ill-defined and being set to 0.0 in labels with no true samples. Use `zero_division` parameter to control this behavior.\n",
      "\n",
      "C:\\Users\\semin\\anaconda3\\lib\\site-packages\\sklearn\\metrics\\_classification.py:1221: UndefinedMetricWarning:\n",
      "\n",
      "Recall is ill-defined and being set to 0.0 in labels with no true samples. Use `zero_division` parameter to control this behavior.\n",
      "\n"
     ]
    },
    {
     "name": "stdout",
     "output_type": "stream",
     "text": [
      "Precision: 0.5657008432743726 Recall: 0.6680255228642326 F1: 0.6032152043734335\n",
      "Weights: [0.49005635 0.30116682 0.56537378 0.70749878 0.42820272 0.33374709]\n",
      "\n",
      "Total time execution: 0.0625\n",
      "Directory already exists\n",
      "\n",
      "Best Results: 6/20\n",
      "\n",
      "\n",
      "Iteration: 13\n",
      "============================\n",
      "Precision: 0.6034264448786507 Recall: 0.6637231407903645 F1: 0.6271217197096595\n",
      "Weights: [0.84531183 0.88910392 0.49774083 0.88964274 0.94041033 0.36724034]\n",
      "\n",
      "Total time execution: 0.046875\n",
      "Directory already exists\n",
      "\n",
      "Best Results: 7/20\n",
      "\n",
      "\n",
      "Iteration: 14\n",
      "============================\n",
      "Precision: 0.6303347387906211 Recall: 0.6676217538874418 F1: 0.6455306574735287\n",
      "Weights: [0.19009474 0.68800461 0.47066255 0.81165926 0.34444644 0.89679869]\n",
      "\n",
      "Total time execution: 0.046875\n",
      "Directory already exists\n",
      "\n",
      "Best Results: 8/20\n",
      "\n",
      "\n",
      "Iteration: 15\n",
      "============================\n",
      "Precision: 0.6330085355820649 Recall: 0.6772234556614862 F1: 0.6495780590717299\n",
      "Weights: [0.12252727 0.79812658 0.35030579 0.65191602 0.46510842 0.12015214]\n",
      "\n",
      "Total time execution: 0.046875\n",
      "Best F1\n",
      "Directory already exists\n",
      "\n",
      "Best Results: 1/20\n",
      "\n",
      "\n",
      "Iteration: 16\n",
      "============================\n"
     ]
    },
    {
     "name": "stderr",
     "output_type": "stream",
     "text": [
      "C:\\Users\\semin\\anaconda3\\lib\\site-packages\\sklearn\\metrics\\_classification.py:1221: UndefinedMetricWarning:\n",
      "\n",
      "Recall is ill-defined and being set to 0.0 in labels with no true samples. Use `zero_division` parameter to control this behavior.\n",
      "\n",
      "C:\\Users\\semin\\anaconda3\\lib\\site-packages\\sklearn\\metrics\\_classification.py:1221: UndefinedMetricWarning:\n",
      "\n",
      "Recall is ill-defined and being set to 0.0 in labels with no true samples. Use `zero_division` parameter to control this behavior.\n",
      "\n",
      "C:\\Users\\semin\\anaconda3\\lib\\site-packages\\sklearn\\metrics\\_classification.py:1221: UndefinedMetricWarning:\n",
      "\n",
      "Recall is ill-defined and being set to 0.0 in labels with no true samples. Use `zero_division` parameter to control this behavior.\n",
      "\n",
      "C:\\Users\\semin\\anaconda3\\lib\\site-packages\\sklearn\\metrics\\_classification.py:1221: UndefinedMetricWarning:\n",
      "\n",
      "Recall is ill-defined and being set to 0.0 in labels with no true samples. Use `zero_division` parameter to control this behavior.\n",
      "\n"
     ]
    },
    {
     "name": "stdout",
     "output_type": "stream",
     "text": [
      "Precision: 0.6095710355820649 Recall: 0.67872577145169 F1: 0.6368852923268623\n",
      "Weights: [0.21234949 0.36587848 0.95927865 0.12903549 0.34982567 0.41388854]\n",
      "\n",
      "Total time execution: 0.046875\n",
      "Directory already exists\n",
      "\n",
      "Best Results: 2/20\n",
      "\n",
      "\n",
      "Iteration: 17\n",
      "============================\n",
      "Precision: 0.4229419477581242 Recall: 0.6794642857142856 F1: 0.43686553196745065\n",
      "Weights: [0.01460969 0.05934708 0.50759587 0.58325884 0.24827314 0.40308571]\n",
      "\n",
      "Total time execution: 0.0625\n",
      "Directory already exists\n",
      "\n",
      "Best Results: 3/20\n",
      "\n",
      "\n",
      "Iteration: 18\n",
      "============================\n",
      "Precision: 0.6316716371863431 Recall: 0.6711799187255008 F1: 0.6467634170679856\n",
      "Weights: [0.90543686 0.69003829 0.77599347 0.577531   0.25380524 0.62916841]\n",
      "\n",
      "Total time execution: 0.046875\n",
      "Directory already exists\n",
      "\n",
      "Best Results: 4/20\n",
      "\n",
      "\n",
      "Iteration: 19\n",
      "============================\n",
      "Precision: 0.6251960355820649 Recall: 0.6753588516746412 F1: 0.6445096122515478\n",
      "Weights: [0.88191442 0.76117673 0.99988496 0.15058075 0.84610066 0.56600919]\n",
      "\n",
      "Total time execution: 0.0625\n",
      "Directory already exists\n",
      "\n",
      "Best Results: 5/20\n",
      "\n",
      "\n",
      "Iteration: 20\n",
      "============================\n"
     ]
    },
    {
     "name": "stderr",
     "output_type": "stream",
     "text": [
      "C:\\Users\\semin\\anaconda3\\lib\\site-packages\\sklearn\\metrics\\_classification.py:1221: UndefinedMetricWarning:\n",
      "\n",
      "Recall is ill-defined and being set to 0.0 in labels with no true samples. Use `zero_division` parameter to control this behavior.\n",
      "\n",
      "C:\\Users\\semin\\anaconda3\\lib\\site-packages\\sklearn\\metrics\\_classification.py:1221: UndefinedMetricWarning:\n",
      "\n",
      "Recall is ill-defined and being set to 0.0 in labels with no true samples. Use `zero_division` parameter to control this behavior.\n",
      "\n",
      "C:\\Users\\semin\\anaconda3\\lib\\site-packages\\sklearn\\metrics\\_classification.py:1221: UndefinedMetricWarning:\n",
      "\n",
      "Recall is ill-defined and being set to 0.0 in labels with no true samples. Use `zero_division` parameter to control this behavior.\n",
      "\n",
      "C:\\Users\\semin\\anaconda3\\lib\\site-packages\\sklearn\\metrics\\_classification.py:1221: UndefinedMetricWarning:\n",
      "\n",
      "Recall is ill-defined and being set to 0.0 in labels with no true samples. Use `zero_division` parameter to control this behavior.\n",
      "\n"
     ]
    },
    {
     "name": "stdout",
     "output_type": "stream",
     "text": [
      "Precision: 0.6251960355820649 Recall: 0.682069397632011 F1: 0.6474939551187642\n",
      "Weights: [0.15213674 0.39399189 0.79802882 0.6580564  0.08352156 0.20122206]\n",
      "\n",
      "Total time execution: 0.0625\n",
      "Directory already exists\n",
      "\n",
      "Best Results: 6/20\n",
      "\n",
      "\n",
      "Iteration: 21\n",
      "============================\n",
      "Precision: 0.6386132250102838 Recall: 0.6678582723411945 F1: 0.650488533372029\n",
      "Weights: [0.54877361 0.93665178 0.7013773  0.47917132 0.05001421 0.87139415]\n",
      "\n",
      "Total time execution: 0.046875\n",
      "Best F1\n",
      "Directory already exists\n",
      "\n",
      "Best Results: 1/20\n",
      "\n",
      "\n",
      "Iteration: 22\n",
      "============================\n",
      "Precision: 0.6155806509666804 Recall: 0.6721761453396524 F1: 0.6363977143783434\n",
      "Weights: [0.54401774 0.62370574 0.43236349 0.42094179 0.56134743 0.10504066]\n",
      "\n",
      "Total time execution: 0.03125\n",
      "Directory already exists\n",
      "\n",
      "Best Results: 2/20\n",
      "\n",
      "\n",
      "Iteration: 23\n",
      "============================\n",
      "Precision: 0.4393639448786507 Recall: 0.61430064927919 F1: 0.45872438372438373\n",
      "Weights: [0.53462051 0.13676068 0.43169989 0.161871   0.71169307 0.88798641]\n",
      "\n",
      "Total time execution: 0.046875\n",
      "Directory already exists\n",
      "\n",
      "Best Results: 3/20\n",
      "\n",
      "\n",
      "Iteration: 24\n",
      "============================\n"
     ]
    },
    {
     "name": "stderr",
     "output_type": "stream",
     "text": [
      "C:\\Users\\semin\\anaconda3\\lib\\site-packages\\sklearn\\metrics\\_classification.py:1221: UndefinedMetricWarning:\n",
      "\n",
      "Recall is ill-defined and being set to 0.0 in labels with no true samples. Use `zero_division` parameter to control this behavior.\n",
      "\n",
      "C:\\Users\\semin\\anaconda3\\lib\\site-packages\\sklearn\\metrics\\_classification.py:1221: UndefinedMetricWarning:\n",
      "\n",
      "Recall is ill-defined and being set to 0.0 in labels with no true samples. Use `zero_division` parameter to control this behavior.\n",
      "\n",
      "C:\\Users\\semin\\anaconda3\\lib\\site-packages\\sklearn\\metrics\\_classification.py:1221: UndefinedMetricWarning:\n",
      "\n",
      "Recall is ill-defined and being set to 0.0 in labels with no true samples. Use `zero_division` parameter to control this behavior.\n",
      "\n",
      "C:\\Users\\semin\\anaconda3\\lib\\site-packages\\sklearn\\metrics\\_classification.py:1221: UndefinedMetricWarning:\n",
      "\n",
      "Recall is ill-defined and being set to 0.0 in labels with no true samples. Use `zero_division` parameter to control this behavior.\n",
      "\n"
     ]
    },
    {
     "name": "stdout",
     "output_type": "stream",
     "text": [
      "Precision: 0.6147097387906211 Recall: 0.6643074912891986 F1: 0.6352184565128625\n",
      "Weights: [0.92803363 0.72451311 0.29392932 0.52853508 0.68230216 0.36017034]\n",
      "\n",
      "Total time execution: 0.0625\n",
      "Directory already exists\n",
      "\n",
      "Best Results: 4/20\n",
      "\n",
      "\n",
      "Iteration: 25\n",
      "============================\n",
      "Precision: 0.6338055327025915 Recall: 0.6660503540519276 F1: 0.6466379562577719\n",
      "Weights: [0.32131039 0.7774829  0.72491967 0.45176485 0.05630944 0.7843309 ]\n",
      "\n",
      "Total time execution: 0.0625\n",
      "Directory already exists\n",
      "\n",
      "Best Results: 5/20\n",
      "\n",
      "\n",
      "Iteration: 26\n",
      "============================\n",
      "Precision: 0.4277496400658165 Recall: 0.680671780567178 F1: 0.4409034420426301\n",
      "Weights: [0.49413204 0.06886713 0.60128203 0.48253532 0.36854886 0.56671244]\n",
      "\n",
      "Total time execution: 0.03125\n",
      "Directory already exists\n",
      "\n",
      "Best Results: 6/20\n",
      "\n",
      "\n",
      "Iteration: 27\n",
      "============================\n",
      "Precision: 0.4390329339777869 Recall: 0.6145716685330347 F1: 0.45530542390731965\n",
      "Weights: [0.6032198  0.15797574 0.86313042 0.68067397 0.20896243 0.88476141]\n",
      "\n",
      "Total time execution: 0.0625\n",
      "Directory already exists\n",
      "\n",
      "Best Results: 7/20\n",
      "\n",
      "\n",
      "Iteration: 28\n",
      "============================\n"
     ]
    },
    {
     "name": "stderr",
     "output_type": "stream",
     "text": [
      "C:\\Users\\semin\\anaconda3\\lib\\site-packages\\sklearn\\metrics\\_classification.py:1221: UndefinedMetricWarning:\n",
      "\n",
      "Recall is ill-defined and being set to 0.0 in labels with no true samples. Use `zero_division` parameter to control this behavior.\n",
      "\n",
      "C:\\Users\\semin\\anaconda3\\lib\\site-packages\\sklearn\\metrics\\_classification.py:1221: UndefinedMetricWarning:\n",
      "\n",
      "Recall is ill-defined and being set to 0.0 in labels with no true samples. Use `zero_division` parameter to control this behavior.\n",
      "\n",
      "C:\\Users\\semin\\anaconda3\\lib\\site-packages\\sklearn\\metrics\\_classification.py:1221: UndefinedMetricWarning:\n",
      "\n",
      "Recall is ill-defined and being set to 0.0 in labels with no true samples. Use `zero_division` parameter to control this behavior.\n",
      "\n",
      "C:\\Users\\semin\\anaconda3\\lib\\site-packages\\sklearn\\metrics\\_classification.py:1221: UndefinedMetricWarning:\n",
      "\n",
      "Recall is ill-defined and being set to 0.0 in labels with no true samples. Use `zero_division` parameter to control this behavior.\n",
      "\n"
     ]
    },
    {
     "name": "stdout",
     "output_type": "stream",
     "text": [
      "Precision: 0.5773151480872069 Recall: 0.6549547833899763 F1: 0.6076681064363035\n",
      "Weights: [0.62716795 0.63488039 0.30285771 0.8523305  0.90915682 0.54133411]\n",
      "\n",
      "Total time execution: 0.046875\n",
      "Directory already exists\n",
      "\n",
      "Best Results: 8/20\n",
      "\n",
      "\n",
      "Iteration: 29\n",
      "============================\n",
      "Precision: 0.44483365898807076 Recall: 0.6032827432786454 F1: 0.46679086232861977\n",
      "Weights: [0.15368445 0.17775799 0.07352041 0.75166849 0.88528073 0.83527502]\n",
      "\n",
      "Total time execution: 0.0625\n",
      "Directory already exists\n",
      "\n",
      "Best Results: 9/20\n",
      "\n",
      "\n",
      "Iteration: 30\n",
      "============================\n",
      "Precision: 0.39369086795557384 Recall: 0.4059027777777778 F1: 0.39042207792207795\n",
      "Weights: [8.09322423e-01 6.73032256e-04 2.08113360e-01 5.46961449e-01\n",
      " 9.86928994e-01 9.67802119e-01]\n",
      "\n",
      "Total time execution: 0.0625\n",
      "Directory already exists\n",
      "\n",
      "Best Results: 10/20\n",
      "\n",
      "\n",
      "Iteration: 31\n",
      "============================\n"
     ]
    },
    {
     "name": "stderr",
     "output_type": "stream",
     "text": [
      "C:\\Users\\semin\\anaconda3\\lib\\site-packages\\sklearn\\metrics\\_classification.py:1221: UndefinedMetricWarning:\n",
      "\n",
      "Recall is ill-defined and being set to 0.0 in labels with no true samples. Use `zero_division` parameter to control this behavior.\n",
      "\n",
      "C:\\Users\\semin\\anaconda3\\lib\\site-packages\\sklearn\\metrics\\_classification.py:1221: UndefinedMetricWarning:\n",
      "\n",
      "Recall is ill-defined and being set to 0.0 in labels with no true samples. Use `zero_division` parameter to control this behavior.\n",
      "\n",
      "C:\\Users\\semin\\anaconda3\\lib\\site-packages\\sklearn\\metrics\\_classification.py:1221: UndefinedMetricWarning:\n",
      "\n",
      "Recall is ill-defined and being set to 0.0 in labels with no true samples. Use `zero_division` parameter to control this behavior.\n",
      "\n"
     ]
    },
    {
     "name": "stdout",
     "output_type": "stream",
     "text": [
      "Precision: 0.6225222387906211 Recall: 0.6659800181210208 F1: 0.6404479854256648\n",
      "Weights: [0.81577906 0.74850435 0.31525659 0.01093438 0.90821936 0.8890728 ]\n",
      "\n",
      "Total time execution: 0.0625\n",
      "Directory already exists\n",
      "\n",
      "Best Results: 11/20\n",
      "\n",
      "\n",
      "Iteration: 32\n",
      "============================\n",
      "Precision: 0.6180455573837926 Recall: 0.6505030535546508 F1: 0.630577681896965\n",
      "Weights: [0.94344327 0.91892278 0.07122778 0.01772132 0.22205218 0.9371344 ]\n",
      "\n",
      "Total time execution: 0.046875\n",
      "Directory already exists\n",
      "\n",
      "Best Results: 12/20\n",
      "\n",
      "\n",
      "Iteration: 33\n",
      "============================\n",
      "Precision: 0.5626960355820649 Recall: 0.672868148670901 F1: 0.6021604938271605\n",
      "Weights: [0.07594835 0.20385585 0.80851235 0.15274051 0.45310797 0.37813083]\n",
      "\n",
      "Total time execution: 0.0625\n",
      "Directory already exists\n",
      "\n",
      "Best Results: 13/20\n",
      "\n",
      "\n",
      "Iteration: 34\n",
      "============================\n",
      "Precision: 0.6155806509666804 Recall: 0.6721761453396524 F1: 0.6363977143783434\n",
      "Weights: [0.75167249 0.83504512 0.78843394 0.33872022 0.90710928 0.02090848]\n",
      "\n",
      "Total time execution: 0.046875\n",
      "Directory already exists\n",
      "\n",
      "Best Results: 14/20\n",
      "\n",
      "\n",
      "Iteration: 35\n",
      "============================\n"
     ]
    },
    {
     "name": "stderr",
     "output_type": "stream",
     "text": [
      "C:\\Users\\semin\\anaconda3\\lib\\site-packages\\sklearn\\metrics\\_classification.py:1221: UndefinedMetricWarning:\n",
      "\n",
      "Recall is ill-defined and being set to 0.0 in labels with no true samples. Use `zero_division` parameter to control this behavior.\n",
      "\n",
      "C:\\Users\\semin\\anaconda3\\lib\\site-packages\\sklearn\\metrics\\_classification.py:1221: UndefinedMetricWarning:\n",
      "\n",
      "Recall is ill-defined and being set to 0.0 in labels with no true samples. Use `zero_division` parameter to control this behavior.\n",
      "\n",
      "C:\\Users\\semin\\anaconda3\\lib\\site-packages\\sklearn\\metrics\\_classification.py:1221: UndefinedMetricWarning:\n",
      "\n",
      "Recall is ill-defined and being set to 0.0 in labels with no true samples. Use `zero_division` parameter to control this behavior.\n",
      "\n",
      "C:\\Users\\semin\\anaconda3\\lib\\site-packages\\sklearn\\metrics\\_classification.py:1221: UndefinedMetricWarning:\n",
      "\n",
      "Recall is ill-defined and being set to 0.0 in labels with no true samples. Use `zero_division` parameter to control this behavior.\n",
      "\n"
     ]
    },
    {
     "name": "stdout",
     "output_type": "stream",
     "text": [
      "Precision: 0.4706139448786507 Recall: 0.6353801169590644 F1: 0.5028255120162517\n",
      "Weights: [0.97762381 0.30132569 0.38335844 0.70898941 0.83213217 0.88910957]\n",
      "\n",
      "Total time execution: 0.046875\n",
      "Directory already exists\n",
      "\n",
      "Best Results: 15/20\n",
      "\n",
      "\n",
      "Iteration: 36\n",
      "============================\n",
      "Precision: 0.4129216371863431 Recall: 0.41178797468354433 F1: 0.4060192780968007\n",
      "Weights: [0.74588447 0.01838545 0.1784852  0.65032851 0.09964187 0.59194712]\n",
      "\n",
      "Total time execution: 0.0625\n",
      "Directory already exists\n",
      "\n",
      "Best Results: 16/20\n",
      "\n",
      "\n",
      "Iteration: 37\n",
      "============================\n",
      "Precision: 0.4137925493624023 Recall: 0.671875 F1: 0.4192791498119367\n",
      "Weights: [0.94001156 0.06827668 0.57686848 0.19365717 0.62388658 0.50242922]\n",
      "\n",
      "Total time execution: 0.0625\n",
      "Directory already exists\n",
      "\n",
      "Best Results: 17/20\n",
      "\n",
      "\n",
      "Iteration: 38\n",
      "============================\n",
      "Precision: 0.6399501234060058 Recall: 0.6714888280893754 F1: 0.653279866608192\n",
      "Weights: [0.60259265 0.80522076 0.19665109 0.31008942 0.19080133 0.83299408]\n",
      "\n",
      "Total time execution: 0.0625\n"
     ]
    },
    {
     "name": "stderr",
     "output_type": "stream",
     "text": [
      "C:\\Users\\semin\\anaconda3\\lib\\site-packages\\sklearn\\metrics\\_classification.py:1221: UndefinedMetricWarning:\n",
      "\n",
      "Recall is ill-defined and being set to 0.0 in labels with no true samples. Use `zero_division` parameter to control this behavior.\n",
      "\n",
      "C:\\Users\\semin\\anaconda3\\lib\\site-packages\\sklearn\\metrics\\_classification.py:1221: UndefinedMetricWarning:\n",
      "\n",
      "Recall is ill-defined and being set to 0.0 in labels with no true samples. Use `zero_division` parameter to control this behavior.\n",
      "\n",
      "C:\\Users\\semin\\anaconda3\\lib\\site-packages\\sklearn\\metrics\\_classification.py:1221: UndefinedMetricWarning:\n",
      "\n",
      "Recall is ill-defined and being set to 0.0 in labels with no true samples. Use `zero_division` parameter to control this behavior.\n",
      "\n"
     ]
    },
    {
     "name": "stdout",
     "output_type": "stream",
     "text": [
      "Best F1\n",
      "Directory already exists\n",
      "\n",
      "Best Results: 1/20\n",
      "\n",
      "\n",
      "Iteration: 39\n",
      "============================\n",
      "Precision: 0.6225222387906211 Recall: 0.6659800181210208 F1: 0.6404479854256648\n",
      "Weights: [0.61216612 0.91984775 0.3312911  0.22309416 0.94504895 0.71604253]\n",
      "\n",
      "Total time execution: 0.046875\n",
      "Directory already exists\n",
      "\n",
      "Best Results: 2/20\n",
      "\n",
      "\n",
      "Iteration: 40\n",
      "============================\n",
      "Precision: 0.4073169477581242 Recall: 0.42786304604486425 F1: 0.4064383891970099\n",
      "Weights: [0.61968676 0.03702419 0.99618683 0.07458499 0.27834468 0.23940278]\n",
      "\n",
      "Total time execution: 0.0625\n",
      "Directory already exists\n",
      "\n",
      "Best Results: 3/20\n",
      "\n",
      "\n",
      "Iteration: 41\n",
      "============================\n",
      "Precision: 0.6338055327025915 Recall: 0.6660503540519276 F1: 0.6466379562577719\n",
      "Weights: [0.25643235 0.53481978 0.59864384 0.13457502 0.05138237 0.67743719]\n",
      "\n",
      "Total time execution: 0.046875\n",
      "Directory already exists\n",
      "\n",
      "Best Results: 4/20\n",
      "\n",
      "\n",
      "Iteration: 42\n",
      "============================\n"
     ]
    },
    {
     "name": "stderr",
     "output_type": "stream",
     "text": [
      "C:\\Users\\semin\\anaconda3\\lib\\site-packages\\sklearn\\metrics\\_classification.py:1221: UndefinedMetricWarning:\n",
      "\n",
      "Recall is ill-defined and being set to 0.0 in labels with no true samples. Use `zero_division` parameter to control this behavior.\n",
      "\n",
      "C:\\Users\\semin\\anaconda3\\lib\\site-packages\\sklearn\\metrics\\_classification.py:1221: UndefinedMetricWarning:\n",
      "\n",
      "Recall is ill-defined and being set to 0.0 in labels with no true samples. Use `zero_division` parameter to control this behavior.\n",
      "\n",
      "C:\\Users\\semin\\anaconda3\\lib\\site-packages\\sklearn\\metrics\\_classification.py:1221: UndefinedMetricWarning:\n",
      "\n",
      "Recall is ill-defined and being set to 0.0 in labels with no true samples. Use `zero_division` parameter to control this behavior.\n",
      "\n",
      "C:\\Users\\semin\\anaconda3\\lib\\site-packages\\sklearn\\metrics\\_classification.py:1221: UndefinedMetricWarning:\n",
      "\n",
      "Recall is ill-defined and being set to 0.0 in labels with no true samples. Use `zero_division` parameter to control this behavior.\n",
      "\n"
     ]
    },
    {
     "name": "stdout",
     "output_type": "stream",
     "text": [
      "Precision: 0.6273299310983134 Recall: 0.6679181213831364 F1: 0.6443529999618366\n",
      "Weights: [0.31742118 0.85276171 0.1945077  0.3971102  0.50805685 0.83398425]\n",
      "\n",
      "Total time execution: 0.0625\n",
      "Directory already exists\n",
      "\n",
      "Best Results: 5/20\n",
      "\n",
      "\n",
      "Iteration: 43\n",
      "============================\n",
      "Precision: 0.5765181509666804 Recall: 0.6621296296296296 F1: 0.6087702973314179\n",
      "Weights: [0.32223699 0.25345059 0.34342596 0.0502765  0.64818535 0.15937156]\n",
      "\n",
      "Total time execution: 0.0625\n",
      "Directory already exists\n",
      "\n",
      "Best Results: 6/20\n",
      "\n",
      "\n",
      "Iteration: 44\n",
      "============================\n",
      "Precision: 0.5773151480872069 Recall: 0.6499271360638135 F1: 0.6060413129598189\n",
      "Weights: [0.08957027 0.30978396 0.1839516  0.74239881 0.39681346 0.34969724]\n",
      "\n",
      "Total time execution: 0.046875\n",
      "Directory already exists\n",
      "\n",
      "Best Results: 7/20\n",
      "\n",
      "\n",
      "Iteration: 45\n",
      "============================\n",
      "Precision: 0.5425943541752365 Recall: 0.6518077015934332 F1: 0.580509772346942\n",
      "Weights: [0.32054346 0.24248392 0.18852754 0.86813122 0.68826502 0.41700532]\n",
      "\n",
      "Total time execution: 0.046875\n",
      "Directory already exists\n",
      "\n",
      "Best Results: 8/20\n",
      "\n",
      "\n",
      "Iteration: 46\n",
      "============================\n"
     ]
    },
    {
     "name": "stderr",
     "output_type": "stream",
     "text": [
      "C:\\Users\\semin\\anaconda3\\lib\\site-packages\\sklearn\\metrics\\_classification.py:1221: UndefinedMetricWarning:\n",
      "\n",
      "Recall is ill-defined and being set to 0.0 in labels with no true samples. Use `zero_division` parameter to control this behavior.\n",
      "\n",
      "C:\\Users\\semin\\anaconda3\\lib\\site-packages\\sklearn\\metrics\\_classification.py:1221: UndefinedMetricWarning:\n",
      "\n",
      "Recall is ill-defined and being set to 0.0 in labels with no true samples. Use `zero_division` parameter to control this behavior.\n",
      "\n",
      "C:\\Users\\semin\\anaconda3\\lib\\site-packages\\sklearn\\metrics\\_classification.py:1221: UndefinedMetricWarning:\n",
      "\n",
      "Recall is ill-defined and being set to 0.0 in labels with no true samples. Use `zero_division` parameter to control this behavior.\n",
      "\n",
      "C:\\Users\\semin\\anaconda3\\lib\\site-packages\\sklearn\\metrics\\_classification.py:1221: UndefinedMetricWarning:\n",
      "\n",
      "Recall is ill-defined and being set to 0.0 in labels with no true samples. Use `zero_division` parameter to control this behavior.\n",
      "\n"
     ]
    },
    {
     "name": "stdout",
     "output_type": "stream",
     "text": [
      "Precision: 0.6064312525709584 Recall: 0.6691064844936022 F1: 0.6299380623690374\n",
      "Weights: [0.82875209 0.30523271 0.11565317 0.70494983 0.00377095 0.2322478 ]\n",
      "\n",
      "Total time execution: 0.0625\n",
      "Directory already exists\n",
      "\n",
      "Best Results: 9/20\n",
      "\n",
      "\n",
      "Iteration: 47\n",
      "============================\n",
      "Precision: 0.6351424310983134 Recall: 0.6695702671312428 F1: 0.6494386704578881\n",
      "Weights: [0.06372539 0.71839554 0.22299433 0.15910231 0.48658608 0.52191992]\n",
      "\n",
      "Total time execution: 0.046875\n",
      "Directory already exists\n",
      "\n",
      "Best Results: 10/20\n",
      "\n",
      "\n",
      "Iteration: 48\n",
      "============================\n",
      "Precision: 0.5608931509666804 Recall: 0.6662096755650595 F1: 0.5991730724435127\n",
      "Weights: [0.06754028 0.24298046 0.36070611 0.76787812 0.47060092 0.15253501]\n",
      "\n",
      "Total time execution: 0.046875\n",
      "Directory already exists\n",
      "\n",
      "Best Results: 11/20\n",
      "\n",
      "\n",
      "Iteration: 49\n",
      "============================\n",
      "Precision: 0.6147097387906211 Recall: 0.6643074912891986 F1: 0.6352184565128625\n",
      "Weights: [0.26582328 0.55060255 0.34153923 0.99738295 0.31689352 0.65212652]\n",
      "\n",
      "Total time execution: 0.0625\n",
      "Directory already exists\n",
      "\n",
      "Best Results: 12/20\n",
      "\n",
      "\n",
      "Iteration: 50\n",
      "============================\n"
     ]
    },
    {
     "name": "stderr",
     "output_type": "stream",
     "text": [
      "C:\\Users\\semin\\anaconda3\\lib\\site-packages\\sklearn\\metrics\\_classification.py:1221: UndefinedMetricWarning:\n",
      "\n",
      "Recall is ill-defined and being set to 0.0 in labels with no true samples. Use `zero_division` parameter to control this behavior.\n",
      "\n",
      "C:\\Users\\semin\\anaconda3\\lib\\site-packages\\sklearn\\metrics\\_classification.py:1221: UndefinedMetricWarning:\n",
      "\n",
      "Recall is ill-defined and being set to 0.0 in labels with no true samples. Use `zero_division` parameter to control this behavior.\n",
      "\n",
      "C:\\Users\\semin\\anaconda3\\lib\\site-packages\\sklearn\\metrics\\_classification.py:1221: UndefinedMetricWarning:\n",
      "\n",
      "Recall is ill-defined and being set to 0.0 in labels with no true samples. Use `zero_division` parameter to control this behavior.\n",
      "\n",
      "C:\\Users\\semin\\anaconda3\\lib\\site-packages\\sklearn\\metrics\\_classification.py:1221: UndefinedMetricWarning:\n",
      "\n",
      "Recall is ill-defined and being set to 0.0 in labels with no true samples. Use `zero_division` parameter to control this behavior.\n",
      "\n"
     ]
    },
    {
     "name": "stdout",
     "output_type": "stream",
     "text": [
      "Precision: 0.44083581859317156 Recall: 0.5955662393162393 F1: 0.4493733494637141\n",
      "Weights: [0.16607816 0.11823278 0.61137238 0.88192274 0.06878099 0.9388597 ]\n",
      "\n",
      "Total time execution: 0.0625\n",
      "Directory already exists\n",
      "\n",
      "Best Results: 13/20\n",
      "\n",
      "\n",
      "Iteration: 51\n",
      "============================\n",
      "Precision: 0.6316716371863431 Recall: 0.6711799187255008 F1: 0.6467634170679856\n",
      "Weights: [0.53188353 0.9758523  0.52352272 0.81255971 0.66230661 0.4691474 ]\n",
      "\n",
      "Total time execution: 0.0625\n",
      "Directory already exists\n",
      "\n",
      "Best Results: 14/20\n",
      "\n",
      "\n",
      "Iteration: 52\n",
      "============================\n",
      "Precision: 0.6185854586589881 Recall: 0.6723873588573176 F1: 0.6372860470937061\n",
      "Weights: [0.94698192 0.77793879 0.37076184 0.12957559 0.1184469  0.01154059]\n",
      "\n",
      "Total time execution: 0.046875\n",
      "Directory already exists\n",
      "\n",
      "Best Results: 15/20\n",
      "\n",
      "\n",
      "Iteration: 53\n",
      "============================\n",
      "Precision: 0.6142437525709584 Recall: 0.6677210267046927 F1: 0.6351233981638243\n",
      "Weights: [0.12692686 0.64283821 0.21140895 0.59437903 0.73215658 0.02794275]\n",
      "\n",
      "Total time execution: 0.0625\n",
      "Directory already exists\n",
      "\n",
      "Best Results: 16/20\n",
      "\n",
      "\n",
      "Iteration: 54\n",
      "============================\n"
     ]
    },
    {
     "name": "stderr",
     "output_type": "stream",
     "text": [
      "C:\\Users\\semin\\anaconda3\\lib\\site-packages\\sklearn\\metrics\\_classification.py:1221: UndefinedMetricWarning:\n",
      "\n",
      "Recall is ill-defined and being set to 0.0 in labels with no true samples. Use `zero_division` parameter to control this behavior.\n",
      "\n",
      "C:\\Users\\semin\\anaconda3\\lib\\site-packages\\sklearn\\metrics\\_classification.py:1221: UndefinedMetricWarning:\n",
      "\n",
      "Recall is ill-defined and being set to 0.0 in labels with no true samples. Use `zero_division` parameter to control this behavior.\n",
      "\n",
      "C:\\Users\\semin\\anaconda3\\lib\\site-packages\\sklearn\\metrics\\_classification.py:1221: UndefinedMetricWarning:\n",
      "\n",
      "Recall is ill-defined and being set to 0.0 in labels with no true samples. Use `zero_division` parameter to control this behavior.\n",
      "\n",
      "C:\\Users\\semin\\anaconda3\\lib\\site-packages\\sklearn\\metrics\\_classification.py:1221: UndefinedMetricWarning:\n",
      "\n",
      "Recall is ill-defined and being set to 0.0 in labels with no true samples. Use `zero_division` parameter to control this behavior.\n",
      "\n"
     ]
    },
    {
     "name": "stdout",
     "output_type": "stream",
     "text": [
      "Precision: 0.5847966371863431 Recall: 0.6627053990610329 F1: 0.6153959627329193\n",
      "Weights: [0.29544893 0.39212125 0.83269601 0.32638403 0.65077241 0.38093301]\n",
      "\n",
      "Total time execution: 0.0625\n",
      "Directory already exists\n",
      "\n",
      "Best Results: 17/20\n",
      "\n",
      "\n",
      "Iteration: 55\n",
      "============================\n",
      "Precision: 0.6282008432743726 Recall: 0.6756318751225373 F1: 0.6455566905005108\n",
      "Weights: [0.50084597 0.8243502  0.88697944 0.99055938 0.34074094 0.25432745]\n",
      "\n",
      "Total time execution: 0.046875\n",
      "Directory already exists\n",
      "\n",
      "Best Results: 18/20\n",
      "\n",
      "\n",
      "Iteration: 56\n",
      "============================\n",
      "Precision: 0.43502223879062113 Recall: 0.5970353238015138 F1: 0.4470224805604742\n",
      "Weights: [0.12017297 0.09783739 0.22679289 0.89327828 0.34681948 0.76542781]\n",
      "\n",
      "Total time execution: 0.0625\n",
      "Directory already exists\n",
      "\n",
      "Best Results: 19/20\n",
      "\n",
      "\n",
      "Iteration: 57\n",
      "============================\n",
      "Precision: 0.5460651480872069 Recall: 0.648713798384851 F1: 0.5818874088889027\n",
      "Weights: [0.75446977 0.26508137 0.19215962 0.34787989 0.74778498 0.63002067]\n",
      "\n",
      "Total time execution: 0.046875\n",
      "Directory already exists\n",
      "\n",
      "Best Results: 20/20\n",
      "\n",
      "\n",
      "Iteration: 1\n",
      "============================\n"
     ]
    },
    {
     "name": "stderr",
     "output_type": "stream",
     "text": [
      "C:\\Users\\semin\\anaconda3\\lib\\site-packages\\sklearn\\metrics\\_classification.py:1221: UndefinedMetricWarning:\n",
      "\n",
      "Recall is ill-defined and being set to 0.0 in labels with no true samples. Use `zero_division` parameter to control this behavior.\n",
      "\n",
      "C:\\Users\\semin\\anaconda3\\lib\\site-packages\\sklearn\\metrics\\_classification.py:1221: UndefinedMetricWarning:\n",
      "\n",
      "Recall is ill-defined and being set to 0.0 in labels with no true samples. Use `zero_division` parameter to control this behavior.\n",
      "\n",
      "C:\\Users\\semin\\anaconda3\\lib\\site-packages\\sklearn\\metrics\\_classification.py:1221: UndefinedMetricWarning:\n",
      "\n",
      "Recall is ill-defined and being set to 0.0 in labels with no true samples. Use `zero_division` parameter to control this behavior.\n",
      "\n",
      "C:\\Users\\semin\\anaconda3\\lib\\site-packages\\sklearn\\metrics\\_classification.py:1221: UndefinedMetricWarning:\n",
      "\n",
      "Recall is ill-defined and being set to 0.0 in labels with no true samples. Use `zero_division` parameter to control this behavior.\n",
      "\n"
     ]
    },
    {
     "name": "stdout",
     "output_type": "stream",
     "text": [
      "Precision: 0.5153550493624023 Recall: 0.6671460176991151 F1: 0.5604071145226933\n",
      "Weights: [0.86426891 0.21643048 0.79200462 0.20518004 0.30975532 0.149383  ]\n",
      "\n",
      "Total time execution: 0.0625\n",
      "Best F1\n",
      "Directory already exists\n",
      "\n",
      "Best Results: 1/20\n",
      "\n",
      "\n",
      "Iteration: 2\n",
      "============================\n",
      "Precision: 0.4362241618675442 Recall: 0.6095822281167109 F1: 0.4587974203914412\n",
      "Weights: [0.84006194 0.16378688 0.17657271 0.10601208 0.78599503 0.90391429]\n",
      "\n",
      "Total time execution: 0.0625\n",
      "Directory already exists\n",
      "\n",
      "Best Results: 2/20\n",
      "\n",
      "\n",
      "Iteration: 3\n",
      "============================\n",
      "Precision: 0.4137925493624023 Recall: 0.5476813110181311 F1: 0.419342032587683\n",
      "Weights: [0.38993661 0.03971853 0.226005   0.86220973 0.34642767 0.87112166]\n",
      "\n",
      "Total time execution: 0.046875\n",
      "Directory already exists\n",
      "\n",
      "Best Results: 3/20\n",
      "\n",
      "\n",
      "Iteration: 4\n",
      "============================\n",
      "Precision: 0.4073169477581242 Recall: 0.42786304604486425 F1: 0.4064383891970099\n",
      "Weights: [0.49443923 0.0329907  0.38688193 0.51896527 0.41149718 0.19778439]\n",
      "\n",
      "Total time execution: 0.046875\n",
      "Directory already exists\n",
      "\n",
      "Best Results: 4/20\n",
      "\n",
      "\n",
      "Iteration: 5\n",
      "============================\n"
     ]
    },
    {
     "name": "stderr",
     "output_type": "stream",
     "text": [
      "C:\\Users\\semin\\anaconda3\\lib\\site-packages\\sklearn\\metrics\\_classification.py:1221: UndefinedMetricWarning:\n",
      "\n",
      "Recall is ill-defined and being set to 0.0 in labels with no true samples. Use `zero_division` parameter to control this behavior.\n",
      "\n",
      "C:\\Users\\semin\\anaconda3\\lib\\site-packages\\sklearn\\metrics\\_classification.py:1221: UndefinedMetricWarning:\n",
      "\n",
      "Recall is ill-defined and being set to 0.0 in labels with no true samples. Use `zero_division` parameter to control this behavior.\n",
      "\n",
      "C:\\Users\\semin\\anaconda3\\lib\\site-packages\\sklearn\\metrics\\_classification.py:1221: UndefinedMetricWarning:\n",
      "\n",
      "Recall is ill-defined and being set to 0.0 in labels with no true samples. Use `zero_division` parameter to control this behavior.\n",
      "\n",
      "C:\\Users\\semin\\anaconda3\\lib\\site-packages\\sklearn\\metrics\\_classification.py:1221: UndefinedMetricWarning:\n",
      "\n",
      "Recall is ill-defined and being set to 0.0 in labels with no true samples. Use `zero_division` parameter to control this behavior.\n",
      "\n"
     ]
    },
    {
     "name": "stdout",
     "output_type": "stream",
     "text": [
      "Precision: 0.6070932743726861 Recall: 0.6347009584266865 F1: 0.6168150392864133\n",
      "Weights: [0.46859709 0.7320693  0.02723314 0.43772656 0.01187407 0.56426041]\n",
      "\n",
      "Total time execution: 0.0625\n",
      "Best F1\n",
      "Directory already exists\n",
      "\n",
      "Best Results: 1/20\n",
      "\n",
      "\n",
      "Iteration: 6\n",
      "============================\n",
      "Precision: 0.4294175493624023 Recall: 0.6118143459915611 F1: 0.4473270440251572\n",
      "Weights: [0.47739789 0.14669344 0.83131231 0.86174119 0.29250031 0.19379548]\n",
      "\n",
      "Total time execution: 0.0625\n",
      "Directory already exists\n",
      "\n",
      "Best Results: 2/20\n",
      "\n",
      "\n",
      "Iteration: 7\n",
      "============================\n",
      "Precision: 0.5457341371863431 Recall: 0.6637652207001522 F1: 0.5855868494324266\n",
      "Weights: [0.63968332 0.21101427 0.27974382 0.10037022 0.25005549 0.6078045 ]\n",
      "\n",
      "Total time execution: 0.046875\n",
      "Directory already exists\n",
      "\n",
      "Best Results: 3/20\n",
      "\n",
      "\n",
      "Iteration: 8\n",
      "============================\n",
      "Precision: 0.6330085355820649 Recall: 0.6772234556614862 F1: 0.6495780590717299\n",
      "Weights: [0.85505281 0.8986665  0.99547972 0.13888759 0.52592631 0.64863979]\n",
      "\n",
      "Total time execution: 0.0625\n",
      "Best F1\n",
      "Directory already exists\n",
      "\n",
      "Best Results: 1/20\n",
      "\n",
      "\n",
      "Iteration: 9\n",
      "============================\n"
     ]
    },
    {
     "name": "stderr",
     "output_type": "stream",
     "text": [
      "C:\\Users\\semin\\anaconda3\\lib\\site-packages\\sklearn\\metrics\\_classification.py:1221: UndefinedMetricWarning:\n",
      "\n",
      "Recall is ill-defined and being set to 0.0 in labels with no true samples. Use `zero_division` parameter to control this behavior.\n",
      "\n",
      "C:\\Users\\semin\\anaconda3\\lib\\site-packages\\sklearn\\metrics\\_classification.py:1221: UndefinedMetricWarning:\n",
      "\n",
      "Recall is ill-defined and being set to 0.0 in labels with no true samples. Use `zero_division` parameter to control this behavior.\n",
      "\n",
      "C:\\Users\\semin\\anaconda3\\lib\\site-packages\\sklearn\\metrics\\_classification.py:1221: UndefinedMetricWarning:\n",
      "\n",
      "Recall is ill-defined and being set to 0.0 in labels with no true samples. Use `zero_division` parameter to control this behavior.\n",
      "\n",
      "C:\\Users\\semin\\anaconda3\\lib\\site-packages\\sklearn\\metrics\\_classification.py:1221: UndefinedMetricWarning:\n",
      "\n",
      "Recall is ill-defined and being set to 0.0 in labels with no true samples. Use `zero_division` parameter to control this behavior.\n",
      "\n"
     ]
    },
    {
     "name": "stdout",
     "output_type": "stream",
     "text": [
      "Precision: 0.4137925493624023 Recall: 0.671875 F1: 0.4192791498119367\n",
      "Weights: [0.41526556 0.0376928  0.61471528 0.30061494 0.46367139 0.89417152]\n",
      "\n",
      "Total time execution: 0.0625\n",
      "Directory already exists\n",
      "\n",
      "Best Results: 2/20\n",
      "\n",
      "\n",
      "Iteration: 10\n",
      "============================\n",
      "Precision: 0.6303347387906211 Recall: 0.6699721892569017 F1: 0.6454943815349906\n",
      "Weights: [0.50521609 0.9907382  0.45434401 0.45686703 0.01538907 0.32952392]\n",
      "\n",
      "Total time execution: 0.046875\n",
      "Directory already exists\n",
      "\n",
      "Best Results: 3/20\n",
      "\n",
      "\n",
      "Iteration: 11\n",
      "============================\n",
      "Precision: 0.4121246400658165 Recall: 0.42905716920239745 F1: 0.4104715378079864\n",
      "Weights: [0.5450772  0.00926062 0.9138146  0.26860301 0.04276276 0.3513053 ]\n",
      "\n",
      "Total time execution: 0.0625\n",
      "Directory already exists\n",
      "\n",
      "Best Results: 4/20\n",
      "\n",
      "\n",
      "Iteration: 12\n",
      "============================\n"
     ]
    },
    {
     "name": "stderr",
     "output_type": "stream",
     "text": [
      "C:\\Users\\semin\\anaconda3\\lib\\site-packages\\sklearn\\metrics\\_classification.py:1221: UndefinedMetricWarning:\n",
      "\n",
      "Recall is ill-defined and being set to 0.0 in labels with no true samples. Use `zero_division` parameter to control this behavior.\n",
      "\n",
      "C:\\Users\\semin\\anaconda3\\lib\\site-packages\\sklearn\\metrics\\_classification.py:1221: UndefinedMetricWarning:\n",
      "\n",
      "Recall is ill-defined and being set to 0.0 in labels with no true samples. Use `zero_division` parameter to control this behavior.\n",
      "\n",
      "C:\\Users\\semin\\anaconda3\\lib\\site-packages\\sklearn\\metrics\\_classification.py:1221: UndefinedMetricWarning:\n",
      "\n",
      "Recall is ill-defined and being set to 0.0 in labels with no true samples. Use `zero_division` parameter to control this behavior.\n",
      "\n",
      "C:\\Users\\semin\\anaconda3\\lib\\site-packages\\sklearn\\metrics\\_classification.py:1221: UndefinedMetricWarning:\n",
      "\n",
      "Recall is ill-defined and being set to 0.0 in labels with no true samples. Use `zero_division` parameter to control this behavior.\n",
      "\n"
     ]
    },
    {
     "name": "stdout",
     "output_type": "stream",
     "text": [
      "Precision: 0.45531995577951456 Recall: 0.6184344244758238 F1: 0.4829916439953362\n",
      "Weights: [0.97335209 0.17728174 0.10682603 0.12935033 0.80517208 0.74026155]\n",
      "\n",
      "Total time execution: 0.0625\n",
      "Directory already exists\n",
      "\n",
      "Best Results: 5/20\n",
      "\n",
      "\n",
      "Iteration: 13\n",
      "============================\n",
      "Precision: 0.6330085355820649 Recall: 0.682388631879294 F1: 0.6511746680286007\n",
      "Weights: [0.59179123 0.69267466 0.54751806 0.23545451 0.00597185 0.01981386]\n",
      "\n",
      "Total time execution: 0.0625\n",
      "Best F1\n",
      "Directory already exists\n",
      "\n",
      "Best Results: 1/20\n",
      "\n",
      "\n",
      "Iteration: 14\n",
      "============================\n",
      "Precision: 0.5497448323735088 Recall: 0.6820570570570571 F1: 0.5940130765638306\n",
      "Weights: [0.01957215 0.16462807 0.83608669 0.35367486 0.0842385  0.23131127]\n",
      "\n",
      "Total time execution: 0.046875\n",
      "Directory already exists\n",
      "\n",
      "Best Results: 2/20\n",
      "\n",
      "\n",
      "Iteration: 15\n",
      "============================\n"
     ]
    },
    {
     "name": "stderr",
     "output_type": "stream",
     "text": [
      "C:\\Users\\semin\\anaconda3\\lib\\site-packages\\sklearn\\metrics\\_classification.py:1221: UndefinedMetricWarning:\n",
      "\n",
      "Recall is ill-defined and being set to 0.0 in labels with no true samples. Use `zero_division` parameter to control this behavior.\n",
      "\n",
      "C:\\Users\\semin\\anaconda3\\lib\\site-packages\\sklearn\\metrics\\_classification.py:1221: UndefinedMetricWarning:\n",
      "\n",
      "Recall is ill-defined and being set to 0.0 in labels with no true samples. Use `zero_division` parameter to control this behavior.\n",
      "\n",
      "C:\\Users\\semin\\anaconda3\\lib\\site-packages\\sklearn\\metrics\\_classification.py:1221: UndefinedMetricWarning:\n",
      "\n",
      "Recall is ill-defined and being set to 0.0 in labels with no true samples. Use `zero_division` parameter to control this behavior.\n",
      "\n"
     ]
    },
    {
     "name": "stdout",
     "output_type": "stream",
     "text": [
      "Precision: 0.6330085355820649 Recall: 0.6772234556614862 F1: 0.6495780590717299\n",
      "Weights: [0.00338358 0.81132795 0.90597192 0.42691111 0.75083286 0.58873518]\n",
      "\n",
      "Total time execution: 0.0625\n",
      "Directory already exists\n",
      "\n",
      "Best Results: 3/20\n",
      "\n",
      "\n",
      "Iteration: 16\n",
      "============================\n",
      "Precision: 0.5990847387906211 Recall: 0.6608505315822389 F1: 0.6242877383117169\n",
      "Weights: [0.60940416 0.52758097 0.60723312 0.19347012 0.83327727 0.81648397]\n",
      "\n",
      "Total time execution: 0.046875\n",
      "Directory already exists\n",
      "\n",
      "Best Results: 4/20\n",
      "\n",
      "\n",
      "Iteration: 17\n",
      "============================\n",
      "Precision: 0.6147097387906211 Recall: 0.6643074912891986 F1: 0.6352184565128625\n",
      "Weights: [0.94943496 0.90676093 0.43997551 0.95165391 0.67630929 0.86401603]\n",
      "\n",
      "Total time execution: 0.046875\n",
      "Directory already exists\n",
      "\n",
      "Best Results: 5/20\n",
      "\n",
      "\n",
      "Iteration: 18\n",
      "============================\n",
      "Precision: 0.43502223879062113 Recall: 0.5970353238015138 F1: 0.4470224805604742\n",
      "Weights: [0.52235074 0.14433112 0.30930733 0.97988225 0.16953028 0.83188973]\n",
      "\n",
      "Total time execution: 0.0625\n",
      "Directory already exists\n",
      "\n",
      "Best Results: 6/20\n",
      "\n",
      "\n",
      "Iteration: 19\n",
      "============================\n"
     ]
    },
    {
     "name": "stderr",
     "output_type": "stream",
     "text": [
      "C:\\Users\\semin\\anaconda3\\lib\\site-packages\\sklearn\\metrics\\_classification.py:1221: UndefinedMetricWarning:\n",
      "\n",
      "Recall is ill-defined and being set to 0.0 in labels with no true samples. Use `zero_division` parameter to control this behavior.\n",
      "\n",
      "C:\\Users\\semin\\anaconda3\\lib\\site-packages\\sklearn\\metrics\\_classification.py:1221: UndefinedMetricWarning:\n",
      "\n",
      "Recall is ill-defined and being set to 0.0 in labels with no true samples. Use `zero_division` parameter to control this behavior.\n",
      "\n",
      "C:\\Users\\semin\\anaconda3\\lib\\site-packages\\sklearn\\metrics\\_classification.py:1221: UndefinedMetricWarning:\n",
      "\n",
      "Recall is ill-defined and being set to 0.0 in labels with no true samples. Use `zero_division` parameter to control this behavior.\n",
      "\n",
      "C:\\Users\\semin\\anaconda3\\lib\\site-packages\\sklearn\\metrics\\_classification.py:1221: UndefinedMetricWarning:\n",
      "\n",
      "Recall is ill-defined and being set to 0.0 in labels with no true samples. Use `zero_division` parameter to control this behavior.\n",
      "\n"
     ]
    },
    {
     "name": "stdout",
     "output_type": "stream",
     "text": [
      "Precision: 0.5455991618675442 Recall: 0.6513438014584803 F1: 0.5832078415411749\n",
      "Weights: [0.70579019 0.25349291 0.12559541 0.42884041 0.67227263 0.2393301 ]\n",
      "\n",
      "Total time execution: 0.046875\n",
      "Directory already exists\n",
      "\n",
      "Best Results: 7/20\n",
      "\n",
      "\n",
      "Iteration: 20\n",
      "============================\n",
      "Precision: 0.6338055327025915 Recall: 0.6644493844049247 F1: 0.6467379363349385\n",
      "Weights: [0.5929341  0.71954497 0.10845407 0.61564165 0.03945516 0.55527795]\n",
      "\n",
      "Total time execution: 0.0625\n",
      "Directory already exists\n",
      "\n",
      "Best Results: 8/20\n",
      "\n",
      "\n",
      "Iteration: 21\n",
      "============================\n",
      "Precision: 0.6289978403948993 Recall: 0.6623983739837399 F1: 0.6428440113176362\n",
      "Weights: [0.50435196 0.65796653 0.08726295 0.46235542 0.07152067 0.43944141]\n",
      "\n",
      "Total time execution: 0.046875\n",
      "Directory already exists\n",
      "\n",
      "Best Results: 9/20\n",
      "\n",
      "\n",
      "Iteration: 22\n",
      "============================\n",
      "Precision: 0.5616901480872069 Recall: 0.6519247886070316 F1: 0.5952160946489657\n",
      "Weights: [0.37753563 0.36133787 0.1269395  0.85472396 0.52336563 0.9862261 ]\n",
      "\n",
      "Total time execution: 0.0625\n",
      "Directory already exists\n",
      "\n",
      "Best Results: 10/20\n",
      "\n",
      "\n",
      "Iteration: 23\n",
      "============================\n"
     ]
    },
    {
     "name": "stderr",
     "output_type": "stream",
     "text": [
      "C:\\Users\\semin\\anaconda3\\lib\\site-packages\\sklearn\\metrics\\_classification.py:1221: UndefinedMetricWarning:\n",
      "\n",
      "Recall is ill-defined and being set to 0.0 in labels with no true samples. Use `zero_division` parameter to control this behavior.\n",
      "\n",
      "C:\\Users\\semin\\anaconda3\\lib\\site-packages\\sklearn\\metrics\\_classification.py:1221: UndefinedMetricWarning:\n",
      "\n",
      "Recall is ill-defined and being set to 0.0 in labels with no true samples. Use `zero_division` parameter to control this behavior.\n",
      "\n",
      "C:\\Users\\semin\\anaconda3\\lib\\site-packages\\sklearn\\metrics\\_classification.py:1221: UndefinedMetricWarning:\n",
      "\n",
      "Recall is ill-defined and being set to 0.0 in labels with no true samples. Use `zero_division` parameter to control this behavior.\n",
      "\n",
      "C:\\Users\\semin\\anaconda3\\lib\\site-packages\\sklearn\\metrics\\_classification.py:1221: UndefinedMetricWarning:\n",
      "\n",
      "Recall is ill-defined and being set to 0.0 in labels with no true samples. Use `zero_division` parameter to control this behavior.\n",
      "\n"
     ]
    },
    {
     "name": "stdout",
     "output_type": "stream",
     "text": [
      "Precision: 0.6225222387906211 Recall: 0.6659800181210208 F1: 0.6404479854256648\n",
      "Weights: [0.26059607 0.61757623 0.23947288 0.0691874  0.85931749 0.48752788]\n",
      "\n",
      "Total time execution: 0.046875\n",
      "Directory already exists\n",
      "\n",
      "Best Results: 11/20\n",
      "\n",
      "\n",
      "Iteration: 24\n",
      "============================\n",
      "Precision: 0.5942770464829288 Recall: 0.662956883597272 F1: 0.6219652307946069\n",
      "Weights: [0.89681956 0.74944406 0.28775428 0.89597598 0.89785804 0.52722827]\n",
      "\n",
      "Total time execution: 0.0625\n",
      "Directory already exists\n",
      "\n",
      "Best Results: 12/20\n",
      "\n",
      "\n",
      "Iteration: 25\n",
      "============================\n",
      "Precision: 0.6251960355820649 Recall: 0.6753588516746412 F1: 0.6445096122515478\n",
      "Weights: [0.55773177 0.84285653 0.9261173  0.16006282 0.96628413 0.77684413]\n",
      "\n",
      "Total time execution: 0.046875\n",
      "Directory already exists\n",
      "\n",
      "Best Results: 13/20\n",
      "\n",
      "\n",
      "Iteration: 26\n",
      "============================\n",
      "Precision: 0.6228532496914849 Recall: 0.6526357199055861 F1: 0.6346097578816472\n",
      "Weights: [0.45826761 0.73039431 0.10517033 0.07326935 0.21726625 0.49005089]\n",
      "\n",
      "Total time execution: 0.0625\n",
      "Directory already exists\n",
      "\n",
      "Best Results: 14/20\n",
      "\n",
      "\n",
      "Iteration: 27\n",
      "============================\n"
     ]
    },
    {
     "name": "stderr",
     "output_type": "stream",
     "text": [
      "C:\\Users\\semin\\anaconda3\\lib\\site-packages\\sklearn\\metrics\\_classification.py:1221: UndefinedMetricWarning:\n",
      "\n",
      "Recall is ill-defined and being set to 0.0 in labels with no true samples. Use `zero_division` parameter to control this behavior.\n",
      "\n",
      "C:\\Users\\semin\\anaconda3\\lib\\site-packages\\sklearn\\metrics\\_classification.py:1221: UndefinedMetricWarning:\n",
      "\n",
      "Recall is ill-defined and being set to 0.0 in labels with no true samples. Use `zero_division` parameter to control this behavior.\n",
      "\n",
      "C:\\Users\\semin\\anaconda3\\lib\\site-packages\\sklearn\\metrics\\_classification.py:1221: UndefinedMetricWarning:\n",
      "\n",
      "Recall is ill-defined and being set to 0.0 in labels with no true samples. Use `zero_division` parameter to control this behavior.\n",
      "\n",
      "C:\\Users\\semin\\anaconda3\\lib\\site-packages\\sklearn\\metrics\\_classification.py:1221: UndefinedMetricWarning:\n",
      "\n",
      "Recall is ill-defined and being set to 0.0 in labels with no true samples. Use `zero_division` parameter to control this behavior.\n",
      "\n"
     ]
    },
    {
     "name": "stdout",
     "output_type": "stream",
     "text": [
      "Precision: 0.5834597387906211 Recall: 0.662086409625376 F1: 0.614240388204554\n",
      "Weights: [0.53416267 0.34316517 0.15672363 0.15140321 0.59268168 0.84551785]\n",
      "\n",
      "Total time execution: 0.046875\n",
      "Directory already exists\n",
      "\n",
      "Best Results: 15/20\n",
      "\n",
      "\n",
      "Iteration: 28\n",
      "============================\n",
      "Precision: 0.6316716371863431 Recall: 0.6711799187255008 F1: 0.6467634170679856\n",
      "Weights: [0.4852267  0.68972526 0.49206797 0.30270206 0.18457876 0.57763175]\n",
      "\n",
      "Total time execution: 0.0625\n",
      "Directory already exists\n",
      "\n",
      "Best Results: 16/20\n",
      "\n",
      "\n",
      "Iteration: 29\n",
      "============================\n",
      "Precision: 0.4264127416700946 Recall: 0.5915440757212909 F1: 0.43774304188497537\n",
      "Weights: [0.82588389 0.14580898 0.95514356 0.60846436 0.32193089 0.80426702]\n",
      "\n",
      "Total time execution: 0.0625\n",
      "Directory already exists\n",
      "\n",
      "Best Results: 17/20\n",
      "\n",
      "\n",
      "Iteration: 30\n",
      "============================\n",
      "Precision: 0.6330085355820649 Recall: 0.6772234556614862 F1: 0.6495780590717299\n",
      "Weights: [0.36543707 0.97225878 0.69123712 0.17225818 0.44649798 0.3858583 ]\n",
      "\n",
      "Total time execution: 0.046875\n",
      "Directory already exists\n",
      "\n",
      "Best Results: 18/20\n",
      "\n",
      "\n",
      "Iteration: 31\n",
      "============================\n"
     ]
    },
    {
     "name": "stderr",
     "output_type": "stream",
     "text": [
      "C:\\Users\\semin\\anaconda3\\lib\\site-packages\\sklearn\\metrics\\_classification.py:1221: UndefinedMetricWarning:\n",
      "\n",
      "Recall is ill-defined and being set to 0.0 in labels with no true samples. Use `zero_division` parameter to control this behavior.\n",
      "\n",
      "C:\\Users\\semin\\anaconda3\\lib\\site-packages\\sklearn\\metrics\\_classification.py:1221: UndefinedMetricWarning:\n",
      "\n",
      "Recall is ill-defined and being set to 0.0 in labels with no true samples. Use `zero_division` parameter to control this behavior.\n",
      "\n",
      "C:\\Users\\semin\\anaconda3\\lib\\site-packages\\sklearn\\metrics\\_classification.py:1221: UndefinedMetricWarning:\n",
      "\n",
      "Recall is ill-defined and being set to 0.0 in labels with no true samples. Use `zero_division` parameter to control this behavior.\n",
      "\n",
      "C:\\Users\\semin\\anaconda3\\lib\\site-packages\\sklearn\\metrics\\_classification.py:1221: UndefinedMetricWarning:\n",
      "\n",
      "Recall is ill-defined and being set to 0.0 in labels with no true samples. Use `zero_division` parameter to control this behavior.\n",
      "\n"
     ]
    },
    {
     "name": "stdout",
     "output_type": "stream",
     "text": [
      "Precision: 0.5578883432743726 Recall: 0.6712298726267724 F1: 0.5981821818028715\n",
      "Weights: [0.72523655 0.32346471 0.79871772 0.50300989 0.46758081 0.29133243]\n",
      "\n",
      "Total time execution: 0.0625\n",
      "Directory already exists\n",
      "\n",
      "Best Results: 19/20\n",
      "\n",
      "\n",
      "Iteration: 32\n",
      "============================\n",
      "Precision: 0.5738443541752365 Recall: 0.6579972572125152 F1: 0.6062804944161336\n",
      "Weights: [0.80198246 0.58154807 0.23274531 0.87238563 0.77127402 0.49865411]\n",
      "\n",
      "Total time execution: 0.0625\n",
      "Directory already exists\n",
      "\n",
      "Best Results: 20/20\n",
      "\n",
      "\n",
      "Iteration: 1\n",
      "============================\n",
      "Precision: 0.6225222387906211 Recall: 0.6635567632850241 F1: 0.638923793793295\n",
      "Weights: [0.71733782 0.94685468 0.63547537 0.67949446 0.44912787 0.7465238 ]\n",
      "\n",
      "Total time execution: 0.046875\n",
      "Best F1\n",
      "Directory already exists\n",
      "\n",
      "Best Results: 1/20\n",
      "\n",
      "\n",
      "Iteration: 2\n",
      "============================\n",
      "Precision: 0.6142437525709584 Recall: 0.6677210267046927 F1: 0.6351233981638243\n",
      "Weights: [0.37072085 0.34530591 0.11711237 0.12433846 0.22087363 0.08569323]\n",
      "\n",
      "Total time execution: 0.03125\n",
      "Directory already exists\n",
      "\n",
      "Best Results: 2/20\n",
      "\n",
      "\n",
      "Iteration: 3\n",
      "============================\n"
     ]
    },
    {
     "name": "stderr",
     "output_type": "stream",
     "text": [
      "C:\\Users\\semin\\anaconda3\\lib\\site-packages\\sklearn\\metrics\\_classification.py:1221: UndefinedMetricWarning:\n",
      "\n",
      "Recall is ill-defined and being set to 0.0 in labels with no true samples. Use `zero_division` parameter to control this behavior.\n",
      "\n",
      "C:\\Users\\semin\\anaconda3\\lib\\site-packages\\sklearn\\metrics\\_classification.py:1221: UndefinedMetricWarning:\n",
      "\n",
      "Recall is ill-defined and being set to 0.0 in labels with no true samples. Use `zero_division` parameter to control this behavior.\n",
      "\n",
      "C:\\Users\\semin\\anaconda3\\lib\\site-packages\\sklearn\\metrics\\_classification.py:1221: UndefinedMetricWarning:\n",
      "\n",
      "Recall is ill-defined and being set to 0.0 in labels with no true samples. Use `zero_division` parameter to control this behavior.\n",
      "\n",
      "C:\\Users\\semin\\anaconda3\\lib\\site-packages\\sklearn\\metrics\\_classification.py:1221: UndefinedMetricWarning:\n",
      "\n",
      "Recall is ill-defined and being set to 0.0 in labels with no true samples. Use `zero_division` parameter to control this behavior.\n",
      "\n"
     ]
    },
    {
     "name": "stdout",
     "output_type": "stream",
     "text": [
      "Precision: 0.6282008432743726 Recall: 0.6756318751225373 F1: 0.6455566905005108\n",
      "Weights: [0.56066421 0.77983511 0.59211512 0.91821657 0.2784971  0.16168576]\n",
      "\n",
      "Total time execution: 0.0625\n",
      "Best F1\n",
      "Directory already exists\n",
      "\n",
      "Best Results: 1/20\n",
      "\n",
      "\n",
      "Iteration: 4\n",
      "============================\n",
      "Precision: 0.5845266865487453 Recall: 0.6345388532837463 F1: 0.6034230370863343\n",
      "Weights: [0.34355342 0.47978739 0.00555105 0.36387685 0.06279571 0.90940486]\n",
      "\n",
      "Total time execution: 0.0625\n",
      "Directory already exists\n",
      "\n",
      "Best Results: 2/20\n",
      "\n",
      "\n",
      "Iteration: 5\n",
      "============================\n",
      "Precision: 0.40530517276840805 Recall: 0.6313320825515947 F1: 0.4098551534628103\n",
      "Weights: [0.06245275 0.10301471 0.06160729 0.94022039 0.81953519 0.89559139]\n",
      "\n",
      "Total time execution: 0.046875\n",
      "Directory already exists\n",
      "\n",
      "Best Results: 3/20\n",
      "\n",
      "\n",
      "Iteration: 6\n",
      "============================\n",
      "Precision: 0.6303347387906211 Recall: 0.6676217538874418 F1: 0.6455306574735287\n",
      "Weights: [0.10438882 0.53586379 0.42007516 0.46184334 0.30962784 0.91565156]\n",
      "\n",
      "Total time execution: 0.0625\n",
      "Directory already exists\n",
      "\n",
      "Best Results: 4/20\n",
      "\n",
      "\n",
      "Iteration: 7\n",
      "============================\n"
     ]
    },
    {
     "name": "stderr",
     "output_type": "stream",
     "text": [
      "C:\\Users\\semin\\anaconda3\\lib\\site-packages\\sklearn\\metrics\\_classification.py:1221: UndefinedMetricWarning:\n",
      "\n",
      "Recall is ill-defined and being set to 0.0 in labels with no true samples. Use `zero_division` parameter to control this behavior.\n",
      "\n",
      "C:\\Users\\semin\\anaconda3\\lib\\site-packages\\sklearn\\metrics\\_classification.py:1221: UndefinedMetricWarning:\n",
      "\n",
      "Recall is ill-defined and being set to 0.0 in labels with no true samples. Use `zero_division` parameter to control this behavior.\n",
      "\n",
      "C:\\Users\\semin\\anaconda3\\lib\\site-packages\\sklearn\\metrics\\_classification.py:1221: UndefinedMetricWarning:\n",
      "\n",
      "Recall is ill-defined and being set to 0.0 in labels with no true samples. Use `zero_division` parameter to control this behavior.\n",
      "\n",
      "C:\\Users\\semin\\anaconda3\\lib\\site-packages\\sklearn\\metrics\\_classification.py:1221: UndefinedMetricWarning:\n",
      "\n",
      "Recall is ill-defined and being set to 0.0 in labels with no true samples. Use `zero_division` parameter to control this behavior.\n",
      "\n"
     ]
    },
    {
     "name": "stdout",
     "output_type": "stream",
     "text": [
      "Precision: 0.42507584327437264 Recall: 0.5852661314302706 F1: 0.4349544072948328\n",
      "Weights: [0.70076825 0.14013017 0.43634241 0.79678281 0.07654526 0.22903343]\n",
      "\n",
      "Total time execution: 0.046875\n",
      "Directory already exists\n",
      "\n",
      "Best Results: 5/20\n",
      "\n",
      "\n",
      "Iteration: 8\n",
      "============================\n",
      "Precision: 0.37238726347182227 Recall: 0.5641901822457378 F1: 0.39500458996328025\n",
      "Weights: [0.32761622 0.09214837 0.00450575 0.1910114  0.99151092 0.20906447]\n",
      "\n",
      "Total time execution: 0.046875\n",
      "Directory already exists\n",
      "\n",
      "Best Results: 6/20\n",
      "\n",
      "\n",
      "Iteration: 9\n",
      "============================\n",
      "Precision: 0.5395895464829288 Recall: 0.652143780612118 F1: 0.5774870569494226\n",
      "Weights: [0.10287399 0.22417215 0.31977975 0.78989297 0.71691562 0.50558424]\n",
      "\n",
      "Total time execution: 0.0625\n",
      "Directory already exists\n",
      "\n",
      "Best Results: 7/20\n",
      "\n",
      "\n",
      "Iteration: 10\n",
      "============================\n",
      "Precision: 0.5500758432743726 Recall: 0.6696172248803828 F1: 0.5914037031684091\n",
      "Weights: [0.28710277 0.24534629 0.53127563 0.70002876 0.61745861 0.4125731 ]\n",
      "\n",
      "Total time execution: 0.046875\n",
      "Directory already exists\n",
      "\n",
      "Best Results: 8/20\n",
      "\n",
      "\n",
      "Iteration: 11\n",
      "============================\n",
      "Precision: 0.6225222387906211 Recall: 0.6659800181210208 F1: 0.6404479854256648\n",
      "Weights: [0.95404373 0.96314941 0.53191226 0.78691569 0.92233706 0.70859217]\n",
      "\n",
      "Total time execution: 0.0625\n",
      "Directory already exists\n",
      "\n",
      "Best Results: 9/20\n",
      "\n",
      "\n",
      "Iteration: 12\n",
      "============================\n",
      "Precision: 0.6330085355820649 Recall: 0.6772234556614862 F1: 0.6495780590717299\n",
      "Weights: [0.06412417 0.95985372 0.99686426 0.90933189 0.48706955 0.49999731]\n",
      "\n",
      "Total time execution: 0.046875\n",
      "Best F1\n",
      "Directory already exists\n",
      "\n",
      "Best Results: 1/20\n",
      "\n",
      "\n",
      "Iteration: 13\n",
      "============================\n",
      "Precision: 0.5926091371863431 Recall: 0.6645518867924528 F1: 0.6212950855399368\n",
      "Weights: [0.82480679 0.43348029 0.34237605 0.91271819 0.10098901 0.40609075]\n",
      "\n",
      "Total time execution: 0.046875\n",
      "Directory already exists\n",
      "\n",
      "Best Results: 2/20\n",
      "\n",
      "\n",
      "Iteration: 14\n",
      "============================\n"
     ]
    },
    {
     "name": "stderr",
     "output_type": "stream",
     "text": [
      "C:\\Users\\semin\\anaconda3\\lib\\site-packages\\sklearn\\metrics\\_classification.py:1221: UndefinedMetricWarning:\n",
      "\n",
      "Recall is ill-defined and being set to 0.0 in labels with no true samples. Use `zero_division` parameter to control this behavior.\n",
      "\n",
      "C:\\Users\\semin\\anaconda3\\lib\\site-packages\\sklearn\\metrics\\_classification.py:1221: UndefinedMetricWarning:\n",
      "\n",
      "Recall is ill-defined and being set to 0.0 in labels with no true samples. Use `zero_division` parameter to control this behavior.\n",
      "\n",
      "C:\\Users\\semin\\anaconda3\\lib\\site-packages\\sklearn\\metrics\\_classification.py:1221: UndefinedMetricWarning:\n",
      "\n",
      "Recall is ill-defined and being set to 0.0 in labels with no true samples. Use `zero_division` parameter to control this behavior.\n",
      "\n",
      "C:\\Users\\semin\\anaconda3\\lib\\site-packages\\sklearn\\metrics\\_classification.py:1221: UndefinedMetricWarning:\n",
      "\n",
      "Recall is ill-defined and being set to 0.0 in labels with no true samples. Use `zero_division` parameter to control this behavior.\n",
      "\n"
     ]
    },
    {
     "name": "stdout",
     "output_type": "stream",
     "text": [
      "Precision: 0.4277496400658165 Recall: 0.598155929038282 F1: 0.44057677616501145\n",
      "Weights: [0.8396839  0.12782766 0.91782502 0.77320074 0.16450739 0.39061685]\n",
      "\n",
      "Total time execution: 0.0625\n",
      "Directory already exists\n",
      "\n",
      "Best Results: 3/20\n",
      "\n",
      "\n",
      "Iteration: 15\n",
      "============================\n",
      "Precision: 0.5763831756478814 Recall: 0.6568605006105006 F1: 0.6063574912295713\n",
      "Weights: [0.92031386 0.61894865 0.09131757 0.75650858 0.89200858 0.15502206]\n",
      "\n",
      "Total time execution: 0.046875\n",
      "Directory already exists\n",
      "\n",
      "Best Results: 4/20\n",
      "\n",
      "\n",
      "Iteration: 16\n",
      "============================\n",
      "Precision: 0.6225222387906211 Recall: 0.6659800181210208 F1: 0.6404479854256648\n",
      "Weights: [0.60727817 0.77859912 0.23332935 0.25239578 0.40081457 0.77650244]\n",
      "\n",
      "Total time execution: 0.046875\n",
      "Directory already exists\n",
      "\n",
      "Best Results: 5/20\n",
      "\n",
      "\n",
      "Iteration: 17\n",
      "============================\n",
      "Precision: 0.6303347387906211 Recall: 0.6699721892569017 F1: 0.6454943815349906\n",
      "Weights: [0.57817542 0.56271383 0.6634684  0.91408855 0.01972855 0.60152472]\n",
      "\n",
      "Total time execution: 0.046875\n",
      "Directory already exists\n",
      "\n",
      "Best Results: 6/20\n",
      "\n",
      "\n",
      "Iteration: 18\n",
      "============================\n"
     ]
    },
    {
     "name": "stderr",
     "output_type": "stream",
     "text": [
      "C:\\Users\\semin\\anaconda3\\lib\\site-packages\\sklearn\\metrics\\_classification.py:1221: UndefinedMetricWarning:\n",
      "\n",
      "Recall is ill-defined and being set to 0.0 in labels with no true samples. Use `zero_division` parameter to control this behavior.\n",
      "\n",
      "C:\\Users\\semin\\anaconda3\\lib\\site-packages\\sklearn\\metrics\\_classification.py:1221: UndefinedMetricWarning:\n",
      "\n",
      "Recall is ill-defined and being set to 0.0 in labels with no true samples. Use `zero_division` parameter to control this behavior.\n",
      "\n",
      "C:\\Users\\semin\\anaconda3\\lib\\site-packages\\sklearn\\metrics\\_classification.py:1221: UndefinedMetricWarning:\n",
      "\n",
      "Recall is ill-defined and being set to 0.0 in labels with no true samples. Use `zero_division` parameter to control this behavior.\n",
      "\n",
      "C:\\Users\\semin\\anaconda3\\lib\\site-packages\\sklearn\\metrics\\_classification.py:1221: UndefinedMetricWarning:\n",
      "\n",
      "Recall is ill-defined and being set to 0.0 in labels with no true samples. Use `zero_division` parameter to control this behavior.\n",
      "\n"
     ]
    },
    {
     "name": "stdout",
     "output_type": "stream",
     "text": [
      "Precision: 0.6067622634718223 Recall: 0.6435990338164251 F1: 0.6213504104342131\n",
      "Weights: [0.38462758 0.94758658 0.03703966 0.64034292 0.61165128 0.31091043]\n",
      "\n",
      "Total time execution: 0.046875\n",
      "Directory already exists\n",
      "\n",
      "Best Results: 7/20\n",
      "\n",
      "\n",
      "Iteration: 19\n",
      "============================\n",
      "Precision: 0.5783210355820649 Recall: 0.6713398520084567 F1: 0.6135175571418272\n",
      "Weights: [0.042676   0.32868431 0.7008922  0.23578247 0.60828704 0.47525436]\n",
      "\n",
      "Total time execution: 0.046875\n",
      "Directory already exists\n",
      "\n",
      "Best Results: 8/20\n",
      "\n",
      "\n",
      "Iteration: 20\n",
      "============================\n",
      "Precision: 0.5560854586589881 Recall: 0.6595406115954061 F1: 0.5936043522250419\n",
      "Weights: [0.39643631 0.17214147 0.20367579 0.53589301 0.22419345 0.00345917]\n",
      "\n",
      "Total time execution: 0.0625\n",
      "Directory already exists\n",
      "\n",
      "Best Results: 9/20\n",
      "\n",
      "\n",
      "Iteration: 21\n",
      "============================\n",
      "Precision: 0.44417163718634306 Recall: 0.615948275862069 F1: 0.4626485336638912\n",
      "Weights: [0.120531   0.0839714  0.19100472 0.06898805 0.3281291  0.93680808]\n",
      "\n",
      "Total time execution: 0.046875\n",
      "Directory already exists\n",
      "\n",
      "Best Results: 10/20\n",
      "\n",
      "\n",
      "Iteration: 22\n",
      "============================\n"
     ]
    },
    {
     "name": "stderr",
     "output_type": "stream",
     "text": [
      "C:\\Users\\semin\\anaconda3\\lib\\site-packages\\sklearn\\metrics\\_classification.py:1221: UndefinedMetricWarning:\n",
      "\n",
      "Recall is ill-defined and being set to 0.0 in labels with no true samples. Use `zero_division` parameter to control this behavior.\n",
      "\n",
      "C:\\Users\\semin\\anaconda3\\lib\\site-packages\\sklearn\\metrics\\_classification.py:1221: UndefinedMetricWarning:\n",
      "\n",
      "Recall is ill-defined and being set to 0.0 in labels with no true samples. Use `zero_division` parameter to control this behavior.\n",
      "\n",
      "C:\\Users\\semin\\anaconda3\\lib\\site-packages\\sklearn\\metrics\\_classification.py:1221: UndefinedMetricWarning:\n",
      "\n",
      "Recall is ill-defined and being set to 0.0 in labels with no true samples. Use `zero_division` parameter to control this behavior.\n",
      "\n",
      "C:\\Users\\semin\\anaconda3\\lib\\site-packages\\sklearn\\metrics\\_classification.py:1221: UndefinedMetricWarning:\n",
      "\n",
      "Recall is ill-defined and being set to 0.0 in labels with no true samples. Use `zero_division` parameter to control this behavior.\n",
      "\n"
     ]
    },
    {
     "name": "stdout",
     "output_type": "stream",
     "text": [
      "Precision: 0.5799889448786507 Recall: 0.6609004313443566 F1: 0.6114213093639528\n",
      "Weights: [0.18978639 0.54196975 0.65017063 0.76655991 0.94068731 0.35351082]\n",
      "\n",
      "Total time execution: 0.0625\n",
      "Directory already exists\n",
      "\n",
      "Best Results: 11/20\n",
      "\n",
      "\n",
      "Iteration: 23\n",
      "============================\n",
      "Precision: 0.6316716371863431 Recall: 0.6711799187255008 F1: 0.6467634170679856\n",
      "Weights: [0.83407746 0.95868297 0.7815107  0.61521636 0.14774172 0.45952645]\n",
      "\n",
      "Total time execution: 0.0625\n",
      "Directory already exists\n",
      "\n",
      "Best Results: 12/20\n",
      "\n",
      "\n",
      "Iteration: 24\n",
      "============================\n",
      "Precision: 0.5188258432743726 Recall: 0.662374686716792 F1: 0.5616693413400976\n",
      "Weights: [0.78178942 0.19771519 0.31977688 0.29634201 0.25613046 0.38674749]\n",
      "\n",
      "Total time execution: 0.046875\n",
      "Directory already exists\n",
      "\n",
      "Best Results: 13/20\n",
      "\n",
      "\n",
      "Iteration: 25\n",
      "============================\n",
      "Precision: 0.6351424310983134 Recall: 0.6716802380206702 F1: 0.6494265589851385\n",
      "Weights: [0.80953216 0.8410403  0.93148582 0.36450176 0.11815691 0.84093731]\n",
      "\n",
      "Total time execution: 0.046875\n",
      "Directory already exists\n",
      "\n",
      "Best Results: 14/20\n",
      "\n",
      "\n",
      "Iteration: 26\n",
      "============================\n"
     ]
    },
    {
     "name": "stderr",
     "output_type": "stream",
     "text": [
      "C:\\Users\\semin\\anaconda3\\lib\\site-packages\\sklearn\\metrics\\_classification.py:1221: UndefinedMetricWarning:\n",
      "\n",
      "Recall is ill-defined and being set to 0.0 in labels with no true samples. Use `zero_division` parameter to control this behavior.\n",
      "\n",
      "C:\\Users\\semin\\anaconda3\\lib\\site-packages\\sklearn\\metrics\\_classification.py:1221: UndefinedMetricWarning:\n",
      "\n",
      "Recall is ill-defined and being set to 0.0 in labels with no true samples. Use `zero_division` parameter to control this behavior.\n",
      "\n",
      "C:\\Users\\semin\\anaconda3\\lib\\site-packages\\sklearn\\metrics\\_classification.py:1221: UndefinedMetricWarning:\n",
      "\n",
      "Recall is ill-defined and being set to 0.0 in labels with no true samples. Use `zero_division` parameter to control this behavior.\n",
      "\n",
      "C:\\Users\\semin\\anaconda3\\lib\\site-packages\\sklearn\\metrics\\_classification.py:1221: UndefinedMetricWarning:\n",
      "\n",
      "Recall is ill-defined and being set to 0.0 in labels with no true samples. Use `zero_division` parameter to control this behavior.\n",
      "\n"
     ]
    },
    {
     "name": "stdout",
     "output_type": "stream",
     "text": [
      "Precision: 0.6137777663512958 Recall: 0.6717430368373765 F1: 0.63454381225589\n",
      "Weights: [0.13363398 0.59973683 0.07161589 0.1945776  0.25005138 0.05999104]\n",
      "\n",
      "Total time execution: 0.046875\n",
      "Directory already exists\n",
      "\n",
      "Best Results: 15/20\n",
      "\n",
      "\n",
      "Iteration: 27\n",
      "============================\n",
      "Precision: 0.5691716371863431 Recall: 0.6634372571872572 F1: 0.6045400238948626\n",
      "Weights: [0.49292807 0.3716663  0.85233185 0.09925947 0.54012725 0.8150152 ]\n",
      "\n",
      "Total time execution: 0.078125\n",
      "Directory already exists\n",
      "\n",
      "Best Results: 16/20\n",
      "\n",
      "\n",
      "Iteration: 28\n",
      "============================\n",
      "Precision: 0.4137925493624023 Recall: 0.671875 F1: 0.4192791498119367\n",
      "Weights: [0.9081154  0.05605557 0.57391788 0.04426673 0.37758597 0.57478727]\n",
      "\n",
      "Total time execution: 0.0625\n",
      "Directory already exists\n",
      "\n",
      "Best Results: 17/20\n",
      "\n",
      "\n",
      "Iteration: 29\n",
      "============================\n",
      "Precision: 0.5560854586589881 Recall: 0.6595406115954061 F1: 0.5936043522250419\n",
      "Weights: [0.56769009 0.26042339 0.51593199 0.76334555 0.23523426 0.01590648]\n",
      "\n",
      "Total time execution: 0.046875\n",
      "Directory already exists\n",
      "\n",
      "Best Results: 18/20\n",
      "\n"
     ]
    },
    {
     "name": "stderr",
     "output_type": "stream",
     "text": [
      "C:\\Users\\semin\\anaconda3\\lib\\site-packages\\sklearn\\metrics\\_classification.py:1221: UndefinedMetricWarning:\n",
      "\n",
      "Recall is ill-defined and being set to 0.0 in labels with no true samples. Use `zero_division` parameter to control this behavior.\n",
      "\n",
      "C:\\Users\\semin\\anaconda3\\lib\\site-packages\\sklearn\\metrics\\_classification.py:1221: UndefinedMetricWarning:\n",
      "\n",
      "Recall is ill-defined and being set to 0.0 in labels with no true samples. Use `zero_division` parameter to control this behavior.\n",
      "\n",
      "C:\\Users\\semin\\anaconda3\\lib\\site-packages\\sklearn\\metrics\\_classification.py:1221: UndefinedMetricWarning:\n",
      "\n",
      "Recall is ill-defined and being set to 0.0 in labels with no true samples. Use `zero_division` parameter to control this behavior.\n",
      "\n",
      "C:\\Users\\semin\\anaconda3\\lib\\site-packages\\sklearn\\metrics\\_classification.py:1221: UndefinedMetricWarning:\n",
      "\n",
      "Recall is ill-defined and being set to 0.0 in labels with no true samples. Use `zero_division` parameter to control this behavior.\n",
      "\n"
     ]
    },
    {
     "name": "stdout",
     "output_type": "stream",
     "text": [
      "\n",
      "Iteration: 30\n",
      "============================\n",
      "Precision: 0.5778550493624023 Recall: 0.6770369156837046 F1: 0.6144788055707595\n",
      "Weights: [0.91287031 0.36189867 0.85581599 0.2368119  0.2448428  0.06739072]\n",
      "\n",
      "Total time execution: 0.046875\n",
      "Directory already exists\n",
      "\n",
      "Best Results: 19/20\n",
      "\n",
      "\n",
      "Iteration: 31\n",
      "============================\n",
      "Precision: 0.6303347387906211 Recall: 0.670586430085928 F1: 0.6472305723371418\n",
      "Weights: [0.1309055  0.6341558  0.10860824 0.85953106 0.26096727 0.58865935]\n",
      "\n",
      "Total time execution: 0.046875\n",
      "Directory already exists\n",
      "\n",
      "Best Results: 20/20\n",
      "\n",
      "\n",
      "Iteration: 1\n",
      "============================\n",
      "Precision: 0.6185854586589881 Recall: 0.6723873588573176 F1: 0.6372860470937061\n",
      "Weights: [0.30760899 0.80374133 0.70313601 0.10484566 0.58241621 0.01493019]\n",
      "\n",
      "Total time execution: 0.046875\n",
      "Best F1\n",
      "Directory already exists\n",
      "\n",
      "Best Results: 1/20\n",
      "\n",
      "\n",
      "Iteration: 2\n",
      "============================\n"
     ]
    },
    {
     "name": "stderr",
     "output_type": "stream",
     "text": [
      "C:\\Users\\semin\\anaconda3\\lib\\site-packages\\sklearn\\metrics\\_classification.py:1221: UndefinedMetricWarning:\n",
      "\n",
      "Recall is ill-defined and being set to 0.0 in labels with no true samples. Use `zero_division` parameter to control this behavior.\n",
      "\n",
      "C:\\Users\\semin\\anaconda3\\lib\\site-packages\\sklearn\\metrics\\_classification.py:1221: UndefinedMetricWarning:\n",
      "\n",
      "Recall is ill-defined and being set to 0.0 in labels with no true samples. Use `zero_division` parameter to control this behavior.\n",
      "\n",
      "C:\\Users\\semin\\anaconda3\\lib\\site-packages\\sklearn\\metrics\\_classification.py:1221: UndefinedMetricWarning:\n",
      "\n",
      "Recall is ill-defined and being set to 0.0 in labels with no true samples. Use `zero_division` parameter to control this behavior.\n",
      "\n",
      "C:\\Users\\semin\\anaconda3\\lib\\site-packages\\sklearn\\metrics\\_classification.py:1221: UndefinedMetricWarning:\n",
      "\n",
      "Recall is ill-defined and being set to 0.0 in labels with no true samples. Use `zero_division` parameter to control this behavior.\n",
      "\n"
     ]
    },
    {
     "name": "stdout",
     "output_type": "stream",
     "text": [
      "Precision: 0.5676997634718223 Recall: 0.6505790329134498 F1: 0.5995988290144205\n",
      "Weights: [0.94797158 0.37100869 0.05706111 0.53181445 0.326975   0.83573529]\n",
      "\n",
      "Total time execution: 0.046875\n",
      "Directory already exists\n",
      "\n",
      "Best Results: 2/20\n",
      "\n",
      "\n",
      "Iteration: 3\n",
      "============================\n",
      "Precision: 0.6330085355820649 Recall: 0.6788461538461539 F1: 0.6510255363256588\n",
      "Weights: [0.03781879 0.65119566 0.56541921 0.32410852 0.75761426 0.55533192]\n",
      "\n",
      "Total time execution: 0.046875\n",
      "Best F1\n",
      "Directory already exists\n",
      "\n",
      "Best Results: 1/20\n",
      "\n",
      "\n",
      "Iteration: 4\n",
      "============================\n",
      "Precision: 0.6233931509666804 Recall: 0.6740207373271889 F1: 0.6414602574867059\n",
      "Weights: [0.1930443  0.78556262 0.50542511 0.68870672 0.37748824 0.06926465]\n",
      "\n",
      "Total time execution: 0.046875\n",
      "Directory already exists\n",
      "\n",
      "Best Results: 2/20\n",
      "\n",
      "\n",
      "Iteration: 5\n",
      "============================\n",
      "Precision: 0.4073169477581242 Recall: 0.42786304604486425 F1: 0.4064383891970099\n",
      "Weights: [0.28557391 0.0050399  0.45007622 0.97534783 0.40241829 0.39396459]\n",
      "\n",
      "Total time execution: 0.0625\n",
      "Directory already exists\n",
      "\n",
      "Best Results: 3/20\n",
      "\n",
      "\n",
      "Iteration: 6\n",
      "============================\n"
     ]
    },
    {
     "name": "stderr",
     "output_type": "stream",
     "text": [
      "C:\\Users\\semin\\anaconda3\\lib\\site-packages\\sklearn\\metrics\\_classification.py:1221: UndefinedMetricWarning:\n",
      "\n",
      "Recall is ill-defined and being set to 0.0 in labels with no true samples. Use `zero_division` parameter to control this behavior.\n",
      "\n",
      "C:\\Users\\semin\\anaconda3\\lib\\site-packages\\sklearn\\metrics\\_classification.py:1221: UndefinedMetricWarning:\n",
      "\n",
      "Recall is ill-defined and being set to 0.0 in labels with no true samples. Use `zero_division` parameter to control this behavior.\n",
      "\n",
      "C:\\Users\\semin\\anaconda3\\lib\\site-packages\\sklearn\\metrics\\_classification.py:1221: UndefinedMetricWarning:\n",
      "\n",
      "Recall is ill-defined and being set to 0.0 in labels with no true samples. Use `zero_division` parameter to control this behavior.\n",
      "\n",
      "C:\\Users\\semin\\anaconda3\\lib\\site-packages\\sklearn\\metrics\\_classification.py:1221: UndefinedMetricWarning:\n",
      "\n",
      "Recall is ill-defined and being set to 0.0 in labels with no true samples. Use `zero_division` parameter to control this behavior.\n",
      "\n"
     ]
    },
    {
     "name": "stdout",
     "output_type": "stream",
     "text": [
      "Precision: 0.6225222387906211 Recall: 0.6659800181210208 F1: 0.6404479854256648\n",
      "Weights: [0.74555943 0.98550893 0.44471896 0.81932176 0.55754629 0.97267565]\n",
      "\n",
      "Total time execution: 0.0625\n",
      "Directory already exists\n",
      "\n",
      "Best Results: 4/20\n",
      "\n",
      "\n",
      "Iteration: 7\n",
      "============================\n",
      "Precision: 0.4546579339777869 Recall: 0.6370943453053234 F1: 0.4804720133667503\n",
      "Weights: [0.59581723 0.23683244 0.92354893 0.86115358 0.11472702 0.92686244]\n",
      "\n",
      "Total time execution: 0.046875\n",
      "Directory already exists\n",
      "\n",
      "Best Results: 5/20\n",
      "\n",
      "\n",
      "Iteration: 8\n",
      "============================\n",
      "Precision: 0.5153550493624023 Recall: 0.6671460176991151 F1: 0.5604071145226933\n",
      "Weights: [0.95541204 0.21584872 0.6585243  0.11553655 0.36169061 0.21171627]\n",
      "\n",
      "Total time execution: 0.0625\n",
      "Directory already exists\n",
      "\n",
      "Best Results: 6/20\n",
      "\n",
      "\n",
      "Iteration: 9\n",
      "============================\n",
      "Precision: 0.4073169477581242 Recall: 0.42786304604486425 F1: 0.4064383891970099\n",
      "Weights: [0.3865798  0.01555433 0.83299565 0.42776099 0.89912728 0.11762721]\n",
      "\n",
      "Total time execution: 0.0625\n",
      "Directory already exists\n",
      "\n",
      "Best Results: 7/20\n",
      "\n",
      "\n",
      "Iteration: 10\n",
      "============================\n"
     ]
    },
    {
     "name": "stderr",
     "output_type": "stream",
     "text": [
      "C:\\Users\\semin\\anaconda3\\lib\\site-packages\\sklearn\\metrics\\_classification.py:1221: UndefinedMetricWarning:\n",
      "\n",
      "Recall is ill-defined and being set to 0.0 in labels with no true samples. Use `zero_division` parameter to control this behavior.\n",
      "\n",
      "C:\\Users\\semin\\anaconda3\\lib\\site-packages\\sklearn\\metrics\\_classification.py:1221: UndefinedMetricWarning:\n",
      "\n",
      "Recall is ill-defined and being set to 0.0 in labels with no true samples. Use `zero_division` parameter to control this behavior.\n",
      "\n",
      "C:\\Users\\semin\\anaconda3\\lib\\site-packages\\sklearn\\metrics\\_classification.py:1221: UndefinedMetricWarning:\n",
      "\n",
      "Recall is ill-defined and being set to 0.0 in labels with no true samples. Use `zero_division` parameter to control this behavior.\n",
      "\n",
      "C:\\Users\\semin\\anaconda3\\lib\\site-packages\\sklearn\\metrics\\_classification.py:1221: UndefinedMetricWarning:\n",
      "\n",
      "Recall is ill-defined and being set to 0.0 in labels with no true samples. Use `zero_division` parameter to control this behavior.\n",
      "\n"
     ]
    },
    {
     "name": "stdout",
     "output_type": "stream",
     "text": [
      "Precision: 0.5821228403948993 Recall: 0.6519549763033176 F1: 0.6099857188678958\n",
      "Weights: [0.62699895 0.55820065 0.61444692 0.75016311 0.72332392 0.96276172]\n",
      "\n",
      "Total time execution: 0.046875\n",
      "Directory already exists\n",
      "\n",
      "Best Results: 8/20\n",
      "\n",
      "\n",
      "Iteration: 11\n",
      "============================\n",
      "Precision: 0.5861335355820649 Recall: 0.677442897513676 F1: 0.6211634137007271\n",
      "Weights: [0.20505925 0.4109688  0.94692378 0.91968003 0.0762651  0.6720519 ]\n",
      "\n",
      "Total time execution: 0.046875\n",
      "Directory already exists\n",
      "\n",
      "Best Results: 9/20\n",
      "\n",
      "\n",
      "Iteration: 12\n",
      "============================\n",
      "Precision: 0.6068972387906211 Recall: 0.6625994649101196 F1: 0.6298344295883935\n",
      "Weights: [0.58526105 0.91034485 0.87788903 0.94762273 0.85977984 0.64681829]\n",
      "\n",
      "Total time execution: 0.0625\n",
      "Directory already exists\n",
      "\n",
      "Best Results: 10/20\n",
      "\n",
      "\n",
      "Iteration: 13\n",
      "============================\n",
      "Precision: 0.5765181509666804 Recall: 0.6651026026026026 F1: 0.6101096710466047\n",
      "Weights: [0.70235365 0.5223145  0.50957702 0.88596796 0.38705431 0.13790533]\n",
      "\n",
      "Total time execution: 0.046875\n",
      "Directory already exists\n",
      "\n"
     ]
    },
    {
     "name": "stderr",
     "output_type": "stream",
     "text": [
      "C:\\Users\\semin\\anaconda3\\lib\\site-packages\\sklearn\\metrics\\_classification.py:1221: UndefinedMetricWarning:\n",
      "\n",
      "Recall is ill-defined and being set to 0.0 in labels with no true samples. Use `zero_division` parameter to control this behavior.\n",
      "\n",
      "C:\\Users\\semin\\anaconda3\\lib\\site-packages\\sklearn\\metrics\\_classification.py:1221: UndefinedMetricWarning:\n",
      "\n",
      "Recall is ill-defined and being set to 0.0 in labels with no true samples. Use `zero_division` parameter to control this behavior.\n",
      "\n",
      "C:\\Users\\semin\\anaconda3\\lib\\site-packages\\sklearn\\metrics\\_classification.py:1221: UndefinedMetricWarning:\n",
      "\n",
      "Recall is ill-defined and being set to 0.0 in labels with no true samples. Use `zero_division` parameter to control this behavior.\n",
      "\n",
      "C:\\Users\\semin\\anaconda3\\lib\\site-packages\\sklearn\\metrics\\_classification.py:1221: UndefinedMetricWarning:\n",
      "\n",
      "Recall is ill-defined and being set to 0.0 in labels with no true samples. Use `zero_division` parameter to control this behavior.\n",
      "\n"
     ]
    },
    {
     "name": "stdout",
     "output_type": "stream",
     "text": [
      "Best Results: 11/20\n",
      "\n",
      "\n",
      "Iteration: 14\n",
      "============================\n",
      "Precision: 0.6316716371863431 Recall: 0.6730978260869566 F1: 0.6482573454553222\n",
      "Weights: [0.26688025 0.59919214 0.5870369  0.85770525 0.13736523 0.94365244]\n",
      "\n",
      "Total time execution: 0.046875\n",
      "Directory already exists\n",
      "\n",
      "Best Results: 12/20\n",
      "\n",
      "\n",
      "Iteration: 15\n",
      "============================\n",
      "Precision: 0.5544175493624023 Recall: 0.6759426847662141 F1: 0.5969079939668175\n",
      "Weights: [0.94581393 0.32881011 0.55493179 0.05183858 0.92925663 0.33390656]\n",
      "\n",
      "Total time execution: 0.0625\n",
      "Directory already exists\n",
      "\n",
      "Best Results: 13/20\n",
      "\n",
      "\n",
      "Iteration: 16\n",
      "============================\n",
      "Precision: 0.5799889448786507 Recall: 0.6609004313443566 F1: 0.6114213093639528\n",
      "Weights: [0.84596753 0.53776649 0.29241317 0.40877018 0.89206971 0.41339897]\n",
      "\n",
      "Total time execution: 0.046875\n",
      "Directory already exists\n",
      "\n",
      "Best Results: 14/20\n",
      "\n",
      "\n",
      "Iteration: 17\n",
      "============================\n"
     ]
    },
    {
     "name": "stderr",
     "output_type": "stream",
     "text": [
      "C:\\Users\\semin\\anaconda3\\lib\\site-packages\\sklearn\\metrics\\_classification.py:1221: UndefinedMetricWarning:\n",
      "\n",
      "Recall is ill-defined and being set to 0.0 in labels with no true samples. Use `zero_division` parameter to control this behavior.\n",
      "\n",
      "C:\\Users\\semin\\anaconda3\\lib\\site-packages\\sklearn\\metrics\\_classification.py:1221: UndefinedMetricWarning:\n",
      "\n",
      "Recall is ill-defined and being set to 0.0 in labels with no true samples. Use `zero_division` parameter to control this behavior.\n",
      "\n",
      "C:\\Users\\semin\\anaconda3\\lib\\site-packages\\sklearn\\metrics\\_classification.py:1221: UndefinedMetricWarning:\n",
      "\n",
      "Recall is ill-defined and being set to 0.0 in labels with no true samples. Use `zero_division` parameter to control this behavior.\n",
      "\n",
      "C:\\Users\\semin\\anaconda3\\lib\\site-packages\\sklearn\\metrics\\_classification.py:1221: UndefinedMetricWarning:\n",
      "\n",
      "Recall is ill-defined and being set to 0.0 in labels with no true samples. Use `zero_division` parameter to control this behavior.\n",
      "\n"
     ]
    },
    {
     "name": "stdout",
     "output_type": "stream",
     "text": [
      "Precision: 0.6303347387906211 Recall: 0.6676217538874418 F1: 0.6455306574735287\n",
      "Weights: [0.45573791 0.59363569 0.08995685 0.11823031 0.12525134 0.27285253]\n",
      "\n",
      "Total time execution: 0.046875\n",
      "Directory already exists\n",
      "\n",
      "Best Results: 15/20\n",
      "\n",
      "\n",
      "Iteration: 18\n",
      "============================\n",
      "Precision: 0.6276609419991772 Recall: 0.6574099407204742 F1: 0.640196006061685\n",
      "Weights: [0.0012843  0.97614095 0.28555596 0.55471602 0.31506246 0.47081055]\n",
      "\n",
      "Total time execution: 0.046875\n",
      "Directory already exists\n",
      "\n",
      "Best Results: 16/20\n",
      "\n",
      "\n",
      "Iteration: 19\n",
      "============================\n",
      "Precision: 0.6316716371863431 Recall: 0.6711799187255008 F1: 0.6467634170679856\n",
      "Weights: [0.59834064 0.81778419 0.52152993 0.60099206 0.40068434 0.28326768]\n",
      "\n",
      "Total time execution: 0.0625\n",
      "Directory already exists\n",
      "\n",
      "Best Results: 17/20\n",
      "\n",
      "\n",
      "Iteration: 20\n",
      "============================\n",
      "Precision: 0.5253014448786507 Recall: 0.6538885746606334 F1: 0.5652973145780051\n",
      "Weights: [0.94241082 0.21857791 0.2564156  0.22888812 0.20159872 0.61022861]\n",
      "\n",
      "Total time execution: 0.046875\n",
      "Directory already exists\n",
      "\n",
      "Best Results: 18/20\n",
      "\n",
      "\n",
      "Iteration: 21\n",
      "============================\n"
     ]
    },
    {
     "name": "stderr",
     "output_type": "stream",
     "text": [
      "C:\\Users\\semin\\anaconda3\\lib\\site-packages\\sklearn\\metrics\\_classification.py:1221: UndefinedMetricWarning:\n",
      "\n",
      "Recall is ill-defined and being set to 0.0 in labels with no true samples. Use `zero_division` parameter to control this behavior.\n",
      "\n",
      "C:\\Users\\semin\\anaconda3\\lib\\site-packages\\sklearn\\metrics\\_classification.py:1221: UndefinedMetricWarning:\n",
      "\n",
      "Recall is ill-defined and being set to 0.0 in labels with no true samples. Use `zero_division` parameter to control this behavior.\n",
      "\n",
      "C:\\Users\\semin\\anaconda3\\lib\\site-packages\\sklearn\\metrics\\_classification.py:1221: UndefinedMetricWarning:\n",
      "\n",
      "Recall is ill-defined and being set to 0.0 in labels with no true samples. Use `zero_division` parameter to control this behavior.\n",
      "\n",
      "C:\\Users\\semin\\anaconda3\\lib\\site-packages\\sklearn\\metrics\\_classification.py:1221: UndefinedMetricWarning:\n",
      "\n",
      "Recall is ill-defined and being set to 0.0 in labels with no true samples. Use `zero_division` parameter to control this behavior.\n",
      "\n"
     ]
    },
    {
     "name": "stdout",
     "output_type": "stream",
     "text": [
      "Precision: 0.45151815096668035 Recall: 0.6346835799625499 F1: 0.4813639543976623\n",
      "Weights: [0.07265671 0.21257177 0.6716539  0.98122427 0.91133214 0.45175479]\n",
      "\n",
      "Total time execution: 0.046875\n",
      "Directory already exists\n",
      "\n",
      "Best Results: 19/20\n",
      "\n",
      "\n",
      "Iteration: 22\n",
      "============================\n",
      "Precision: 0.6077681509666804 Recall: 0.6720969621913018 F1: 0.6326363661963899\n",
      "Weights: [0.91334573 0.68835933 0.65908059 0.77989836 0.35146771 0.14363269]\n",
      "\n",
      "Total time execution: 0.0625\n",
      "Directory already exists\n",
      "\n",
      "Best Results: 20/20\n",
      "\n",
      "\n",
      "Iteration: 1\n",
      "============================\n",
      "Precision: 0.4587150177374852 Recall: 0.5310269596384604 F1: 0.4840266628038112\n",
      "Weights: [0.49455974 0.24168718 0.44059954 0.57672253 0.16801172 0.00933171]\n",
      "\n",
      "Total time execution: 0.046875\n",
      "Best F1\n",
      "Directory already exists\n",
      "\n",
      "Best Results: 1/20\n",
      "\n",
      "\n",
      "Iteration: 2\n",
      "============================\n",
      "Precision: 0.4843318880567599 Recall: 0.5309704669527038 F1: 0.5019163891971884\n",
      "Weights: [0.43010632 0.42788693 0.64290474 0.51382039 0.27277931 0.50765589]\n",
      "\n",
      "Total time execution: 0.046875\n"
     ]
    },
    {
     "name": "stderr",
     "output_type": "stream",
     "text": [
      "C:\\Users\\semin\\anaconda3\\lib\\site-packages\\sklearn\\metrics\\_classification.py:1221: UndefinedMetricWarning:\n",
      "\n",
      "Recall is ill-defined and being set to 0.0 in labels with no true samples. Use `zero_division` parameter to control this behavior.\n",
      "\n",
      "C:\\Users\\semin\\anaconda3\\lib\\site-packages\\sklearn\\metrics\\_classification.py:1221: UndefinedMetricWarning:\n",
      "\n",
      "Recall is ill-defined and being set to 0.0 in labels with no true samples. Use `zero_division` parameter to control this behavior.\n",
      "\n",
      "C:\\Users\\semin\\anaconda3\\lib\\site-packages\\sklearn\\metrics\\_classification.py:1221: UndefinedMetricWarning:\n",
      "\n",
      "Recall is ill-defined and being set to 0.0 in labels with no true samples. Use `zero_division` parameter to control this behavior.\n",
      "\n",
      "C:\\Users\\semin\\anaconda3\\lib\\site-packages\\sklearn\\metrics\\_classification.py:1221: UndefinedMetricWarning:\n",
      "\n",
      "Recall is ill-defined and being set to 0.0 in labels with no true samples. Use `zero_division` parameter to control this behavior.\n",
      "\n"
     ]
    },
    {
     "name": "stdout",
     "output_type": "stream",
     "text": [
      "Best F1\n",
      "Directory already exists\n",
      "\n",
      "Best Results: 1/20\n",
      "\n",
      "\n",
      "Iteration: 3\n",
      "============================\n",
      "Precision: 0.45638943634213636 Recall: 0.5171817113942352 F1: 0.47859389325207624\n",
      "Weights: [0.79162592 0.38536511 0.11149676 0.73382783 0.58928322 0.62694667]\n",
      "\n",
      "Total time execution: 0.0625\n",
      "Directory already exists\n",
      "\n",
      "Best Results: 2/20\n",
      "\n",
      "\n",
      "Iteration: 4\n",
      "============================\n",
      "Precision: 0.49433188805676 Recall: 0.5342290230260953 F1: 0.5091319010974679\n",
      "Weights: [0.47201255 0.74484069 0.36038029 0.71537002 0.229712   0.79055276]\n",
      "\n",
      "Total time execution: 0.046875\n",
      "Best F1\n",
      "Directory already exists\n",
      "\n",
      "Best Results: 1/20\n",
      "\n",
      "\n",
      "Iteration: 5\n",
      "============================\n",
      "Precision: 0.4970063066614111 Recall: 0.5268316950371613 F1: 0.5072050787528125\n",
      "Weights: [0.41975619 0.49362044 0.03705651 0.72688321 0.17387125 0.13633866]\n",
      "\n",
      "Total time execution: 0.046875\n",
      "Directory already exists\n",
      "\n",
      "Best Results: 2/20\n",
      "\n",
      "\n",
      "Iteration: 6\n",
      "============================\n"
     ]
    },
    {
     "name": "stderr",
     "output_type": "stream",
     "text": [
      "C:\\Users\\semin\\anaconda3\\lib\\site-packages\\sklearn\\metrics\\_classification.py:1221: UndefinedMetricWarning:\n",
      "\n",
      "Recall is ill-defined and being set to 0.0 in labels with no true samples. Use `zero_division` parameter to control this behavior.\n",
      "\n",
      "C:\\Users\\semin\\anaconda3\\lib\\site-packages\\sklearn\\metrics\\_classification.py:1221: UndefinedMetricWarning:\n",
      "\n",
      "Recall is ill-defined and being set to 0.0 in labels with no true samples. Use `zero_division` parameter to control this behavior.\n",
      "\n",
      "C:\\Users\\semin\\anaconda3\\lib\\site-packages\\sklearn\\metrics\\_classification.py:1221: UndefinedMetricWarning:\n",
      "\n",
      "Recall is ill-defined and being set to 0.0 in labels with no true samples. Use `zero_division` parameter to control this behavior.\n",
      "\n",
      "C:\\Users\\semin\\anaconda3\\lib\\site-packages\\sklearn\\metrics\\_classification.py:1221: UndefinedMetricWarning:\n",
      "\n",
      "Recall is ill-defined and being set to 0.0 in labels with no true samples. Use `zero_division` parameter to control this behavior.\n",
      "\n"
     ]
    },
    {
     "name": "stdout",
     "output_type": "stream",
     "text": [
      "Precision: 0.489779266850611 Recall: 0.5284403903158912 F1: 0.5035482159848256\n",
      "Weights: [0.95150906 0.74024319 0.22073089 0.18928054 0.72203096 0.89688046]\n",
      "\n",
      "Total time execution: 0.0625\n",
      "Directory already exists\n",
      "\n",
      "Best Results: 3/20\n",
      "\n",
      "\n",
      "Iteration: 7\n",
      "============================\n",
      "Precision: 0.45977926685061093 Recall: 0.5219436161561399 F1: 0.4825542892916802\n",
      "Weights: [0.95942817 0.32283401 0.0769314  0.32237298 0.62028858 0.22293728]\n",
      "\n",
      "Total time execution: 0.046875\n",
      "Directory already exists\n",
      "\n",
      "Best Results: 4/20\n",
      "\n",
      "\n",
      "Iteration: 8\n",
      "============================\n",
      "Precision: 0.49433188805676 Recall: 0.5342175235041919 F1: 0.5085926228645379\n",
      "Weights: [0.02061452 0.4509269  0.71882071 0.35375903 0.20440213 0.20892539]\n",
      "\n",
      "Total time execution: 0.046875\n",
      "Directory already exists\n",
      "\n",
      "Best Results: 5/20\n",
      "\n",
      "\n",
      "Iteration: 9\n",
      "============================\n",
      "Precision: 0.3571048482459598 Recall: 0.48157894736842105 F1: 0.36996903307352014\n",
      "Weights: [0.87449932 0.22449391 0.87262475 0.94389082 0.51758061 0.9949453 ]\n",
      "\n",
      "Total time execution: 0.046875\n",
      "Directory already exists\n",
      "\n",
      "Best Results: 6/20\n",
      "\n",
      "\n",
      "Iteration: 10\n",
      "============================\n"
     ]
    },
    {
     "name": "stderr",
     "output_type": "stream",
     "text": [
      "C:\\Users\\semin\\anaconda3\\lib\\site-packages\\sklearn\\metrics\\_classification.py:1221: UndefinedMetricWarning:\n",
      "\n",
      "Recall is ill-defined and being set to 0.0 in labels with no true samples. Use `zero_division` parameter to control this behavior.\n",
      "\n",
      "C:\\Users\\semin\\anaconda3\\lib\\site-packages\\sklearn\\metrics\\_classification.py:1221: UndefinedMetricWarning:\n",
      "\n",
      "Recall is ill-defined and being set to 0.0 in labels with no true samples. Use `zero_division` parameter to control this behavior.\n",
      "\n",
      "C:\\Users\\semin\\anaconda3\\lib\\site-packages\\sklearn\\metrics\\_classification.py:1221: UndefinedMetricWarning:\n",
      "\n",
      "Recall is ill-defined and being set to 0.0 in labels with no true samples. Use `zero_division` parameter to control this behavior.\n",
      "\n",
      "C:\\Users\\semin\\anaconda3\\lib\\site-packages\\sklearn\\metrics\\_classification.py:1221: UndefinedMetricWarning:\n",
      "\n",
      "Recall is ill-defined and being set to 0.0 in labels with no true samples. Use `zero_division` parameter to control this behavior.\n",
      "\n"
     ]
    },
    {
     "name": "stdout",
     "output_type": "stream",
     "text": [
      "Precision: 0.4899586125344896 Recall: 0.5121904196509129 F1: 0.49530483578148204\n",
      "Weights: [0.91810234 0.90192516 0.06387505 0.39722188 0.00272245 0.75035495]\n",
      "\n",
      "Total time execution: 0.046875\n",
      "Directory already exists\n",
      "\n",
      "Best Results: 7/20\n",
      "\n",
      "\n",
      "Iteration: 11\n",
      "============================\n",
      "Precision: 0.49316909735908554 Recall: 0.5295268903154897 F1: 0.5064086169584892\n",
      "Weights: [0.82261083 0.67144056 0.78768742 0.09289873 0.90681511 0.40077637]\n",
      "\n",
      "Total time execution: 0.0625\n",
      "Directory already exists\n",
      "\n",
      "Best Results: 8/20\n",
      "\n",
      "\n",
      "Iteration: 12\n",
      "============================\n",
      "Precision: 0.49316909735908554 Recall: 0.5295268903154897 F1: 0.5064086169584892\n",
      "Weights: [0.17976649 0.80302852 0.53553857 0.8142276  0.47482885 0.34140192]\n",
      "\n",
      "Total time execution: 0.046875\n",
      "Directory already exists\n",
      "\n",
      "Best Results: 9/20\n",
      "\n",
      "\n",
      "Iteration: 13\n",
      "============================\n",
      "Precision: 0.336040599132834 Recall: 0.44491525423728817 F1: 0.3363545418167267\n",
      "Weights: [0.97422461 0.09809992 0.96736908 0.48167924 0.73017262 0.08937847]\n",
      "\n",
      "Total time execution: 0.0625\n",
      "Directory already exists\n",
      "\n",
      "Best Results: 10/20\n",
      "\n",
      "\n",
      "Iteration: 14\n",
      "============================\n",
      "Precision: 0.4575522270398108 Recall: 0.5218882769472856 F1: 0.4807282101094632\n",
      "Weights: [0.91975419 0.30780012 0.25816083 0.32329132 0.49920101 0.25083026]\n",
      "\n",
      "Total time execution: 0.0625\n",
      "Directory already exists\n",
      "\n",
      "Best Results: 11/20\n",
      "\n",
      "\n",
      "Iteration: 15\n",
      "============================\n",
      "Precision: 0.4954946787544344 Recall: 0.5389181389181389 F1: 0.5113127065602313\n",
      "Weights: [0.52555858 0.64107735 0.70461829 0.56316531 0.18310301 0.83888274]\n",
      "\n",
      "Total time execution: 0.046875\n",
      "Best F1\n",
      "Directory already exists\n",
      "\n",
      "Best Results: 1/20\n",
      "\n",
      "\n",
      "Iteration: 16\n",
      "============================\n",
      "Precision: 0.48638943634213644 Recall: 0.5238896137497103 F1: 0.49905512675379915\n",
      "Weights: [0.96050725 0.90321275 0.28976764 0.41617717 0.74542619 0.11861247]\n",
      "\n",
      "Total time execution: 0.046875\n",
      "Directory already exists\n",
      "\n",
      "Best Results: 2/20\n",
      "\n",
      "\n",
      "Iteration: 17\n",
      "============================\n"
     ]
    },
    {
     "name": "stderr",
     "output_type": "stream",
     "text": [
      "C:\\Users\\semin\\anaconda3\\lib\\site-packages\\sklearn\\metrics\\_classification.py:1221: UndefinedMetricWarning:\n",
      "\n",
      "Recall is ill-defined and being set to 0.0 in labels with no true samples. Use `zero_division` parameter to control this behavior.\n",
      "\n",
      "C:\\Users\\semin\\anaconda3\\lib\\site-packages\\sklearn\\metrics\\_classification.py:1221: UndefinedMetricWarning:\n",
      "\n",
      "Recall is ill-defined and being set to 0.0 in labels with no true samples. Use `zero_division` parameter to control this behavior.\n",
      "\n",
      "C:\\Users\\semin\\anaconda3\\lib\\site-packages\\sklearn\\metrics\\_classification.py:1221: UndefinedMetricWarning:\n",
      "\n",
      "Recall is ill-defined and being set to 0.0 in labels with no true samples. Use `zero_division` parameter to control this behavior.\n",
      "\n",
      "C:\\Users\\semin\\anaconda3\\lib\\site-packages\\sklearn\\metrics\\_classification.py:1221: UndefinedMetricWarning:\n",
      "\n",
      "Recall is ill-defined and being set to 0.0 in labels with no true samples. Use `zero_division` parameter to control this behavior.\n",
      "\n"
     ]
    },
    {
     "name": "stdout",
     "output_type": "stream",
     "text": [
      "Precision: 0.49933188805676 Recall: 0.5358974358974359 F1: 0.512073540870873\n",
      "Weights: [0.41895602 0.87986232 0.83088417 0.16699569 0.45108206 0.86651568]\n",
      "\n",
      "Total time execution: 0.046875\n",
      "Best F1\n",
      "Directory already exists\n",
      "\n",
      "Best Results: 1/20\n",
      "\n",
      "\n",
      "Iteration: 18\n",
      "============================\n",
      "Precision: 0.489779266850611 Recall: 0.5284403903158912 F1: 0.5035482159848256\n",
      "Weights: [0.75215892 0.85124804 0.82723669 0.30197783 0.55476209 0.83724504]\n",
      "\n",
      "Total time execution: 0.046875\n",
      "Directory already exists\n",
      "\n",
      "Best Results: 2/20\n",
      "\n",
      "\n",
      "Iteration: 19\n",
      "============================\n",
      "Precision: 0.3825522270398108 Recall: 0.48453619909502266 F1: 0.40713955255939993\n",
      "Weights: [0.80482138 0.29043835 0.91605059 0.5674361  0.98972662 0.45855928]\n",
      "\n",
      "Total time execution: 0.0625\n",
      "Directory already exists\n",
      "\n",
      "Best Results: 3/20\n",
      "\n",
      "\n",
      "Iteration: 20\n",
      "============================\n"
     ]
    },
    {
     "name": "stderr",
     "output_type": "stream",
     "text": [
      "C:\\Users\\semin\\anaconda3\\lib\\site-packages\\sklearn\\metrics\\_classification.py:1221: UndefinedMetricWarning:\n",
      "\n",
      "Recall is ill-defined and being set to 0.0 in labels with no true samples. Use `zero_division` parameter to control this behavior.\n",
      "\n",
      "C:\\Users\\semin\\anaconda3\\lib\\site-packages\\sklearn\\metrics\\_classification.py:1221: UndefinedMetricWarning:\n",
      "\n",
      "Recall is ill-defined and being set to 0.0 in labels with no true samples. Use `zero_division` parameter to control this behavior.\n",
      "\n",
      "C:\\Users\\semin\\anaconda3\\lib\\site-packages\\sklearn\\metrics\\_classification.py:1221: UndefinedMetricWarning:\n",
      "\n",
      "Recall is ill-defined and being set to 0.0 in labels with no true samples. Use `zero_division` parameter to control this behavior.\n",
      "\n",
      "C:\\Users\\semin\\anaconda3\\lib\\site-packages\\sklearn\\metrics\\_classification.py:1221: UndefinedMetricWarning:\n",
      "\n",
      "Recall is ill-defined and being set to 0.0 in labels with no true samples. Use `zero_division` parameter to control this behavior.\n",
      "\n"
     ]
    },
    {
     "name": "stdout",
     "output_type": "stream",
     "text": [
      "Precision: 0.4959420575482854 Recall: 0.5349110960847991 F1: 0.509202428733148\n",
      "Weights: [0.09158544 0.64615578 0.56639805 0.00256526 0.61800098 0.96112645]\n",
      "\n",
      "Total time execution: 0.0625\n",
      "Directory already exists\n",
      "\n",
      "Best Results: 4/20\n",
      "\n",
      "\n",
      "Iteration: 21\n",
      "============================\n",
      "Precision: 0.44477926685061087 Recall: 0.5161145617667356 F1: 0.4699632573842516\n",
      "Weights: [0.37926719 0.24992493 0.05301212 0.46915827 0.90770394 0.66082399]\n",
      "\n",
      "Total time execution: 0.046875\n",
      "Directory already exists\n",
      "\n",
      "Best Results: 5/20\n",
      "\n",
      "\n",
      "Iteration: 22\n",
      "============================\n",
      "Precision: 0.4959420575482854 Recall: 0.5349110960847991 F1: 0.509202428733148\n",
      "Weights: [0.76158866 0.71502513 0.6007041  0.56806736 0.03117521 0.25212365]\n",
      "\n",
      "Total time execution: 0.046875\n",
      "Directory already exists\n",
      "\n",
      "Best Results: 6/20\n",
      "\n",
      "\n",
      "Iteration: 23\n",
      "============================\n",
      "Precision: 0.49433188805676 Recall: 0.5342290230260953 F1: 0.5091319010974679\n",
      "Weights: [0.5572196  0.56555216 0.34407922 0.42240866 0.26045002 0.92516061]\n",
      "\n",
      "Total time execution: 0.046875\n",
      "Directory already exists\n",
      "\n",
      "Best Results: 7/20\n",
      "\n",
      "\n",
      "Iteration: 24\n",
      "============================\n"
     ]
    },
    {
     "name": "stderr",
     "output_type": "stream",
     "text": [
      "C:\\Users\\semin\\anaconda3\\lib\\site-packages\\sklearn\\metrics\\_classification.py:1221: UndefinedMetricWarning:\n",
      "\n",
      "Recall is ill-defined and being set to 0.0 in labels with no true samples. Use `zero_division` parameter to control this behavior.\n",
      "\n",
      "C:\\Users\\semin\\anaconda3\\lib\\site-packages\\sklearn\\metrics\\_classification.py:1221: UndefinedMetricWarning:\n",
      "\n",
      "Recall is ill-defined and being set to 0.0 in labels with no true samples. Use `zero_division` parameter to control this behavior.\n",
      "\n",
      "C:\\Users\\semin\\anaconda3\\lib\\site-packages\\sklearn\\metrics\\_classification.py:1221: UndefinedMetricWarning:\n",
      "\n",
      "Recall is ill-defined and being set to 0.0 in labels with no true samples. Use `zero_division` parameter to control this behavior.\n",
      "\n",
      "C:\\Users\\semin\\anaconda3\\lib\\site-packages\\sklearn\\metrics\\_classification.py:1221: UndefinedMetricWarning:\n",
      "\n",
      "Recall is ill-defined and being set to 0.0 in labels with no true samples. Use `zero_division` parameter to control this behavior.\n",
      "\n"
     ]
    },
    {
     "name": "stdout",
     "output_type": "stream",
     "text": [
      "Precision: 0.49772171856523456 Recall: 0.5353106353106354 F1: 0.511949258002445\n",
      "Weights: [0.01883512 0.39661944 0.11097944 0.65705056 0.18024996 0.75499643]\n",
      "\n",
      "Total time execution: 0.046875\n",
      "Directory already exists\n",
      "\n",
      "Best Results: 8/20\n",
      "\n",
      "\n",
      "Iteration: 25\n",
      "============================\n",
      "Precision: 0.49138943634213633 Recall: 0.5304081632653062 F1: 0.5040974967061924\n",
      "Weights: [0.3080441  0.76756799 0.14988575 0.59296327 0.14887551 0.05038711]\n",
      "\n",
      "Total time execution: 0.046875\n",
      "Directory already exists\n",
      "\n",
      "Best Results: 9/20\n",
      "\n",
      "\n",
      "Iteration: 26\n",
      "============================\n",
      "Precision: 0.49316909735908554 Recall: 0.5295268903154897 F1: 0.5064086169584892\n",
      "Weights: [0.9755773  0.66515966 0.44543069 0.59262774 0.63121055 0.37025278]\n",
      "\n",
      "Total time execution: 0.0625\n",
      "Directory already exists\n",
      "\n",
      "Best Results: 10/20\n",
      "\n",
      "\n",
      "Iteration: 27\n",
      "============================\n",
      "Precision: 0.49094205754828535 Recall: 0.5332399735480609 F1: 0.5057241857241856\n",
      "Weights: [0.69041645 0.8590386  0.91570944 0.06146332 0.9822205  0.87140328]\n",
      "\n",
      "Total time execution: 0.046875\n",
      "Directory already exists\n",
      "\n",
      "Best Results: 11/20\n",
      "\n",
      "\n",
      "Iteration: 28\n",
      "============================\n"
     ]
    },
    {
     "name": "stderr",
     "output_type": "stream",
     "text": [
      "C:\\Users\\semin\\anaconda3\\lib\\site-packages\\sklearn\\metrics\\_classification.py:1221: UndefinedMetricWarning:\n",
      "\n",
      "Recall is ill-defined and being set to 0.0 in labels with no true samples. Use `zero_division` parameter to control this behavior.\n",
      "\n",
      "C:\\Users\\semin\\anaconda3\\lib\\site-packages\\sklearn\\metrics\\_classification.py:1221: UndefinedMetricWarning:\n",
      "\n",
      "Recall is ill-defined and being set to 0.0 in labels with no true samples. Use `zero_division` parameter to control this behavior.\n",
      "\n",
      "C:\\Users\\semin\\anaconda3\\lib\\site-packages\\sklearn\\metrics\\_classification.py:1221: UndefinedMetricWarning:\n",
      "\n",
      "Recall is ill-defined and being set to 0.0 in labels with no true samples. Use `zero_division` parameter to control this behavior.\n",
      "\n",
      "C:\\Users\\semin\\anaconda3\\lib\\site-packages\\sklearn\\metrics\\_classification.py:1221: UndefinedMetricWarning:\n",
      "\n",
      "Recall is ill-defined and being set to 0.0 in labels with no true samples. Use `zero_division` parameter to control this behavior.\n",
      "\n"
     ]
    },
    {
     "name": "stdout",
     "output_type": "stream",
     "text": [
      "Precision: 0.49316909735908554 Recall: 0.5295268903154897 F1: 0.5064086169584892\n",
      "Weights: [0.37724682 0.85559659 0.82459145 0.39691542 0.76239588 0.81839511]\n",
      "\n",
      "Total time execution: 0.0625\n",
      "Directory already exists\n",
      "\n",
      "Best Results: 12/20\n",
      "\n",
      "\n",
      "Iteration: 29\n",
      "============================\n",
      "Precision: 0.49316909735908554 Recall: 0.5295268903154897 F1: 0.5064086169584892\n",
      "Weights: [0.34200474 0.68406817 0.48898919 0.48691199 0.23227297 0.77620274]\n",
      "\n",
      "Total time execution: 0.046875\n",
      "Directory already exists\n",
      "\n",
      "Best Results: 13/20\n",
      "\n",
      "\n",
      "Iteration: 30\n",
      "============================\n",
      "Precision: 0.4954946787544344 Recall: 0.5389181389181389 F1: 0.5113127065602313\n",
      "Weights: [0.26852281 0.65876991 0.93384618 0.74155125 0.15829995 0.74174479]\n",
      "\n",
      "Total time execution: 0.0625\n",
      "Directory already exists\n",
      "\n",
      "Best Results: 14/20\n",
      "\n",
      "\n",
      "Iteration: 31\n",
      "============================\n",
      "Precision: 0.4886164761529366 Recall: 0.5238553193615267 F1: 0.5014000918092989\n",
      "Weights: [0.24423896 0.58515492 0.11365926 0.3255657  0.95021332 0.31046014]\n",
      "\n",
      "Total time execution: 0.03125\n",
      "Directory already exists\n",
      "\n",
      "Best Results: 15/20\n",
      "\n",
      "\n",
      "Iteration: 32\n",
      "============================\n"
     ]
    },
    {
     "name": "stderr",
     "output_type": "stream",
     "text": [
      "C:\\Users\\semin\\anaconda3\\lib\\site-packages\\sklearn\\metrics\\_classification.py:1221: UndefinedMetricWarning:\n",
      "\n",
      "Recall is ill-defined and being set to 0.0 in labels with no true samples. Use `zero_division` parameter to control this behavior.\n",
      "\n",
      "C:\\Users\\semin\\anaconda3\\lib\\site-packages\\sklearn\\metrics\\_classification.py:1221: UndefinedMetricWarning:\n",
      "\n",
      "Recall is ill-defined and being set to 0.0 in labels with no true samples. Use `zero_division` parameter to control this behavior.\n",
      "\n",
      "C:\\Users\\semin\\anaconda3\\lib\\site-packages\\sklearn\\metrics\\_classification.py:1221: UndefinedMetricWarning:\n",
      "\n",
      "Recall is ill-defined and being set to 0.0 in labels with no true samples. Use `zero_division` parameter to control this behavior.\n",
      "\n",
      "C:\\Users\\semin\\anaconda3\\lib\\site-packages\\sklearn\\metrics\\_classification.py:1221: UndefinedMetricWarning:\n",
      "\n",
      "Recall is ill-defined and being set to 0.0 in labels with no true samples. Use `zero_division` parameter to control this behavior.\n",
      "\n"
     ]
    },
    {
     "name": "stdout",
     "output_type": "stream",
     "text": [
      "Precision: 0.4986164761529365 Recall: 0.5281607337428308 F1: 0.5072744235639077\n",
      "Weights: [5.45209112e-01 7.94836170e-01 8.91619207e-01 3.44835381e-04\n",
      " 1.32063304e-01 9.42523405e-01]\n",
      "\n",
      "Total time execution: 0.0625\n",
      "Directory already exists\n",
      "\n",
      "Best Results: 16/20\n",
      "\n",
      "\n",
      "Iteration: 33\n",
      "============================\n",
      "Precision: 0.33987780843515963 Recall: 0.4452991452991453 F1: 0.34485317638026997\n",
      "Weights: [0.65399201 0.09745951 0.71480839 0.72434821 0.57969714 0.11868302]\n",
      "\n",
      "Total time execution: 0.046875\n",
      "Directory already exists\n",
      "\n",
      "Best Results: 17/20\n",
      "\n",
      "\n",
      "Iteration: 34\n",
      "============================\n",
      "Precision: 0.4970063066614111 Recall: 0.5268316950371613 F1: 0.5072050787528125\n",
      "Weights: [0.2529207  0.91233433 0.33014584 0.39910619 0.5256983  0.46024739]\n",
      "\n",
      "Total time execution: 0.0625\n",
      "Directory already exists\n",
      "\n",
      "Best Results: 18/20\n",
      "\n",
      "\n",
      "Iteration: 35\n",
      "============================\n",
      "Precision: 0.3621048482459598 Recall: 0.48937486889028736 F1: 0.3778394004814015\n",
      "Weights: [0.1245118  0.10333573 0.35176335 0.3177388  0.27042642 0.81776815]\n",
      "\n",
      "Total time execution: 0.0625\n",
      "Directory already exists\n",
      "\n",
      "Best Results: 19/20\n",
      "\n",
      "\n",
      "Iteration: 36\n",
      "============================\n"
     ]
    },
    {
     "name": "stderr",
     "output_type": "stream",
     "text": [
      "C:\\Users\\semin\\anaconda3\\lib\\site-packages\\sklearn\\metrics\\_classification.py:1221: UndefinedMetricWarning:\n",
      "\n",
      "Recall is ill-defined and being set to 0.0 in labels with no true samples. Use `zero_division` parameter to control this behavior.\n",
      "\n",
      "C:\\Users\\semin\\anaconda3\\lib\\site-packages\\sklearn\\metrics\\_classification.py:1221: UndefinedMetricWarning:\n",
      "\n",
      "Recall is ill-defined and being set to 0.0 in labels with no true samples. Use `zero_division` parameter to control this behavior.\n",
      "\n",
      "C:\\Users\\semin\\anaconda3\\lib\\site-packages\\sklearn\\metrics\\_classification.py:1221: UndefinedMetricWarning:\n",
      "\n",
      "Recall is ill-defined and being set to 0.0 in labels with no true samples. Use `zero_division` parameter to control this behavior.\n",
      "\n",
      "C:\\Users\\semin\\anaconda3\\lib\\site-packages\\sklearn\\metrics\\_classification.py:1221: UndefinedMetricWarning:\n",
      "\n",
      "Recall is ill-defined and being set to 0.0 in labels with no true samples. Use `zero_division` parameter to control this behavior.\n",
      "\n"
     ]
    },
    {
     "name": "stdout",
     "output_type": "stream",
     "text": [
      "Precision: 0.5015589278675601 Recall: 0.5323048085934684 F1: 0.5127090649136273\n",
      "Weights: [0.04385298 0.84178656 0.23496641 0.57090674 0.48276522 0.80921903]\n",
      "\n",
      "Total time execution: 0.046875\n",
      "Best F1\n",
      "Directory already exists\n",
      "\n",
      "Best Results: 1/20\n",
      "\n",
      "\n",
      "Iteration: 37\n",
      "============================\n",
      "Precision: 0.5003961371698857 Recall: 0.527918161286037 F1: 0.5105448773525764\n",
      "Weights: [0.12119148 0.92419049 0.15273709 0.27660649 0.60779934 0.95839139]\n",
      "\n",
      "Total time execution: 0.046875\n",
      "Directory already exists\n",
      "\n",
      "Best Results: 2/20\n",
      "\n",
      "\n",
      "Iteration: 38\n",
      "============================\n",
      "Precision: 0.4893318880567599 Recall: 0.5326168663377966 F1: 0.505563830083954\n",
      "Weights: [0.3648466  0.29217476 0.16470507 0.08049072 0.45894535 0.39162958]\n",
      "\n",
      "Total time execution: 0.046875\n",
      "Directory already exists\n",
      "\n",
      "Best Results: 3/20\n",
      "\n",
      "\n",
      "Iteration: 39\n",
      "============================\n",
      "Precision: 0.49316909735908554 Recall: 0.5295268903154897 F1: 0.5064086169584892\n",
      "Weights: [0.60742355 0.74070671 0.455235   0.41477896 0.58666419 0.44005827]\n",
      "\n",
      "Total time execution: 0.046875\n",
      "Directory already exists\n",
      "\n"
     ]
    },
    {
     "name": "stderr",
     "output_type": "stream",
     "text": [
      "C:\\Users\\semin\\anaconda3\\lib\\site-packages\\sklearn\\metrics\\_classification.py:1221: UndefinedMetricWarning:\n",
      "\n",
      "Recall is ill-defined and being set to 0.0 in labels with no true samples. Use `zero_division` parameter to control this behavior.\n",
      "\n",
      "C:\\Users\\semin\\anaconda3\\lib\\site-packages\\sklearn\\metrics\\_classification.py:1221: UndefinedMetricWarning:\n",
      "\n",
      "Recall is ill-defined and being set to 0.0 in labels with no true samples. Use `zero_division` parameter to control this behavior.\n",
      "\n",
      "C:\\Users\\semin\\anaconda3\\lib\\site-packages\\sklearn\\metrics\\_classification.py:1221: UndefinedMetricWarning:\n",
      "\n",
      "Recall is ill-defined and being set to 0.0 in labels with no true samples. Use `zero_division` parameter to control this behavior.\n",
      "\n",
      "C:\\Users\\semin\\anaconda3\\lib\\site-packages\\sklearn\\metrics\\_classification.py:1221: UndefinedMetricWarning:\n",
      "\n",
      "Recall is ill-defined and being set to 0.0 in labels with no true samples. Use `zero_division` parameter to control this behavior.\n",
      "\n"
     ]
    },
    {
     "name": "stdout",
     "output_type": "stream",
     "text": [
      "Best Results: 4/20\n",
      "\n",
      "\n",
      "Iteration: 40\n",
      "============================\n",
      "Precision: 0.49433188805676 Recall: 0.5342290230260953 F1: 0.5091319010974679\n",
      "Weights: [0.64218539 0.34075097 0.20437931 0.22579629 0.15091125 0.29614736]\n",
      "\n",
      "Total time execution: 0.046875\n",
      "Directory already exists\n",
      "\n",
      "Best Results: 5/20\n",
      "\n",
      "\n",
      "Iteration: 41\n",
      "============================\n",
      "Precision: 0.4525522270398108 Recall: 0.5239855072463768 F1: 0.477741607556911\n",
      "Weights: [0.56357736 0.18631165 0.07933499 0.2355295  0.47891142 0.22980928]\n",
      "\n",
      "Total time execution: 0.0625\n",
      "Directory already exists\n",
      "\n",
      "Best Results: 6/20\n",
      "\n",
      "\n",
      "Iteration: 42\n",
      "============================\n",
      "Precision: 0.49316909735908554 Recall: 0.5295268903154897 F1: 0.5064086169584892\n",
      "Weights: [0.62964612 0.66734716 0.73713191 0.31204051 0.62695347 0.88326599]\n",
      "\n",
      "Total time execution: 0.0625\n",
      "Directory already exists\n",
      "\n",
      "Best Results: 7/20\n",
      "\n",
      "\n",
      "Iteration: 43\n",
      "============================\n"
     ]
    },
    {
     "name": "stderr",
     "output_type": "stream",
     "text": [
      "C:\\Users\\semin\\anaconda3\\lib\\site-packages\\sklearn\\metrics\\_classification.py:1221: UndefinedMetricWarning:\n",
      "\n",
      "Recall is ill-defined and being set to 0.0 in labels with no true samples. Use `zero_division` parameter to control this behavior.\n",
      "\n",
      "C:\\Users\\semin\\anaconda3\\lib\\site-packages\\sklearn\\metrics\\_classification.py:1221: UndefinedMetricWarning:\n",
      "\n",
      "Recall is ill-defined and being set to 0.0 in labels with no true samples. Use `zero_division` parameter to control this behavior.\n",
      "\n",
      "C:\\Users\\semin\\anaconda3\\lib\\site-packages\\sklearn\\metrics\\_classification.py:1221: UndefinedMetricWarning:\n",
      "\n",
      "Recall is ill-defined and being set to 0.0 in labels with no true samples. Use `zero_division` parameter to control this behavior.\n",
      "\n",
      "C:\\Users\\semin\\anaconda3\\lib\\site-packages\\sklearn\\metrics\\_classification.py:1221: UndefinedMetricWarning:\n",
      "\n",
      "Recall is ill-defined and being set to 0.0 in labels with no true samples. Use `zero_division` parameter to control this behavior.\n",
      "\n"
     ]
    },
    {
     "name": "stdout",
     "output_type": "stream",
     "text": [
      "Precision: 0.49316909735908554 Recall: 0.5295268903154897 F1: 0.5064086169584892\n",
      "Weights: [0.69031352 0.92457887 0.7674902  0.27100055 0.59052264 0.87639882]\n",
      "\n",
      "Total time execution: 0.046875\n",
      "Directory already exists\n",
      "\n",
      "Best Results: 8/20\n",
      "\n",
      "\n",
      "Iteration: 44\n",
      "============================\n",
      "Precision: 0.46549467875443434 Recall: 0.5286663052317702 F1: 0.48864234490575215\n",
      "Weights: [0.28179166 0.18817708 0.38832524 0.06106796 0.18927869 0.25739586]\n",
      "\n",
      "Total time execution: 0.0625\n",
      "Directory already exists\n",
      "\n",
      "Best Results: 9/20\n",
      "\n",
      "\n",
      "Iteration: 45\n",
      "============================\n",
      "Precision: 0.4847792668506109 Recall: 0.5267306267306268 F1: 0.49999534316366\n",
      "Weights: [0.63023527 0.56733296 0.58172782 0.48032379 0.67098578 0.14184365]\n",
      "\n",
      "Total time execution: 0.046875\n",
      "Directory already exists\n",
      "\n",
      "Best Results: 10/20\n",
      "\n",
      "\n",
      "Iteration: 46\n",
      "============================\n",
      "Precision: 0.4832676389436342 Recall: 0.5399093711379745 F1: 0.503980343980344\n",
      "Weights: [0.45802872 0.42997899 0.6742599  0.01410776 0.7453111  0.65834117]\n",
      "\n",
      "Total time execution: 0.046875\n",
      "Directory already exists\n",
      "\n",
      "Best Results: 11/20\n",
      "\n",
      "\n",
      "Iteration: 47\n",
      "============================\n"
     ]
    },
    {
     "name": "stderr",
     "output_type": "stream",
     "text": [
      "C:\\Users\\semin\\anaconda3\\lib\\site-packages\\sklearn\\metrics\\_classification.py:1221: UndefinedMetricWarning:\n",
      "\n",
      "Recall is ill-defined and being set to 0.0 in labels with no true samples. Use `zero_division` parameter to control this behavior.\n",
      "\n",
      "C:\\Users\\semin\\anaconda3\\lib\\site-packages\\sklearn\\metrics\\_classification.py:1221: UndefinedMetricWarning:\n",
      "\n",
      "Recall is ill-defined and being set to 0.0 in labels with no true samples. Use `zero_division` parameter to control this behavior.\n",
      "\n",
      "C:\\Users\\semin\\anaconda3\\lib\\site-packages\\sklearn\\metrics\\_classification.py:1221: UndefinedMetricWarning:\n",
      "\n",
      "Recall is ill-defined and being set to 0.0 in labels with no true samples. Use `zero_division` parameter to control this behavior.\n",
      "\n",
      "C:\\Users\\semin\\anaconda3\\lib\\site-packages\\sklearn\\metrics\\_classification.py:1221: UndefinedMetricWarning:\n",
      "\n",
      "Recall is ill-defined and being set to 0.0 in labels with no true samples. Use `zero_division` parameter to control this behavior.\n",
      "\n"
     ]
    },
    {
     "name": "stdout",
     "output_type": "stream",
     "text": [
      "Precision: 0.49316909735908554 Recall: 0.5295268903154897 F1: 0.5064086169584892\n",
      "Weights: [0.16569995 0.77802065 0.31253063 0.92839234 0.66892416 0.75613041]\n",
      "\n",
      "Total time execution: 0.0625\n",
      "Directory already exists\n",
      "\n",
      "Best Results: 12/20\n",
      "\n",
      "\n",
      "Iteration: 48\n",
      "============================\n",
      "Precision: 0.4970063066614111 Recall: 0.5268316950371613 F1: 0.5072050787528125\n",
      "Weights: [0.07761839 0.94007848 0.6725038  0.46087578 0.94263568 0.29788143]\n",
      "\n",
      "Total time execution: 0.046875\n",
      "Directory already exists\n",
      "\n",
      "Best Results: 13/20\n",
      "\n",
      "\n",
      "Iteration: 49\n",
      "============================\n",
      "Precision: 0.49316909735908554 Recall: 0.5295268903154897 F1: 0.5064086169584892\n",
      "Weights: [0.52115866 0.93010862 0.73986196 0.68585182 0.85921975 0.53993253]\n",
      "\n",
      "Total time execution: 0.0625\n",
      "Directory already exists\n",
      "\n",
      "Best Results: 14/20\n",
      "\n",
      "\n",
      "Iteration: 50\n",
      "============================\n",
      "Precision: 0.5020063066614111 Recall: 0.5291635825314581 F1: 0.5101477043795258\n",
      "Weights: [0.07531771 0.83754588 0.20737621 0.08303701 0.10490997 0.31166105]\n",
      "\n",
      "Total time execution: 0.046875\n",
      "Directory already exists\n",
      "\n",
      "Best Results: 15/20\n",
      "\n",
      "\n",
      "Iteration: 51\n",
      "============================\n"
     ]
    },
    {
     "name": "stderr",
     "output_type": "stream",
     "text": [
      "C:\\Users\\semin\\anaconda3\\lib\\site-packages\\sklearn\\metrics\\_classification.py:1221: UndefinedMetricWarning:\n",
      "\n",
      "Recall is ill-defined and being set to 0.0 in labels with no true samples. Use `zero_division` parameter to control this behavior.\n",
      "\n",
      "C:\\Users\\semin\\anaconda3\\lib\\site-packages\\sklearn\\metrics\\_classification.py:1221: UndefinedMetricWarning:\n",
      "\n",
      "Recall is ill-defined and being set to 0.0 in labels with no true samples. Use `zero_division` parameter to control this behavior.\n",
      "\n",
      "C:\\Users\\semin\\anaconda3\\lib\\site-packages\\sklearn\\metrics\\_classification.py:1221: UndefinedMetricWarning:\n",
      "\n",
      "Recall is ill-defined and being set to 0.0 in labels with no true samples. Use `zero_division` parameter to control this behavior.\n",
      "\n",
      "C:\\Users\\semin\\anaconda3\\lib\\site-packages\\sklearn\\metrics\\_classification.py:1221: UndefinedMetricWarning:\n",
      "\n",
      "Recall is ill-defined and being set to 0.0 in labels with no true samples. Use `zero_division` parameter to control this behavior.\n",
      "\n"
     ]
    },
    {
     "name": "stdout",
     "output_type": "stream",
     "text": [
      "Precision: 0.34283011430823807 Recall: 0.4916459627329193 F1: 0.35864712543023114\n",
      "Weights: [0.90755714 0.09523216 0.04106464 0.36536693 0.90790233 0.02086068]\n",
      "\n",
      "Total time execution: 0.0625\n",
      "Directory already exists\n",
      "\n",
      "Best Results: 16/20\n",
      "\n",
      "\n",
      "Iteration: 52\n",
      "============================\n",
      "Precision: 0.3959420575482854 Recall: 0.4938263977759146 F1: 0.4208414579469997\n",
      "Weights: [0.23916466 0.14163147 0.0944057  0.00450329 0.59957931 0.86369616]\n",
      "\n",
      "Total time execution: 0.0625\n",
      "Directory already exists\n",
      "\n",
      "Best Results: 17/20\n",
      "\n",
      "\n",
      "Iteration: 53\n",
      "============================\n",
      "Precision: 0.336040599132834 Recall: 0.5399152542372881 F1: 0.3349789139602626\n",
      "Weights: [0.92546868 0.09099944 0.43747335 0.59433241 0.78905395 0.77741479]\n",
      "\n",
      "Total time execution: 0.0625\n",
      "Directory already exists\n",
      "\n",
      "Best Results: 18/20\n",
      "\n",
      "\n",
      "Iteration: 54\n",
      "============================\n",
      "Precision: 0.4918368151359874 Recall: 0.5252414136386262 F1: 0.5018713707119504\n",
      "Weights: [0.12467642 0.86933106 0.01438992 0.80467847 0.81421691 0.89745771]\n",
      "\n",
      "Total time execution: 0.03125\n",
      "Directory already exists\n",
      "\n",
      "Best Results: 19/20\n",
      "\n",
      "\n",
      "Iteration: 55\n",
      "============================\n"
     ]
    },
    {
     "name": "stderr",
     "output_type": "stream",
     "text": [
      "C:\\Users\\semin\\anaconda3\\lib\\site-packages\\sklearn\\metrics\\_classification.py:1221: UndefinedMetricWarning:\n",
      "\n",
      "Recall is ill-defined and being set to 0.0 in labels with no true samples. Use `zero_division` parameter to control this behavior.\n",
      "\n",
      "C:\\Users\\semin\\anaconda3\\lib\\site-packages\\sklearn\\metrics\\_classification.py:1221: UndefinedMetricWarning:\n",
      "\n",
      "Recall is ill-defined and being set to 0.0 in labels with no true samples. Use `zero_division` parameter to control this behavior.\n",
      "\n",
      "C:\\Users\\semin\\anaconda3\\lib\\site-packages\\sklearn\\metrics\\_classification.py:1221: UndefinedMetricWarning:\n",
      "\n",
      "Recall is ill-defined and being set to 0.0 in labels with no true samples. Use `zero_division` parameter to control this behavior.\n",
      "\n",
      "C:\\Users\\semin\\anaconda3\\lib\\site-packages\\sklearn\\metrics\\_classification.py:1221: UndefinedMetricWarning:\n",
      "\n",
      "Recall is ill-defined and being set to 0.0 in labels with no true samples. Use `zero_division` parameter to control this behavior.\n",
      "\n"
     ]
    },
    {
     "name": "stdout",
     "output_type": "stream",
     "text": [
      "Precision: 0.4891623965313362 Recall: 0.5329467852080917 F1: 0.5033227238829614\n",
      "Weights: [0.12092304 0.40605709 0.60907155 0.10801763 0.07258938 0.00703698]\n",
      "\n",
      "Total time execution: 0.0625\n",
      "Directory already exists\n",
      "\n",
      "Best Results: 20/20\n",
      "\n",
      "\n",
      "Iteration: 1\n",
      "============================\n",
      "Precision: 0.47433188805675996 Recall: 0.527108156695514 F1: 0.4938884468839609\n",
      "Weights: [0.09641291 0.47653951 0.75852726 0.41717278 0.46494343 0.94315823]\n",
      "\n",
      "Total time execution: 0.046875\n",
      "Best F1\n",
      "Directory already exists\n",
      "\n",
      "Best Results: 1/20\n",
      "\n",
      "\n",
      "Iteration: 2\n",
      "============================\n",
      "Precision: 0.5008435159637367 Recall: 0.5244774363233666 F1: 0.5079566535807569\n",
      "Weights: [0.13106419 0.94238341 0.15178074 0.38009102 0.9254081  0.4580117 ]\n",
      "\n",
      "Total time execution: 0.046875\n",
      "Best F1\n",
      "Directory already exists\n",
      "\n",
      "Best Results: 1/20\n",
      "\n",
      "\n",
      "Iteration: 3\n",
      "============================\n"
     ]
    },
    {
     "name": "stderr",
     "output_type": "stream",
     "text": [
      "C:\\Users\\semin\\anaconda3\\lib\\site-packages\\sklearn\\metrics\\_classification.py:1221: UndefinedMetricWarning:\n",
      "\n",
      "Recall is ill-defined and being set to 0.0 in labels with no true samples. Use `zero_division` parameter to control this behavior.\n",
      "\n",
      "C:\\Users\\semin\\anaconda3\\lib\\site-packages\\sklearn\\metrics\\_classification.py:1221: UndefinedMetricWarning:\n",
      "\n",
      "Recall is ill-defined and being set to 0.0 in labels with no true samples. Use `zero_division` parameter to control this behavior.\n",
      "\n",
      "C:\\Users\\semin\\anaconda3\\lib\\site-packages\\sklearn\\metrics\\_classification.py:1221: UndefinedMetricWarning:\n",
      "\n",
      "Recall is ill-defined and being set to 0.0 in labels with no true samples. Use `zero_division` parameter to control this behavior.\n",
      "\n",
      "C:\\Users\\semin\\anaconda3\\lib\\site-packages\\sklearn\\metrics\\_classification.py:1221: UndefinedMetricWarning:\n",
      "\n",
      "Recall is ill-defined and being set to 0.0 in labels with no true samples. Use `zero_division` parameter to control this behavior.\n",
      "\n",
      "C:\\Users\\semin\\anaconda3\\lib\\site-packages\\sklearn\\metrics\\_classification.py:1221: UndefinedMetricWarning:\n",
      "\n",
      "Recall is ill-defined and being set to 0.0 in labels with no true samples. Use `zero_division` parameter to control this behavior.\n",
      "\n"
     ]
    },
    {
     "name": "stdout",
     "output_type": "stream",
     "text": [
      "Precision: 0.35755222703981077 Recall: 0.4630176211453745 F1: 0.3739968102073365\n",
      "Weights: [0.95630326 0.21741513 0.62600733 0.98223537 0.50041766 0.03577851]\n",
      "\n",
      "Total time execution: 0.0625\n",
      "Directory already exists\n",
      "\n",
      "Best Results: 2/20\n",
      "\n",
      "\n",
      "Iteration: 4\n",
      "============================\n",
      "Precision: 0.49316909735908554 Recall: 0.5295268903154897 F1: 0.5064086169584892\n",
      "Weights: [0.62514362 0.56649444 0.79406737 0.230615   0.61165404 0.35986661]\n",
      "\n",
      "Total time execution: 0.0625\n",
      "Directory already exists\n",
      "\n",
      "Best Results: 3/20\n",
      "\n",
      "\n",
      "Iteration: 5\n",
      "============================\n",
      "Precision: 0.4886164761529366 Recall: 0.5239665096807954 F1: 0.5008759406485502\n",
      "Weights: [0.11009779 0.81159129 0.76429093 0.44977418 0.76583822 0.08979365]\n",
      "\n",
      "Total time execution: 0.046875\n",
      "Directory already exists\n",
      "\n",
      "Best Results: 4/20\n",
      "\n",
      "\n",
      "Iteration: 6\n",
      "============================\n",
      "Precision: 0.49094205754828535 Recall: 0.5331461331461332 F1: 0.5062712294395462\n",
      "Weights: [0.61242401 0.56609864 0.41064411 0.18851768 0.73402877 0.83699544]\n",
      "\n",
      "Total time execution: 0.046875\n",
      "Directory already exists\n",
      "\n",
      "Best Results: 5/20\n",
      "\n",
      "\n",
      "Iteration: 7\n",
      "============================\n"
     ]
    },
    {
     "name": "stderr",
     "output_type": "stream",
     "text": [
      "C:\\Users\\semin\\anaconda3\\lib\\site-packages\\sklearn\\metrics\\_classification.py:1221: UndefinedMetricWarning:\n",
      "\n",
      "Recall is ill-defined and being set to 0.0 in labels with no true samples. Use `zero_division` parameter to control this behavior.\n",
      "\n",
      "C:\\Users\\semin\\anaconda3\\lib\\site-packages\\sklearn\\metrics\\_classification.py:1221: UndefinedMetricWarning:\n",
      "\n",
      "Recall is ill-defined and being set to 0.0 in labels with no true samples. Use `zero_division` parameter to control this behavior.\n",
      "\n",
      "C:\\Users\\semin\\anaconda3\\lib\\site-packages\\sklearn\\metrics\\_classification.py:1221: UndefinedMetricWarning:\n",
      "\n",
      "Recall is ill-defined and being set to 0.0 in labels with no true samples. Use `zero_division` parameter to control this behavior.\n",
      "\n"
     ]
    },
    {
     "name": "stdout",
     "output_type": "stream",
     "text": [
      "Precision: 0.46210484824595977 Recall: 0.5277419354838709 F1: 0.4857892180670228\n",
      "Weights: [0.60274208 0.4136756  0.68490218 0.36357169 0.45002416 0.78544285]\n",
      "\n",
      "Total time execution: 0.0625\n",
      "Directory already exists\n",
      "\n",
      "Best Results: 6/20\n",
      "\n",
      "\n",
      "Iteration: 8\n",
      "============================\n",
      "Precision: 0.4868368151359874 Recall: 0.5243753234096183 F1: 0.4980108032372841\n",
      "Weights: [6.99253221e-03 8.32631140e-01 3.34879910e-01 1.68832627e-04\n",
      " 6.79499187e-01 3.34929910e-02]\n",
      "\n",
      "Total time execution: 0.0625\n",
      "Directory already exists\n",
      "\n",
      "Best Results: 7/20\n",
      "\n",
      "\n",
      "Iteration: 9\n",
      "============================\n",
      "Precision: 0.4893318880567599 Recall: 0.5326168663377966 F1: 0.505563830083954\n",
      "Weights: [0.93493019 0.67769075 0.42863049 0.48752142 0.9158132  0.40990387]\n",
      "\n",
      "Total time execution: 0.0625\n",
      "Directory already exists\n",
      "\n",
      "Best Results: 8/20\n",
      "\n",
      "\n",
      "Iteration: 10\n",
      "============================\n",
      "Precision: 0.4970063066614111 Recall: 0.5267284262129623 F1: 0.5077326735931329\n",
      "Weights: [0.01868904 0.62647025 0.05403706 0.36682868 0.22906863 0.93854105]\n",
      "\n",
      "Total time execution: 0.046875\n",
      "Directory already exists\n",
      "\n",
      "Best Results: 9/20\n",
      "\n",
      "\n",
      "Iteration: 11\n",
      "============================\n",
      "Precision: 0.48022664564446205 Recall: 0.5210785648526342 F1: 0.4944338184338184\n",
      "Weights: [0.76845744 0.49370017 0.33627385 0.02433359 0.83879286 0.16193344]\n",
      "\n",
      "Total time execution: 0.046875\n",
      "Directory already exists\n",
      "\n",
      "Best Results: 10/20\n",
      "\n",
      "\n",
      "Iteration: 12\n",
      "============================\n",
      "Precision: 0.33220338983050846 Recall: 0.3445378151260504 F1: 0.32698855151816825\n",
      "Weights: [0.57816348 0.01758942 0.66071541 0.67973671 0.17824866 0.03376364]\n",
      "\n",
      "Total time execution: 0.0625\n",
      "Directory already exists\n",
      "\n",
      "Best Results: 11/20\n",
      "\n",
      "\n",
      "Iteration: 13\n",
      "============================\n",
      "Precision: 0.4586164761529366 Recall: 0.5139165529456171 F1: 0.4793587860165509\n",
      "Weights: [0.02664298 0.29890026 0.05768212 0.57502891 0.93975617 0.06905149]\n",
      "\n",
      "Total time execution: 0.046875\n",
      "Directory already exists\n",
      "\n",
      "Best Results: 12/20\n",
      "\n",
      "\n",
      "Iteration: 14\n",
      "============================\n"
     ]
    },
    {
     "name": "stderr",
     "output_type": "stream",
     "text": [
      "C:\\Users\\semin\\anaconda3\\lib\\site-packages\\sklearn\\metrics\\_classification.py:1221: UndefinedMetricWarning:\n",
      "\n",
      "Recall is ill-defined and being set to 0.0 in labels with no true samples. Use `zero_division` parameter to control this behavior.\n",
      "\n",
      "C:\\Users\\semin\\anaconda3\\lib\\site-packages\\sklearn\\metrics\\_classification.py:1221: UndefinedMetricWarning:\n",
      "\n",
      "Recall is ill-defined and being set to 0.0 in labels with no true samples. Use `zero_division` parameter to control this behavior.\n",
      "\n",
      "C:\\Users\\semin\\anaconda3\\lib\\site-packages\\sklearn\\metrics\\_classification.py:1221: UndefinedMetricWarning:\n",
      "\n",
      "Recall is ill-defined and being set to 0.0 in labels with no true samples. Use `zero_division` parameter to control this behavior.\n",
      "\n",
      "C:\\Users\\semin\\anaconda3\\lib\\site-packages\\sklearn\\metrics\\_classification.py:1221: UndefinedMetricWarning:\n",
      "\n",
      "Recall is ill-defined and being set to 0.0 in labels with no true samples. Use `zero_division` parameter to control this behavior.\n",
      "\n"
     ]
    },
    {
     "name": "stdout",
     "output_type": "stream",
     "text": [
      "Precision: 0.49816909735908554 Recall: 0.5315201465201465 F1: 0.5093925863976043\n",
      "Weights: [0.23300601 0.80596008 0.79491496 0.45873276 0.15859918 0.78848552]\n",
      "\n",
      "Total time execution: 0.046875\n",
      "Best F1\n",
      "Directory already exists\n",
      "\n",
      "Best Results: 1/20\n",
      "\n",
      "\n",
      "Iteration: 15\n",
      "============================\n",
      "Precision: 0.4959420575482854 Recall: 0.5349110960847991 F1: 0.509202428733148\n",
      "Weights: [0.02510439 0.63221518 0.63138803 0.01470745 0.93614955 0.82454917]\n",
      "\n",
      "Total time execution: 0.046875\n",
      "Directory already exists\n",
      "\n",
      "Best Results: 2/20\n",
      "\n",
      "\n",
      "Iteration: 16\n",
      "============================\n",
      "Precision: 0.49316909735908554 Recall: 0.5295268903154897 F1: 0.5064086169584892\n",
      "Weights: [0.9224812  0.88916251 0.5405828  0.2548045  0.88518582 0.58913122]\n",
      "\n",
      "Total time execution: 0.046875\n",
      "Directory already exists\n",
      "\n",
      "Best Results: 3/20\n",
      "\n",
      "\n",
      "Iteration: 17\n",
      "============================\n",
      "Precision: 0.44532518722901065 Recall: 0.5221115242893827 F1: 0.4716602971212449\n",
      "Weights: [0.17878827 0.17498403 0.73922195 0.16801918 0.2455595  0.01580729]\n",
      "\n",
      "Total time execution: 0.046875\n",
      "Directory already exists\n",
      "\n",
      "Best Results: 4/20\n",
      "\n",
      "\n",
      "Iteration: 18\n",
      "============================\n"
     ]
    },
    {
     "name": "stderr",
     "output_type": "stream",
     "text": [
      "C:\\Users\\semin\\anaconda3\\lib\\site-packages\\sklearn\\metrics\\_classification.py:1221: UndefinedMetricWarning:\n",
      "\n",
      "Recall is ill-defined and being set to 0.0 in labels with no true samples. Use `zero_division` parameter to control this behavior.\n",
      "\n",
      "C:\\Users\\semin\\anaconda3\\lib\\site-packages\\sklearn\\metrics\\_classification.py:1221: UndefinedMetricWarning:\n",
      "\n",
      "Recall is ill-defined and being set to 0.0 in labels with no true samples. Use `zero_division` parameter to control this behavior.\n",
      "\n",
      "C:\\Users\\semin\\anaconda3\\lib\\site-packages\\sklearn\\metrics\\_classification.py:1221: UndefinedMetricWarning:\n",
      "\n",
      "Recall is ill-defined and being set to 0.0 in labels with no true samples. Use `zero_division` parameter to control this behavior.\n",
      "\n",
      "C:\\Users\\semin\\anaconda3\\lib\\site-packages\\sklearn\\metrics\\_classification.py:1221: UndefinedMetricWarning:\n",
      "\n",
      "Recall is ill-defined and being set to 0.0 in labels with no true samples. Use `zero_division` parameter to control this behavior.\n",
      "\n"
     ]
    },
    {
     "name": "stdout",
     "output_type": "stream",
     "text": [
      "Precision: 0.4996807252660623 Recall: 0.5199961469594977 F1: 0.5057932129509853\n",
      "Weights: [0.56193746 0.85670724 0.11380078 0.09180882 0.02290891 0.72589506]\n",
      "\n",
      "Total time execution: 0.0625\n",
      "Directory already exists\n",
      "\n",
      "Best Results: 5/20\n",
      "\n",
      "\n",
      "Iteration: 19\n",
      "============================\n",
      "Precision: 0.4754946787544344 Recall: 0.5322617976083323 F1: 0.4965495582596132\n",
      "Weights: [0.86653699 0.3329594  0.52394172 0.3353206  0.04332634 0.33478493]\n",
      "\n",
      "Total time execution: 0.046875\n",
      "Directory already exists\n",
      "\n",
      "Best Results: 6/20\n",
      "\n",
      "\n",
      "Iteration: 20\n",
      "============================\n",
      "Precision: 0.3594304296413086 Recall: 0.5104842700600919 F1: 0.3736275146009085\n",
      "Weights: [0.62403095 0.14640248 0.89462335 0.40666522 0.16585143 0.33819697]\n",
      "\n",
      "Total time execution: 0.046875\n",
      "Directory already exists\n",
      "\n",
      "Best Results: 7/20\n",
      "\n",
      "\n",
      "Iteration: 21\n",
      "============================\n",
      "Precision: 0.4958435159637367 Recall: 0.5223480923221856 F1: 0.5050452187790929\n",
      "Weights: [0.27628903 0.6034019  0.11285383 0.11050893 0.34655602 0.95226271]\n",
      "\n",
      "Total time execution: 0.0625\n",
      "Directory already exists\n",
      "\n",
      "Best Results: 8/20\n",
      "\n",
      "\n",
      "Iteration: 22\n",
      "============================\n"
     ]
    },
    {
     "name": "stderr",
     "output_type": "stream",
     "text": [
      "C:\\Users\\semin\\anaconda3\\lib\\site-packages\\sklearn\\metrics\\_classification.py:1221: UndefinedMetricWarning:\n",
      "\n",
      "Recall is ill-defined and being set to 0.0 in labels with no true samples. Use `zero_division` parameter to control this behavior.\n",
      "\n",
      "C:\\Users\\semin\\anaconda3\\lib\\site-packages\\sklearn\\metrics\\_classification.py:1221: UndefinedMetricWarning:\n",
      "\n",
      "Recall is ill-defined and being set to 0.0 in labels with no true samples. Use `zero_division` parameter to control this behavior.\n",
      "\n",
      "C:\\Users\\semin\\anaconda3\\lib\\site-packages\\sklearn\\metrics\\_classification.py:1221: UndefinedMetricWarning:\n",
      "\n",
      "Recall is ill-defined and being set to 0.0 in labels with no true samples. Use `zero_division` parameter to control this behavior.\n",
      "\n",
      "C:\\Users\\semin\\anaconda3\\lib\\site-packages\\sklearn\\metrics\\_classification.py:1221: UndefinedMetricWarning:\n",
      "\n",
      "Recall is ill-defined and being set to 0.0 in labels with no true samples. Use `zero_division` parameter to control this behavior.\n",
      "\n"
     ]
    },
    {
     "name": "stdout",
     "output_type": "stream",
     "text": [
      "Precision: 0.4709420575482854 Recall: 0.5265097938365265 F1: 0.4915196435034318\n",
      "Weights: [0.91975398 0.50978665 0.54420288 0.15111879 0.84948197 0.15472529]\n",
      "\n",
      "Total time execution: 0.046875\n",
      "Directory already exists\n",
      "\n",
      "Best Results: 9/20\n",
      "\n",
      "\n",
      "Iteration: 23\n",
      "============================\n",
      "Precision: 0.49816909735908554 Recall: 0.5312104949314251 F1: 0.5098892700942688\n",
      "Weights: [0.19170442 0.57024096 0.29561672 0.78307512 0.14422448 0.39549465]\n",
      "\n",
      "Total time execution: 0.0625\n",
      "Best F1\n",
      "Directory already exists\n",
      "\n",
      "Best Results: 1/20\n",
      "\n",
      "\n",
      "Iteration: 24\n",
      "============================\n",
      "Precision: 0.4790638549467875 Recall: 0.5172395273899033 F1: 0.49277763060587\n",
      "Weights: [1.70233712e-01 5.04618710e-01 6.62292735e-02 7.61646634e-01\n",
      " 4.61053168e-01 7.53094930e-04]\n",
      "\n",
      "Total time execution: 0.046875\n",
      "Directory already exists\n",
      "\n",
      "Best Results: 2/20\n",
      "\n",
      "\n",
      "Iteration: 25\n",
      "============================\n",
      "Precision: 0.3566574694521088 Recall: 0.4770430442919526 F1: 0.36673490616978865\n",
      "Weights: [0.03644794 0.05656938 0.24659429 0.02191523 0.0305911  0.92223478]\n",
      "\n",
      "Total time execution: 0.046875\n",
      "Directory already exists\n",
      "\n",
      "Best Results: 3/20\n",
      "\n",
      "\n",
      "Iteration: 26\n",
      "============================\n"
     ]
    },
    {
     "name": "stderr",
     "output_type": "stream",
     "text": [
      "C:\\Users\\semin\\anaconda3\\lib\\site-packages\\sklearn\\metrics\\_classification.py:1221: UndefinedMetricWarning:\n",
      "\n",
      "Recall is ill-defined and being set to 0.0 in labels with no true samples. Use `zero_division` parameter to control this behavior.\n",
      "\n",
      "C:\\Users\\semin\\anaconda3\\lib\\site-packages\\sklearn\\metrics\\_classification.py:1221: UndefinedMetricWarning:\n",
      "\n",
      "Recall is ill-defined and being set to 0.0 in labels with no true samples. Use `zero_division` parameter to control this behavior.\n",
      "\n",
      "C:\\Users\\semin\\anaconda3\\lib\\site-packages\\sklearn\\metrics\\_classification.py:1221: UndefinedMetricWarning:\n",
      "\n",
      "Recall is ill-defined and being set to 0.0 in labels with no true samples. Use `zero_division` parameter to control this behavior.\n",
      "\n",
      "C:\\Users\\semin\\anaconda3\\lib\\site-packages\\sklearn\\metrics\\_classification.py:1221: UndefinedMetricWarning:\n",
      "\n",
      "Recall is ill-defined and being set to 0.0 in labels with no true samples. Use `zero_division` parameter to control this behavior.\n",
      "\n"
     ]
    },
    {
     "name": "stdout",
     "output_type": "stream",
     "text": [
      "Precision: 0.49316909735908554 Recall: 0.5295268903154897 F1: 0.5064086169584892\n",
      "Weights: [0.89074676 0.9360583  0.51159055 0.6560119  0.67053318 0.45278909]\n",
      "\n",
      "Total time execution: 0.046875\n",
      "Directory already exists\n",
      "\n",
      "Best Results: 4/20\n",
      "\n",
      "\n",
      "Iteration: 27\n",
      "============================\n",
      "Precision: 0.49200630666141115 Recall: 0.525056648777579 F1: 0.5037360606988976\n",
      "Weights: [0.30186501 0.89962865 0.96709522 0.37573871 0.87496361 0.50828959]\n",
      "\n",
      "Total time execution: 0.0625\n",
      "Directory already exists\n",
      "\n",
      "Best Results: 5/20\n",
      "\n",
      "\n",
      "Iteration: 28\n",
      "============================\n",
      "Precision: 0.46255222703981075 Recall: 0.5236997847919656 F1: 0.4847234042553191\n",
      "Weights: [0.88956211 0.54012922 0.18959301 0.6689707  0.8593024  0.16168302]\n",
      "\n",
      "Total time execution: 0.0625\n",
      "Directory already exists\n",
      "\n",
      "Best Results: 6/20\n",
      "\n",
      "\n",
      "Iteration: 29\n",
      "============================\n"
     ]
    },
    {
     "name": "stderr",
     "output_type": "stream",
     "text": [
      "C:\\Users\\semin\\anaconda3\\lib\\site-packages\\sklearn\\metrics\\_classification.py:1221: UndefinedMetricWarning:\n",
      "\n",
      "Recall is ill-defined and being set to 0.0 in labels with no true samples. Use `zero_division` parameter to control this behavior.\n",
      "\n",
      "C:\\Users\\semin\\anaconda3\\lib\\site-packages\\sklearn\\metrics\\_classification.py:1221: UndefinedMetricWarning:\n",
      "\n",
      "Recall is ill-defined and being set to 0.0 in labels with no true samples. Use `zero_division` parameter to control this behavior.\n",
      "\n",
      "C:\\Users\\semin\\anaconda3\\lib\\site-packages\\sklearn\\metrics\\_classification.py:1221: UndefinedMetricWarning:\n",
      "\n",
      "Recall is ill-defined and being set to 0.0 in labels with no true samples. Use `zero_division` parameter to control this behavior.\n",
      "\n",
      "C:\\Users\\semin\\anaconda3\\lib\\site-packages\\sklearn\\metrics\\_classification.py:1221: UndefinedMetricWarning:\n",
      "\n",
      "Recall is ill-defined and being set to 0.0 in labels with no true samples. Use `zero_division` parameter to control this behavior.\n",
      "\n"
     ]
    },
    {
     "name": "stdout",
     "output_type": "stream",
     "text": [
      "Precision: 0.49816909735908554 Recall: 0.5312104949314251 F1: 0.5098892700942688\n",
      "Weights: [0.919216   0.88538621 0.67305506 0.60311542 0.07709886 0.2586598 ]\n",
      "\n",
      "Total time execution: 0.0625\n",
      "Directory already exists\n",
      "\n",
      "Best Results: 7/20\n",
      "\n",
      "\n",
      "Iteration: 30\n",
      "============================\n",
      "Precision: 0.4970063066614111 Recall: 0.5268316950371613 F1: 0.5072050787528125\n",
      "Weights: [0.58296501 0.84992848 0.59271504 0.3528501  0.38767946 0.43806932]\n",
      "\n",
      "Total time execution: 0.046875\n",
      "Directory already exists\n",
      "\n",
      "Best Results: 8/20\n",
      "\n",
      "\n",
      "Iteration: 31\n",
      "============================\n",
      "Precision: 0.4575522270398108 Recall: 0.5218882769472856 F1: 0.4807282101094632\n",
      "Weights: [0.16303176 0.29312805 0.10342732 0.37000541 0.97073373 0.14719565]\n",
      "\n",
      "Total time execution: 0.0625\n",
      "Directory already exists\n",
      "\n",
      "Best Results: 9/20\n",
      "\n",
      "\n",
      "Iteration: 32\n",
      "============================\n",
      "Precision: 0.4970063066614111 Recall: 0.5268316950371613 F1: 0.5072050787528125\n",
      "Weights: [0.17416332 0.44933594 0.15972928 0.14970892 0.1109588  0.19808913]\n",
      "\n",
      "Total time execution: 0.0625\n",
      "Directory already exists\n",
      "\n",
      "Best Results: 10/20\n",
      "\n",
      "\n",
      "Iteration: 33\n",
      "============================\n"
     ]
    },
    {
     "name": "stderr",
     "output_type": "stream",
     "text": [
      "C:\\Users\\semin\\anaconda3\\lib\\site-packages\\sklearn\\metrics\\_classification.py:1221: UndefinedMetricWarning:\n",
      "\n",
      "Recall is ill-defined and being set to 0.0 in labels with no true samples. Use `zero_division` parameter to control this behavior.\n",
      "\n",
      "C:\\Users\\semin\\anaconda3\\lib\\site-packages\\sklearn\\metrics\\_classification.py:1221: UndefinedMetricWarning:\n",
      "\n",
      "Recall is ill-defined and being set to 0.0 in labels with no true samples. Use `zero_division` parameter to control this behavior.\n",
      "\n",
      "C:\\Users\\semin\\anaconda3\\lib\\site-packages\\sklearn\\metrics\\_classification.py:1221: UndefinedMetricWarning:\n",
      "\n",
      "Recall is ill-defined and being set to 0.0 in labels with no true samples. Use `zero_division` parameter to control this behavior.\n",
      "\n",
      "C:\\Users\\semin\\anaconda3\\lib\\site-packages\\sklearn\\metrics\\_classification.py:1221: UndefinedMetricWarning:\n",
      "\n",
      "Recall is ill-defined and being set to 0.0 in labels with no true samples. Use `zero_division` parameter to control this behavior.\n",
      "\n"
     ]
    },
    {
     "name": "stdout",
     "output_type": "stream",
     "text": [
      "Precision: 0.4021048482459598 Recall: 0.4982507409357382 F1: 0.4286941745457714\n",
      "Weights: [0.16523139 0.20910017 0.90861942 0.50596746 0.29731904 0.50738776]\n",
      "\n",
      "Total time execution: 0.046875\n",
      "Directory already exists\n",
      "\n",
      "Best Results: 11/20\n",
      "\n",
      "\n",
      "Iteration: 34\n",
      "============================\n",
      "Precision: 0.4986164761529365 Recall: 0.5274638696313325 F1: 0.507737841179382\n",
      "Weights: [0.1475673  0.86808336 0.15570886 0.10616743 0.38770316 0.46126938]\n",
      "\n",
      "Total time execution: 0.0625\n",
      "Directory already exists\n",
      "\n",
      "Best Results: 12/20\n",
      "\n",
      "\n",
      "Iteration: 35\n",
      "============================\n",
      "Precision: 0.49816909735908554 Recall: 0.5315201465201465 F1: 0.5093925863976043\n",
      "Weights: [0.6316219  0.64516997 0.33802863 0.09139299 0.19860185 0.99890726]\n",
      "\n",
      "Total time execution: 0.0625\n",
      "Directory already exists\n",
      "\n",
      "Best Results: 13/20\n",
      "\n",
      "\n",
      "Iteration: 36\n",
      "============================\n",
      "Precision: 0.4986164761529365 Recall: 0.5281607337428308 F1: 0.5072744235639077\n",
      "Weights: [0.37298133 0.94140851 0.88047514 0.14253287 0.02002599 0.29333953]\n",
      "\n",
      "Total time execution: 0.046875\n",
      "Directory already exists\n",
      "\n",
      "Best Results: 14/20\n",
      "\n",
      "\n",
      "Iteration: 37\n",
      "============================\n"
     ]
    },
    {
     "name": "stderr",
     "output_type": "stream",
     "text": [
      "C:\\Users\\semin\\anaconda3\\lib\\site-packages\\sklearn\\metrics\\_classification.py:1221: UndefinedMetricWarning:\n",
      "\n",
      "Recall is ill-defined and being set to 0.0 in labels with no true samples. Use `zero_division` parameter to control this behavior.\n",
      "\n",
      "C:\\Users\\semin\\anaconda3\\lib\\site-packages\\sklearn\\metrics\\_classification.py:1221: UndefinedMetricWarning:\n",
      "\n",
      "Recall is ill-defined and being set to 0.0 in labels with no true samples. Use `zero_division` parameter to control this behavior.\n",
      "\n",
      "C:\\Users\\semin\\anaconda3\\lib\\site-packages\\sklearn\\metrics\\_classification.py:1221: UndefinedMetricWarning:\n",
      "\n",
      "Recall is ill-defined and being set to 0.0 in labels with no true samples. Use `zero_division` parameter to control this behavior.\n",
      "\n",
      "C:\\Users\\semin\\anaconda3\\lib\\site-packages\\sklearn\\metrics\\_classification.py:1221: UndefinedMetricWarning:\n",
      "\n",
      "Recall is ill-defined and being set to 0.0 in labels with no true samples. Use `zero_division` parameter to control this behavior.\n",
      "\n"
     ]
    },
    {
     "name": "stdout",
     "output_type": "stream",
     "text": [
      "Precision: 0.39710484824595976 Recall: 0.4984632385064117 F1: 0.42297724509293033\n",
      "Weights: [0.8198204  0.19342903 0.27266617 0.07785111 0.30888065 0.84320618]\n",
      "\n",
      "Total time execution: 0.046875\n",
      "Directory already exists\n",
      "\n",
      "Best Results: 15/20\n",
      "\n",
      "\n",
      "Iteration: 38\n",
      "============================\n",
      "Precision: 0.49200630666141115 Recall: 0.525056648777579 F1: 0.5037360606988976\n",
      "Weights: [0.60578084 0.85384599 0.46068971 0.31059244 0.57694845 0.45247869]\n",
      "\n",
      "Total time execution: 0.0625\n",
      "Directory already exists\n",
      "\n",
      "Best Results: 16/20\n",
      "\n",
      "\n",
      "Iteration: 39\n",
      "============================\n",
      "Precision: 0.49816909735908554 Recall: 0.5312104949314251 F1: 0.5098892700942688\n",
      "Weights: [0.76101034 0.81826901 0.65049724 0.64952147 0.16734435 0.44464771]\n",
      "\n",
      "Total time execution: 0.046875\n",
      "Directory already exists\n",
      "\n",
      "Best Results: 17/20\n",
      "\n",
      "\n",
      "Iteration: 40\n",
      "============================\n",
      "Precision: 0.3921048482459598 Recall: 0.49063632135112645 F1: 0.417100551891237\n",
      "Weights: [0.02594229 0.2848545  0.99763792 0.80456434 0.91951137 0.6154223 ]\n",
      "\n",
      "Total time execution: 0.0625\n",
      "Directory already exists\n",
      "\n",
      "Best Results: 18/20\n",
      "\n",
      "\n",
      "Iteration: 41\n",
      "============================\n"
     ]
    },
    {
     "name": "stderr",
     "output_type": "stream",
     "text": [
      "C:\\Users\\semin\\anaconda3\\lib\\site-packages\\sklearn\\metrics\\_classification.py:1221: UndefinedMetricWarning:\n",
      "\n",
      "Recall is ill-defined and being set to 0.0 in labels with no true samples. Use `zero_division` parameter to control this behavior.\n",
      "\n",
      "C:\\Users\\semin\\anaconda3\\lib\\site-packages\\sklearn\\metrics\\_classification.py:1221: UndefinedMetricWarning:\n",
      "\n",
      "Recall is ill-defined and being set to 0.0 in labels with no true samples. Use `zero_division` parameter to control this behavior.\n",
      "\n",
      "C:\\Users\\semin\\anaconda3\\lib\\site-packages\\sklearn\\metrics\\_classification.py:1221: UndefinedMetricWarning:\n",
      "\n",
      "Recall is ill-defined and being set to 0.0 in labels with no true samples. Use `zero_division` parameter to control this behavior.\n",
      "\n",
      "C:\\Users\\semin\\anaconda3\\lib\\site-packages\\sklearn\\metrics\\_classification.py:1221: UndefinedMetricWarning:\n",
      "\n",
      "Recall is ill-defined and being set to 0.0 in labels with no true samples. Use `zero_division` parameter to control this behavior.\n",
      "\n"
     ]
    },
    {
     "name": "stdout",
     "output_type": "stream",
     "text": [
      "Precision: 0.49316909735908554 Recall: 0.5295268903154897 F1: 0.5064086169584892\n",
      "Weights: [0.41090689 0.77494434 0.61598552 0.26876042 0.79036992 0.55237961]\n",
      "\n",
      "Total time execution: 0.046875\n",
      "Directory already exists\n",
      "\n",
      "Best Results: 19/20\n",
      "\n",
      "\n",
      "Iteration: 42\n",
      "============================\n",
      "Precision: 0.49316909735908554 Recall: 0.5295268903154897 F1: 0.5064086169584892\n",
      "Weights: [0.22680832 0.78719668 0.56629826 0.67980447 0.99172496 0.59530115]\n",
      "\n",
      "Total time execution: 0.046875\n",
      "Directory already exists\n",
      "\n",
      "Best Results: 20/20\n",
      "\n",
      "\n",
      "Iteration: 1\n",
      "============================\n",
      "Precision: 0.4275620811982656 Recall: 0.4985823613772797 F1: 0.4517998914731932\n",
      "Weights: [0.54396407 0.37509276 0.00659455 0.96189608 0.75598404 0.70871802]\n",
      "\n",
      "Total time execution: 0.0625\n",
      "Best F1\n",
      "Directory already exists\n",
      "\n",
      "Best Results: 1/20\n",
      "\n",
      "\n",
      "Iteration: 2\n",
      "============================\n",
      "Precision: 0.49933188805676 Recall: 0.5358974358974359 F1: 0.512073540870873\n",
      "Weights: [0.27943157 0.8257767  0.57092427 0.71949105 0.11998796 0.38666858]\n",
      "\n",
      "Total time execution: 0.0625"
     ]
    },
    {
     "name": "stderr",
     "output_type": "stream",
     "text": [
      "C:\\Users\\semin\\anaconda3\\lib\\site-packages\\sklearn\\metrics\\_classification.py:1221: UndefinedMetricWarning:\n",
      "\n",
      "Recall is ill-defined and being set to 0.0 in labels with no true samples. Use `zero_division` parameter to control this behavior.\n",
      "\n",
      "C:\\Users\\semin\\anaconda3\\lib\\site-packages\\sklearn\\metrics\\_classification.py:1221: UndefinedMetricWarning:\n",
      "\n",
      "Recall is ill-defined and being set to 0.0 in labels with no true samples. Use `zero_division` parameter to control this behavior.\n",
      "\n",
      "C:\\Users\\semin\\anaconda3\\lib\\site-packages\\sklearn\\metrics\\_classification.py:1221: UndefinedMetricWarning:\n",
      "\n",
      "Recall is ill-defined and being set to 0.0 in labels with no true samples. Use `zero_division` parameter to control this behavior.\n",
      "\n",
      "C:\\Users\\semin\\anaconda3\\lib\\site-packages\\sklearn\\metrics\\_classification.py:1221: UndefinedMetricWarning:\n",
      "\n",
      "Recall is ill-defined and being set to 0.0 in labels with no true samples. Use `zero_division` parameter to control this behavior.\n",
      "\n"
     ]
    },
    {
     "name": "stdout",
     "output_type": "stream",
     "text": [
      "\n",
      "Best F1\n",
      "Directory already exists\n",
      "\n",
      "Best Results: 1/20\n",
      "\n",
      "\n",
      "Iteration: 3\n",
      "============================\n",
      "Precision: 0.3675522270398108 Recall: 0.4680769230769231 F1: 0.3876500857632933\n",
      "Weights: [0.75593728 0.24360764 0.82284627 0.66768285 0.65610207 0.33804964]\n",
      "\n",
      "Total time execution: 0.046875\n",
      "Directory already exists\n",
      "\n",
      "Best Results: 2/20\n",
      "\n",
      "\n",
      "Iteration: 4\n",
      "============================\n",
      "Precision: 0.49316909735908554 Recall: 0.5295268903154897 F1: 0.5064086169584892\n",
      "Weights: [0.9548121  0.76946853 0.91676762 0.51305683 0.73241063 0.34215931]\n",
      "\n",
      "Total time execution: 0.0625\n",
      "Directory already exists\n",
      "\n",
      "Best Results: 3/20\n",
      "\n",
      "\n",
      "Iteration: 5\n",
      "============================\n"
     ]
    },
    {
     "name": "stderr",
     "output_type": "stream",
     "text": [
      "C:\\Users\\semin\\anaconda3\\lib\\site-packages\\sklearn\\metrics\\_classification.py:1221: UndefinedMetricWarning:\n",
      "\n",
      "Recall is ill-defined and being set to 0.0 in labels with no true samples. Use `zero_division` parameter to control this behavior.\n",
      "\n",
      "C:\\Users\\semin\\anaconda3\\lib\\site-packages\\sklearn\\metrics\\_classification.py:1221: UndefinedMetricWarning:\n",
      "\n",
      "Recall is ill-defined and being set to 0.0 in labels with no true samples. Use `zero_division` parameter to control this behavior.\n",
      "\n",
      "C:\\Users\\semin\\anaconda3\\lib\\site-packages\\sklearn\\metrics\\_classification.py:1221: UndefinedMetricWarning:\n",
      "\n",
      "Recall is ill-defined and being set to 0.0 in labels with no true samples. Use `zero_division` parameter to control this behavior.\n",
      "\n",
      "C:\\Users\\semin\\anaconda3\\lib\\site-packages\\sklearn\\metrics\\_classification.py:1221: UndefinedMetricWarning:\n",
      "\n",
      "Recall is ill-defined and being set to 0.0 in labels with no true samples. Use `zero_division` parameter to control this behavior.\n",
      "\n"
     ]
    },
    {
     "name": "stdout",
     "output_type": "stream",
     "text": [
      "Precision: 0.4259420575482854 Recall: 0.5080512299706612 F1: 0.4526227606442106\n",
      "Weights: [0.73411267 0.29437874 0.4019761  0.36058676 0.7581061  0.77005776]\n",
      "\n",
      "Total time execution: 0.0625\n",
      "Directory already exists\n",
      "\n",
      "Best Results: 4/20\n",
      "\n",
      "\n",
      "Iteration: 6\n",
      "============================\n",
      "Precision: 0.49433188805676 Recall: 0.5342290230260953 F1: 0.5091319010974679\n",
      "Weights: [0.1941678  0.73247991 0.53802684 0.55398707 0.96429682 0.41155426]\n",
      "\n",
      "Total time execution: 0.0625\n",
      "Directory already exists\n",
      "\n",
      "Best Results: 5/20\n",
      "\n",
      "\n",
      "Iteration: 7\n",
      "============================\n",
      "Precision: 0.4609420575482853 Recall: 0.5229240083130027 F1: 0.4836181190789143\n",
      "Weights: [0.38092005 0.44004804 0.3105834  0.96526887 0.97866992 0.52771462]\n",
      "\n",
      "Total time execution: 0.046875\n",
      "Directory already exists\n",
      "\n",
      "Best Results: 6/20\n",
      "\n",
      "\n",
      "Iteration: 8\n",
      "============================\n",
      "Precision: 0.49316909735908554 Recall: 0.5295268903154897 F1: 0.5064086169584892\n",
      "Weights: [0.88853875 0.91549187 0.82742605 0.33796733 0.52921985 0.91833413]\n",
      "\n",
      "Total time execution: 0.046875\n",
      "Directory already exists\n",
      "\n",
      "Best Results: 7/20\n",
      "\n",
      "\n",
      "Iteration: 9\n",
      "============================\n"
     ]
    },
    {
     "name": "stderr",
     "output_type": "stream",
     "text": [
      "C:\\Users\\semin\\anaconda3\\lib\\site-packages\\sklearn\\metrics\\_classification.py:1221: UndefinedMetricWarning:\n",
      "\n",
      "Recall is ill-defined and being set to 0.0 in labels with no true samples. Use `zero_division` parameter to control this behavior.\n",
      "\n",
      "C:\\Users\\semin\\anaconda3\\lib\\site-packages\\sklearn\\metrics\\_classification.py:1221: UndefinedMetricWarning:\n",
      "\n",
      "Recall is ill-defined and being set to 0.0 in labels with no true samples. Use `zero_division` parameter to control this behavior.\n",
      "\n",
      "C:\\Users\\semin\\anaconda3\\lib\\site-packages\\sklearn\\metrics\\_classification.py:1221: UndefinedMetricWarning:\n",
      "\n",
      "Recall is ill-defined and being set to 0.0 in labels with no true samples. Use `zero_division` parameter to control this behavior.\n",
      "\n",
      "C:\\Users\\semin\\anaconda3\\lib\\site-packages\\sklearn\\metrics\\_classification.py:1221: UndefinedMetricWarning:\n",
      "\n",
      "Recall is ill-defined and being set to 0.0 in labels with no true samples. Use `zero_division` parameter to control this behavior.\n",
      "\n"
     ]
    },
    {
     "name": "stdout",
     "output_type": "stream",
     "text": [
      "Precision: 0.38710484824595975 Recall: 0.4862583148558758 F1: 0.4110204081632653\n",
      "Weights: [0.65716103 0.27999957 0.77873485 0.81078298 0.03266455 0.80733923]\n",
      "\n",
      "Total time execution: 0.0625\n",
      "Directory already exists\n",
      "\n",
      "Best Results: 8/20\n",
      "\n",
      "\n",
      "Iteration: 10\n",
      "============================\n",
      "Precision: 0.3521048482459598 Recall: 0.47541180629197594 F1: 0.36294181267575165\n",
      "Weights: [0.42726979 0.11613846 0.1966366  0.79977576 0.4727092  0.87720462]\n",
      "\n",
      "Total time execution: 0.046875\n",
      "Directory already exists\n",
      "\n",
      "Best Results: 9/20\n",
      "\n",
      "\n",
      "Iteration: 11\n",
      "============================\n",
      "Precision: 0.4954946787544344 Recall: 0.5389181389181389 F1: 0.5113127065602313\n",
      "Weights: [0.22348788 0.61511001 0.84389357 0.96692941 0.18425249 0.66880671]\n",
      "\n",
      "Total time execution: 0.046875\n",
      "Directory already exists\n",
      "\n",
      "Best Results: 10/20\n",
      "\n",
      "\n",
      "Iteration: 12\n",
      "============================\n",
      "Precision: 0.4886164761529366 Recall: 0.5238553193615267 F1: 0.5014000918092989\n",
      "Weights: [0.7814883  0.75966331 0.17656847 0.10871198 0.75167534 0.74888829]\n",
      "\n",
      "Total time execution: 0.046875\n",
      "Directory already exists\n",
      "\n",
      "Best Results: 11/20\n",
      "\n",
      "\n",
      "Iteration: 13\n",
      "============================\n"
     ]
    },
    {
     "name": "stderr",
     "output_type": "stream",
     "text": [
      "C:\\Users\\semin\\anaconda3\\lib\\site-packages\\sklearn\\metrics\\_classification.py:1221: UndefinedMetricWarning:\n",
      "\n",
      "Recall is ill-defined and being set to 0.0 in labels with no true samples. Use `zero_division` parameter to control this behavior.\n",
      "\n",
      "C:\\Users\\semin\\anaconda3\\lib\\site-packages\\sklearn\\metrics\\_classification.py:1221: UndefinedMetricWarning:\n",
      "\n",
      "Recall is ill-defined and being set to 0.0 in labels with no true samples. Use `zero_division` parameter to control this behavior.\n",
      "\n",
      "C:\\Users\\semin\\anaconda3\\lib\\site-packages\\sklearn\\metrics\\_classification.py:1221: UndefinedMetricWarning:\n",
      "\n",
      "Recall is ill-defined and being set to 0.0 in labels with no true samples. Use `zero_division` parameter to control this behavior.\n",
      "\n",
      "C:\\Users\\semin\\anaconda3\\lib\\site-packages\\sklearn\\metrics\\_classification.py:1221: UndefinedMetricWarning:\n",
      "\n",
      "Recall is ill-defined and being set to 0.0 in labels with no true samples. Use `zero_division` parameter to control this behavior.\n",
      "\n"
     ]
    },
    {
     "name": "stdout",
     "output_type": "stream",
     "text": [
      "Precision: 0.49433188805676 Recall: 0.5342290230260953 F1: 0.5091319010974679\n",
      "Weights: [0.81706273 0.93360169 0.63680406 0.60216321 0.85648672 0.57811168]\n",
      "\n",
      "Total time execution: 0.0625\n",
      "Directory already exists\n",
      "\n",
      "Best Results: 12/20\n",
      "\n",
      "\n",
      "Iteration: 14\n",
      "============================\n",
      "Precision: 0.4970063066614111 Recall: 0.5268316950371613 F1: 0.5072050787528125\n",
      "Weights: [0.45915643 0.97916838 0.91586604 0.37207461 0.40116331 0.6824289 ]\n",
      "\n",
      "Total time execution: 0.0625\n",
      "Directory already exists\n",
      "\n",
      "Best Results: 13/20\n",
      "\n",
      "\n",
      "Iteration: 15\n",
      "============================\n",
      "Precision: 0.36094205754828534 Recall: 0.4535461936437546 F1: 0.3763283449399911\n",
      "Weights: [0.73863716 0.09825215 0.0756361  0.14833938 0.09763539 0.28871173]\n",
      "\n",
      "Total time execution: 0.046875\n",
      "Directory already exists\n",
      "\n",
      "Best Results: 14/20\n",
      "\n",
      "\n",
      "Iteration: 16\n",
      "============================\n",
      "Precision: 0.49816909735908554 Recall: 0.5347900482102266 F1: 0.5115368220866943\n",
      "Weights: [0.92949349 0.50162912 0.05967488 0.44732537 0.2820737  0.69009754]\n",
      "\n",
      "Total time execution: 0.046875\n",
      "Directory already exists\n",
      "\n",
      "Best Results: 15/20\n",
      "\n",
      "\n",
      "Iteration: 17\n",
      "============================\n"
     ]
    },
    {
     "name": "stderr",
     "output_type": "stream",
     "text": [
      "C:\\Users\\semin\\anaconda3\\lib\\site-packages\\sklearn\\metrics\\_classification.py:1221: UndefinedMetricWarning:\n",
      "\n",
      "Recall is ill-defined and being set to 0.0 in labels with no true samples. Use `zero_division` parameter to control this behavior.\n",
      "\n",
      "C:\\Users\\semin\\anaconda3\\lib\\site-packages\\sklearn\\metrics\\_classification.py:1221: UndefinedMetricWarning:\n",
      "\n",
      "Recall is ill-defined and being set to 0.0 in labels with no true samples. Use `zero_division` parameter to control this behavior.\n",
      "\n",
      "C:\\Users\\semin\\anaconda3\\lib\\site-packages\\sklearn\\metrics\\_classification.py:1221: UndefinedMetricWarning:\n",
      "\n",
      "Recall is ill-defined and being set to 0.0 in labels with no true samples. Use `zero_division` parameter to control this behavior.\n",
      "\n"
     ]
    },
    {
     "name": "stdout",
     "output_type": "stream",
     "text": [
      "Precision: 0.3621048482459598 Recall: 0.48937486889028736 F1: 0.3778394004814015\n",
      "Weights: [0.27421643 0.1714619  0.41045879 0.89649004 0.165371   0.92468393]\n",
      "\n",
      "Total time execution: 0.046875\n",
      "Directory already exists\n",
      "\n",
      "Best Results: 16/20\n",
      "\n",
      "\n",
      "Iteration: 18\n",
      "============================\n",
      "Precision: 0.49316909735908554 Recall: 0.5295268903154897 F1: 0.5064086169584892\n",
      "Weights: [0.27817421 0.74146041 0.23561843 0.42482053 0.91290935 0.19691865]\n",
      "\n",
      "Total time execution: 0.046875\n",
      "Directory already exists\n",
      "\n",
      "Best Results: 17/20\n",
      "\n",
      "\n",
      "Iteration: 19\n",
      "============================\n",
      "Precision: 0.33720338983050846 Recall: 0.5451476793248945 F1: 0.33715492995456875\n",
      "Weights: [0.21122254 0.06444328 0.83762367 0.68575446 0.9050498  0.39236613]\n",
      "\n",
      "Total time execution: 0.046875\n",
      "Directory already exists\n",
      "\n",
      "Best Results: 18/20\n",
      "\n",
      "\n",
      "Iteration: 20\n",
      "============================\n"
     ]
    },
    {
     "name": "stderr",
     "output_type": "stream",
     "text": [
      "C:\\Users\\semin\\anaconda3\\lib\\site-packages\\sklearn\\metrics\\_classification.py:1221: UndefinedMetricWarning:\n",
      "\n",
      "Recall is ill-defined and being set to 0.0 in labels with no true samples. Use `zero_division` parameter to control this behavior.\n",
      "\n",
      "C:\\Users\\semin\\anaconda3\\lib\\site-packages\\sklearn\\metrics\\_classification.py:1221: UndefinedMetricWarning:\n",
      "\n",
      "Recall is ill-defined and being set to 0.0 in labels with no true samples. Use `zero_division` parameter to control this behavior.\n",
      "\n",
      "C:\\Users\\semin\\anaconda3\\lib\\site-packages\\sklearn\\metrics\\_classification.py:1221: UndefinedMetricWarning:\n",
      "\n",
      "Recall is ill-defined and being set to 0.0 in labels with no true samples. Use `zero_division` parameter to control this behavior.\n",
      "\n",
      "C:\\Users\\semin\\anaconda3\\lib\\site-packages\\sklearn\\metrics\\_classification.py:1221: UndefinedMetricWarning:\n",
      "\n",
      "Recall is ill-defined and being set to 0.0 in labels with no true samples. Use `zero_division` parameter to control this behavior.\n",
      "\n"
     ]
    },
    {
     "name": "stdout",
     "output_type": "stream",
     "text": [
      "Precision: 0.3410405991328341 Recall: 0.5405319148936171 F1: 0.3446823446823447\n",
      "Weights: [0.36424275 0.06002963 0.30741471 0.12072643 0.7985351  0.46935985]\n",
      "\n",
      "Total time execution: 0.046875\n",
      "Directory already exists\n",
      "\n",
      "Best Results: 19/20\n",
      "\n",
      "\n",
      "Iteration: 21\n",
      "============================\n",
      "Precision: 0.3621048482459598 Recall: 0.48937486889028736 F1: 0.3778394004814015\n",
      "Weights: [0.78095683 0.17785608 0.48262008 0.5300036  0.16939356 0.80843687]\n",
      "\n",
      "Total time execution: 0.046875\n",
      "Directory already exists\n",
      "\n",
      "Best Results: 20/20\n",
      "\n",
      "\n",
      "Iteration: 1\n",
      "============================\n",
      "Precision: 0.34443042964130866 Recall: 0.5372573063560188 F1: 0.34635234952066635\n",
      "Weights: [0.56240374 0.07732781 0.40790889 0.62090605 0.16835619 0.91941866]\n",
      "\n",
      "Total time execution: 0.0625\n",
      "Best F1\n",
      "Directory already exists\n",
      "\n",
      "Best Results: 1/20\n",
      "\n",
      "\n",
      "Iteration: 2\n",
      "============================\n",
      "Precision: 0.49316909735908554 Recall: 0.5295268903154897 F1: 0.5064086169584892\n",
      "Weights: [0.12740047 0.54885636 0.59055217 0.33973534 0.59383518 0.91644912]\n",
      "\n",
      "Total time execution: 0.046875\n",
      "Best F1\n",
      "Directory already exists\n",
      "\n",
      "Best Results: 1/20\n",
      "\n",
      "\n",
      "Iteration: 3\n",
      "============================\n"
     ]
    },
    {
     "name": "stderr",
     "output_type": "stream",
     "text": [
      "C:\\Users\\semin\\anaconda3\\lib\\site-packages\\sklearn\\metrics\\_classification.py:1221: UndefinedMetricWarning:\n",
      "\n",
      "Recall is ill-defined and being set to 0.0 in labels with no true samples. Use `zero_division` parameter to control this behavior.\n",
      "\n",
      "C:\\Users\\semin\\anaconda3\\lib\\site-packages\\sklearn\\metrics\\_classification.py:1221: UndefinedMetricWarning:\n",
      "\n",
      "Recall is ill-defined and being set to 0.0 in labels with no true samples. Use `zero_division` parameter to control this behavior.\n",
      "\n",
      "C:\\Users\\semin\\anaconda3\\lib\\site-packages\\sklearn\\metrics\\_classification.py:1221: UndefinedMetricWarning:\n",
      "\n",
      "Recall is ill-defined and being set to 0.0 in labels with no true samples. Use `zero_division` parameter to control this behavior.\n",
      "\n",
      "C:\\Users\\semin\\anaconda3\\lib\\site-packages\\sklearn\\metrics\\_classification.py:1221: UndefinedMetricWarning:\n",
      "\n",
      "Recall is ill-defined and being set to 0.0 in labels with no true samples. Use `zero_division` parameter to control this behavior.\n",
      "\n"
     ]
    },
    {
     "name": "stdout",
     "output_type": "stream",
     "text": [
      "Precision: 0.49316909735908554 Recall: 0.5295268903154897 F1: 0.5064086169584892\n",
      "Weights: [1.93481693e-04 7.58849444e-01 3.49071597e-01 3.19742088e-01\n",
      " 9.64239096e-01 7.63240676e-01]\n",
      "\n",
      "Total time execution: 0.0625\n",
      "Directory already exists\n",
      "\n",
      "Best Results: 2/20\n",
      "\n",
      "\n",
      "Iteration: 4\n",
      "============================\n",
      "Precision: 0.33487780843515963 Recall: 0.5349247535028542 F1: 0.3328322646371427\n",
      "Weights: [0.30014881 0.04652878 0.35401134 0.67726314 0.3653369  0.6701203 ]\n",
      "\n",
      "Total time execution: 0.0625\n",
      "Directory already exists\n",
      "\n",
      "Best Results: 3/20\n",
      "\n",
      "\n",
      "Iteration: 5\n",
      "============================\n",
      "Precision: 0.4663894363421363 Recall: 0.5202963194454309 F1: 0.48596097701980057\n",
      "Weights: [0.85920595 0.52702683 0.28443127 0.51133626 0.68986052 0.08804251]\n",
      "\n",
      "Total time execution: 0.046875\n",
      "Directory already exists\n",
      "\n",
      "Best Results: 4/20\n",
      "\n",
      "\n",
      "Iteration: 6\n",
      "============================\n",
      "Precision: 0.48638943634213644 Recall: 0.5277894327894328 F1: 0.5001416145719944\n",
      "Weights: [0.17017723 0.39310816 0.59134452 0.00909677 0.62786408 0.1433997 ]\n",
      "\n",
      "Total time execution: 0.0625\n",
      "Directory already exists\n",
      "\n",
      "Best Results: 5/20\n",
      "\n",
      "\n",
      "Iteration: 7\n",
      "============================\n"
     ]
    },
    {
     "name": "stderr",
     "output_type": "stream",
     "text": [
      "C:\\Users\\semin\\anaconda3\\lib\\site-packages\\sklearn\\metrics\\_classification.py:1221: UndefinedMetricWarning:\n",
      "\n",
      "Recall is ill-defined and being set to 0.0 in labels with no true samples. Use `zero_division` parameter to control this behavior.\n",
      "\n",
      "C:\\Users\\semin\\anaconda3\\lib\\site-packages\\sklearn\\metrics\\_classification.py:1221: UndefinedMetricWarning:\n",
      "\n",
      "Recall is ill-defined and being set to 0.0 in labels with no true samples. Use `zero_division` parameter to control this behavior.\n",
      "\n",
      "C:\\Users\\semin\\anaconda3\\lib\\site-packages\\sklearn\\metrics\\_classification.py:1221: UndefinedMetricWarning:\n",
      "\n",
      "Recall is ill-defined and being set to 0.0 in labels with no true samples. Use `zero_division` parameter to control this behavior.\n",
      "\n",
      "C:\\Users\\semin\\anaconda3\\lib\\site-packages\\sklearn\\metrics\\_classification.py:1221: UndefinedMetricWarning:\n",
      "\n",
      "Recall is ill-defined and being set to 0.0 in labels with no true samples. Use `zero_division` parameter to control this behavior.\n",
      "\n"
     ]
    },
    {
     "name": "stdout",
     "output_type": "stream",
     "text": [
      "Precision: 0.4275522270398108 Recall: 0.5094856086001618 F1: 0.45453384213697523\n",
      "Weights: [7.98386711e-01 3.29953044e-01 5.86556019e-01 9.89638605e-01\n",
      " 4.67128082e-05 1.52614905e-01]\n",
      "\n",
      "Total time execution: 0.046875\n",
      "Directory already exists\n",
      "\n",
      "Best Results: 6/20\n",
      "\n",
      "\n",
      "Iteration: 8\n",
      "============================\n",
      "Precision: 0.3353251872290106 Recall: 0.43931623931623937 F1: 0.3397863220523319\n",
      "Weights: [0.10663421 0.09950046 0.93501124 0.89375136 0.70122384 0.01222793]\n",
      "\n",
      "Total time execution: 0.0625\n",
      "Directory already exists\n",
      "\n",
      "Best Results: 7/20\n",
      "\n",
      "\n",
      "Iteration: 9\n",
      "============================\n",
      "Precision: 0.4087150177374852 Recall: 0.5038624338624339 F1: 0.43672059448635425\n",
      "Weights: [0.29471208 0.21370649 0.93813774 0.87602802 0.0370412  0.02766144]\n",
      "\n",
      "Total time execution: 0.046875\n",
      "Directory already exists\n",
      "\n",
      "Best Results: 8/20\n",
      "\n",
      "\n",
      "Iteration: 10\n",
      "============================\n",
      "Precision: 0.33559322033898303 Recall: 0.34088466308391896 F1: 0.32862745098039214\n",
      "Weights: [0.83824138 0.08958606 0.44528232 0.88337359 0.02756962 0.89129521]\n",
      "\n",
      "Total time execution: 0.0625\n",
      "Directory already exists\n",
      "\n",
      "Best Results: 9/20\n",
      "\n",
      "\n",
      "Iteration: 11\n",
      "============================\n",
      "Precision: 0.34871501773748526 Recall: 0.47465367965367966 F1: 0.36010030175528074\n",
      "Weights: [0.63102338 0.08621291 0.34220199 0.2940304  0.41925437 0.19932744]\n",
      "\n",
      "Total time execution: 0.0625\n",
      "Directory already exists\n",
      "\n",
      "Best Results: 10/20\n",
      "\n",
      "\n",
      "Iteration: 12\n",
      "============================\n",
      "Precision: 0.49200630666141115 Recall: 0.525056648777579 F1: 0.5037360606988976\n",
      "Weights: [0.74386762 0.94822891 0.73373629 0.21803409 0.88572889 0.61543524]\n",
      "\n",
      "Total time execution: 0.046875\n",
      "Directory already exists\n",
      "\n",
      "Best Results: 11/20\n",
      "\n",
      "\n",
      "Iteration: 13\n",
      "============================\n",
      "Precision: 0.48549467875443436 Recall: 0.5356666666666666 F1: 0.5040966677312892\n",
      "Weights: [0.20085358 0.30821195 0.82056057 0.18590106 0.19135518 0.23462656]\n",
      "\n",
      "Total time execution: 0.0625\n",
      "Directory already exists\n",
      "\n",
      "Best Results: 12/20\n",
      "\n",
      "\n",
      "Iteration: 14\n",
      "============================\n"
     ]
    },
    {
     "name": "stderr",
     "output_type": "stream",
     "text": [
      "C:\\Users\\semin\\anaconda3\\lib\\site-packages\\sklearn\\metrics\\_classification.py:1221: UndefinedMetricWarning:\n",
      "\n",
      "Recall is ill-defined and being set to 0.0 in labels with no true samples. Use `zero_division` parameter to control this behavior.\n",
      "\n",
      "C:\\Users\\semin\\anaconda3\\lib\\site-packages\\sklearn\\metrics\\_classification.py:1221: UndefinedMetricWarning:\n",
      "\n",
      "Recall is ill-defined and being set to 0.0 in labels with no true samples. Use `zero_division` parameter to control this behavior.\n",
      "\n",
      "C:\\Users\\semin\\anaconda3\\lib\\site-packages\\sklearn\\metrics\\_classification.py:1221: UndefinedMetricWarning:\n",
      "\n",
      "Recall is ill-defined and being set to 0.0 in labels with no true samples. Use `zero_division` parameter to control this behavior.\n",
      "\n",
      "C:\\Users\\semin\\anaconda3\\lib\\site-packages\\sklearn\\metrics\\_classification.py:1221: UndefinedMetricWarning:\n",
      "\n",
      "Recall is ill-defined and being set to 0.0 in labels with no true samples. Use `zero_division` parameter to control this behavior.\n",
      "\n"
     ]
    },
    {
     "name": "stdout",
     "output_type": "stream",
     "text": [
      "Precision: 0.4059420575482854 Recall: 0.5006775067750677 F1: 0.43319587628865974\n",
      "Weights: [0.99079282 0.29145461 0.3949     0.79931525 0.78768931 0.61962468]\n",
      "\n",
      "Total time execution: 0.046875\n",
      "Directory already exists\n",
      "\n",
      "Best Results: 13/20\n",
      "\n",
      "\n",
      "Iteration: 15\n",
      "============================\n",
      "Precision: 0.33559322033898303 Recall: 0.34088466308391896 F1: 0.32862745098039214\n",
      "Weights: [0.44841286 0.01923869 0.82853185 0.4809447  0.04701059 0.85284391]\n",
      "\n",
      "Total time execution: 0.0625\n",
      "Directory already exists\n",
      "\n",
      "Best Results: 14/20\n",
      "\n",
      "\n",
      "Iteration: 16\n",
      "============================\n",
      "Precision: 0.3276507686243595 Recall: 0.3343037974683544 F1: 0.3207725173495345\n",
      "Weights: [0.58670967 0.01505656 0.29211706 0.7050575  0.84246643 0.73070809]\n",
      "\n",
      "Total time execution: 0.0625\n",
      "Directory already exists\n",
      "\n",
      "Best Results: 15/20\n",
      "\n",
      "\n",
      "Iteration: 17\n",
      "============================\n"
     ]
    },
    {
     "name": "stderr",
     "output_type": "stream",
     "text": [
      "C:\\Users\\semin\\anaconda3\\lib\\site-packages\\sklearn\\metrics\\_classification.py:1221: UndefinedMetricWarning:\n",
      "\n",
      "Recall is ill-defined and being set to 0.0 in labels with no true samples. Use `zero_division` parameter to control this behavior.\n",
      "\n",
      "C:\\Users\\semin\\anaconda3\\lib\\site-packages\\sklearn\\metrics\\_classification.py:1221: UndefinedMetricWarning:\n",
      "\n",
      "Recall is ill-defined and being set to 0.0 in labels with no true samples. Use `zero_division` parameter to control this behavior.\n",
      "\n",
      "C:\\Users\\semin\\anaconda3\\lib\\site-packages\\sklearn\\metrics\\_classification.py:1221: UndefinedMetricWarning:\n",
      "\n",
      "Recall is ill-defined and being set to 0.0 in labels with no true samples. Use `zero_division` parameter to control this behavior.\n",
      "\n",
      "C:\\Users\\semin\\anaconda3\\lib\\site-packages\\sklearn\\metrics\\_classification.py:1221: UndefinedMetricWarning:\n",
      "\n",
      "Recall is ill-defined and being set to 0.0 in labels with no true samples. Use `zero_division` parameter to control this behavior.\n",
      "\n"
     ]
    },
    {
     "name": "stdout",
     "output_type": "stream",
     "text": [
      "Precision: 0.489779266850611 Recall: 0.5287676625301981 F1: 0.5030551267537992\n",
      "Weights: [0.96073202 0.92010633 0.96875253 0.10302001 0.43378255 0.7025991 ]\n",
      "\n",
      "Total time execution: 0.046875\n",
      "Directory already exists\n",
      "\n",
      "Best Results: 16/20\n",
      "\n",
      "\n",
      "Iteration: 18\n",
      "============================\n",
      "Precision: 0.41094205754828533 Recall: 0.4998664886515353 F1: 0.4374271386197483\n",
      "Weights: [0.69161553 0.35492236 0.68975285 0.95018059 0.58973406 0.93577873]\n",
      "\n",
      "Total time execution: 0.0625\n",
      "Directory already exists\n",
      "\n",
      "Best Results: 17/20\n",
      "\n",
      "\n",
      "Iteration: 19\n",
      "============================\n",
      "Precision: 0.4881690973590855 Recall: 0.5278083891942941 F1: 0.5028530850625541\n",
      "Weights: [0.37251653 0.62690169 0.56019476 0.65257227 0.97533091 0.21798141]\n",
      "\n",
      "Total time execution: 0.046875\n",
      "Directory already exists\n",
      "\n",
      "Best Results: 18/20\n",
      "\n",
      "\n",
      "Iteration: 20\n",
      "============================\n",
      "Precision: 0.4841623965313362 Recall: 0.5278185800798866 F1: 0.49825943274372086\n",
      "Weights: [0.87773552 0.99801258 0.70023239 0.17051898 0.17533882 0.01320579]\n",
      "\n",
      "Total time execution: 0.0625\n",
      "Directory already exists\n",
      "\n",
      "Best Results: 19/20\n",
      "\n",
      "\n",
      "Iteration: 21\n",
      "============================\n"
     ]
    },
    {
     "name": "stderr",
     "output_type": "stream",
     "text": [
      "C:\\Users\\semin\\anaconda3\\lib\\site-packages\\sklearn\\metrics\\_classification.py:1221: UndefinedMetricWarning:\n",
      "\n",
      "Recall is ill-defined and being set to 0.0 in labels with no true samples. Use `zero_division` parameter to control this behavior.\n",
      "\n",
      "C:\\Users\\semin\\anaconda3\\lib\\site-packages\\sklearn\\metrics\\_classification.py:1221: UndefinedMetricWarning:\n",
      "\n",
      "Recall is ill-defined and being set to 0.0 in labels with no true samples. Use `zero_division` parameter to control this behavior.\n",
      "\n",
      "C:\\Users\\semin\\anaconda3\\lib\\site-packages\\sklearn\\metrics\\_classification.py:1221: UndefinedMetricWarning:\n",
      "\n",
      "Recall is ill-defined and being set to 0.0 in labels with no true samples. Use `zero_division` parameter to control this behavior.\n",
      "\n",
      "C:\\Users\\semin\\anaconda3\\lib\\site-packages\\sklearn\\metrics\\_classification.py:1221: UndefinedMetricWarning:\n",
      "\n",
      "Recall is ill-defined and being set to 0.0 in labels with no true samples. Use `zero_division` parameter to control this behavior.\n",
      "\n"
     ]
    },
    {
     "name": "stdout",
     "output_type": "stream",
     "text": [
      "Precision: 0.47621994481671265 Recall: 0.5317834816927376 F1: 0.495007994212335\n",
      "Weights: [0.52433696 0.34286727 0.01155986 0.42950076 0.50583894 0.31323287]\n",
      "\n",
      "Total time execution: 0.0625\n",
      "Directory already exists\n",
      "\n",
      "Best Results: 20/20\n",
      "\n",
      "\n",
      "Iteration: 1\n",
      "============================\n",
      "Precision: 0.46766062278281434 Recall: 0.5248463339122555 F1: 0.48405350674538655\n",
      "Weights: [0.60536622 0.33680476 0.02671077 0.07729279 0.58803415 0.29796134]\n",
      "\n",
      "Total time execution: 0.046875\n",
      "Best F1\n",
      "Directory already exists\n",
      "\n",
      "Best Results: 1/20\n",
      "\n",
      "\n",
      "Iteration: 2\n",
      "============================\n",
      "Precision: 0.3326507686243595 Recall: 0.5391755923401493 F1: 0.3320953021914831\n",
      "Weights: [0.63923177 0.0204086  0.22843258 0.84351409 0.85457119 0.37249451]\n",
      "\n",
      "Total time execution: 0.0625\n",
      "Directory already exists\n",
      "\n",
      "Best Results: 2/20\n",
      "\n",
      "\n",
      "Iteration: 3\n",
      "============================\n",
      "Precision: 0.49316909735908554 Recall: 0.5295268903154897 F1: 0.5064086169584892\n",
      "Weights: [0.799765   0.87844565 0.8077677  0.2018796  0.71308044 0.77522754]\n",
      "\n",
      "Total time execution: 0.046875\n",
      "Best F1\n",
      "Directory already exists\n",
      "\n",
      "Best Results: 1/20\n",
      "\n",
      "\n",
      "Iteration: 4\n",
      "============================\n"
     ]
    },
    {
     "name": "stderr",
     "output_type": "stream",
     "text": [
      "C:\\Users\\semin\\anaconda3\\lib\\site-packages\\sklearn\\metrics\\_classification.py:1221: UndefinedMetricWarning:\n",
      "\n",
      "Recall is ill-defined and being set to 0.0 in labels with no true samples. Use `zero_division` parameter to control this behavior.\n",
      "\n",
      "C:\\Users\\semin\\anaconda3\\lib\\site-packages\\sklearn\\metrics\\_classification.py:1221: UndefinedMetricWarning:\n",
      "\n",
      "Recall is ill-defined and being set to 0.0 in labels with no true samples. Use `zero_division` parameter to control this behavior.\n",
      "\n",
      "C:\\Users\\semin\\anaconda3\\lib\\site-packages\\sklearn\\metrics\\_classification.py:1221: UndefinedMetricWarning:\n",
      "\n",
      "Recall is ill-defined and being set to 0.0 in labels with no true samples. Use `zero_division` parameter to control this behavior.\n",
      "\n",
      "C:\\Users\\semin\\anaconda3\\lib\\site-packages\\sklearn\\metrics\\_classification.py:1221: UndefinedMetricWarning:\n",
      "\n",
      "Recall is ill-defined and being set to 0.0 in labels with no true samples. Use `zero_division` parameter to control this behavior.\n",
      "\n"
     ]
    },
    {
     "name": "stdout",
     "output_type": "stream",
     "text": [
      "Precision: 0.4781690973590855 Recall: 0.5242511561127898 F1: 0.49550488874795207\n",
      "Weights: [0.89285748 0.65797309 0.70787611 0.42202297 0.89785444 0.56076735]\n",
      "\n",
      "Total time execution: 0.046875\n",
      "Directory already exists\n",
      "\n",
      "Best Results: 2/20\n",
      "\n",
      "\n",
      "Iteration: 5\n",
      "============================\n",
      "Precision: 0.489779266850611 Recall: 0.5284403903158912 F1: 0.5035482159848256\n",
      "Weights: [0.77257437 0.78156891 0.22311292 0.14301257 0.80826955 0.89436119]\n",
      "\n",
      "Total time execution: 0.0625\n",
      "Directory already exists\n",
      "\n",
      "Best Results: 3/20\n",
      "\n",
      "\n",
      "Iteration: 6\n",
      "============================\n",
      "Precision: 0.3389830508474576 Recall: 0.34162107396149943 F1: 0.3314180066655314\n",
      "Weights: [0.9338232  0.04124604 0.76789328 0.33890333 0.06656595 0.50759023]\n",
      "\n",
      "Total time execution: 0.046875\n",
      "Directory already exists\n",
      "\n",
      "Best Results: 4/20\n",
      "\n",
      "\n",
      "Iteration: 7\n",
      "============================\n"
     ]
    },
    {
     "name": "stderr",
     "output_type": "stream",
     "text": [
      "C:\\Users\\semin\\anaconda3\\lib\\site-packages\\sklearn\\metrics\\_classification.py:1221: UndefinedMetricWarning:\n",
      "\n",
      "Recall is ill-defined and being set to 0.0 in labels with no true samples. Use `zero_division` parameter to control this behavior.\n",
      "\n",
      "C:\\Users\\semin\\anaconda3\\lib\\site-packages\\sklearn\\metrics\\_classification.py:1221: UndefinedMetricWarning:\n",
      "\n",
      "Recall is ill-defined and being set to 0.0 in labels with no true samples. Use `zero_division` parameter to control this behavior.\n",
      "\n",
      "C:\\Users\\semin\\anaconda3\\lib\\site-packages\\sklearn\\metrics\\_classification.py:1221: UndefinedMetricWarning:\n",
      "\n",
      "Recall is ill-defined and being set to 0.0 in labels with no true samples. Use `zero_division` parameter to control this behavior.\n",
      "\n",
      "C:\\Users\\semin\\anaconda3\\lib\\site-packages\\sklearn\\metrics\\_classification.py:1221: UndefinedMetricWarning:\n",
      "\n",
      "Recall is ill-defined and being set to 0.0 in labels with no true samples. Use `zero_division` parameter to control this behavior.\n",
      "\n"
     ]
    },
    {
     "name": "stdout",
     "output_type": "stream",
     "text": [
      "Precision: 0.49316909735908554 Recall: 0.5295268903154897 F1: 0.5064086169584892\n",
      "Weights: [0.78977349 0.55809516 0.3573069  0.1873456  0.45115567 0.60839616]\n",
      "\n",
      "Total time execution: 0.0625\n",
      "Directory already exists\n",
      "\n",
      "Best Results: 5/20\n",
      "\n",
      "\n",
      "Iteration: 8\n",
      "============================\n",
      "Precision: 0.4559420575482854 Recall: 0.5210452961672474 F1: 0.4795223213113278\n",
      "Weights: [0.6940766  0.33114428 0.73284396 0.38049632 0.60082675 0.40796129]\n",
      "\n",
      "Total time execution: 0.0625\n",
      "Directory already exists\n",
      "\n",
      "Best Results: 6/20\n",
      "\n",
      "\n",
      "Iteration: 9\n",
      "============================\n",
      "Precision: 0.49433188805676 Recall: 0.5342290230260953 F1: 0.5091319010974679\n",
      "Weights: [0.85785699 0.76700331 0.41910791 0.9547515  0.32460595 0.52667928]\n",
      "\n",
      "Total time execution: 0.0625\n",
      "Best F1\n",
      "Directory already exists\n",
      "\n",
      "Best Results: 1/20\n",
      "\n",
      "\n",
      "Iteration: 10\n",
      "============================\n",
      "Precision: 0.39710484824595976 Recall: 0.49461226722358964 F1: 0.4229885057471264\n",
      "Weights: [0.08035822 0.21394398 0.69500198 0.72254806 0.03425049 0.70935839]\n",
      "\n",
      "Total time execution: 0.046875\n",
      "Directory already exists\n",
      "\n",
      "Best Results: 2/20\n",
      "\n",
      "\n",
      "Iteration: 11\n",
      "============================\n"
     ]
    },
    {
     "name": "stderr",
     "output_type": "stream",
     "text": [
      "C:\\Users\\semin\\anaconda3\\lib\\site-packages\\sklearn\\metrics\\_classification.py:1221: UndefinedMetricWarning:\n",
      "\n",
      "Recall is ill-defined and being set to 0.0 in labels with no true samples. Use `zero_division` parameter to control this behavior.\n",
      "\n",
      "C:\\Users\\semin\\anaconda3\\lib\\site-packages\\sklearn\\metrics\\_classification.py:1221: UndefinedMetricWarning:\n",
      "\n",
      "Recall is ill-defined and being set to 0.0 in labels with no true samples. Use `zero_division` parameter to control this behavior.\n",
      "\n",
      "C:\\Users\\semin\\anaconda3\\lib\\site-packages\\sklearn\\metrics\\_classification.py:1221: UndefinedMetricWarning:\n",
      "\n",
      "Recall is ill-defined and being set to 0.0 in labels with no true samples. Use `zero_division` parameter to control this behavior.\n",
      "\n",
      "C:\\Users\\semin\\anaconda3\\lib\\site-packages\\sklearn\\metrics\\_classification.py:1221: UndefinedMetricWarning:\n",
      "\n",
      "Recall is ill-defined and being set to 0.0 in labels with no true samples. Use `zero_division` parameter to control this behavior.\n",
      "\n"
     ]
    },
    {
     "name": "stdout",
     "output_type": "stream",
     "text": [
      "Precision: 0.3389830508474576 Recall: 0.34162107396149943 F1: 0.3314180066655314\n",
      "Weights: [0.09409078 0.02107531 0.76252494 0.0378349  0.03463109 0.52225251]\n",
      "\n",
      "Total time execution: 0.0625\n",
      "Directory already exists\n",
      "\n",
      "Best Results: 3/20\n",
      "\n",
      "\n",
      "Iteration: 12\n",
      "============================\n",
      "Precision: 0.49816909735908554 Recall: 0.5312104949314251 F1: 0.5098892700942688\n",
      "Weights: [0.23023596 0.85030746 0.36868664 0.8265518  0.41161958 0.53713321]\n",
      "\n",
      "Total time execution: 0.0625\n",
      "Best F1\n",
      "Directory already exists\n",
      "\n",
      "Best Results: 1/20\n",
      "\n",
      "\n",
      "Iteration: 13\n",
      "============================\n",
      "Precision: 0.33720338983050846 Recall: 0.5451476793248945 F1: 0.33715492995456875\n",
      "Weights: [0.54181616 0.04604089 0.90227351 0.41310838 0.88353674 0.60263276]\n",
      "\n",
      "Total time execution: 0.046875\n",
      "Directory already exists\n",
      "\n",
      "Best Results: 2/20\n",
      "\n",
      "\n",
      "Iteration: 14\n",
      "============================\n"
     ]
    },
    {
     "name": "stderr",
     "output_type": "stream",
     "text": [
      "C:\\Users\\semin\\anaconda3\\lib\\site-packages\\sklearn\\metrics\\_classification.py:1221: UndefinedMetricWarning:\n",
      "\n",
      "Recall is ill-defined and being set to 0.0 in labels with no true samples. Use `zero_division` parameter to control this behavior.\n",
      "\n",
      "C:\\Users\\semin\\anaconda3\\lib\\site-packages\\sklearn\\metrics\\_classification.py:1221: UndefinedMetricWarning:\n",
      "\n",
      "Recall is ill-defined and being set to 0.0 in labels with no true samples. Use `zero_division` parameter to control this behavior.\n",
      "\n",
      "C:\\Users\\semin\\anaconda3\\lib\\site-packages\\sklearn\\metrics\\_classification.py:1221: UndefinedMetricWarning:\n",
      "\n",
      "Recall is ill-defined and being set to 0.0 in labels with no true samples. Use `zero_division` parameter to control this behavior.\n",
      "\n",
      "C:\\Users\\semin\\anaconda3\\lib\\site-packages\\sklearn\\metrics\\_classification.py:1221: UndefinedMetricWarning:\n",
      "\n",
      "Recall is ill-defined and being set to 0.0 in labels with no true samples. Use `zero_division` parameter to control this behavior.\n",
      "\n"
     ]
    },
    {
     "name": "stdout",
     "output_type": "stream",
     "text": [
      "Precision: 0.49316909735908554 Recall: 0.5295268903154897 F1: 0.5064086169584892\n",
      "Weights: [0.40163489 0.86673728 0.76520175 0.96356757 0.83600923 0.97332065]\n",
      "\n",
      "Total time execution: 0.0625\n",
      "Directory already exists\n",
      "\n",
      "Best Results: 3/20\n",
      "\n",
      "\n",
      "Iteration: 15\n",
      "============================\n",
      "Precision: 0.49316909735908554 Recall: 0.5295268903154897 F1: 0.5064086169584892\n",
      "Weights: [0.43618811 0.57213807 0.60749003 0.35117228 0.85665801 0.52856861]\n",
      "\n",
      "Total time execution: 0.078125\n",
      "Directory already exists\n",
      "\n",
      "Best Results: 4/20\n",
      "\n",
      "\n",
      "Iteration: 16\n",
      "============================\n",
      "Precision: 0.4643318880567599 Recall: 0.5239568512817859 F1: 0.48646318696492685\n",
      "Weights: [0.69737547 0.44347972 0.51789712 0.70418342 0.34766734 0.87675039]\n",
      "\n",
      "Total time execution: 0.046875\n",
      "Directory already exists\n",
      "\n",
      "Best Results: 5/20\n",
      "\n",
      "\n",
      "Iteration: 17\n",
      "============================\n",
      "Precision: 0.49433188805676 Recall: 0.5342290230260953 F1: 0.5091319010974679\n",
      "Weights: [0.68145296 0.872116   0.79325168 0.75110419 0.51768796 0.81724991]\n",
      "\n",
      "Total time execution: 0.046875\n",
      "Directory already exists\n",
      "\n",
      "Best Results: 6/20\n",
      "\n",
      "\n",
      "Iteration: 18\n",
      "============================\n"
     ]
    },
    {
     "name": "stderr",
     "output_type": "stream",
     "text": [
      "C:\\Users\\semin\\anaconda3\\lib\\site-packages\\sklearn\\metrics\\_classification.py:1221: UndefinedMetricWarning:\n",
      "\n",
      "Recall is ill-defined and being set to 0.0 in labels with no true samples. Use `zero_division` parameter to control this behavior.\n",
      "\n",
      "C:\\Users\\semin\\anaconda3\\lib\\site-packages\\sklearn\\metrics\\_classification.py:1221: UndefinedMetricWarning:\n",
      "\n",
      "Recall is ill-defined and being set to 0.0 in labels with no true samples. Use `zero_division` parameter to control this behavior.\n",
      "\n",
      "C:\\Users\\semin\\anaconda3\\lib\\site-packages\\sklearn\\metrics\\_classification.py:1221: UndefinedMetricWarning:\n",
      "\n",
      "Recall is ill-defined and being set to 0.0 in labels with no true samples. Use `zero_division` parameter to control this behavior.\n",
      "\n",
      "C:\\Users\\semin\\anaconda3\\lib\\site-packages\\sklearn\\metrics\\_classification.py:1221: UndefinedMetricWarning:\n",
      "\n",
      "Recall is ill-defined and being set to 0.0 in labels with no true samples. Use `zero_division` parameter to control this behavior.\n",
      "\n"
     ]
    },
    {
     "name": "stdout",
     "output_type": "stream",
     "text": [
      "Precision: 0.47933188805675997 Recall: 0.5292859097127223 F1: 0.4981862317725695\n",
      "Weights: [0.97047054 0.77689532 0.67458182 0.94398968 0.81895263 0.48647283]\n",
      "\n",
      "Total time execution: 0.0625\n",
      "Directory already exists\n",
      "\n",
      "Best Results: 7/20\n",
      "\n",
      "\n",
      "Iteration: 19\n",
      "============================\n",
      "Precision: 0.4845112337406386 Recall: 0.5145465916197624 F1: 0.4937095569684125\n",
      "Weights: [0.10558982 0.722983   0.09434789 0.37363923 0.59927469 0.0428099 ]\n",
      "\n",
      "Total time execution: 0.046875\n",
      "Directory already exists\n",
      "\n",
      "Best Results: 8/20\n",
      "\n",
      "\n",
      "Iteration: 20\n",
      "============================\n",
      "Precision: 0.4559420575482854 Recall: 0.5210452961672474 F1: 0.4795223213113278\n",
      "Weights: [0.84174993 0.27895031 0.49223025 0.16915773 0.58128287 0.3283219 ]\n",
      "\n",
      "Total time execution: 0.046875\n",
      "Directory already exists\n",
      "\n",
      "Best Results: 9/20\n",
      "\n",
      "\n",
      "Iteration: 21\n",
      "============================\n",
      "Precision: 0.49316909735908554 Recall: 0.5295268903154897 F1: 0.5064086169584892\n",
      "Weights: [0.07967175 0.81586377 0.54585256 0.80310653 0.65039388 0.2781766 ]\n",
      "\n",
      "Total time execution: 0.046875\n",
      "Directory already exists\n",
      "\n",
      "Best Results: 10/20\n",
      "\n",
      "\n",
      "Iteration: 22\n",
      "============================\n"
     ]
    },
    {
     "name": "stderr",
     "output_type": "stream",
     "text": [
      "C:\\Users\\semin\\anaconda3\\lib\\site-packages\\sklearn\\metrics\\_classification.py:1221: UndefinedMetricWarning:\n",
      "\n",
      "Recall is ill-defined and being set to 0.0 in labels with no true samples. Use `zero_division` parameter to control this behavior.\n",
      "\n",
      "C:\\Users\\semin\\anaconda3\\lib\\site-packages\\sklearn\\metrics\\_classification.py:1221: UndefinedMetricWarning:\n",
      "\n",
      "Recall is ill-defined and being set to 0.0 in labels with no true samples. Use `zero_division` parameter to control this behavior.\n",
      "\n",
      "C:\\Users\\semin\\anaconda3\\lib\\site-packages\\sklearn\\metrics\\_classification.py:1221: UndefinedMetricWarning:\n",
      "\n",
      "Recall is ill-defined and being set to 0.0 in labels with no true samples. Use `zero_division` parameter to control this behavior.\n",
      "\n",
      "C:\\Users\\semin\\anaconda3\\lib\\site-packages\\sklearn\\metrics\\_classification.py:1221: UndefinedMetricWarning:\n",
      "\n",
      "Recall is ill-defined and being set to 0.0 in labels with no true samples. Use `zero_division` parameter to control this behavior.\n",
      "\n"
     ]
    },
    {
     "name": "stdout",
     "output_type": "stream",
     "text": [
      "Precision: 0.50433188805676 Recall: 0.5375457875457876 F1: 0.515482504653735\n",
      "Weights: [0.33932272 0.40087375 0.42494151 0.04440983 0.02422319 0.51262316]\n",
      "\n",
      "Total time execution: 0.046875\n",
      "Best F1\n",
      "Directory already exists\n",
      "\n",
      "Best Results: 1/20\n",
      "\n",
      "\n",
      "Iteration: 23\n",
      "============================\n",
      "Precision: 0.4659420575482853 Recall: 0.5247434318555009 F1: 0.4876158415841584\n",
      "Weights: [0.85945386 0.57400631 0.64818491 0.84320704 0.56221912 0.22011034]\n",
      "\n",
      "Total time execution: 0.0625\n",
      "Directory already exists\n",
      "\n",
      "Best Results: 2/20\n",
      "\n",
      "\n",
      "Iteration: 24\n",
      "============================\n",
      "Precision: 0.49816909735908554 Recall: 0.5315201465201465 F1: 0.5093925863976043\n",
      "Weights: [0.0139684  0.80125751 0.59019147 0.22098337 0.88956372 0.32751001]\n",
      "\n",
      "Total time execution: 0.046875\n",
      "Directory already exists\n",
      "\n",
      "Best Results: 3/20\n",
      "\n",
      "\n",
      "Iteration: 25\n",
      "============================\n",
      "Precision: 0.46549467875443434 Recall: 0.5286663052317702 F1: 0.48864234490575215\n",
      "Weights: [0.31748297 0.32473201 0.50806337 0.2971901  0.27151689 0.69936061]\n",
      "\n",
      "Total time execution: 0.046875\n",
      "Directory already exists\n",
      "\n",
      "Best Results: 4/20\n",
      "\n",
      "\n",
      "Iteration: 26\n",
      "============================\n"
     ]
    },
    {
     "name": "stderr",
     "output_type": "stream",
     "text": [
      "C:\\Users\\semin\\anaconda3\\lib\\site-packages\\sklearn\\metrics\\_classification.py:1221: UndefinedMetricWarning:\n",
      "\n",
      "Recall is ill-defined and being set to 0.0 in labels with no true samples. Use `zero_division` parameter to control this behavior.\n",
      "\n",
      "C:\\Users\\semin\\anaconda3\\lib\\site-packages\\sklearn\\metrics\\_classification.py:1221: UndefinedMetricWarning:\n",
      "\n",
      "Recall is ill-defined and being set to 0.0 in labels with no true samples. Use `zero_division` parameter to control this behavior.\n",
      "\n",
      "C:\\Users\\semin\\anaconda3\\lib\\site-packages\\sklearn\\metrics\\_classification.py:1221: UndefinedMetricWarning:\n",
      "\n",
      "Recall is ill-defined and being set to 0.0 in labels with no true samples. Use `zero_division` parameter to control this behavior.\n",
      "\n",
      "C:\\Users\\semin\\anaconda3\\lib\\site-packages\\sklearn\\metrics\\_classification.py:1221: UndefinedMetricWarning:\n",
      "\n",
      "Recall is ill-defined and being set to 0.0 in labels with no true samples. Use `zero_division` parameter to control this behavior.\n",
      "\n"
     ]
    },
    {
     "name": "stdout",
     "output_type": "stream",
     "text": [
      "Precision: 0.3482676389436342 Recall: 0.4916736753574432 F1: 0.35558955895589556\n",
      "Weights: [0.16701961 0.08243229 0.40723108 0.86328414 0.21710001 0.33483156]\n",
      "\n",
      "Total time execution: 0.078125\n",
      "Directory already exists\n",
      "\n",
      "Best Results: 5/20\n",
      "\n",
      "\n",
      "Iteration: 27\n",
      "============================\n",
      "Precision: 0.49933188805676 Recall: 0.5358974358974359 F1: 0.512073540870873\n",
      "Weights: [0.53518818 0.87097215 0.80648109 0.67590451 0.14361155 0.66152457]\n",
      "\n",
      "Total time execution: 0.0625\n",
      "Directory already exists\n",
      "\n",
      "Best Results: 6/20\n",
      "\n",
      "\n",
      "Iteration: 28\n",
      "============================\n",
      "Precision: 0.49316909735908554 Recall: 0.5295268903154897 F1: 0.5064086169584892\n",
      "Weights: [0.58739041 0.59690608 0.5105347  0.781782   0.38881623 0.2697389 ]\n",
      "\n",
      "Total time execution: 0.046875\n",
      "Directory already exists\n",
      "\n",
      "Best Results: 7/20\n",
      "\n",
      "\n",
      "Iteration: 29\n",
      "============================\n",
      "Precision: 0.36826763894363423 Recall: 0.48556442909561837 F1: 0.3868542713567839\n",
      "Weights: [0.09802752 0.20055659 0.62761902 0.96258333 0.1534846  0.83366012]\n",
      "\n",
      "Total time execution: 0.046875\n",
      "Directory already exists\n",
      "\n",
      "Best Results: 8/20\n",
      "\n",
      "\n",
      "Iteration: 30\n",
      "============================\n"
     ]
    },
    {
     "name": "stderr",
     "output_type": "stream",
     "text": [
      "C:\\Users\\semin\\anaconda3\\lib\\site-packages\\sklearn\\metrics\\_classification.py:1221: UndefinedMetricWarning:\n",
      "\n",
      "Recall is ill-defined and being set to 0.0 in labels with no true samples. Use `zero_division` parameter to control this behavior.\n",
      "\n",
      "C:\\Users\\semin\\anaconda3\\lib\\site-packages\\sklearn\\metrics\\_classification.py:1221: UndefinedMetricWarning:\n",
      "\n",
      "Recall is ill-defined and being set to 0.0 in labels with no true samples. Use `zero_division` parameter to control this behavior.\n",
      "\n",
      "C:\\Users\\semin\\anaconda3\\lib\\site-packages\\sklearn\\metrics\\_classification.py:1221: UndefinedMetricWarning:\n",
      "\n",
      "Recall is ill-defined and being set to 0.0 in labels with no true samples. Use `zero_division` parameter to control this behavior.\n",
      "\n",
      "C:\\Users\\semin\\anaconda3\\lib\\site-packages\\sklearn\\metrics\\_classification.py:1221: UndefinedMetricWarning:\n",
      "\n",
      "Recall is ill-defined and being set to 0.0 in labels with no true samples. Use `zero_division` parameter to control this behavior.\n",
      "\n"
     ]
    },
    {
     "name": "stdout",
     "output_type": "stream",
     "text": [
      "Precision: 0.34443042964130866 Recall: 0.5372573063560188 F1: 0.34635234952066635\n",
      "Weights: [0.47198717 0.08375041 0.4528339  0.14508014 0.83053779 0.86733941]\n",
      "\n",
      "Total time execution: 0.0625\n",
      "Directory already exists\n",
      "\n",
      "Best Results: 9/20\n",
      "\n",
      "\n",
      "Iteration: 31\n",
      "============================\n",
      "Precision: 0.43094205754828535 Recall: 0.5104761904761904 F1: 0.4574089950275736\n",
      "Weights: [0.75030393 0.36682446 0.75261016 0.60792987 0.89776881 0.4390684 ]\n",
      "\n",
      "Total time execution: 0.0625\n",
      "Directory already exists\n",
      "\n",
      "Best Results: 10/20\n",
      "\n",
      "\n",
      "Iteration: 32\n",
      "============================\n",
      "Precision: 0.4609420575482853 Recall: 0.5229240083130027 F1: 0.4836181190789143\n",
      "Weights: [0.60330711 0.47751055 0.29156004 0.54720513 0.7500774  0.64138461]\n",
      "\n",
      "Total time execution: 0.046875\n",
      "Directory already exists\n",
      "\n",
      "Best Results: 11/20\n",
      "\n",
      "\n",
      "Iteration: 33\n",
      "============================\n",
      "Precision: 0.49200630666141115 Recall: 0.525056648777579 F1: 0.5037360606988976\n",
      "Weights: [0.50084194 0.9742939  0.499025   0.4612808  0.79751128 0.39991988]\n",
      "\n",
      "Total time execution: 0.046875\n",
      "Directory already exists\n",
      "\n",
      "Best Results: 12/20\n",
      "\n",
      "\n",
      "Iteration: 34\n",
      "============================\n"
     ]
    },
    {
     "name": "stderr",
     "output_type": "stream",
     "text": [
      "C:\\Users\\semin\\anaconda3\\lib\\site-packages\\sklearn\\metrics\\_classification.py:1221: UndefinedMetricWarning:\n",
      "\n",
      "Recall is ill-defined and being set to 0.0 in labels with no true samples. Use `zero_division` parameter to control this behavior.\n",
      "\n",
      "C:\\Users\\semin\\anaconda3\\lib\\site-packages\\sklearn\\metrics\\_classification.py:1221: UndefinedMetricWarning:\n",
      "\n",
      "Recall is ill-defined and being set to 0.0 in labels with no true samples. Use `zero_division` parameter to control this behavior.\n",
      "\n",
      "C:\\Users\\semin\\anaconda3\\lib\\site-packages\\sklearn\\metrics\\_classification.py:1221: UndefinedMetricWarning:\n",
      "\n",
      "Recall is ill-defined and being set to 0.0 in labels with no true samples. Use `zero_division` parameter to control this behavior.\n",
      "\n",
      "C:\\Users\\semin\\anaconda3\\lib\\site-packages\\sklearn\\metrics\\_classification.py:1221: UndefinedMetricWarning:\n",
      "\n",
      "Recall is ill-defined and being set to 0.0 in labels with no true samples. Use `zero_division` parameter to control this behavior.\n",
      "\n"
     ]
    },
    {
     "name": "stdout",
     "output_type": "stream",
     "text": [
      "Precision: 0.4387150177374853 Recall: 0.5231525364226786 F1: 0.46702826253450613\n",
      "Weights: [0.95889734 0.35619178 0.88765744 0.81177575 0.3447553  0.11411763]\n",
      "\n",
      "Total time execution: 0.046875\n",
      "Directory already exists\n",
      "\n",
      "Best Results: 13/20\n",
      "\n",
      "\n",
      "Iteration: 35\n",
      "============================\n",
      "Precision: 0.49933188805676 Recall: 0.5358974358974359 F1: 0.512073540870873\n",
      "Weights: [0.06279038 0.90915347 0.83869493 0.29323413 0.85996259 0.99778328]\n",
      "\n",
      "Total time execution: 0.0625\n",
      "Directory already exists\n",
      "\n",
      "Best Results: 14/20\n",
      "\n",
      "\n",
      "Iteration: 36\n",
      "============================\n",
      "Precision: 0.4936164761529366 Recall: 0.5257326007326008 F1: 0.5043422721018695\n",
      "Weights: [0.04188681 0.59394899 0.12051681 0.05056899 0.79779602 0.1018813 ]\n",
      "\n",
      "Total time execution: 0.046875\n",
      "Directory already exists\n",
      "\n",
      "Best Results: 15/20\n",
      "\n",
      "\n",
      "Iteration: 37\n",
      "============================\n",
      "Precision: 0.3621048482459598 Recall: 0.48937486889028736 F1: 0.3778394004814015\n",
      "Weights: [0.48065979 0.1303138  0.32048372 0.36411487 0.26135409 0.97186637]\n",
      "\n",
      "Total time execution: 0.0625\n",
      "Directory already exists\n",
      "\n",
      "Best Results: 16/20\n",
      "\n",
      "\n",
      "Iteration: 38\n",
      "============================\n",
      "Precision: 0.3959420575482854 Recall: 0.4897593445980542 F1: 0.4208216566714734\n",
      "Weights: [0.02806791 0.18173658 0.45471525 0.53574252 0.7662449  0.39031566]\n",
      "\n",
      "Total time execution: 0.046875\n",
      "Directory already exists\n",
      "\n",
      "Best Results: 17/20\n",
      "\n",
      "\n",
      "Iteration: 39\n",
      "============================\n",
      "Precision: 0.4970063066614111 Recall: 0.5268316950371613 F1: 0.5072050787528125\n",
      "Weights: [0.22267375 0.81153705 0.36464866 0.54100242 0.0813781  0.25118673]\n",
      "\n",
      "Total time execution: 0.0625\n",
      "Directory already exists\n",
      "\n",
      "Best Results: 18/20\n",
      "\n",
      "\n",
      "Iteration: 40\n",
      "============================\n",
      "Precision: 0.4643318880567599 Recall: 0.5239568512817859 F1: 0.48646318696492685\n",
      "Weights: [0.34412136 0.40612916 0.18162379 0.40590412 0.59810103 0.79380964]\n",
      "\n",
      "Total time execution: 0.046875\n",
      "Directory already exists\n",
      "\n",
      "Best Results: 19/20\n",
      "\n",
      "\n",
      "Iteration: 41\n",
      "============================\n",
      "Precision: 0.49816909735908554 Recall: 0.5315201465201465 F1: 0.5093925863976043\n",
      "Weights: [0.09297285 0.603107   0.70088355 0.04780529 0.36864809 0.38744021]\n",
      "\n",
      "Total time execution: 0.0625\n",
      "Directory already exists\n",
      "\n",
      "Best Results: 20/20\n",
      "\n",
      "\n"
     ]
    },
    {
     "name": "stderr",
     "output_type": "stream",
     "text": [
      "C:\\Users\\semin\\anaconda3\\lib\\site-packages\\sklearn\\metrics\\_classification.py:1221: UndefinedMetricWarning:\n",
      "\n",
      "Recall is ill-defined and being set to 0.0 in labels with no true samples. Use `zero_division` parameter to control this behavior.\n",
      "\n",
      "C:\\Users\\semin\\anaconda3\\lib\\site-packages\\sklearn\\metrics\\_classification.py:1221: UndefinedMetricWarning:\n",
      "\n",
      "Recall is ill-defined and being set to 0.0 in labels with no true samples. Use `zero_division` parameter to control this behavior.\n",
      "\n",
      "C:\\Users\\semin\\anaconda3\\lib\\site-packages\\sklearn\\metrics\\_classification.py:1221: UndefinedMetricWarning:\n",
      "\n",
      "Recall is ill-defined and being set to 0.0 in labels with no true samples. Use `zero_division` parameter to control this behavior.\n",
      "\n",
      "C:\\Users\\semin\\anaconda3\\lib\\site-packages\\sklearn\\metrics\\_classification.py:1221: UndefinedMetricWarning:\n",
      "\n",
      "Recall is ill-defined and being set to 0.0 in labels with no true samples. Use `zero_division` parameter to control this behavior.\n",
      "\n"
     ]
    }
   ],
   "source": [
    "import datetime\n",
    "#x_fold_1, y_fold_1, x_fold_2, y_fold_2, x_fold_3, y_fold_3\n",
    "folds_g = [[(x_fold_1.append(x_fold_2), y_fold_1.append(y_fold_2)),\n",
    "            (x_fold_3, y_fold_3)],\n",
    "           \n",
    "          [(x_fold_1.append(x_fold_3), y_fold_1.append(y_fold_3)),\n",
    "           (x_fold_2, y_fold_2)],\n",
    "           \n",
    "         [(x_fold_2.append(x_fold_3), y_fold_2.append(y_fold_3)),\n",
    "           (x_fold_1, y_fold_1)]]\n",
    "\n",
    "for fold in range(3):\n",
    "    train_fold = folds_g[fold][0]\n",
    "    test_fold = folds_g[fold][1]\n",
    "\n",
    "    for i in range(5):\n",
    "        random_search(train=train_fold, \n",
    "                      test=test_fold,\n",
    "                      max_iteration=20, \n",
    "                      iteration_id=f\"fold_{fold}_{str(datetime.datetime.now().date())}_{i}\")"
   ]
  },
  {
   "cell_type": "markdown",
   "metadata": {},
   "source": [
    "## Avg performance computing"
   ]
  },
  {
   "cell_type": "code",
   "execution_count": 257,
   "metadata": {},
   "outputs": [],
   "source": [
    "def compute_summarization(date, folds, iterations):\n",
    "    # compute the avg performance over all folds and all random search iteration\n",
    "\n",
    "    summarization = []\n",
    "    \n",
    "    for f in range(folds):\n",
    "        for it in range(iterations):\n",
    "            \n",
    "            fold = f\n",
    "            iteration = it\n",
    "            avg_time = 0\n",
    "            \n",
    "            performances_file = f\"performances-fold_{f}_{date}_{it}.txt\"\n",
    "            time_file = f\"time_of_execution-fold_{f}_{date}_{it}.txt\"\n",
    "\n",
    "\n",
    "            # computing performances\n",
    "            with open(f\"../experiments/{performances_file}\", \"r\") as p_file:\n",
    "                content = p_file.read()\n",
    "                \n",
    "                parsable = content.replace(\"Precision:\", \"\\t\").replace(\"Recall:\", \"\\t\").replace(\"F1:\", \"\\t\").replace(\"Weights:\", \"\\t\").split(\"\\t\")[1:]\n",
    "                parsable = [p.strip() for p in parsable]\n",
    "                \n",
    "                weights = parsable[-1]\n",
    "                precision = parsable[-4]\n",
    "                recall = parsable[-3]\n",
    "                f1 = parsable[-2]\n",
    "\n",
    "\n",
    "\n",
    "            # computing time\n",
    "            with open(f\"../experiments/{time_file}\", \"r\") as time_file:\n",
    "                times = [float(x.strip()) for x in time_file.readlines()]\n",
    "                avg_time = np.mean(np.array(times))\n",
    "\n",
    "\n",
    "            summarization.append({\n",
    "                \"fold\":fold, \n",
    "                \"iteration\":iteration,\n",
    "                \"weights\":weights,\n",
    "                \"precision\":precision,\n",
    "                \"recall\":recall,\n",
    "                \"f1\":f1,\n",
    "                \"avg_time\":avg_time\n",
    "            })\n",
    "\n",
    "        \n",
    "        \n",
    "    return pd.DataFrame(summarization)\n"
   ]
  },
  {
   "cell_type": "code",
   "execution_count": 258,
   "metadata": {},
   "outputs": [
    {
     "data": {
      "text/html": [
       "<div>\n",
       "<style scoped>\n",
       "    .dataframe tbody tr th:only-of-type {\n",
       "        vertical-align: middle;\n",
       "    }\n",
       "\n",
       "    .dataframe tbody tr th {\n",
       "        vertical-align: top;\n",
       "    }\n",
       "\n",
       "    .dataframe thead th {\n",
       "        text-align: right;\n",
       "    }\n",
       "</style>\n",
       "<table border=\"1\" class=\"dataframe\">\n",
       "  <thead>\n",
       "    <tr style=\"text-align: right;\">\n",
       "      <th></th>\n",
       "      <th>fold</th>\n",
       "      <th>iteration</th>\n",
       "      <th>weights</th>\n",
       "      <th>precision</th>\n",
       "      <th>recall</th>\n",
       "      <th>f1</th>\n",
       "      <th>avg_time</th>\n",
       "    </tr>\n",
       "  </thead>\n",
       "  <tbody>\n",
       "    <tr>\n",
       "      <th>6</th>\n",
       "      <td>1</td>\n",
       "      <td>1</td>\n",
       "      <td>[0.60259265 0.80522076 0.19665109 0.31008942 0...</td>\n",
       "      <td>0.6399501234060058</td>\n",
       "      <td>0.6714888280893754</td>\n",
       "      <td>0.653279866608192</td>\n",
       "      <td>0.054874</td>\n",
       "    </tr>\n",
       "    <tr>\n",
       "      <th>5</th>\n",
       "      <td>1</td>\n",
       "      <td>0</td>\n",
       "      <td>[0.20638706 0.33707763 0.93215098 0.278611   0...</td>\n",
       "      <td>0.6330085355820649</td>\n",
       "      <td>0.682388631879294</td>\n",
       "      <td>0.6511746680286007</td>\n",
       "      <td>0.055469</td>\n",
       "    </tr>\n",
       "    <tr>\n",
       "      <th>7</th>\n",
       "      <td>1</td>\n",
       "      <td>2</td>\n",
       "      <td>[0.59179123 0.69267466 0.54751806 0.23545451 0...</td>\n",
       "      <td>0.6330085355820649</td>\n",
       "      <td>0.682388631879294</td>\n",
       "      <td>0.6511746680286007</td>\n",
       "      <td>0.055804</td>\n",
       "    </tr>\n",
       "    <tr>\n",
       "      <th>9</th>\n",
       "      <td>1</td>\n",
       "      <td>4</td>\n",
       "      <td>[0.03781879 0.65119566 0.56541921 0.32410852 0...</td>\n",
       "      <td>0.6330085355820649</td>\n",
       "      <td>0.6788461538461539</td>\n",
       "      <td>0.6510255363256588</td>\n",
       "      <td>0.053427</td>\n",
       "    </tr>\n",
       "    <tr>\n",
       "      <th>8</th>\n",
       "      <td>1</td>\n",
       "      <td>3</td>\n",
       "      <td>[0.06412417 0.95985372 0.99686426 0.90933189 0...</td>\n",
       "      <td>0.6330085355820649</td>\n",
       "      <td>0.6772234556614862</td>\n",
       "      <td>0.6495780590717299</td>\n",
       "      <td>0.054152</td>\n",
       "    </tr>\n",
       "    <tr>\n",
       "      <th>0</th>\n",
       "      <td>0</td>\n",
       "      <td>0</td>\n",
       "      <td>[0.70259548 0.51975029 0.16512673 0.03722567 0...</td>\n",
       "      <td>0.5381928256928257</td>\n",
       "      <td>0.5466516996426766</td>\n",
       "      <td>0.5412884361167201</td>\n",
       "      <td>0.055420</td>\n",
       "    </tr>\n",
       "    <tr>\n",
       "      <th>1</th>\n",
       "      <td>0</td>\n",
       "      <td>1</td>\n",
       "      <td>[0.10484799 0.86772129 0.86482013 0.97708292 0...</td>\n",
       "      <td>0.5344891219891219</td>\n",
       "      <td>0.5447916666666666</td>\n",
       "      <td>0.5378450159270193</td>\n",
       "      <td>0.054688</td>\n",
       "    </tr>\n",
       "    <tr>\n",
       "      <th>4</th>\n",
       "      <td>0</td>\n",
       "      <td>4</td>\n",
       "      <td>[0.20719608 0.91722148 0.74551708 0.63573629 0...</td>\n",
       "      <td>0.5344891219891219</td>\n",
       "      <td>0.5447916666666666</td>\n",
       "      <td>0.5378450159270193</td>\n",
       "      <td>0.056004</td>\n",
       "    </tr>\n",
       "    <tr>\n",
       "      <th>3</th>\n",
       "      <td>0</td>\n",
       "      <td>3</td>\n",
       "      <td>[0.05470879 0.53267714 0.33042206 0.20776357 0...</td>\n",
       "      <td>0.5319217819217819</td>\n",
       "      <td>0.5480172620474706</td>\n",
       "      <td>0.5372965919070578</td>\n",
       "      <td>0.054332</td>\n",
       "    </tr>\n",
       "    <tr>\n",
       "      <th>2</th>\n",
       "      <td>0</td>\n",
       "      <td>2</td>\n",
       "      <td>[0.74714427 0.94756431 0.8017177  0.31718266 0...</td>\n",
       "      <td>0.5307854182854183</td>\n",
       "      <td>0.5435657089024964</td>\n",
       "      <td>0.5349912734467049</td>\n",
       "      <td>0.053850</td>\n",
       "    </tr>\n",
       "    <tr>\n",
       "      <th>14</th>\n",
       "      <td>2</td>\n",
       "      <td>4</td>\n",
       "      <td>[0.33932272 0.40087375 0.42494151 0.04440983 0...</td>\n",
       "      <td>0.50433188805676</td>\n",
       "      <td>0.5375457875457876</td>\n",
       "      <td>0.515482504653735</td>\n",
       "      <td>0.054435</td>\n",
       "    </tr>\n",
       "    <tr>\n",
       "      <th>10</th>\n",
       "      <td>2</td>\n",
       "      <td>0</td>\n",
       "      <td>[0.04385298 0.84178656 0.23496641 0.57090674 0...</td>\n",
       "      <td>0.5015589278675601</td>\n",
       "      <td>0.5323048085934684</td>\n",
       "      <td>0.5127090649136273</td>\n",
       "      <td>0.052632</td>\n",
       "    </tr>\n",
       "    <tr>\n",
       "      <th>12</th>\n",
       "      <td>2</td>\n",
       "      <td>2</td>\n",
       "      <td>[0.27943157 0.8257767  0.57092427 0.71949105 0...</td>\n",
       "      <td>0.49933188805676</td>\n",
       "      <td>0.5358974358974359</td>\n",
       "      <td>0.512073540870873</td>\n",
       "      <td>0.051777</td>\n",
       "    </tr>\n",
       "    <tr>\n",
       "      <th>11</th>\n",
       "      <td>2</td>\n",
       "      <td>1</td>\n",
       "      <td>[0.19170442 0.57024096 0.29561672 0.78307512 0...</td>\n",
       "      <td>0.49816909735908554</td>\n",
       "      <td>0.5312104949314251</td>\n",
       "      <td>0.5098892700942688</td>\n",
       "      <td>0.053248</td>\n",
       "    </tr>\n",
       "    <tr>\n",
       "      <th>13</th>\n",
       "      <td>2</td>\n",
       "      <td>3</td>\n",
       "      <td>[0.12740047 0.54885636 0.59055217 0.33973534 0...</td>\n",
       "      <td>0.49316909735908554</td>\n",
       "      <td>0.5295268903154897</td>\n",
       "      <td>0.5064086169584892</td>\n",
       "      <td>0.054362</td>\n",
       "    </tr>\n",
       "  </tbody>\n",
       "</table>\n",
       "</div>"
      ],
      "text/plain": [
       "    fold  iteration                                            weights  \\\n",
       "6      1          1  [0.60259265 0.80522076 0.19665109 0.31008942 0...   \n",
       "5      1          0  [0.20638706 0.33707763 0.93215098 0.278611   0...   \n",
       "7      1          2  [0.59179123 0.69267466 0.54751806 0.23545451 0...   \n",
       "9      1          4  [0.03781879 0.65119566 0.56541921 0.32410852 0...   \n",
       "8      1          3  [0.06412417 0.95985372 0.99686426 0.90933189 0...   \n",
       "0      0          0  [0.70259548 0.51975029 0.16512673 0.03722567 0...   \n",
       "1      0          1  [0.10484799 0.86772129 0.86482013 0.97708292 0...   \n",
       "4      0          4  [0.20719608 0.91722148 0.74551708 0.63573629 0...   \n",
       "3      0          3  [0.05470879 0.53267714 0.33042206 0.20776357 0...   \n",
       "2      0          2  [0.74714427 0.94756431 0.8017177  0.31718266 0...   \n",
       "14     2          4  [0.33932272 0.40087375 0.42494151 0.04440983 0...   \n",
       "10     2          0  [0.04385298 0.84178656 0.23496641 0.57090674 0...   \n",
       "12     2          2  [0.27943157 0.8257767  0.57092427 0.71949105 0...   \n",
       "11     2          1  [0.19170442 0.57024096 0.29561672 0.78307512 0...   \n",
       "13     2          3  [0.12740047 0.54885636 0.59055217 0.33973534 0...   \n",
       "\n",
       "              precision              recall                  f1  avg_time  \n",
       "6    0.6399501234060058  0.6714888280893754   0.653279866608192  0.054874  \n",
       "5    0.6330085355820649   0.682388631879294  0.6511746680286007  0.055469  \n",
       "7    0.6330085355820649   0.682388631879294  0.6511746680286007  0.055804  \n",
       "9    0.6330085355820649  0.6788461538461539  0.6510255363256588  0.053427  \n",
       "8    0.6330085355820649  0.6772234556614862  0.6495780590717299  0.054152  \n",
       "0    0.5381928256928257  0.5466516996426766  0.5412884361167201  0.055420  \n",
       "1    0.5344891219891219  0.5447916666666666  0.5378450159270193  0.054688  \n",
       "4    0.5344891219891219  0.5447916666666666  0.5378450159270193  0.056004  \n",
       "3    0.5319217819217819  0.5480172620474706  0.5372965919070578  0.054332  \n",
       "2    0.5307854182854183  0.5435657089024964  0.5349912734467049  0.053850  \n",
       "14     0.50433188805676  0.5375457875457876   0.515482504653735  0.054435  \n",
       "10   0.5015589278675601  0.5323048085934684  0.5127090649136273  0.052632  \n",
       "12     0.49933188805676  0.5358974358974359   0.512073540870873  0.051777  \n",
       "11  0.49816909735908554  0.5312104949314251  0.5098892700942688  0.053248  \n",
       "13  0.49316909735908554  0.5295268903154897  0.5064086169584892  0.054362  "
      ]
     },
     "execution_count": 258,
     "metadata": {},
     "output_type": "execute_result"
    }
   ],
   "source": [
    "experiments = compute_summarization(\"2021-04-12\", folds=3, iterations=5)\n",
    "experiments.to_excel(\"experiments.xls\")\n",
    "experiments.to_csv(\"experiments.csv\")\n",
    "experiments.sort_values(\"f1\", ascending=False)"
   ]
  },
  {
   "cell_type": "code",
   "execution_count": 266,
   "metadata": {},
   "outputs": [
    {
     "name": "stdout",
     "output_type": "stream",
     "text": [
      "Weights are: [0.20638706 0.33707763 0.93215098 0.278611   0.03886799 0.04286022]\n"
     ]
    }
   ],
   "source": [
    "import re\n",
    "\n",
    "#ref_row = random.choice(experiments.values)\n",
    "ref_row = experiments.sort_values(\"f1\", ascending=False).values[1]\n",
    "\n",
    "print(f\"Weights are: {ref_row[2]}\")\n",
    "\n",
    "space_free_list = re.sub('\\s+',' ',ref_row[2].replace(\"[\", \"\").replace(\"]\",\"\").strip())\n",
    "w_star = [float(x.strip()) for x in space_free_list.split(\" \")]"
   ]
  },
  {
   "cell_type": "markdown",
   "metadata": {},
   "source": [
    "## SVM Testing"
   ]
  },
  {
   "cell_type": "code",
   "execution_count": 269,
   "metadata": {},
   "outputs": [
    {
     "data": {
      "text/plain": [
       "OneVsRestClassifier(estimator=SVC(kernel='linear'))"
      ]
     },
     "execution_count": 269,
     "metadata": {},
     "output_type": "execute_result"
    }
   ],
   "source": [
    "weights = w_star\n",
    "group_kernel = GroupKernel(weights)\n",
    "EXP_DATE = \"2021-04-12\"\n",
    "\n",
    "x, codes = transform_data(train_data[0], weights)\n",
    "y = train_data[1]\n",
    "clf = OneVsRestClassifier(svm.SVC(kernel = \"linear\"))\n",
    "\n",
    "clf.fit(x, y.values)\n",
    "\n",
    "# load the model\n",
    "# clf = open_model(f\"model_fold_{ref_row[0]}_{EXP_DATE}_{ref_row[1]}\")\n",
    "clf"
   ]
  },
  {
   "cell_type": "code",
   "execution_count": 270,
   "metadata": {},
   "outputs": [
    {
     "name": "stdout",
     "output_type": "stream",
     "text": [
      "0.536349547270473\n"
     ]
    }
   ],
   "source": [
    "preds = clf.predict(transform_data(test_data[0], weights)[0])\n",
    "print(f1_score(preds, test_data[1], average=\"macro\"))"
   ]
  },
  {
   "cell_type": "markdown",
   "metadata": {},
   "source": [
    "## SVM Global Groups Weigths Visualization"
   ]
  },
  {
   "cell_type": "code",
   "execution_count": 271,
   "metadata": {},
   "outputs": [
    {
     "data": {
      "text/plain": [
       "['Demografiche',\n",
       " 'Caratteristiche Cliniche',\n",
       " 'Terapia',\n",
       " 'Sintomatologia',\n",
       " 'Caratteristiche molecolari',\n",
       " 'Trigger']"
      ]
     },
     "execution_count": 271,
     "metadata": {},
     "output_type": "execute_result"
    }
   ],
   "source": [
    "groups"
   ]
  },
  {
   "cell_type": "code",
   "execution_count": 272,
   "metadata": {},
   "outputs": [],
   "source": [
    "groups_weights = dict(zip(groups, w_star))"
   ]
  },
  {
   "cell_type": "code",
   "execution_count": 273,
   "metadata": {},
   "outputs": [
    {
     "data": {
      "text/plain": [
       "{'Demografiche': 0.20638706,\n",
       " 'Caratteristiche Cliniche': 0.33707763,\n",
       " 'Terapia': 0.93215098,\n",
       " 'Sintomatologia': 0.278611,\n",
       " 'Caratteristiche molecolari': 0.03886799,\n",
       " 'Trigger': 0.04286022}"
      ]
     },
     "execution_count": 273,
     "metadata": {},
     "output_type": "execute_result"
    }
   ],
   "source": [
    "# visualize the features groups weights\n",
    "groups_weights"
   ]
  },
  {
   "cell_type": "markdown",
   "metadata": {},
   "source": [
    "## Features Groups decision importances  "
   ]
  },
  {
   "cell_type": "code",
   "execution_count": 274,
   "metadata": {},
   "outputs": [
    {
     "data": {
      "image/png": "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\n",
      "text/plain": [
       "<Figure size 1440x576 with 1 Axes>"
      ]
     },
     "metadata": {
      "needs_background": "light"
     },
     "output_type": "display_data"
    }
   ],
   "source": [
    "import numpy as np, matplotlib.pyplot as plt, seaborn as sns\n",
    "\n",
    "# matplot and seaborn parameters\n",
    "plt.rcParams[\"figure.figsize\"] = (20,8)\n",
    "pal = sns.color_palette(\"nipy_spectral\")\n",
    "sns.set_palette(pal)\n",
    "\n",
    "# plotting\n",
    "plot = plt.scatter(x=list(groups_weights.values()), y=list(groups_weights.keys()))\n",
    "imp = sns.barplot(x=list(groups_weights.values()), y=list(groups_weights.keys()))\n",
    "# set plot title\n",
    "imp.set_title(\"Groups Weights\", fontsize=24)\n",
    "\n",
    "#show the plot\n",
    "plt.show()"
   ]
  },
  {
   "cell_type": "markdown",
   "metadata": {},
   "source": [
    "## Features importance w.r.t. to the input"
   ]
  },
  {
   "cell_type": "code",
   "execution_count": 275,
   "metadata": {},
   "outputs": [
    {
     "name": "stdout",
     "output_type": "stream",
     "text": [
      "Train data classes: (5,)\n",
      "\n",
      "Number of Features: (38,)\n",
      "\n",
      "Number of OneVsAll SVM estimators (one for each class in the training): 5\n",
      "\n",
      "[1 2 1 1 1 1 1 1 2 1 1 1 3 1 1 1 1 1 1 1 1 2 1 2 2 1 1 1 1 2 1 3 1 1 1 1 2\n",
      " 1 1 2 1 3 2 1 1 1 1 2 2 1 3 1 1 1 1 1 2 3 2 1 3 2 1 2 3 1 1 2 1 2 2 1 1 2\n",
      " 1 3 1 1 3 1 1 1 1 2 1 1 3 1 3 1 1 1 2 1 3 3 1 2 3 1 1 1 1 3 2 1 2 1 1 1 1\n",
      " 1 1 1 2 2 1 1 1 1 1 1 1 3 1 3 2 1 1 1 1 1 1 2 1 1 1 1 1 2 3 1 1 1 1 1 1 1\n",
      " 2 2 2 1 1 1 1 2 1 1 1 1 1 1 1 1 2 1 1 1 1 1 1 2 1 3 1 2 2 1 1 1 1 1 3 1 1\n",
      " 1 1 1 3 3 1 1 3 1 3 3 1 1 1 2 1 1 3 2 1 1 1 2]\n"
     ]
    }
   ],
   "source": [
    "# print number of training classes\n",
    "print(f\"Train data classes: {train_data[1].unique().shape}\\n\")\n",
    "\n",
    "# features cardinality\n",
    "print(f\"Number of Features: {data.values[0][1:-1].shape}\\n\")\n",
    "\n",
    "# print One vs All estimators\n",
    "print(f\"Number of OneVsAll SVM estimators (one for each class in the training): {len(clf.estimators_)}\\n\")\n",
    "\n",
    "# SVM classifier's features weights for the class 0\n",
    "#print(clf.estimators_[0].coef_)\n",
    "\n",
    "# estimators for the training classes\n",
    "#print(clf.estimators_)\n",
    "\n",
    "print(clf.predict(transform_data(test_data[0], weights)[0]))"
   ]
  },
  {
   "cell_type": "markdown",
   "metadata": {},
   "source": [
    "## Feature importances w.r.t. the input"
   ]
  },
  {
   "cell_type": "markdown",
   "metadata": {},
   "source": [
    "### $h(x_{input})$ = $sign(w^T x_{input} + b)$\n",
    "\n",
    "### $f(x_i) = gw(G_j) $ where  $ x_i \\in G_j$, G is the Group Vector and $gw$ is the function that assign a weight to $G$\n",
    " \n",
    "### Our input is: $x_{input} = [\\alpha_{f(x_1)} x_1, ..., \\alpha_{f(x_n)} x_n]$\n",
    "\n",
    "### $w$ is the model features weights\n",
    "\n",
    "### In general in order to compute h(x) we should compute the dot product between x and $w^T$ that is:\n",
    "### $w^T * x$ = $\\sum{w_{i} \\alpha_{f(x_i)} x_{i} }$\n",
    "\n",
    "### In order to compute the features importance w.r.t the input we compute the multiplication between $x_{input}$ and $w$ and the result is $J$:\n",
    "### $J$ = [$w_{i} x_{i} $, ... , $w_{n} x_{n}$] that is $J$ = [$w_{i} \\alpha_{f(x_1)} x_{i} $, ... , $w_{i} \\alpha_{f(x_1)} x_{n}$]\n",
    "\n",
    "### Then for each group we compute the partial sum over the $j_i \\in J$ that $j_i \\in G_j$:\n",
    "\n",
    "### r = [$\\sum_{j \\in G_1}{j}$, ... , $\\sum_{j \\in G_n}{j}$] that is:\n",
    "\n",
    "### r = [$\\sum_{j \\in G_1}{w_{j} \\alpha_{f(j)} j}$, ... , $\\sum_{j \\in G_n}{w_{j} \\alpha_{f(j)} j}$]"
   ]
  },
  {
   "cell_type": "code",
   "execution_count": 276,
   "metadata": {},
   "outputs": [
    {
     "data": {
      "text/plain": [
       "array([2, 3, 1, 4, 5], dtype=int64)"
      ]
     },
     "execution_count": 276,
     "metadata": {},
     "output_type": "execute_result"
    }
   ],
   "source": [
    "CLASSES"
   ]
  },
  {
   "cell_type": "code",
   "execution_count": 277,
   "metadata": {},
   "outputs": [
    {
     "name": "stdout",
     "output_type": "stream",
     "text": [
      "Transformed example: [0.11348005941456256 0.0 0.0 0.0 0.0 0.0 0.0075172519819449255 0.0\n",
      " 0.2856555753139072 0.0 0.0 0.0 0.0 0.0 0.0 0.0 0.38955441214457576 0.0\n",
      " 0.0 0.0 0.0 0.0 0.048500228477302065 0.09700045695460413\n",
      " 0.09700045695460413 0.09700045695460413 0.048500228477302065\n",
      " 0.09700045695460413 0.050115265989149366 0.0 0.0 0.15279044508887002 0.0\n",
      " 0.0 0.15279044508887002 0.0 0.0 0.0]\n",
      "\n",
      "Example classification: 1\n",
      "\n",
      "Class: 1\n",
      "\n"
     ]
    }
   ],
   "source": [
    "N = 10\n",
    "# exampl1\n",
    "ex = test_data[0].values[N]\n",
    "t = test_data[1].values[N]\n",
    "# transforming the example\n",
    "transformed_ex, code = transform_data(test_data[0], weights)\n",
    "ex = transformed_ex[N]\n",
    "print(f\"Transformed example: {ex}\\n\")\n",
    "\n",
    "# classify the example\n",
    "ex_prediction = clf.predict([ex])\n",
    "print(f\"Example classification: {ex_prediction[0]}\\n\")\n",
    "print(f\"Class: {t}\\n\")"
   ]
  },
  {
   "cell_type": "code",
   "execution_count": null,
   "metadata": {},
   "outputs": [],
   "source": []
  },
  {
   "cell_type": "code",
   "execution_count": 278,
   "metadata": {},
   "outputs": [],
   "source": [
    "def show_groups(groups, values):\n",
    "    # matplot and seaborn parameters\n",
    "    plt.rcParams[\"figure.figsize\"] = (20,8)\n",
    "\n",
    "\n",
    "    # plotting\n",
    "    plot = plt.scatter(x=list(values), y=list(groups))\n",
    "    imp = sns.barplot(x=list(values), y=list(groups))\n",
    "    # set plot title\n",
    "    imp.set_title(f\"Groups Weights w.r.t the input for class: {CLASSES[ex_prediction[0]]}\", fontsize=24)\n",
    "\n",
    "    #show the plot\n",
    "    plt.show()"
   ]
  },
  {
   "cell_type": "code",
   "execution_count": 279,
   "metadata": {},
   "outputs": [],
   "source": [
    "GROUPS_LENGTHS = [8, 7, 4, 4, 8, 10]\n",
    "\n",
    "# sum over groups\n",
    "def group_total_importance(v):\n",
    "    FG = []\n",
    "    groups_tot_importances = {}\n",
    "    for el in groups:\n",
    "        groups_tot_importances[el] = []\n",
    "\n",
    "    index = 0\n",
    "    for step in range(len(GROUPS_LENGTHS)):\n",
    "        group_sum = np.sum(v[index:index+GROUPS_LENGTHS[step]])\n",
    "        \n",
    "        # if group contribution is negative\n",
    "        if group_sum < 0:\n",
    "            groups_tot_importances[groups[step]].append(0)\n",
    "            FG.append(0)\n",
    "        else:\n",
    "            groups_tot_importances[groups[step]].append(group_sum)\n",
    "            FG.append(group_sum)\n",
    "            \n",
    "        index=index+GROUPS_LENGTHS[step]\n",
    "    return np.array(FG), groups_tot_importances\n"
   ]
  },
  {
   "cell_type": "code",
   "execution_count": 280,
   "metadata": {},
   "outputs": [
    {
     "name": "stdout",
     "output_type": "stream",
     "text": [
      "[2.09482743e-01 3.35150421e-01 1.14580737e-01 3.30865735e-01\n",
      " 9.16936952e+00 1.10765951e-02 2.44333988e-01 1.18165819e-01\n",
      " 7.56420284e-01 2.02974731e-01 6.81125409e-02 9.42235890e-02\n",
      " 3.27726637e-01 1.52355550e+00 1.37675820e-01 3.53150280e-01\n",
      " 2.40138875e-03 2.65763996e-01 2.57149386e-01 3.57655231e-01\n",
      " 3.01103558e-01 2.25406898e-01 4.67605629e-01 3.04190164e-01\n",
      " 9.26191780e-02 1.93661511e-01 6.84165204e-01 6.38857517e-01\n",
      " 1.83470087e-01 3.74475705e-02 3.21382337e-01 4.50850304e-01\n",
      " 1.52150040e-01 3.82896001e-02 5.41212857e-01 1.52790445e-01\n",
      " 3.66758794e-02 1.52790445e-01]\n",
      "[1.0, 0.23120928746318956, 0.0, 0.04902411301868123, 0.16337652204834033, 0.06694188942368856]\n"
     ]
    },
    {
     "data": {
      "image/png": "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\n",
      "text/plain": [
       "<Figure size 1440x576 with 1 Axes>"
      ]
     },
     "metadata": {
      "needs_background": "light"
     },
     "output_type": "display_data"
    }
   ],
   "source": [
    "# estimator of predicted class\n",
    "example_estimator = clf.estimators_[ex_prediction[0]]\n",
    "\n",
    "# columns\n",
    "features_names = train_data[0].columns[1:]\n",
    "\n",
    "# b value\n",
    "b_value = example_estimator.intercept_\n",
    "\n",
    "\n",
    "# plot data\n",
    "groups_scaler = MinMaxScaler()\n",
    "group_importances = np.abs(example_estimator.coef_[0])\n",
    "print(group_importances)\n",
    "\n",
    "group_importances, g_imp = group_total_importance(group_importances)\n",
    "\n",
    "group_importances = groups_scaler.fit_transform(np.array(list(g_imp.values())).reshape(-1,1))\n",
    "\n",
    "group_importances = [x[0] for x in group_importances]\n",
    "\n",
    "\n",
    "print(group_importances)\n",
    "show_groups(groups, group_importances)"
   ]
  },
  {
   "cell_type": "markdown",
   "metadata": {},
   "source": [
    "### Getting $b$ value"
   ]
  },
  {
   "cell_type": "code",
   "execution_count": 281,
   "metadata": {},
   "outputs": [
    {
     "data": {
      "text/plain": [
       "array([-1.17039094])"
      ]
     },
     "execution_count": 281,
     "metadata": {},
     "output_type": "execute_result"
    }
   ],
   "source": [
    "b_value"
   ]
  },
  {
   "cell_type": "markdown",
   "metadata": {},
   "source": [
    "## Example with 0 values"
   ]
  },
  {
   "cell_type": "code",
   "execution_count": 282,
   "metadata": {},
   "outputs": [
    {
     "data": {
      "text/plain": [
       "array([0.11348005941456256, 0.5, 0.5, 0.5, 0.5, 0.5,\n",
       "       0.0075172519819449255, 0.5, 0.2856555753139072, 0.5, 0.5, 0.5, 0.5,\n",
       "       0.5, 0.5, 0.5, 0.38955441214457576, 0.5, 0.5, 0.5, 0.5, 0.5,\n",
       "       0.048500228477302065, 0.09700045695460413, 0.09700045695460413,\n",
       "       0.09700045695460413, 0.048500228477302065, 0.09700045695460413,\n",
       "       0.050115265989149366, 0.5, 0.5, 0.15279044508887002, 0.5, 0.5,\n",
       "       0.15279044508887002, 0.5, 0.5, 0.5], dtype=object)"
      ]
     },
     "execution_count": 282,
     "metadata": {},
     "output_type": "execute_result"
    }
   ],
   "source": [
    "for i in range(len(ex)):\n",
    "    if ex[i] == 0:\n",
    "        ex[i] = 0.5\n",
    "        \n",
    "ex"
   ]
  },
  {
   "cell_type": "markdown",
   "metadata": {},
   "source": [
    "### Computing $w x_{input}$"
   ]
  },
  {
   "cell_type": "code",
   "execution_count": 283,
   "metadata": {},
   "outputs": [],
   "source": [
    "decision_value = np.multiply(np.abs(example_estimator.coef_[0]), ex) "
   ]
  },
  {
   "cell_type": "markdown",
   "metadata": {},
   "source": [
    "### Computing $w x_{input} + b$"
   ]
  },
  {
   "cell_type": "code",
   "execution_count": 284,
   "metadata": {},
   "outputs": [
    {
     "data": {
      "text/plain": [
       "array([0.02377211414341607, 0.1675752106946926, 0.05729036863009895,\n",
       "       0.16543286753015202, 4.584684757919578, 0.005538297562405384,\n",
       "       0.0018367201555655526, 0.05908290930264953, 0.2160756712664229,\n",
       "       0.10148736529486413, 0.03405627043172205, 0.0471117944866985,\n",
       "       0.1638633185470439, 0.7617777521019868, 0.06883790996554126,\n",
       "       0.17657513982169587, 0.0009354715837703647, 0.13288199777601462,\n",
       "       0.12857469313100256, 0.17882761531444125, 0.15055177895329908,\n",
       "       0.11270344885536909, 0.022678979856875663, 0.029506584910099585,\n",
       "       0.008984102587783177, 0.01878525503062005, 0.03318216868942446,\n",
       "       0.061969471090269984, 0.009194652206704677, 0.018723785234452853,\n",
       "       0.1606911682692334, 0.06888561868549603, 0.07607502017306714,\n",
       "       0.019144800058134792, 0.08269215337030979, 0.07639522254443501,\n",
       "       0.01833793971355102, 0.07639522254443501], dtype=object)"
      ]
     },
     "execution_count": 284,
     "metadata": {},
     "output_type": "execute_result"
    }
   ],
   "source": [
    "decision_total_value = decision_value\n",
    "decision_total_value"
   ]
  },
  {
   "cell_type": "markdown",
   "metadata": {},
   "source": [
    "### Computing FG vector summing over features groups values\n",
    "\n",
    "FG is  the vector of features groups importance in the decision, computed like below:\n",
    "\n",
    "### FG = [$g_1, ..., g_n$]\n",
    "\n",
    "where for each features group $G_i$, the value of corresponding $g_i$ is:\n",
    "\n",
    "### $g_i$ = $\\sum_{x \\in G_i}{x}$\n",
    "\n",
    "Then we apply a MIN-MAX scaling on FG"
   ]
  },
  {
   "cell_type": "code",
   "execution_count": 285,
   "metadata": {},
   "outputs": [],
   "source": [
    "GROUPS_DECISION_RANGE = [range(0,4), range(4,12), range(12, 16), range(16, 20), range(20, 28), range(28, 38)]\n",
    "\n",
    "# sum over groups\n",
    "def features_in_group_importance(v):\n",
    "    FG = []\n",
    "    groups_tot_importances = {}\n",
    "    for el in groups:\n",
    "        groups_tot_importances[el] = []\n",
    "\n",
    "    for step in GROUPS_DECISION_RANGE:\n",
    "        FG.append(v[step])\n",
    "            \n",
    "    return np.array(FG)"
   ]
  },
  {
   "cell_type": "markdown",
   "metadata": {},
   "source": [
    "### Standardize and scaling the output for groups"
   ]
  },
  {
   "cell_type": "code",
   "execution_count": 286,
   "metadata": {},
   "outputs": [
    {
     "name": "stdout",
     "output_type": "stream",
     "text": [
      "{'Demografiche': [5.0652132459385575], 'Caratteristiche Cliniche': [1.3932100820942794], 'Terapia': [0.4389673023124834], 'Sintomatologia': [0.4647618229799851], 'Caratteristiche molecolari': [0.3410371880185882], 'Trigger': [0.4179259770894288]}\n"
     ]
    }
   ],
   "source": [
    "group_importances = decision_total_value\n",
    "group_importances, g_imp = group_total_importance(decision_total_value)\n",
    "group_importances = groups_scaler.fit_transform(np.array(list(g_imp.values())).reshape(-1,1))\n",
    "group_importances = [x[0] for x in group_importances]\n",
    "print(g_imp)"
   ]
  },
  {
   "cell_type": "code",
   "execution_count": 287,
   "metadata": {},
   "outputs": [
    {
     "name": "stdout",
     "output_type": "stream",
     "text": [
      "[0.9999999999999999, 0.2227209318991718, 0.02072956492163701, 0.026189674864884743, 0.0, 0.01627559771866216]\n"
     ]
    }
   ],
   "source": [
    "print(group_importances)"
   ]
  },
  {
   "cell_type": "code",
   "execution_count": 288,
   "metadata": {},
   "outputs": [
    {
     "data": {
      "image/png": "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\n",
      "text/plain": [
       "<Figure size 1440x576 with 1 Axes>"
      ]
     },
     "metadata": {
      "needs_background": "light"
     },
     "output_type": "display_data"
    }
   ],
   "source": [
    "show_groups(groups, group_importances)"
   ]
  },
  {
   "cell_type": "markdown",
   "metadata": {},
   "source": [
    "### Standardize and scaling the output for features in the groups"
   ]
  },
  {
   "cell_type": "code",
   "execution_count": 289,
   "metadata": {},
   "outputs": [
    {
     "name": "stdout",
     "output_type": "stream",
     "text": [
      "[array([0.        , 1.        , 0.23308437, 0.98510225]), array([1.00000000e+00, 8.07702410e-04, 0.00000000e+00, 1.24914003e-02,\n",
      "       4.67479937e-02, 2.17442613e-02, 7.03046446e-03, 9.87924408e-03]), array([0.13713371, 1.        , 0.        , 0.15547847]), array([0.        , 0.74172205, 0.71750904, 1.        ]), array([1.        , 0.7326485 , 0.09673732, 0.14496588, 0.        ,\n",
      "       0.06923298, 0.17092932, 0.37427589]), array([0.        , 0.06290001, 1.        , 0.39400884, 0.44146473,\n",
      "       0.06567905, 0.48514318, 0.44357832, 0.06035312, 0.44357832])]\n"
     ]
    },
    {
     "name": "stderr",
     "output_type": "stream",
     "text": [
      "<ipython-input-285-87afdeaad492>:13: VisibleDeprecationWarning:\n",
      "\n",
      "Creating an ndarray from ragged nested sequences (which is a list-or-tuple of lists-or-tuples-or ndarrays with different lengths or shapes) is deprecated. If you meant to do this, you must specify 'dtype=object' when creating the ndarray\n",
      "\n"
     ]
    }
   ],
   "source": [
    "groups_indexes_dictionary = {\"DEMOGRAFICHE\":(range(1,5),0), \"CARATTERISTICHE CLINICHE\":(range(6,14),1), \"TERAPIA\":(range(14,18),2), \"SINTOMATOLOGIA\":(range(18, 22), 3),\n",
    "                             \"CARATTERISTICHE MOLECOLARI\":(range(22,30), 4), \"TRIGGER\":(range(30,40),5)}\n",
    "\n",
    "f_groups_scaler = MinMaxScaler()\n",
    "f_group_importances = decision_total_value\n",
    "\n",
    "for i in range(len(f_group_importances)):\n",
    "    if f_group_importances[i] < 0:\n",
    "        f_group_importances[i] = 0\n",
    "\n",
    "f_group_importances = features_in_group_importance(decision_total_value)\n",
    "f_group_importances = [f_groups_scaler.fit_transform(x.reshape(-1,1)) for x in f_group_importances]\n",
    "\n",
    "\n",
    "            \n",
    "\n",
    "f_group_importances = [np.concatenate(x) for x in f_group_importances]\n",
    "\n",
    "print(f_group_importances)\n"
   ]
  },
  {
   "cell_type": "code",
   "execution_count": 290,
   "metadata": {},
   "outputs": [],
   "source": [
    "def get_plot(features, values, group_name, ax, is_first=False):\n",
    "    # matplot and seaborn parameters\n",
    "    plt.rcParams[\"figure.figsize\"] = (20,8)\n",
    "    pal = sns.color_palette(\"nipy_spectral\")\n",
    "    sns.set_palette(pal)\n",
    "\n",
    "    # plotting\n",
    "    imp = sns.barplot(x=list(values), y=list(features), ax = ax)\n",
    "    # set plot title\n",
    "    imp.set_title(f\"{group_name}\", fontsize=16)\n",
    "    \n",
    "    return imp\n",
    "\n",
    "\n",
    "def show_features(gs):\n",
    "    \n",
    "    fig, axs = plt.subplots(3, 2)\n",
    "    \n",
    "    get_plot(gs[0][0], gs[0][1], gs[0][2], ax =axs[0,0], is_first=True)\n",
    "    get_plot(gs[1][0], gs[1][1], gs[1][2], ax= axs[0,1])\n",
    "    get_plot(gs[2][0], gs[2][1], gs[2][2], ax= axs[1,0])\n",
    "    get_plot(gs[3][0], gs[3][1], gs[3][2], ax= axs[1,1])\n",
    "    get_plot(gs[4][0], gs[4][1], gs[4][2], ax= axs[2,0])\n",
    "    get_plot(gs[5][0], gs[5][1], gs[5][2], ax= axs[2,1])\n",
    "    \n",
    "    fig.tight_layout()\n",
    "\n",
    "\n",
    "        \n",
    "    "
   ]
  },
  {
   "cell_type": "code",
   "execution_count": 291,
   "metadata": {},
   "outputs": [
    {
     "data": {
      "image/png": "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\n",
      "text/plain": [
       "<Figure size 1440x576 with 6 Axes>"
      ]
     },
     "metadata": {
      "needs_background": "light"
     },
     "output_type": "display_data"
    }
   ],
   "source": [
    "ds = []\n",
    "for k in list(groups_indexes_dictionary.keys()):\n",
    "    GROUP_TO_VISUALIZE = k\n",
    "    ds.append(\n",
    "        (\n",
    "            list(data.columns[groups_indexes_dictionary[GROUP_TO_VISUALIZE][0]]),\n",
    "             f_group_importances[groups_indexes_dictionary[GROUP_TO_VISUALIZE][1]],\n",
    "             k\n",
    "        )\n",
    "    )\n",
    "    \n",
    "show_features(ds)"
   ]
  },
  {
   "cell_type": "markdown",
   "metadata": {},
   "source": [
    "import plotly.graph_objects as go\n",
    "import plotly.express as px\n",
    "import pandas as pd\n",
    "import math# Visualization Methods"
   ]
  },
  {
   "cell_type": "code",
   "execution_count": 292,
   "metadata": {},
   "outputs": [],
   "source": [
    "import plotly.graph_objects as go\n",
    "import plotly.express as px\n",
    "import pandas as pd\n",
    "import math"
   ]
  },
  {
   "cell_type": "code",
   "execution_count": 293,
   "metadata": {},
   "outputs": [],
   "source": [
    "EXAMPLE_N = 200"
   ]
  },
  {
   "cell_type": "code",
   "execution_count": 294,
   "metadata": {},
   "outputs": [],
   "source": [
    "def fill_zero_values(ex):\n",
    "    for i in range(len(ex)):\n",
    "        if ex[i] == 0:\n",
    "            ex[i] = 0.5\n",
    "    return ex"
   ]
  },
  {
   "cell_type": "code",
   "execution_count": 295,
   "metadata": {},
   "outputs": [],
   "source": [
    "# Getting all svm example outputs\n",
    "\n",
    "def get_example_estimator(ex, target):\n",
    "    #print(f\"Transformed example: {ex}\\n\")\n",
    "\n",
    "    # classify the example\n",
    "    ex_prediction = clf.predict([ex])\n",
    "    #print(f\"Example classification: {ex_prediction[0]}\\n\")\n",
    "    #print(f\"Class: {target}\\n\")\n",
    "    \n",
    "    # estimator of predicted class\n",
    "    example_estimator = clf.estimators_[ex_prediction[0]]\n",
    "    # b value\n",
    "    b_value = example_estimator.intercept_\n",
    "\n",
    "    # plot data\n",
    "    groups_scaler = MinMaxScaler()\n",
    "    group_importances = np.abs(example_estimator.coef_[0])\n",
    "    group_importances, g_imp = group_total_importance(group_importances)\n",
    "    group_importances = groups_scaler.fit_transform(np.array(list(g_imp.values())).reshape(-1,1))\n",
    "    group_importances = [x[0] for x in group_importances]\n",
    "    \n",
    "    return ex_prediction, example_estimator, b_value, group_importances"
   ]
  },
  {
   "cell_type": "code",
   "execution_count": 296,
   "metadata": {},
   "outputs": [],
   "source": [
    "# sum over groups\n",
    "def features_in_group_importance(v):\n",
    "    FG = []\n",
    "    groups_tot_importances = {}\n",
    "    for el in groups:\n",
    "        groups_tot_importances[el] = []\n",
    "\n",
    "    for step in GROUPS_DECISION_RANGE:\n",
    "        FG.append(v[step])\n",
    "            \n",
    "    return np.array(FG)"
   ]
  },
  {
   "cell_type": "code",
   "execution_count": 297,
   "metadata": {},
   "outputs": [],
   "source": [
    "def get_groups_values(decision_total_value):\n",
    "    groups_scaler = MinMaxScaler()\n",
    "    group_importances = decision_total_value\n",
    "    group_importances, g_imp = group_total_importance(decision_total_value)\n",
    "    group_importances = groups_scaler.fit_transform(np.array(list(g_imp.values())).reshape(-1,1))\n",
    "    group_importances = [x[0] for x in group_importances]\n",
    "    return g_imp"
   ]
  },
  {
   "cell_type": "code",
   "execution_count": 298,
   "metadata": {},
   "outputs": [],
   "source": [
    "def plot_most_imp_g(results):\n",
    "    \n",
    "    chart_data = dict(\n",
    "    character=[],\n",
    "    parent=[],\n",
    "    value=[])\n",
    "    \n",
    "    example = {}\n",
    "    alfa = 1\n",
    "    for el in results:\n",
    "        chart_data[\"character\"].append(el)\n",
    "        \n",
    "\n",
    "        chart_data[\"value\"].append(alfa) \n",
    "\n",
    "\n",
    "        chart_data[\"parent\"].append(\"\")\n",
    "            \n",
    "    fig =px.sunburst(\n",
    "        chart_data,\n",
    "        names='character',\n",
    "        parents='parent',\n",
    "        values='value',\n",
    "    )\n",
    "    \n",
    "    fig.show()"
   ]
  },
  {
   "cell_type": "code",
   "execution_count": 299,
   "metadata": {},
   "outputs": [],
   "source": [
    "def plot_top_k(results, original_example_top_k_features):\n",
    "    chart_data = dict(\n",
    "    character=[],\n",
    "    parent=[],\n",
    "    value=[])\n",
    "    \n",
    "    example = {}\n",
    "    alfa = 1\n",
    "    for el in results:\n",
    "        chart_data[\"character\"].append(el)\n",
    "        chart_data[\"value\"].append(results[el]) \n",
    "        chart_data[\"parent\"].append(\"\")\n",
    "            \n",
    "    fig =px.sunburst(\n",
    "        chart_data,\n",
    "        names='character',\n",
    "        parents='parent',\n",
    "        values='value',\n",
    "    )\n",
    "    \n",
    "    fig.show()\n",
    "    return original_example_top_k_features"
   ]
  },
  {
   "cell_type": "markdown",
   "metadata": {},
   "source": [
    "## Most important group Features values"
   ]
  },
  {
   "cell_type": "code",
   "execution_count": 300,
   "metadata": {},
   "outputs": [],
   "source": [
    "# Return most important group features\n",
    "def most_important_group_plot(df, ex, ex_code, t):\n",
    "    original_ex = original_data[original_data[\"cod. \"]==ex_code]\n",
    "    svm_out = get_example_estimator(ex, t)\n",
    "    ex = fill_zero_values(ex)\n",
    "    decision_value = np.multiply(np.abs(svm_out[1].coef_[0]), ex)     \n",
    "    decision_total_value = decision_value\n",
    "    \n",
    "    # get groups relevance\n",
    "    groups_values = get_groups_values(decision_total_value)\n",
    "    \n",
    "    \n",
    "    d = groups_values\n",
    "    # get group with max importance\n",
    "    most_imp_g = max(d, key=lambda k: d[k])\n",
    "    global groups\n",
    "    groups = [g.upper() for g in groups]\n",
    "    \n",
    "    return dict(zip( df.columns[groups_indexes_dictionary[most_imp_g.upper()][0]], original_ex.values[0][groups_indexes_dictionary[most_imp_g.upper()][0]]))\n",
    "    "
   ]
  },
  {
   "cell_type": "code",
   "execution_count": 301,
   "metadata": {},
   "outputs": [
    {
     "data": {
      "application/vnd.plotly.v1+json": {
       "config": {
        "plotlyServerURL": "https://plot.ly"
       },
       "data": [
        {
         "domain": {
          "x": [
           0,
           1
          ],
          "y": [
           0,
           1
          ]
         },
         "hovertemplate": "character=%{label}<br>value=%{value}<br>parent=%{parent}<extra></extra>",
         "labels": [
          "diagnosi",
          "lato",
          "onset (età)",
          "familiarità",
          "frequenza attacchi al mese",
          "uas",
          "sintomi dopaminergici",
          "emicrania mestruale"
         ],
         "name": "",
         "parents": [
          "",
          "",
          "",
          "",
          "",
          "",
          "",
          ""
         ],
         "type": "sunburst",
         "values": [
          1,
          1,
          1,
          1,
          1,
          1,
          1,
          1
         ]
        }
       ],
       "layout": {
        "autosize": true,
        "legend": {
         "tracegroupgap": 0
        },
        "margin": {
         "t": 60
        },
        "template": {
         "data": {
          "bar": [
           {
            "error_x": {
             "color": "#2a3f5f"
            },
            "error_y": {
             "color": "#2a3f5f"
            },
            "marker": {
             "line": {
              "color": "#E5ECF6",
              "width": 0.5
             }
            },
            "type": "bar"
           }
          ],
          "barpolar": [
           {
            "marker": {
             "line": {
              "color": "#E5ECF6",
              "width": 0.5
             }
            },
            "type": "barpolar"
           }
          ],
          "carpet": [
           {
            "aaxis": {
             "endlinecolor": "#2a3f5f",
             "gridcolor": "white",
             "linecolor": "white",
             "minorgridcolor": "white",
             "startlinecolor": "#2a3f5f"
            },
            "baxis": {
             "endlinecolor": "#2a3f5f",
             "gridcolor": "white",
             "linecolor": "white",
             "minorgridcolor": "white",
             "startlinecolor": "#2a3f5f"
            },
            "type": "carpet"
           }
          ],
          "choropleth": [
           {
            "colorbar": {
             "outlinewidth": 0,
             "ticks": ""
            },
            "type": "choropleth"
           }
          ],
          "contour": [
           {
            "colorbar": {
             "outlinewidth": 0,
             "ticks": ""
            },
            "colorscale": [
             [
              0,
              "#0d0887"
             ],
             [
              0.1111111111111111,
              "#46039f"
             ],
             [
              0.2222222222222222,
              "#7201a8"
             ],
             [
              0.3333333333333333,
              "#9c179e"
             ],
             [
              0.4444444444444444,
              "#bd3786"
             ],
             [
              0.5555555555555556,
              "#d8576b"
             ],
             [
              0.6666666666666666,
              "#ed7953"
             ],
             [
              0.7777777777777778,
              "#fb9f3a"
             ],
             [
              0.8888888888888888,
              "#fdca26"
             ],
             [
              1,
              "#f0f921"
             ]
            ],
            "type": "contour"
           }
          ],
          "contourcarpet": [
           {
            "colorbar": {
             "outlinewidth": 0,
             "ticks": ""
            },
            "type": "contourcarpet"
           }
          ],
          "heatmap": [
           {
            "colorbar": {
             "outlinewidth": 0,
             "ticks": ""
            },
            "colorscale": [
             [
              0,
              "#0d0887"
             ],
             [
              0.1111111111111111,
              "#46039f"
             ],
             [
              0.2222222222222222,
              "#7201a8"
             ],
             [
              0.3333333333333333,
              "#9c179e"
             ],
             [
              0.4444444444444444,
              "#bd3786"
             ],
             [
              0.5555555555555556,
              "#d8576b"
             ],
             [
              0.6666666666666666,
              "#ed7953"
             ],
             [
              0.7777777777777778,
              "#fb9f3a"
             ],
             [
              0.8888888888888888,
              "#fdca26"
             ],
             [
              1,
              "#f0f921"
             ]
            ],
            "type": "heatmap"
           }
          ],
          "heatmapgl": [
           {
            "colorbar": {
             "outlinewidth": 0,
             "ticks": ""
            },
            "colorscale": [
             [
              0,
              "#0d0887"
             ],
             [
              0.1111111111111111,
              "#46039f"
             ],
             [
              0.2222222222222222,
              "#7201a8"
             ],
             [
              0.3333333333333333,
              "#9c179e"
             ],
             [
              0.4444444444444444,
              "#bd3786"
             ],
             [
              0.5555555555555556,
              "#d8576b"
             ],
             [
              0.6666666666666666,
              "#ed7953"
             ],
             [
              0.7777777777777778,
              "#fb9f3a"
             ],
             [
              0.8888888888888888,
              "#fdca26"
             ],
             [
              1,
              "#f0f921"
             ]
            ],
            "type": "heatmapgl"
           }
          ],
          "histogram": [
           {
            "marker": {
             "colorbar": {
              "outlinewidth": 0,
              "ticks": ""
             }
            },
            "type": "histogram"
           }
          ],
          "histogram2d": [
           {
            "colorbar": {
             "outlinewidth": 0,
             "ticks": ""
            },
            "colorscale": [
             [
              0,
              "#0d0887"
             ],
             [
              0.1111111111111111,
              "#46039f"
             ],
             [
              0.2222222222222222,
              "#7201a8"
             ],
             [
              0.3333333333333333,
              "#9c179e"
             ],
             [
              0.4444444444444444,
              "#bd3786"
             ],
             [
              0.5555555555555556,
              "#d8576b"
             ],
             [
              0.6666666666666666,
              "#ed7953"
             ],
             [
              0.7777777777777778,
              "#fb9f3a"
             ],
             [
              0.8888888888888888,
              "#fdca26"
             ],
             [
              1,
              "#f0f921"
             ]
            ],
            "type": "histogram2d"
           }
          ],
          "histogram2dcontour": [
           {
            "colorbar": {
             "outlinewidth": 0,
             "ticks": ""
            },
            "colorscale": [
             [
              0,
              "#0d0887"
             ],
             [
              0.1111111111111111,
              "#46039f"
             ],
             [
              0.2222222222222222,
              "#7201a8"
             ],
             [
              0.3333333333333333,
              "#9c179e"
             ],
             [
              0.4444444444444444,
              "#bd3786"
             ],
             [
              0.5555555555555556,
              "#d8576b"
             ],
             [
              0.6666666666666666,
              "#ed7953"
             ],
             [
              0.7777777777777778,
              "#fb9f3a"
             ],
             [
              0.8888888888888888,
              "#fdca26"
             ],
             [
              1,
              "#f0f921"
             ]
            ],
            "type": "histogram2dcontour"
           }
          ],
          "mesh3d": [
           {
            "colorbar": {
             "outlinewidth": 0,
             "ticks": ""
            },
            "type": "mesh3d"
           }
          ],
          "parcoords": [
           {
            "line": {
             "colorbar": {
              "outlinewidth": 0,
              "ticks": ""
             }
            },
            "type": "parcoords"
           }
          ],
          "pie": [
           {
            "automargin": true,
            "type": "pie"
           }
          ],
          "scatter": [
           {
            "marker": {
             "colorbar": {
              "outlinewidth": 0,
              "ticks": ""
             }
            },
            "type": "scatter"
           }
          ],
          "scatter3d": [
           {
            "line": {
             "colorbar": {
              "outlinewidth": 0,
              "ticks": ""
             }
            },
            "marker": {
             "colorbar": {
              "outlinewidth": 0,
              "ticks": ""
             }
            },
            "type": "scatter3d"
           }
          ],
          "scattercarpet": [
           {
            "marker": {
             "colorbar": {
              "outlinewidth": 0,
              "ticks": ""
             }
            },
            "type": "scattercarpet"
           }
          ],
          "scattergeo": [
           {
            "marker": {
             "colorbar": {
              "outlinewidth": 0,
              "ticks": ""
             }
            },
            "type": "scattergeo"
           }
          ],
          "scattergl": [
           {
            "marker": {
             "colorbar": {
              "outlinewidth": 0,
              "ticks": ""
             }
            },
            "type": "scattergl"
           }
          ],
          "scattermapbox": [
           {
            "marker": {
             "colorbar": {
              "outlinewidth": 0,
              "ticks": ""
             }
            },
            "type": "scattermapbox"
           }
          ],
          "scatterpolar": [
           {
            "marker": {
             "colorbar": {
              "outlinewidth": 0,
              "ticks": ""
             }
            },
            "type": "scatterpolar"
           }
          ],
          "scatterpolargl": [
           {
            "marker": {
             "colorbar": {
              "outlinewidth": 0,
              "ticks": ""
             }
            },
            "type": "scatterpolargl"
           }
          ],
          "scatterternary": [
           {
            "marker": {
             "colorbar": {
              "outlinewidth": 0,
              "ticks": ""
             }
            },
            "type": "scatterternary"
           }
          ],
          "surface": [
           {
            "colorbar": {
             "outlinewidth": 0,
             "ticks": ""
            },
            "colorscale": [
             [
              0,
              "#0d0887"
             ],
             [
              0.1111111111111111,
              "#46039f"
             ],
             [
              0.2222222222222222,
              "#7201a8"
             ],
             [
              0.3333333333333333,
              "#9c179e"
             ],
             [
              0.4444444444444444,
              "#bd3786"
             ],
             [
              0.5555555555555556,
              "#d8576b"
             ],
             [
              0.6666666666666666,
              "#ed7953"
             ],
             [
              0.7777777777777778,
              "#fb9f3a"
             ],
             [
              0.8888888888888888,
              "#fdca26"
             ],
             [
              1,
              "#f0f921"
             ]
            ],
            "type": "surface"
           }
          ],
          "table": [
           {
            "cells": {
             "fill": {
              "color": "#EBF0F8"
             },
             "line": {
              "color": "white"
             }
            },
            "header": {
             "fill": {
              "color": "#C8D4E3"
             },
             "line": {
              "color": "white"
             }
            },
            "type": "table"
           }
          ]
         },
         "layout": {
          "annotationdefaults": {
           "arrowcolor": "#2a3f5f",
           "arrowhead": 0,
           "arrowwidth": 1
          },
          "autotypenumbers": "strict",
          "coloraxis": {
           "colorbar": {
            "outlinewidth": 0,
            "ticks": ""
           }
          },
          "colorscale": {
           "diverging": [
            [
             0,
             "#8e0152"
            ],
            [
             0.1,
             "#c51b7d"
            ],
            [
             0.2,
             "#de77ae"
            ],
            [
             0.3,
             "#f1b6da"
            ],
            [
             0.4,
             "#fde0ef"
            ],
            [
             0.5,
             "#f7f7f7"
            ],
            [
             0.6,
             "#e6f5d0"
            ],
            [
             0.7,
             "#b8e186"
            ],
            [
             0.8,
             "#7fbc41"
            ],
            [
             0.9,
             "#4d9221"
            ],
            [
             1,
             "#276419"
            ]
           ],
           "sequential": [
            [
             0,
             "#0d0887"
            ],
            [
             0.1111111111111111,
             "#46039f"
            ],
            [
             0.2222222222222222,
             "#7201a8"
            ],
            [
             0.3333333333333333,
             "#9c179e"
            ],
            [
             0.4444444444444444,
             "#bd3786"
            ],
            [
             0.5555555555555556,
             "#d8576b"
            ],
            [
             0.6666666666666666,
             "#ed7953"
            ],
            [
             0.7777777777777778,
             "#fb9f3a"
            ],
            [
             0.8888888888888888,
             "#fdca26"
            ],
            [
             1,
             "#f0f921"
            ]
           ],
           "sequentialminus": [
            [
             0,
             "#0d0887"
            ],
            [
             0.1111111111111111,
             "#46039f"
            ],
            [
             0.2222222222222222,
             "#7201a8"
            ],
            [
             0.3333333333333333,
             "#9c179e"
            ],
            [
             0.4444444444444444,
             "#bd3786"
            ],
            [
             0.5555555555555556,
             "#d8576b"
            ],
            [
             0.6666666666666666,
             "#ed7953"
            ],
            [
             0.7777777777777778,
             "#fb9f3a"
            ],
            [
             0.8888888888888888,
             "#fdca26"
            ],
            [
             1,
             "#f0f921"
            ]
           ]
          },
          "colorway": [
           "#636efa",
           "#EF553B",
           "#00cc96",
           "#ab63fa",
           "#FFA15A",
           "#19d3f3",
           "#FF6692",
           "#B6E880",
           "#FF97FF",
           "#FECB52"
          ],
          "font": {
           "color": "#2a3f5f"
          },
          "geo": {
           "bgcolor": "white",
           "lakecolor": "white",
           "landcolor": "#E5ECF6",
           "showlakes": true,
           "showland": true,
           "subunitcolor": "white"
          },
          "hoverlabel": {
           "align": "left"
          },
          "hovermode": "closest",
          "mapbox": {
           "style": "light"
          },
          "paper_bgcolor": "white",
          "plot_bgcolor": "#E5ECF6",
          "polar": {
           "angularaxis": {
            "gridcolor": "white",
            "linecolor": "white",
            "ticks": ""
           },
           "bgcolor": "#E5ECF6",
           "radialaxis": {
            "gridcolor": "white",
            "linecolor": "white",
            "ticks": ""
           }
          },
          "scene": {
           "xaxis": {
            "backgroundcolor": "#E5ECF6",
            "gridcolor": "white",
            "gridwidth": 2,
            "linecolor": "white",
            "showbackground": true,
            "ticks": "",
            "zerolinecolor": "white"
           },
           "yaxis": {
            "backgroundcolor": "#E5ECF6",
            "gridcolor": "white",
            "gridwidth": 2,
            "linecolor": "white",
            "showbackground": true,
            "ticks": "",
            "zerolinecolor": "white"
           },
           "zaxis": {
            "backgroundcolor": "#E5ECF6",
            "gridcolor": "white",
            "gridwidth": 2,
            "linecolor": "white",
            "showbackground": true,
            "ticks": "",
            "zerolinecolor": "white"
           }
          },
          "shapedefaults": {
           "line": {
            "color": "#2a3f5f"
           }
          },
          "ternary": {
           "aaxis": {
            "gridcolor": "white",
            "linecolor": "white",
            "ticks": ""
           },
           "baxis": {
            "gridcolor": "white",
            "linecolor": "white",
            "ticks": ""
           },
           "bgcolor": "#E5ECF6",
           "caxis": {
            "gridcolor": "white",
            "linecolor": "white",
            "ticks": ""
           }
          },
          "title": {
           "x": 0.05
          },
          "xaxis": {
           "automargin": true,
           "gridcolor": "white",
           "linecolor": "white",
           "ticks": "",
           "title": {
            "standoff": 15
           },
           "zerolinecolor": "white",
           "zerolinewidth": 2
          },
          "yaxis": {
           "automargin": true,
           "gridcolor": "white",
           "linecolor": "white",
           "ticks": "",
           "title": {
            "standoff": 15
           },
           "zerolinecolor": "white",
           "zerolinewidth": 2
          }
         }
        }
       }
      },
      "image/png": "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",
      "text/html": [
       "<div>                            <div id=\"87c0adfd-ef2d-427d-baed-22c6285d233e\" class=\"plotly-graph-div\" style=\"height:525px; width:100%;\"></div>            <script type=\"text/javascript\">                require([\"plotly\"], function(Plotly) {                    window.PLOTLYENV=window.PLOTLYENV || {};                                    if (document.getElementById(\"87c0adfd-ef2d-427d-baed-22c6285d233e\")) {                    Plotly.newPlot(                        \"87c0adfd-ef2d-427d-baed-22c6285d233e\",                        [{\"domain\": {\"x\": [0.0, 1.0], \"y\": [0.0, 1.0]}, \"hovertemplate\": \"character=%{label}<br>value=%{value}<br>parent=%{parent}<extra></extra>\", \"labels\": [\"diagnosi\", \"lato\", \"onset (et\\u00e0)\", \"familiarit\\u00e0\", \"frequenza attacchi al mese\", \"uas\", \"sintomi dopaminergici\", \"emicrania mestruale\"], \"name\": \"\", \"parents\": [\"\", \"\", \"\", \"\", \"\", \"\", \"\", \"\"], \"type\": \"sunburst\", \"values\": [1, 1, 1, 1, 1, 1, 1, 1]}],                        {\"legend\": {\"tracegroupgap\": 0}, \"margin\": {\"t\": 60}, \"template\": {\"data\": {\"bar\": [{\"error_x\": {\"color\": \"#2a3f5f\"}, \"error_y\": {\"color\": \"#2a3f5f\"}, \"marker\": {\"line\": {\"color\": \"#E5ECF6\", \"width\": 0.5}}, \"type\": \"bar\"}], \"barpolar\": [{\"marker\": {\"line\": {\"color\": \"#E5ECF6\", \"width\": 0.5}}, \"type\": \"barpolar\"}], \"carpet\": [{\"aaxis\": {\"endlinecolor\": \"#2a3f5f\", \"gridcolor\": \"white\", \"linecolor\": \"white\", \"minorgridcolor\": \"white\", \"startlinecolor\": \"#2a3f5f\"}, \"baxis\": {\"endlinecolor\": \"#2a3f5f\", \"gridcolor\": \"white\", \"linecolor\": \"white\", \"minorgridcolor\": \"white\", \"startlinecolor\": \"#2a3f5f\"}, \"type\": \"carpet\"}], \"choropleth\": [{\"colorbar\": {\"outlinewidth\": 0, \"ticks\": \"\"}, \"type\": \"choropleth\"}], \"contour\": [{\"colorbar\": {\"outlinewidth\": 0, \"ticks\": \"\"}, \"colorscale\": [[0.0, \"#0d0887\"], [0.1111111111111111, \"#46039f\"], [0.2222222222222222, \"#7201a8\"], [0.3333333333333333, \"#9c179e\"], [0.4444444444444444, \"#bd3786\"], [0.5555555555555556, \"#d8576b\"], [0.6666666666666666, \"#ed7953\"], [0.7777777777777778, \"#fb9f3a\"], [0.8888888888888888, \"#fdca26\"], [1.0, \"#f0f921\"]], \"type\": \"contour\"}], \"contourcarpet\": [{\"colorbar\": {\"outlinewidth\": 0, \"ticks\": \"\"}, \"type\": \"contourcarpet\"}], \"heatmap\": [{\"colorbar\": {\"outlinewidth\": 0, \"ticks\": \"\"}, \"colorscale\": [[0.0, \"#0d0887\"], [0.1111111111111111, \"#46039f\"], [0.2222222222222222, \"#7201a8\"], [0.3333333333333333, \"#9c179e\"], [0.4444444444444444, \"#bd3786\"], [0.5555555555555556, \"#d8576b\"], [0.6666666666666666, \"#ed7953\"], [0.7777777777777778, \"#fb9f3a\"], [0.8888888888888888, \"#fdca26\"], [1.0, \"#f0f921\"]], \"type\": \"heatmap\"}], \"heatmapgl\": [{\"colorbar\": {\"outlinewidth\": 0, \"ticks\": \"\"}, \"colorscale\": [[0.0, \"#0d0887\"], [0.1111111111111111, \"#46039f\"], [0.2222222222222222, \"#7201a8\"], [0.3333333333333333, \"#9c179e\"], [0.4444444444444444, \"#bd3786\"], [0.5555555555555556, \"#d8576b\"], [0.6666666666666666, \"#ed7953\"], [0.7777777777777778, \"#fb9f3a\"], [0.8888888888888888, \"#fdca26\"], [1.0, \"#f0f921\"]], \"type\": \"heatmapgl\"}], \"histogram\": [{\"marker\": {\"colorbar\": {\"outlinewidth\": 0, \"ticks\": \"\"}}, \"type\": \"histogram\"}], \"histogram2d\": [{\"colorbar\": {\"outlinewidth\": 0, \"ticks\": \"\"}, \"colorscale\": [[0.0, \"#0d0887\"], [0.1111111111111111, \"#46039f\"], [0.2222222222222222, \"#7201a8\"], [0.3333333333333333, \"#9c179e\"], [0.4444444444444444, \"#bd3786\"], [0.5555555555555556, \"#d8576b\"], [0.6666666666666666, \"#ed7953\"], [0.7777777777777778, \"#fb9f3a\"], [0.8888888888888888, \"#fdca26\"], [1.0, \"#f0f921\"]], \"type\": \"histogram2d\"}], \"histogram2dcontour\": [{\"colorbar\": {\"outlinewidth\": 0, \"ticks\": \"\"}, \"colorscale\": [[0.0, \"#0d0887\"], [0.1111111111111111, \"#46039f\"], [0.2222222222222222, \"#7201a8\"], [0.3333333333333333, \"#9c179e\"], [0.4444444444444444, \"#bd3786\"], [0.5555555555555556, \"#d8576b\"], [0.6666666666666666, \"#ed7953\"], [0.7777777777777778, \"#fb9f3a\"], [0.8888888888888888, \"#fdca26\"], [1.0, \"#f0f921\"]], \"type\": \"histogram2dcontour\"}], \"mesh3d\": [{\"colorbar\": {\"outlinewidth\": 0, \"ticks\": \"\"}, \"type\": \"mesh3d\"}], \"parcoords\": [{\"line\": {\"colorbar\": {\"outlinewidth\": 0, \"ticks\": \"\"}}, \"type\": \"parcoords\"}], \"pie\": [{\"automargin\": true, \"type\": \"pie\"}], \"scatter\": [{\"marker\": {\"colorbar\": {\"outlinewidth\": 0, \"ticks\": \"\"}}, \"type\": \"scatter\"}], \"scatter3d\": [{\"line\": {\"colorbar\": {\"outlinewidth\": 0, \"ticks\": \"\"}}, \"marker\": {\"colorbar\": {\"outlinewidth\": 0, \"ticks\": \"\"}}, \"type\": \"scatter3d\"}], \"scattercarpet\": [{\"marker\": {\"colorbar\": {\"outlinewidth\": 0, \"ticks\": \"\"}}, \"type\": \"scattercarpet\"}], \"scattergeo\": [{\"marker\": {\"colorbar\": {\"outlinewidth\": 0, \"ticks\": \"\"}}, \"type\": \"scattergeo\"}], \"scattergl\": [{\"marker\": {\"colorbar\": {\"outlinewidth\": 0, \"ticks\": \"\"}}, \"type\": \"scattergl\"}], \"scattermapbox\": [{\"marker\": {\"colorbar\": {\"outlinewidth\": 0, \"ticks\": \"\"}}, \"type\": \"scattermapbox\"}], \"scatterpolar\": [{\"marker\": {\"colorbar\": {\"outlinewidth\": 0, \"ticks\": \"\"}}, \"type\": \"scatterpolar\"}], \"scatterpolargl\": [{\"marker\": {\"colorbar\": {\"outlinewidth\": 0, \"ticks\": \"\"}}, \"type\": \"scatterpolargl\"}], \"scatterternary\": [{\"marker\": {\"colorbar\": {\"outlinewidth\": 0, \"ticks\": \"\"}}, \"type\": \"scatterternary\"}], \"surface\": [{\"colorbar\": {\"outlinewidth\": 0, \"ticks\": \"\"}, \"colorscale\": [[0.0, \"#0d0887\"], [0.1111111111111111, \"#46039f\"], [0.2222222222222222, \"#7201a8\"], [0.3333333333333333, \"#9c179e\"], [0.4444444444444444, \"#bd3786\"], [0.5555555555555556, \"#d8576b\"], [0.6666666666666666, \"#ed7953\"], [0.7777777777777778, \"#fb9f3a\"], [0.8888888888888888, \"#fdca26\"], [1.0, \"#f0f921\"]], \"type\": \"surface\"}], \"table\": [{\"cells\": {\"fill\": {\"color\": \"#EBF0F8\"}, \"line\": {\"color\": \"white\"}}, \"header\": {\"fill\": {\"color\": \"#C8D4E3\"}, \"line\": {\"color\": \"white\"}}, \"type\": \"table\"}]}, \"layout\": {\"annotationdefaults\": {\"arrowcolor\": \"#2a3f5f\", \"arrowhead\": 0, \"arrowwidth\": 1}, \"autotypenumbers\": \"strict\", \"coloraxis\": {\"colorbar\": {\"outlinewidth\": 0, \"ticks\": \"\"}}, \"colorscale\": {\"diverging\": [[0, \"#8e0152\"], [0.1, \"#c51b7d\"], [0.2, \"#de77ae\"], [0.3, \"#f1b6da\"], [0.4, \"#fde0ef\"], [0.5, \"#f7f7f7\"], [0.6, \"#e6f5d0\"], [0.7, \"#b8e186\"], [0.8, \"#7fbc41\"], [0.9, \"#4d9221\"], [1, \"#276419\"]], \"sequential\": [[0.0, \"#0d0887\"], [0.1111111111111111, \"#46039f\"], [0.2222222222222222, \"#7201a8\"], [0.3333333333333333, \"#9c179e\"], [0.4444444444444444, \"#bd3786\"], [0.5555555555555556, \"#d8576b\"], [0.6666666666666666, \"#ed7953\"], [0.7777777777777778, \"#fb9f3a\"], [0.8888888888888888, \"#fdca26\"], [1.0, \"#f0f921\"]], \"sequentialminus\": [[0.0, \"#0d0887\"], [0.1111111111111111, \"#46039f\"], [0.2222222222222222, \"#7201a8\"], [0.3333333333333333, \"#9c179e\"], [0.4444444444444444, \"#bd3786\"], [0.5555555555555556, \"#d8576b\"], [0.6666666666666666, \"#ed7953\"], [0.7777777777777778, \"#fb9f3a\"], [0.8888888888888888, \"#fdca26\"], [1.0, \"#f0f921\"]]}, \"colorway\": [\"#636efa\", \"#EF553B\", \"#00cc96\", \"#ab63fa\", \"#FFA15A\", \"#19d3f3\", \"#FF6692\", \"#B6E880\", \"#FF97FF\", \"#FECB52\"], \"font\": {\"color\": \"#2a3f5f\"}, \"geo\": {\"bgcolor\": \"white\", \"lakecolor\": \"white\", \"landcolor\": \"#E5ECF6\", \"showlakes\": true, \"showland\": true, \"subunitcolor\": \"white\"}, \"hoverlabel\": {\"align\": \"left\"}, \"hovermode\": \"closest\", \"mapbox\": {\"style\": \"light\"}, \"paper_bgcolor\": \"white\", \"plot_bgcolor\": \"#E5ECF6\", \"polar\": {\"angularaxis\": {\"gridcolor\": \"white\", \"linecolor\": \"white\", \"ticks\": \"\"}, \"bgcolor\": \"#E5ECF6\", \"radialaxis\": {\"gridcolor\": \"white\", \"linecolor\": \"white\", \"ticks\": \"\"}}, \"scene\": {\"xaxis\": {\"backgroundcolor\": \"#E5ECF6\", \"gridcolor\": \"white\", \"gridwidth\": 2, \"linecolor\": \"white\", \"showbackground\": true, \"ticks\": \"\", \"zerolinecolor\": \"white\"}, \"yaxis\": {\"backgroundcolor\": \"#E5ECF6\", \"gridcolor\": \"white\", \"gridwidth\": 2, \"linecolor\": \"white\", \"showbackground\": true, \"ticks\": \"\", \"zerolinecolor\": \"white\"}, \"zaxis\": {\"backgroundcolor\": \"#E5ECF6\", \"gridcolor\": \"white\", \"gridwidth\": 2, \"linecolor\": \"white\", \"showbackground\": true, \"ticks\": \"\", \"zerolinecolor\": \"white\"}}, \"shapedefaults\": {\"line\": {\"color\": \"#2a3f5f\"}}, \"ternary\": {\"aaxis\": {\"gridcolor\": \"white\", \"linecolor\": \"white\", \"ticks\": \"\"}, \"baxis\": {\"gridcolor\": \"white\", \"linecolor\": \"white\", \"ticks\": \"\"}, \"bgcolor\": \"#E5ECF6\", \"caxis\": {\"gridcolor\": \"white\", \"linecolor\": \"white\", \"ticks\": \"\"}}, \"title\": {\"x\": 0.05}, \"xaxis\": {\"automargin\": true, \"gridcolor\": \"white\", \"linecolor\": \"white\", \"ticks\": \"\", \"title\": {\"standoff\": 15}, \"zerolinecolor\": \"white\", \"zerolinewidth\": 2}, \"yaxis\": {\"automargin\": true, \"gridcolor\": \"white\", \"linecolor\": \"white\", \"ticks\": \"\", \"title\": {\"standoff\": 15}, \"zerolinecolor\": \"white\", \"zerolinewidth\": 2}}}},                        {\"responsive\": true}                    ).then(function(){\n",
       "                            \n",
       "var gd = document.getElementById('87c0adfd-ef2d-427d-baed-22c6285d233e');\n",
       "var x = new MutationObserver(function (mutations, observer) {{\n",
       "        var display = window.getComputedStyle(gd).display;\n",
       "        if (!display || display === 'none') {{\n",
       "            console.log([gd, 'removed!']);\n",
       "            Plotly.purge(gd);\n",
       "            observer.disconnect();\n",
       "        }}\n",
       "}});\n",
       "\n",
       "// Listen for the removal of the full notebook cells\n",
       "var notebookContainer = gd.closest('#notebook-container');\n",
       "if (notebookContainer) {{\n",
       "    x.observe(notebookContainer, {childList: true});\n",
       "}}\n",
       "\n",
       "// Listen for the clearing of the current output cell\n",
       "var outputEl = gd.closest('.output');\n",
       "if (outputEl) {{\n",
       "    x.observe(outputEl, {childList: true});\n",
       "}}\n",
       "\n",
       "                        })                };                });            </script>        </div>"
      ]
     },
     "metadata": {},
     "output_type": "display_data"
    },
    {
     "data": {
      "text/html": [
       "<div>\n",
       "<style scoped>\n",
       "    .dataframe tbody tr th:only-of-type {\n",
       "        vertical-align: middle;\n",
       "    }\n",
       "\n",
       "    .dataframe tbody tr th {\n",
       "        vertical-align: top;\n",
       "    }\n",
       "\n",
       "    .dataframe thead th {\n",
       "        text-align: right;\n",
       "    }\n",
       "</style>\n",
       "<table border=\"1\" class=\"dataframe\">\n",
       "  <thead>\n",
       "    <tr style=\"text-align: right;\">\n",
       "      <th></th>\n",
       "      <th>diagnosi</th>\n",
       "      <th>lato</th>\n",
       "      <th>onset (età)</th>\n",
       "      <th>familiarità</th>\n",
       "      <th>frequenza attacchi al mese</th>\n",
       "      <th>uas</th>\n",
       "      <th>sintomi dopaminergici</th>\n",
       "      <th>emicrania mestruale</th>\n",
       "    </tr>\n",
       "  </thead>\n",
       "  <tbody>\n",
       "    <tr>\n",
       "      <th>0</th>\n",
       "      <td>3</td>\n",
       "      <td>1</td>\n",
       "      <td>0</td>\n",
       "      <td>9</td>\n",
       "      <td>1.0</td>\n",
       "      <td>0</td>\n",
       "      <td>1.0</td>\n",
       "      <td>0.0</td>\n",
       "    </tr>\n",
       "  </tbody>\n",
       "</table>\n",
       "</div>"
      ],
      "text/plain": [
       "   diagnosi  lato  onset (età)  familiarità  frequenza attacchi al mese  uas  \\\n",
       "0         3     1            0            9                         1.0    0   \n",
       "\n",
       "   sintomi dopaminergici  emicrania mestruale  \n",
       "0                    1.0                  0.0  "
      ]
     },
     "execution_count": 301,
     "metadata": {},
     "output_type": "execute_result"
    }
   ],
   "source": [
    "# transforming the example\n",
    "transformed_ex, code = transform_data(test_data[0], weights)\n",
    "ex = transformed_ex[EXAMPLE_N]\n",
    "target = test_data[1].values[EXAMPLE_N]\n",
    "\n",
    "result = most_important_group_plot(data, ex, code.values[EXAMPLE_N], target)\n",
    "plot_most_imp_g(result)\n",
    "pd.DataFrame(result, index=[0])"
   ]
  },
  {
   "cell_type": "markdown",
   "metadata": {},
   "source": [
    "## Top-K features by importance"
   ]
  },
  {
   "cell_type": "code",
   "execution_count": 302,
   "metadata": {},
   "outputs": [],
   "source": [
    "# Return most important group features\n",
    "def k_important_features(df, ex, ex_code, t, k=8):\n",
    "    \n",
    "    svm_out = get_example_estimator(ex, t)\n",
    "    \n",
    "    # get the example from data\n",
    "    original_ex = original_data[original_data[\"cod. \"]==ex_code]\n",
    "    \n",
    "    # compute svm weights\n",
    "    ex = fill_zero_values(ex)\n",
    "    decision_value = np.multiply(svm_out[1].coef_[0], ex)     \n",
    "    decision_total_value = decision_value\n",
    "    \n",
    "    # remove code and target columns\n",
    "    ref_columns = df.drop([df.columns[0], df.columns[5]], axis=1)\n",
    "    zipped_values = dict(zip(ref_columns.columns, decision_total_value))\n",
    "    \n",
    "    # take top k features\n",
    "    top_k_features = sorted(zipped_values, key=zipped_values.get, reverse=True)[:k]\n",
    "    result = {}\n",
    "    \n",
    "    for k in top_k_features:\n",
    "        result[k] = zipped_values[k]\n",
    "    return result, original_ex\n",
    "    "
   ]
  },
  {
   "cell_type": "code",
   "execution_count": 303,
   "metadata": {},
   "outputs": [],
   "source": [
    "result, original_features = k_important_features(data, ex, code.values[EXAMPLE_N], target, 10)\n",
    "#data"
   ]
  },
  {
   "cell_type": "code",
   "execution_count": 304,
   "metadata": {},
   "outputs": [
    {
     "data": {
      "application/vnd.plotly.v1+json": {
       "config": {
        "plotlyServerURL": "https://plot.ly"
       },
       "data": [
        {
         "domain": {
          "x": [
           0,
           1
          ],
          "y": [
           0,
           1
          ]
         },
         "hovertemplate": "character=%{label}<br>value=%{value}<br>parent=%{parent}<extra></extra>",
         "labels": [
          "frequenza attacchi al mese",
          "alcool si=1/no=0",
          "ace",
          "fumo si=1/no=0",
          "uas",
          "profilassi",
          "caffè si=1/no=0",
          "sistemica neuropsichiatrica (ex 1)",
          "pgr",
          "sod 2"
         ],
         "name": "",
         "parents": [
          "",
          "",
          "",
          "",
          "",
          "",
          "",
          "",
          "",
          ""
         ],
         "type": "sunburst",
         "values": [
          0.12333803675537919,
          0.11515895989148153,
          0.09124132572216054,
          0.08962663399278156,
          0.07844580960574522,
          0.04172361544800254,
          0.021359861964027074,
          0.015725771268402584,
          0.013410476487811577,
          0.012277763729697133
         ]
        }
       ],
       "layout": {
        "autosize": true,
        "legend": {
         "tracegroupgap": 0
        },
        "margin": {
         "t": 60
        },
        "template": {
         "data": {
          "bar": [
           {
            "error_x": {
             "color": "#2a3f5f"
            },
            "error_y": {
             "color": "#2a3f5f"
            },
            "marker": {
             "line": {
              "color": "#E5ECF6",
              "width": 0.5
             }
            },
            "type": "bar"
           }
          ],
          "barpolar": [
           {
            "marker": {
             "line": {
              "color": "#E5ECF6",
              "width": 0.5
             }
            },
            "type": "barpolar"
           }
          ],
          "carpet": [
           {
            "aaxis": {
             "endlinecolor": "#2a3f5f",
             "gridcolor": "white",
             "linecolor": "white",
             "minorgridcolor": "white",
             "startlinecolor": "#2a3f5f"
            },
            "baxis": {
             "endlinecolor": "#2a3f5f",
             "gridcolor": "white",
             "linecolor": "white",
             "minorgridcolor": "white",
             "startlinecolor": "#2a3f5f"
            },
            "type": "carpet"
           }
          ],
          "choropleth": [
           {
            "colorbar": {
             "outlinewidth": 0,
             "ticks": ""
            },
            "type": "choropleth"
           }
          ],
          "contour": [
           {
            "colorbar": {
             "outlinewidth": 0,
             "ticks": ""
            },
            "colorscale": [
             [
              0,
              "#0d0887"
             ],
             [
              0.1111111111111111,
              "#46039f"
             ],
             [
              0.2222222222222222,
              "#7201a8"
             ],
             [
              0.3333333333333333,
              "#9c179e"
             ],
             [
              0.4444444444444444,
              "#bd3786"
             ],
             [
              0.5555555555555556,
              "#d8576b"
             ],
             [
              0.6666666666666666,
              "#ed7953"
             ],
             [
              0.7777777777777778,
              "#fb9f3a"
             ],
             [
              0.8888888888888888,
              "#fdca26"
             ],
             [
              1,
              "#f0f921"
             ]
            ],
            "type": "contour"
           }
          ],
          "contourcarpet": [
           {
            "colorbar": {
             "outlinewidth": 0,
             "ticks": ""
            },
            "type": "contourcarpet"
           }
          ],
          "heatmap": [
           {
            "colorbar": {
             "outlinewidth": 0,
             "ticks": ""
            },
            "colorscale": [
             [
              0,
              "#0d0887"
             ],
             [
              0.1111111111111111,
              "#46039f"
             ],
             [
              0.2222222222222222,
              "#7201a8"
             ],
             [
              0.3333333333333333,
              "#9c179e"
             ],
             [
              0.4444444444444444,
              "#bd3786"
             ],
             [
              0.5555555555555556,
              "#d8576b"
             ],
             [
              0.6666666666666666,
              "#ed7953"
             ],
             [
              0.7777777777777778,
              "#fb9f3a"
             ],
             [
              0.8888888888888888,
              "#fdca26"
             ],
             [
              1,
              "#f0f921"
             ]
            ],
            "type": "heatmap"
           }
          ],
          "heatmapgl": [
           {
            "colorbar": {
             "outlinewidth": 0,
             "ticks": ""
            },
            "colorscale": [
             [
              0,
              "#0d0887"
             ],
             [
              0.1111111111111111,
              "#46039f"
             ],
             [
              0.2222222222222222,
              "#7201a8"
             ],
             [
              0.3333333333333333,
              "#9c179e"
             ],
             [
              0.4444444444444444,
              "#bd3786"
             ],
             [
              0.5555555555555556,
              "#d8576b"
             ],
             [
              0.6666666666666666,
              "#ed7953"
             ],
             [
              0.7777777777777778,
              "#fb9f3a"
             ],
             [
              0.8888888888888888,
              "#fdca26"
             ],
             [
              1,
              "#f0f921"
             ]
            ],
            "type": "heatmapgl"
           }
          ],
          "histogram": [
           {
            "marker": {
             "colorbar": {
              "outlinewidth": 0,
              "ticks": ""
             }
            },
            "type": "histogram"
           }
          ],
          "histogram2d": [
           {
            "colorbar": {
             "outlinewidth": 0,
             "ticks": ""
            },
            "colorscale": [
             [
              0,
              "#0d0887"
             ],
             [
              0.1111111111111111,
              "#46039f"
             ],
             [
              0.2222222222222222,
              "#7201a8"
             ],
             [
              0.3333333333333333,
              "#9c179e"
             ],
             [
              0.4444444444444444,
              "#bd3786"
             ],
             [
              0.5555555555555556,
              "#d8576b"
             ],
             [
              0.6666666666666666,
              "#ed7953"
             ],
             [
              0.7777777777777778,
              "#fb9f3a"
             ],
             [
              0.8888888888888888,
              "#fdca26"
             ],
             [
              1,
              "#f0f921"
             ]
            ],
            "type": "histogram2d"
           }
          ],
          "histogram2dcontour": [
           {
            "colorbar": {
             "outlinewidth": 0,
             "ticks": ""
            },
            "colorscale": [
             [
              0,
              "#0d0887"
             ],
             [
              0.1111111111111111,
              "#46039f"
             ],
             [
              0.2222222222222222,
              "#7201a8"
             ],
             [
              0.3333333333333333,
              "#9c179e"
             ],
             [
              0.4444444444444444,
              "#bd3786"
             ],
             [
              0.5555555555555556,
              "#d8576b"
             ],
             [
              0.6666666666666666,
              "#ed7953"
             ],
             [
              0.7777777777777778,
              "#fb9f3a"
             ],
             [
              0.8888888888888888,
              "#fdca26"
             ],
             [
              1,
              "#f0f921"
             ]
            ],
            "type": "histogram2dcontour"
           }
          ],
          "mesh3d": [
           {
            "colorbar": {
             "outlinewidth": 0,
             "ticks": ""
            },
            "type": "mesh3d"
           }
          ],
          "parcoords": [
           {
            "line": {
             "colorbar": {
              "outlinewidth": 0,
              "ticks": ""
             }
            },
            "type": "parcoords"
           }
          ],
          "pie": [
           {
            "automargin": true,
            "type": "pie"
           }
          ],
          "scatter": [
           {
            "marker": {
             "colorbar": {
              "outlinewidth": 0,
              "ticks": ""
             }
            },
            "type": "scatter"
           }
          ],
          "scatter3d": [
           {
            "line": {
             "colorbar": {
              "outlinewidth": 0,
              "ticks": ""
             }
            },
            "marker": {
             "colorbar": {
              "outlinewidth": 0,
              "ticks": ""
             }
            },
            "type": "scatter3d"
           }
          ],
          "scattercarpet": [
           {
            "marker": {
             "colorbar": {
              "outlinewidth": 0,
              "ticks": ""
             }
            },
            "type": "scattercarpet"
           }
          ],
          "scattergeo": [
           {
            "marker": {
             "colorbar": {
              "outlinewidth": 0,
              "ticks": ""
             }
            },
            "type": "scattergeo"
           }
          ],
          "scattergl": [
           {
            "marker": {
             "colorbar": {
              "outlinewidth": 0,
              "ticks": ""
             }
            },
            "type": "scattergl"
           }
          ],
          "scattermapbox": [
           {
            "marker": {
             "colorbar": {
              "outlinewidth": 0,
              "ticks": ""
             }
            },
            "type": "scattermapbox"
           }
          ],
          "scatterpolar": [
           {
            "marker": {
             "colorbar": {
              "outlinewidth": 0,
              "ticks": ""
             }
            },
            "type": "scatterpolar"
           }
          ],
          "scatterpolargl": [
           {
            "marker": {
             "colorbar": {
              "outlinewidth": 0,
              "ticks": ""
             }
            },
            "type": "scatterpolargl"
           }
          ],
          "scatterternary": [
           {
            "marker": {
             "colorbar": {
              "outlinewidth": 0,
              "ticks": ""
             }
            },
            "type": "scatterternary"
           }
          ],
          "surface": [
           {
            "colorbar": {
             "outlinewidth": 0,
             "ticks": ""
            },
            "colorscale": [
             [
              0,
              "#0d0887"
             ],
             [
              0.1111111111111111,
              "#46039f"
             ],
             [
              0.2222222222222222,
              "#7201a8"
             ],
             [
              0.3333333333333333,
              "#9c179e"
             ],
             [
              0.4444444444444444,
              "#bd3786"
             ],
             [
              0.5555555555555556,
              "#d8576b"
             ],
             [
              0.6666666666666666,
              "#ed7953"
             ],
             [
              0.7777777777777778,
              "#fb9f3a"
             ],
             [
              0.8888888888888888,
              "#fdca26"
             ],
             [
              1,
              "#f0f921"
             ]
            ],
            "type": "surface"
           }
          ],
          "table": [
           {
            "cells": {
             "fill": {
              "color": "#EBF0F8"
             },
             "line": {
              "color": "white"
             }
            },
            "header": {
             "fill": {
              "color": "#C8D4E3"
             },
             "line": {
              "color": "white"
             }
            },
            "type": "table"
           }
          ]
         },
         "layout": {
          "annotationdefaults": {
           "arrowcolor": "#2a3f5f",
           "arrowhead": 0,
           "arrowwidth": 1
          },
          "autotypenumbers": "strict",
          "coloraxis": {
           "colorbar": {
            "outlinewidth": 0,
            "ticks": ""
           }
          },
          "colorscale": {
           "diverging": [
            [
             0,
             "#8e0152"
            ],
            [
             0.1,
             "#c51b7d"
            ],
            [
             0.2,
             "#de77ae"
            ],
            [
             0.3,
             "#f1b6da"
            ],
            [
             0.4,
             "#fde0ef"
            ],
            [
             0.5,
             "#f7f7f7"
            ],
            [
             0.6,
             "#e6f5d0"
            ],
            [
             0.7,
             "#b8e186"
            ],
            [
             0.8,
             "#7fbc41"
            ],
            [
             0.9,
             "#4d9221"
            ],
            [
             1,
             "#276419"
            ]
           ],
           "sequential": [
            [
             0,
             "#0d0887"
            ],
            [
             0.1111111111111111,
             "#46039f"
            ],
            [
             0.2222222222222222,
             "#7201a8"
            ],
            [
             0.3333333333333333,
             "#9c179e"
            ],
            [
             0.4444444444444444,
             "#bd3786"
            ],
            [
             0.5555555555555556,
             "#d8576b"
            ],
            [
             0.6666666666666666,
             "#ed7953"
            ],
            [
             0.7777777777777778,
             "#fb9f3a"
            ],
            [
             0.8888888888888888,
             "#fdca26"
            ],
            [
             1,
             "#f0f921"
            ]
           ],
           "sequentialminus": [
            [
             0,
             "#0d0887"
            ],
            [
             0.1111111111111111,
             "#46039f"
            ],
            [
             0.2222222222222222,
             "#7201a8"
            ],
            [
             0.3333333333333333,
             "#9c179e"
            ],
            [
             0.4444444444444444,
             "#bd3786"
            ],
            [
             0.5555555555555556,
             "#d8576b"
            ],
            [
             0.6666666666666666,
             "#ed7953"
            ],
            [
             0.7777777777777778,
             "#fb9f3a"
            ],
            [
             0.8888888888888888,
             "#fdca26"
            ],
            [
             1,
             "#f0f921"
            ]
           ]
          },
          "colorway": [
           "#636efa",
           "#EF553B",
           "#00cc96",
           "#ab63fa",
           "#FFA15A",
           "#19d3f3",
           "#FF6692",
           "#B6E880",
           "#FF97FF",
           "#FECB52"
          ],
          "font": {
           "color": "#2a3f5f"
          },
          "geo": {
           "bgcolor": "white",
           "lakecolor": "white",
           "landcolor": "#E5ECF6",
           "showlakes": true,
           "showland": true,
           "subunitcolor": "white"
          },
          "hoverlabel": {
           "align": "left"
          },
          "hovermode": "closest",
          "mapbox": {
           "style": "light"
          },
          "paper_bgcolor": "white",
          "plot_bgcolor": "#E5ECF6",
          "polar": {
           "angularaxis": {
            "gridcolor": "white",
            "linecolor": "white",
            "ticks": ""
           },
           "bgcolor": "#E5ECF6",
           "radialaxis": {
            "gridcolor": "white",
            "linecolor": "white",
            "ticks": ""
           }
          },
          "scene": {
           "xaxis": {
            "backgroundcolor": "#E5ECF6",
            "gridcolor": "white",
            "gridwidth": 2,
            "linecolor": "white",
            "showbackground": true,
            "ticks": "",
            "zerolinecolor": "white"
           },
           "yaxis": {
            "backgroundcolor": "#E5ECF6",
            "gridcolor": "white",
            "gridwidth": 2,
            "linecolor": "white",
            "showbackground": true,
            "ticks": "",
            "zerolinecolor": "white"
           },
           "zaxis": {
            "backgroundcolor": "#E5ECF6",
            "gridcolor": "white",
            "gridwidth": 2,
            "linecolor": "white",
            "showbackground": true,
            "ticks": "",
            "zerolinecolor": "white"
           }
          },
          "shapedefaults": {
           "line": {
            "color": "#2a3f5f"
           }
          },
          "ternary": {
           "aaxis": {
            "gridcolor": "white",
            "linecolor": "white",
            "ticks": ""
           },
           "baxis": {
            "gridcolor": "white",
            "linecolor": "white",
            "ticks": ""
           },
           "bgcolor": "#E5ECF6",
           "caxis": {
            "gridcolor": "white",
            "linecolor": "white",
            "ticks": ""
           }
          },
          "title": {
           "x": 0.05
          },
          "xaxis": {
           "automargin": true,
           "gridcolor": "white",
           "linecolor": "white",
           "ticks": "",
           "title": {
            "standoff": 15
           },
           "zerolinecolor": "white",
           "zerolinewidth": 2
          },
          "yaxis": {
           "automargin": true,
           "gridcolor": "white",
           "linecolor": "white",
           "ticks": "",
           "title": {
            "standoff": 15
           },
           "zerolinecolor": "white",
           "zerolinewidth": 2
          }
         }
        }
       }
      },
      "image/png": "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",
      "text/html": [
       "<div>                            <div id=\"8e431e40-b7d3-4332-9984-53a52a08c941\" class=\"plotly-graph-div\" style=\"height:525px; width:100%;\"></div>            <script type=\"text/javascript\">                require([\"plotly\"], function(Plotly) {                    window.PLOTLYENV=window.PLOTLYENV || {};                                    if (document.getElementById(\"8e431e40-b7d3-4332-9984-53a52a08c941\")) {                    Plotly.newPlot(                        \"8e431e40-b7d3-4332-9984-53a52a08c941\",                        [{\"domain\": {\"x\": [0.0, 1.0], \"y\": [0.0, 1.0]}, \"hovertemplate\": \"character=%{label}<br>value=%{value}<br>parent=%{parent}<extra></extra>\", \"labels\": [\"frequenza attacchi al mese\", \"alcool si=1/no=0\", \"ace\", \"fumo si=1/no=0\", \"uas\", \"profilassi\", \"caff\\u00e8 si=1/no=0\", \"sistemica neuropsichiatrica (ex 1)\", \"pgr\", \"sod 2\"], \"name\": \"\", \"parents\": [\"\", \"\", \"\", \"\", \"\", \"\", \"\", \"\", \"\", \"\"], \"type\": \"sunburst\", \"values\": [0.12333803675537919, 0.11515895989148153, 0.09124132572216054, 0.08962663399278156, 0.07844580960574522, 0.04172361544800254, 0.021359861964027074, 0.015725771268402584, 0.013410476487811577, 0.012277763729697133]}],                        {\"legend\": {\"tracegroupgap\": 0}, \"margin\": {\"t\": 60}, \"template\": {\"data\": {\"bar\": [{\"error_x\": {\"color\": \"#2a3f5f\"}, \"error_y\": {\"color\": \"#2a3f5f\"}, \"marker\": {\"line\": {\"color\": \"#E5ECF6\", \"width\": 0.5}}, \"type\": \"bar\"}], \"barpolar\": [{\"marker\": {\"line\": {\"color\": \"#E5ECF6\", \"width\": 0.5}}, \"type\": \"barpolar\"}], \"carpet\": [{\"aaxis\": {\"endlinecolor\": \"#2a3f5f\", \"gridcolor\": \"white\", \"linecolor\": \"white\", \"minorgridcolor\": \"white\", \"startlinecolor\": \"#2a3f5f\"}, \"baxis\": {\"endlinecolor\": \"#2a3f5f\", \"gridcolor\": \"white\", \"linecolor\": \"white\", \"minorgridcolor\": \"white\", \"startlinecolor\": \"#2a3f5f\"}, \"type\": \"carpet\"}], \"choropleth\": [{\"colorbar\": {\"outlinewidth\": 0, \"ticks\": \"\"}, \"type\": \"choropleth\"}], \"contour\": [{\"colorbar\": {\"outlinewidth\": 0, \"ticks\": \"\"}, \"colorscale\": [[0.0, \"#0d0887\"], [0.1111111111111111, \"#46039f\"], [0.2222222222222222, \"#7201a8\"], [0.3333333333333333, \"#9c179e\"], [0.4444444444444444, \"#bd3786\"], [0.5555555555555556, \"#d8576b\"], [0.6666666666666666, \"#ed7953\"], [0.7777777777777778, \"#fb9f3a\"], [0.8888888888888888, \"#fdca26\"], [1.0, \"#f0f921\"]], \"type\": \"contour\"}], \"contourcarpet\": [{\"colorbar\": {\"outlinewidth\": 0, \"ticks\": \"\"}, \"type\": \"contourcarpet\"}], \"heatmap\": [{\"colorbar\": {\"outlinewidth\": 0, \"ticks\": \"\"}, \"colorscale\": [[0.0, \"#0d0887\"], [0.1111111111111111, \"#46039f\"], [0.2222222222222222, \"#7201a8\"], [0.3333333333333333, \"#9c179e\"], [0.4444444444444444, \"#bd3786\"], [0.5555555555555556, \"#d8576b\"], [0.6666666666666666, \"#ed7953\"], [0.7777777777777778, \"#fb9f3a\"], [0.8888888888888888, \"#fdca26\"], [1.0, \"#f0f921\"]], \"type\": \"heatmap\"}], \"heatmapgl\": [{\"colorbar\": {\"outlinewidth\": 0, \"ticks\": \"\"}, \"colorscale\": [[0.0, \"#0d0887\"], [0.1111111111111111, \"#46039f\"], [0.2222222222222222, \"#7201a8\"], [0.3333333333333333, \"#9c179e\"], [0.4444444444444444, \"#bd3786\"], [0.5555555555555556, \"#d8576b\"], [0.6666666666666666, \"#ed7953\"], [0.7777777777777778, \"#fb9f3a\"], [0.8888888888888888, \"#fdca26\"], [1.0, \"#f0f921\"]], \"type\": \"heatmapgl\"}], \"histogram\": [{\"marker\": {\"colorbar\": {\"outlinewidth\": 0, \"ticks\": \"\"}}, \"type\": \"histogram\"}], \"histogram2d\": [{\"colorbar\": {\"outlinewidth\": 0, \"ticks\": \"\"}, \"colorscale\": [[0.0, \"#0d0887\"], [0.1111111111111111, \"#46039f\"], [0.2222222222222222, \"#7201a8\"], [0.3333333333333333, \"#9c179e\"], [0.4444444444444444, \"#bd3786\"], [0.5555555555555556, \"#d8576b\"], [0.6666666666666666, \"#ed7953\"], [0.7777777777777778, \"#fb9f3a\"], [0.8888888888888888, \"#fdca26\"], [1.0, \"#f0f921\"]], \"type\": \"histogram2d\"}], \"histogram2dcontour\": [{\"colorbar\": {\"outlinewidth\": 0, \"ticks\": \"\"}, \"colorscale\": [[0.0, \"#0d0887\"], [0.1111111111111111, \"#46039f\"], [0.2222222222222222, \"#7201a8\"], [0.3333333333333333, \"#9c179e\"], [0.4444444444444444, \"#bd3786\"], [0.5555555555555556, \"#d8576b\"], [0.6666666666666666, \"#ed7953\"], [0.7777777777777778, \"#fb9f3a\"], [0.8888888888888888, \"#fdca26\"], [1.0, \"#f0f921\"]], \"type\": \"histogram2dcontour\"}], \"mesh3d\": [{\"colorbar\": {\"outlinewidth\": 0, \"ticks\": \"\"}, \"type\": \"mesh3d\"}], \"parcoords\": [{\"line\": {\"colorbar\": {\"outlinewidth\": 0, \"ticks\": \"\"}}, \"type\": \"parcoords\"}], \"pie\": [{\"automargin\": true, \"type\": \"pie\"}], \"scatter\": [{\"marker\": {\"colorbar\": {\"outlinewidth\": 0, \"ticks\": \"\"}}, \"type\": \"scatter\"}], \"scatter3d\": [{\"line\": {\"colorbar\": {\"outlinewidth\": 0, \"ticks\": \"\"}}, \"marker\": {\"colorbar\": {\"outlinewidth\": 0, \"ticks\": \"\"}}, \"type\": \"scatter3d\"}], \"scattercarpet\": [{\"marker\": {\"colorbar\": {\"outlinewidth\": 0, \"ticks\": \"\"}}, \"type\": \"scattercarpet\"}], \"scattergeo\": [{\"marker\": {\"colorbar\": {\"outlinewidth\": 0, \"ticks\": \"\"}}, \"type\": \"scattergeo\"}], \"scattergl\": [{\"marker\": {\"colorbar\": {\"outlinewidth\": 0, \"ticks\": \"\"}}, \"type\": \"scattergl\"}], \"scattermapbox\": [{\"marker\": {\"colorbar\": {\"outlinewidth\": 0, \"ticks\": \"\"}}, \"type\": \"scattermapbox\"}], \"scatterpolar\": [{\"marker\": {\"colorbar\": {\"outlinewidth\": 0, \"ticks\": \"\"}}, \"type\": \"scatterpolar\"}], \"scatterpolargl\": [{\"marker\": {\"colorbar\": {\"outlinewidth\": 0, \"ticks\": \"\"}}, \"type\": \"scatterpolargl\"}], \"scatterternary\": [{\"marker\": {\"colorbar\": {\"outlinewidth\": 0, \"ticks\": \"\"}}, \"type\": \"scatterternary\"}], \"surface\": [{\"colorbar\": {\"outlinewidth\": 0, \"ticks\": \"\"}, \"colorscale\": [[0.0, \"#0d0887\"], [0.1111111111111111, \"#46039f\"], [0.2222222222222222, \"#7201a8\"], [0.3333333333333333, \"#9c179e\"], [0.4444444444444444, \"#bd3786\"], [0.5555555555555556, \"#d8576b\"], [0.6666666666666666, \"#ed7953\"], [0.7777777777777778, \"#fb9f3a\"], [0.8888888888888888, \"#fdca26\"], [1.0, \"#f0f921\"]], \"type\": \"surface\"}], \"table\": [{\"cells\": {\"fill\": {\"color\": \"#EBF0F8\"}, \"line\": {\"color\": \"white\"}}, \"header\": {\"fill\": {\"color\": \"#C8D4E3\"}, \"line\": {\"color\": \"white\"}}, \"type\": \"table\"}]}, \"layout\": {\"annotationdefaults\": {\"arrowcolor\": \"#2a3f5f\", \"arrowhead\": 0, \"arrowwidth\": 1}, \"autotypenumbers\": \"strict\", \"coloraxis\": {\"colorbar\": {\"outlinewidth\": 0, \"ticks\": \"\"}}, \"colorscale\": {\"diverging\": [[0, \"#8e0152\"], [0.1, \"#c51b7d\"], [0.2, \"#de77ae\"], [0.3, \"#f1b6da\"], [0.4, \"#fde0ef\"], [0.5, \"#f7f7f7\"], [0.6, \"#e6f5d0\"], [0.7, \"#b8e186\"], [0.8, \"#7fbc41\"], [0.9, \"#4d9221\"], [1, \"#276419\"]], \"sequential\": [[0.0, \"#0d0887\"], [0.1111111111111111, \"#46039f\"], [0.2222222222222222, \"#7201a8\"], [0.3333333333333333, \"#9c179e\"], [0.4444444444444444, \"#bd3786\"], [0.5555555555555556, \"#d8576b\"], [0.6666666666666666, \"#ed7953\"], [0.7777777777777778, \"#fb9f3a\"], [0.8888888888888888, \"#fdca26\"], [1.0, \"#f0f921\"]], \"sequentialminus\": [[0.0, \"#0d0887\"], [0.1111111111111111, \"#46039f\"], [0.2222222222222222, \"#7201a8\"], [0.3333333333333333, \"#9c179e\"], [0.4444444444444444, \"#bd3786\"], [0.5555555555555556, \"#d8576b\"], [0.6666666666666666, \"#ed7953\"], [0.7777777777777778, \"#fb9f3a\"], [0.8888888888888888, \"#fdca26\"], [1.0, \"#f0f921\"]]}, \"colorway\": [\"#636efa\", \"#EF553B\", \"#00cc96\", \"#ab63fa\", \"#FFA15A\", \"#19d3f3\", \"#FF6692\", \"#B6E880\", \"#FF97FF\", \"#FECB52\"], \"font\": {\"color\": \"#2a3f5f\"}, \"geo\": {\"bgcolor\": \"white\", \"lakecolor\": \"white\", \"landcolor\": \"#E5ECF6\", \"showlakes\": true, \"showland\": true, \"subunitcolor\": \"white\"}, \"hoverlabel\": {\"align\": \"left\"}, \"hovermode\": \"closest\", \"mapbox\": {\"style\": \"light\"}, \"paper_bgcolor\": \"white\", \"plot_bgcolor\": \"#E5ECF6\", \"polar\": {\"angularaxis\": {\"gridcolor\": \"white\", \"linecolor\": \"white\", \"ticks\": \"\"}, \"bgcolor\": \"#E5ECF6\", \"radialaxis\": {\"gridcolor\": \"white\", \"linecolor\": \"white\", \"ticks\": \"\"}}, \"scene\": {\"xaxis\": {\"backgroundcolor\": \"#E5ECF6\", \"gridcolor\": \"white\", \"gridwidth\": 2, \"linecolor\": \"white\", \"showbackground\": true, \"ticks\": \"\", \"zerolinecolor\": \"white\"}, \"yaxis\": {\"backgroundcolor\": \"#E5ECF6\", \"gridcolor\": \"white\", \"gridwidth\": 2, \"linecolor\": \"white\", \"showbackground\": true, \"ticks\": \"\", \"zerolinecolor\": \"white\"}, \"zaxis\": {\"backgroundcolor\": \"#E5ECF6\", \"gridcolor\": \"white\", \"gridwidth\": 2, \"linecolor\": \"white\", \"showbackground\": true, \"ticks\": \"\", \"zerolinecolor\": \"white\"}}, \"shapedefaults\": {\"line\": {\"color\": \"#2a3f5f\"}}, \"ternary\": {\"aaxis\": {\"gridcolor\": \"white\", \"linecolor\": \"white\", \"ticks\": \"\"}, \"baxis\": {\"gridcolor\": \"white\", \"linecolor\": \"white\", \"ticks\": \"\"}, \"bgcolor\": \"#E5ECF6\", \"caxis\": {\"gridcolor\": \"white\", \"linecolor\": \"white\", \"ticks\": \"\"}}, \"title\": {\"x\": 0.05}, \"xaxis\": {\"automargin\": true, \"gridcolor\": \"white\", \"linecolor\": \"white\", \"ticks\": \"\", \"title\": {\"standoff\": 15}, \"zerolinecolor\": \"white\", \"zerolinewidth\": 2}, \"yaxis\": {\"automargin\": true, \"gridcolor\": \"white\", \"linecolor\": \"white\", \"ticks\": \"\", \"title\": {\"standoff\": 15}, \"zerolinecolor\": \"white\", \"zerolinewidth\": 2}}}},                        {\"responsive\": true}                    ).then(function(){\n",
       "                            \n",
       "var gd = document.getElementById('8e431e40-b7d3-4332-9984-53a52a08c941');\n",
       "var x = new MutationObserver(function (mutations, observer) {{\n",
       "        var display = window.getComputedStyle(gd).display;\n",
       "        if (!display || display === 'none') {{\n",
       "            console.log([gd, 'removed!']);\n",
       "            Plotly.purge(gd);\n",
       "            observer.disconnect();\n",
       "        }}\n",
       "}});\n",
       "\n",
       "// Listen for the removal of the full notebook cells\n",
       "var notebookContainer = gd.closest('#notebook-container');\n",
       "if (notebookContainer) {{\n",
       "    x.observe(notebookContainer, {childList: true});\n",
       "}}\n",
       "\n",
       "// Listen for the clearing of the current output cell\n",
       "var outputEl = gd.closest('.output');\n",
       "if (outputEl) {{\n",
       "    x.observe(outputEl, {childList: true});\n",
       "}}\n",
       "\n",
       "                        })                };                });            </script>        </div>"
      ]
     },
     "metadata": {},
     "output_type": "display_data"
    },
    {
     "data": {
      "text/html": [
       "<div>\n",
       "<style scoped>\n",
       "    .dataframe tbody tr th:only-of-type {\n",
       "        vertical-align: middle;\n",
       "    }\n",
       "\n",
       "    .dataframe tbody tr th {\n",
       "        vertical-align: top;\n",
       "    }\n",
       "\n",
       "    .dataframe thead th {\n",
       "        text-align: right;\n",
       "    }\n",
       "</style>\n",
       "<table border=\"1\" class=\"dataframe\">\n",
       "  <thead>\n",
       "    <tr style=\"text-align: right;\">\n",
       "      <th></th>\n",
       "      <th>frequenza attacchi al mese</th>\n",
       "      <th>alcool si=1/no=0</th>\n",
       "      <th>ace</th>\n",
       "      <th>fumo si=1/no=0</th>\n",
       "      <th>uas</th>\n",
       "      <th>profilassi</th>\n",
       "      <th>caffè si=1/no=0</th>\n",
       "      <th>sistemica neuropsichiatrica (ex 1)</th>\n",
       "      <th>pgr</th>\n",
       "      <th>sod 2</th>\n",
       "    </tr>\n",
       "  </thead>\n",
       "  <tbody>\n",
       "    <tr>\n",
       "      <th>433</th>\n",
       "      <td>0</td>\n",
       "      <td>0.0</td>\n",
       "      <td>0</td>\n",
       "      <td>0.0</td>\n",
       "      <td>1.0</td>\n",
       "      <td>1.0</td>\n",
       "      <td>1</td>\n",
       "      <td>1.0</td>\n",
       "      <td>3</td>\n",
       "      <td>0</td>\n",
       "    </tr>\n",
       "  </tbody>\n",
       "</table>\n",
       "</div>"
      ],
      "text/plain": [
       "     frequenza attacchi al mese  alcool si=1/no=0  ace  fumo si=1/no=0  uas  \\\n",
       "433                           0               0.0    0             0.0  1.0   \n",
       "\n",
       "     profilassi  caffè si=1/no=0  sistemica neuropsichiatrica (ex 1)  pgr  \\\n",
       "433         1.0                1                                 1.0    3   \n",
       "\n",
       "     sod 2  \n",
       "433      0  "
      ]
     },
     "execution_count": 304,
     "metadata": {},
     "output_type": "execute_result"
    }
   ],
   "source": [
    "plot_top_k(result, original_features[list(result.keys())])"
   ]
  },
  {
   "cell_type": "markdown",
   "metadata": {},
   "source": [
    "## Clusterized Groups importances"
   ]
  },
  {
   "cell_type": "code",
   "execution_count": 305,
   "metadata": {},
   "outputs": [],
   "source": [
    "#!conda install plotly"
   ]
  },
  {
   "cell_type": "code",
   "execution_count": 306,
   "metadata": {},
   "outputs": [],
   "source": [
    "#!conda install jupyterlab \"ipywidgets>=7.5\"\n",
    "# JupyterLab renderer support\n",
    "#!jupyter labextension install jupyterlab-plotly@4.14.3\n",
    "# OPTIONAL: Jupyter widgets extension\n",
    "#!jupyter labextension install @jupyter-widgets/jupyterlab-manager plotlywidget@4.14.3"
   ]
  },
  {
   "cell_type": "code",
   "execution_count": null,
   "metadata": {},
   "outputs": [],
   "source": []
  },
  {
   "cell_type": "code",
   "execution_count": 307,
   "metadata": {},
   "outputs": [],
   "source": [
    "def get_groups_importances(df, ex, ex_code, t):\n",
    "    groups_indexes_dictionary = {\"DEMOGRAFICHE\":(range(1,5),0), \"CARATTERISTICHE CLINICHE\":(range(6,14),1), \"TERAPIA\":(range(14,18),2), \"SINTOMATOLOGIA\":(range(18, 22), 3),\n",
    "                             \"CARATTERISTICHE MOLECOLARI\":(range(22,30), 4), \"TRIGGER\":(range(30,40),5)}\n",
    "    \n",
    "    original_ex = original_data[original_data[\"cod. \"]==ex_code]\n",
    "    svm_out = get_example_estimator(ex, t)\n",
    "    ex = fill_zero_values(ex)\n",
    "    decision_value = np.multiply(np.abs(svm_out[1].coef_[0]), ex)     \n",
    "    decision_total_value = decision_value\n",
    "\n",
    "    groups_values = get_groups_values(decision_total_value)\n",
    "\n",
    "    ds = []\n",
    "    for k in list(groups_indexes_dictionary.keys()):\n",
    "        GROUP_TO_VISUALIZE = k\n",
    "        ds.append(\n",
    "            (\n",
    "                list(data.columns[groups_indexes_dictionary[GROUP_TO_VISUALIZE][0]]),\n",
    "                 f_group_importances[groups_indexes_dictionary[GROUP_TO_VISUALIZE][1]],\n",
    "                 k,\n",
    "                groups_values[k][0]\n",
    "            )\n",
    "        )\n",
    "    \n",
    "    return ds, original_ex\n"
   ]
  },
  {
   "cell_type": "code",
   "execution_count": 308,
   "metadata": {},
   "outputs": [],
   "source": [
    "results, original_example = get_groups_importances(data, ex, code.values[EXAMPLE_N], target)"
   ]
  },
  {
   "cell_type": "code",
   "execution_count": 309,
   "metadata": {},
   "outputs": [],
   "source": [
    "def plot_bubbles(results, original_example):\n",
    "    \n",
    "    chart_data = dict(\n",
    "    character=[],\n",
    "    parent=[],\n",
    "    value=[])\n",
    "    \n",
    "    example = {}\n",
    "    alpha = 10\n",
    "    \n",
    "    for el in results:\n",
    "        chart_data[\"character\"].append(el[-2])\n",
    "        sorted_features = np.argsort(el[1])[-3:][::-1]\n",
    "        \n",
    "        v = 0\n",
    "        \n",
    "        for best_f in sorted_features:\n",
    "            v = v + el[1][best_f]\n",
    "\n",
    "        \n",
    "        if el[-1]<0:\n",
    "            chart_data[\"value\"].append(0 + v) \n",
    "        else:\n",
    "            chart_data[\"value\"].append(el[-1] + v)\n",
    "\n",
    "        chart_data[\"parent\"].append(\"\")\n",
    "        \n",
    "        \n",
    "        for f in sorted_features:\n",
    "            \n",
    "            chart_data[\"character\"].append(el[0][f])\n",
    "            \n",
    "            if el[1][f]<0:\n",
    "                \n",
    "                chart_data[\"value\"].append(0)\n",
    "            \n",
    "            else:\n",
    "                \n",
    "                chart_data[\"value\"].append(el[1][f])\n",
    "\n",
    "            chart_data[\"parent\"].append(el[2])\n",
    "            \n",
    "            example[el[0][f]] = original_example[el[0][f]].values[0]\n",
    "            \n",
    "    fig =px.sunburst(\n",
    "        chart_data,\n",
    "        names='character',\n",
    "        parents='parent',\n",
    "        values='value',\n",
    "    )\n",
    "    \n",
    "    fig.show()\n",
    "    return pd.DataFrame(example, index=[0])"
   ]
  },
  {
   "cell_type": "code",
   "execution_count": 310,
   "metadata": {},
   "outputs": [
    {
     "data": {
      "application/vnd.plotly.v1+json": {
       "config": {
        "plotlyServerURL": "https://plot.ly"
       },
       "data": [
        {
         "domain": {
          "x": [
           0,
           1
          ],
          "y": [
           0,
           1
          ]
         },
         "hovertemplate": "character=%{label}<br>value=%{value}<br>parent=%{parent}<extra></extra>",
         "labels": [
          "DEMOGRAFICHE",
          "genere",
          "menarca (età)",
          "menopausa",
          "CARATTERISTICHE CLINICHE",
          "diagnosi",
          "frequenza attacchi al mese",
          "uas",
          "TERAPIA",
          "abuso farmaco",
          "durata abuso (anni)",
          "profilassi",
          "SINTOMATOLOGIA",
          "sistemica endocrino-metabolica (ex 3)",
          "sistemica altro (ex 4)",
          "sistemica cardiovascolare (ex 2)",
          "CARATTERISTICHE MOLECOLARI",
          "ace",
          "dbh",
          "sod 2",
          "TRIGGER",
          "alcool si=1/no=0",
          "ipertensione arteriosa",
          "diabete si=1/no=0"
         ],
         "name": "",
         "parents": [
          "",
          "DEMOGRAFICHE",
          "DEMOGRAFICHE",
          "DEMOGRAFICHE",
          "",
          "CARATTERISTICHE CLINICHE",
          "CARATTERISTICHE CLINICHE",
          "CARATTERISTICHE CLINICHE",
          "",
          "TERAPIA",
          "TERAPIA",
          "TERAPIA",
          "",
          "SINTOMATOLOGIA",
          "SINTOMATOLOGIA",
          "SINTOMATOLOGIA",
          "",
          "CARATTERISTICHE MOLECOLARI",
          "CARATTERISTICHE MOLECOLARI",
          "CARATTERISTICHE MOLECOLARI",
          "",
          "TRIGGER",
          "TRIGGER",
          "TRIGGER"
         ],
         "type": "sunburst",
         "values": [
          2.5277376470246575,
          0.9999999999999999,
          0.9851022459465836,
          0.23308437224598375,
          1.4948860126980585,
          1,
          0.04674799368110519,
          0.021744261279917645,
          1.382104056614016,
          1,
          0.15547847490481037,
          0.13713370599174085,
          2.5688460596676235,
          0.9999999999999999,
          0.7417220537406733,
          0.7175090415486716,
          2.359791603748291,
          1.0000000000000002,
          0.7326485037431231,
          0.3742758930766301,
          2.099221250133282,
          1.0000000000000002,
          0.48514317737359536,
          0.44357832169548994
         ]
        }
       ],
       "layout": {
        "autosize": true,
        "legend": {
         "tracegroupgap": 0
        },
        "margin": {
         "t": 60
        },
        "template": {
         "data": {
          "bar": [
           {
            "error_x": {
             "color": "#2a3f5f"
            },
            "error_y": {
             "color": "#2a3f5f"
            },
            "marker": {
             "line": {
              "color": "#E5ECF6",
              "width": 0.5
             }
            },
            "type": "bar"
           }
          ],
          "barpolar": [
           {
            "marker": {
             "line": {
              "color": "#E5ECF6",
              "width": 0.5
             }
            },
            "type": "barpolar"
           }
          ],
          "carpet": [
           {
            "aaxis": {
             "endlinecolor": "#2a3f5f",
             "gridcolor": "white",
             "linecolor": "white",
             "minorgridcolor": "white",
             "startlinecolor": "#2a3f5f"
            },
            "baxis": {
             "endlinecolor": "#2a3f5f",
             "gridcolor": "white",
             "linecolor": "white",
             "minorgridcolor": "white",
             "startlinecolor": "#2a3f5f"
            },
            "type": "carpet"
           }
          ],
          "choropleth": [
           {
            "colorbar": {
             "outlinewidth": 0,
             "ticks": ""
            },
            "type": "choropleth"
           }
          ],
          "contour": [
           {
            "colorbar": {
             "outlinewidth": 0,
             "ticks": ""
            },
            "colorscale": [
             [
              0,
              "#0d0887"
             ],
             [
              0.1111111111111111,
              "#46039f"
             ],
             [
              0.2222222222222222,
              "#7201a8"
             ],
             [
              0.3333333333333333,
              "#9c179e"
             ],
             [
              0.4444444444444444,
              "#bd3786"
             ],
             [
              0.5555555555555556,
              "#d8576b"
             ],
             [
              0.6666666666666666,
              "#ed7953"
             ],
             [
              0.7777777777777778,
              "#fb9f3a"
             ],
             [
              0.8888888888888888,
              "#fdca26"
             ],
             [
              1,
              "#f0f921"
             ]
            ],
            "type": "contour"
           }
          ],
          "contourcarpet": [
           {
            "colorbar": {
             "outlinewidth": 0,
             "ticks": ""
            },
            "type": "contourcarpet"
           }
          ],
          "heatmap": [
           {
            "colorbar": {
             "outlinewidth": 0,
             "ticks": ""
            },
            "colorscale": [
             [
              0,
              "#0d0887"
             ],
             [
              0.1111111111111111,
              "#46039f"
             ],
             [
              0.2222222222222222,
              "#7201a8"
             ],
             [
              0.3333333333333333,
              "#9c179e"
             ],
             [
              0.4444444444444444,
              "#bd3786"
             ],
             [
              0.5555555555555556,
              "#d8576b"
             ],
             [
              0.6666666666666666,
              "#ed7953"
             ],
             [
              0.7777777777777778,
              "#fb9f3a"
             ],
             [
              0.8888888888888888,
              "#fdca26"
             ],
             [
              1,
              "#f0f921"
             ]
            ],
            "type": "heatmap"
           }
          ],
          "heatmapgl": [
           {
            "colorbar": {
             "outlinewidth": 0,
             "ticks": ""
            },
            "colorscale": [
             [
              0,
              "#0d0887"
             ],
             [
              0.1111111111111111,
              "#46039f"
             ],
             [
              0.2222222222222222,
              "#7201a8"
             ],
             [
              0.3333333333333333,
              "#9c179e"
             ],
             [
              0.4444444444444444,
              "#bd3786"
             ],
             [
              0.5555555555555556,
              "#d8576b"
             ],
             [
              0.6666666666666666,
              "#ed7953"
             ],
             [
              0.7777777777777778,
              "#fb9f3a"
             ],
             [
              0.8888888888888888,
              "#fdca26"
             ],
             [
              1,
              "#f0f921"
             ]
            ],
            "type": "heatmapgl"
           }
          ],
          "histogram": [
           {
            "marker": {
             "colorbar": {
              "outlinewidth": 0,
              "ticks": ""
             }
            },
            "type": "histogram"
           }
          ],
          "histogram2d": [
           {
            "colorbar": {
             "outlinewidth": 0,
             "ticks": ""
            },
            "colorscale": [
             [
              0,
              "#0d0887"
             ],
             [
              0.1111111111111111,
              "#46039f"
             ],
             [
              0.2222222222222222,
              "#7201a8"
             ],
             [
              0.3333333333333333,
              "#9c179e"
             ],
             [
              0.4444444444444444,
              "#bd3786"
             ],
             [
              0.5555555555555556,
              "#d8576b"
             ],
             [
              0.6666666666666666,
              "#ed7953"
             ],
             [
              0.7777777777777778,
              "#fb9f3a"
             ],
             [
              0.8888888888888888,
              "#fdca26"
             ],
             [
              1,
              "#f0f921"
             ]
            ],
            "type": "histogram2d"
           }
          ],
          "histogram2dcontour": [
           {
            "colorbar": {
             "outlinewidth": 0,
             "ticks": ""
            },
            "colorscale": [
             [
              0,
              "#0d0887"
             ],
             [
              0.1111111111111111,
              "#46039f"
             ],
             [
              0.2222222222222222,
              "#7201a8"
             ],
             [
              0.3333333333333333,
              "#9c179e"
             ],
             [
              0.4444444444444444,
              "#bd3786"
             ],
             [
              0.5555555555555556,
              "#d8576b"
             ],
             [
              0.6666666666666666,
              "#ed7953"
             ],
             [
              0.7777777777777778,
              "#fb9f3a"
             ],
             [
              0.8888888888888888,
              "#fdca26"
             ],
             [
              1,
              "#f0f921"
             ]
            ],
            "type": "histogram2dcontour"
           }
          ],
          "mesh3d": [
           {
            "colorbar": {
             "outlinewidth": 0,
             "ticks": ""
            },
            "type": "mesh3d"
           }
          ],
          "parcoords": [
           {
            "line": {
             "colorbar": {
              "outlinewidth": 0,
              "ticks": ""
             }
            },
            "type": "parcoords"
           }
          ],
          "pie": [
           {
            "automargin": true,
            "type": "pie"
           }
          ],
          "scatter": [
           {
            "marker": {
             "colorbar": {
              "outlinewidth": 0,
              "ticks": ""
             }
            },
            "type": "scatter"
           }
          ],
          "scatter3d": [
           {
            "line": {
             "colorbar": {
              "outlinewidth": 0,
              "ticks": ""
             }
            },
            "marker": {
             "colorbar": {
              "outlinewidth": 0,
              "ticks": ""
             }
            },
            "type": "scatter3d"
           }
          ],
          "scattercarpet": [
           {
            "marker": {
             "colorbar": {
              "outlinewidth": 0,
              "ticks": ""
             }
            },
            "type": "scattercarpet"
           }
          ],
          "scattergeo": [
           {
            "marker": {
             "colorbar": {
              "outlinewidth": 0,
              "ticks": ""
             }
            },
            "type": "scattergeo"
           }
          ],
          "scattergl": [
           {
            "marker": {
             "colorbar": {
              "outlinewidth": 0,
              "ticks": ""
             }
            },
            "type": "scattergl"
           }
          ],
          "scattermapbox": [
           {
            "marker": {
             "colorbar": {
              "outlinewidth": 0,
              "ticks": ""
             }
            },
            "type": "scattermapbox"
           }
          ],
          "scatterpolar": [
           {
            "marker": {
             "colorbar": {
              "outlinewidth": 0,
              "ticks": ""
             }
            },
            "type": "scatterpolar"
           }
          ],
          "scatterpolargl": [
           {
            "marker": {
             "colorbar": {
              "outlinewidth": 0,
              "ticks": ""
             }
            },
            "type": "scatterpolargl"
           }
          ],
          "scatterternary": [
           {
            "marker": {
             "colorbar": {
              "outlinewidth": 0,
              "ticks": ""
             }
            },
            "type": "scatterternary"
           }
          ],
          "surface": [
           {
            "colorbar": {
             "outlinewidth": 0,
             "ticks": ""
            },
            "colorscale": [
             [
              0,
              "#0d0887"
             ],
             [
              0.1111111111111111,
              "#46039f"
             ],
             [
              0.2222222222222222,
              "#7201a8"
             ],
             [
              0.3333333333333333,
              "#9c179e"
             ],
             [
              0.4444444444444444,
              "#bd3786"
             ],
             [
              0.5555555555555556,
              "#d8576b"
             ],
             [
              0.6666666666666666,
              "#ed7953"
             ],
             [
              0.7777777777777778,
              "#fb9f3a"
             ],
             [
              0.8888888888888888,
              "#fdca26"
             ],
             [
              1,
              "#f0f921"
             ]
            ],
            "type": "surface"
           }
          ],
          "table": [
           {
            "cells": {
             "fill": {
              "color": "#EBF0F8"
             },
             "line": {
              "color": "white"
             }
            },
            "header": {
             "fill": {
              "color": "#C8D4E3"
             },
             "line": {
              "color": "white"
             }
            },
            "type": "table"
           }
          ]
         },
         "layout": {
          "annotationdefaults": {
           "arrowcolor": "#2a3f5f",
           "arrowhead": 0,
           "arrowwidth": 1
          },
          "autotypenumbers": "strict",
          "coloraxis": {
           "colorbar": {
            "outlinewidth": 0,
            "ticks": ""
           }
          },
          "colorscale": {
           "diverging": [
            [
             0,
             "#8e0152"
            ],
            [
             0.1,
             "#c51b7d"
            ],
            [
             0.2,
             "#de77ae"
            ],
            [
             0.3,
             "#f1b6da"
            ],
            [
             0.4,
             "#fde0ef"
            ],
            [
             0.5,
             "#f7f7f7"
            ],
            [
             0.6,
             "#e6f5d0"
            ],
            [
             0.7,
             "#b8e186"
            ],
            [
             0.8,
             "#7fbc41"
            ],
            [
             0.9,
             "#4d9221"
            ],
            [
             1,
             "#276419"
            ]
           ],
           "sequential": [
            [
             0,
             "#0d0887"
            ],
            [
             0.1111111111111111,
             "#46039f"
            ],
            [
             0.2222222222222222,
             "#7201a8"
            ],
            [
             0.3333333333333333,
             "#9c179e"
            ],
            [
             0.4444444444444444,
             "#bd3786"
            ],
            [
             0.5555555555555556,
             "#d8576b"
            ],
            [
             0.6666666666666666,
             "#ed7953"
            ],
            [
             0.7777777777777778,
             "#fb9f3a"
            ],
            [
             0.8888888888888888,
             "#fdca26"
            ],
            [
             1,
             "#f0f921"
            ]
           ],
           "sequentialminus": [
            [
             0,
             "#0d0887"
            ],
            [
             0.1111111111111111,
             "#46039f"
            ],
            [
             0.2222222222222222,
             "#7201a8"
            ],
            [
             0.3333333333333333,
             "#9c179e"
            ],
            [
             0.4444444444444444,
             "#bd3786"
            ],
            [
             0.5555555555555556,
             "#d8576b"
            ],
            [
             0.6666666666666666,
             "#ed7953"
            ],
            [
             0.7777777777777778,
             "#fb9f3a"
            ],
            [
             0.8888888888888888,
             "#fdca26"
            ],
            [
             1,
             "#f0f921"
            ]
           ]
          },
          "colorway": [
           "#636efa",
           "#EF553B",
           "#00cc96",
           "#ab63fa",
           "#FFA15A",
           "#19d3f3",
           "#FF6692",
           "#B6E880",
           "#FF97FF",
           "#FECB52"
          ],
          "font": {
           "color": "#2a3f5f"
          },
          "geo": {
           "bgcolor": "white",
           "lakecolor": "white",
           "landcolor": "#E5ECF6",
           "showlakes": true,
           "showland": true,
           "subunitcolor": "white"
          },
          "hoverlabel": {
           "align": "left"
          },
          "hovermode": "closest",
          "mapbox": {
           "style": "light"
          },
          "paper_bgcolor": "white",
          "plot_bgcolor": "#E5ECF6",
          "polar": {
           "angularaxis": {
            "gridcolor": "white",
            "linecolor": "white",
            "ticks": ""
           },
           "bgcolor": "#E5ECF6",
           "radialaxis": {
            "gridcolor": "white",
            "linecolor": "white",
            "ticks": ""
           }
          },
          "scene": {
           "xaxis": {
            "backgroundcolor": "#E5ECF6",
            "gridcolor": "white",
            "gridwidth": 2,
            "linecolor": "white",
            "showbackground": true,
            "ticks": "",
            "zerolinecolor": "white"
           },
           "yaxis": {
            "backgroundcolor": "#E5ECF6",
            "gridcolor": "white",
            "gridwidth": 2,
            "linecolor": "white",
            "showbackground": true,
            "ticks": "",
            "zerolinecolor": "white"
           },
           "zaxis": {
            "backgroundcolor": "#E5ECF6",
            "gridcolor": "white",
            "gridwidth": 2,
            "linecolor": "white",
            "showbackground": true,
            "ticks": "",
            "zerolinecolor": "white"
           }
          },
          "shapedefaults": {
           "line": {
            "color": "#2a3f5f"
           }
          },
          "ternary": {
           "aaxis": {
            "gridcolor": "white",
            "linecolor": "white",
            "ticks": ""
           },
           "baxis": {
            "gridcolor": "white",
            "linecolor": "white",
            "ticks": ""
           },
           "bgcolor": "#E5ECF6",
           "caxis": {
            "gridcolor": "white",
            "linecolor": "white",
            "ticks": ""
           }
          },
          "title": {
           "x": 0.05
          },
          "xaxis": {
           "automargin": true,
           "gridcolor": "white",
           "linecolor": "white",
           "ticks": "",
           "title": {
            "standoff": 15
           },
           "zerolinecolor": "white",
           "zerolinewidth": 2
          },
          "yaxis": {
           "automargin": true,
           "gridcolor": "white",
           "linecolor": "white",
           "ticks": "",
           "title": {
            "standoff": 15
           },
           "zerolinecolor": "white",
           "zerolinewidth": 2
          }
         }
        }
       }
      },
      "image/png": "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",
      "text/html": [
       "<div>                            <div id=\"dc4269cc-ceff-4f06-aabb-cc5abc24479e\" class=\"plotly-graph-div\" style=\"height:525px; width:100%;\"></div>            <script type=\"text/javascript\">                require([\"plotly\"], function(Plotly) {                    window.PLOTLYENV=window.PLOTLYENV || {};                                    if (document.getElementById(\"dc4269cc-ceff-4f06-aabb-cc5abc24479e\")) {                    Plotly.newPlot(                        \"dc4269cc-ceff-4f06-aabb-cc5abc24479e\",                        [{\"domain\": {\"x\": [0.0, 1.0], \"y\": [0.0, 1.0]}, \"hovertemplate\": \"character=%{label}<br>value=%{value}<br>parent=%{parent}<extra></extra>\", \"labels\": [\"DEMOGRAFICHE\", \"genere\", \"menarca (et\\u00e0)\", \"menopausa\", \"CARATTERISTICHE CLINICHE\", \"diagnosi\", \"frequenza attacchi al mese\", \"uas\", \"TERAPIA\", \"abuso farmaco\", \"durata abuso (anni)\", \"profilassi\", \"SINTOMATOLOGIA\", \"sistemica endocrino-metabolica (ex 3)\", \"sistemica altro (ex 4)\", \"sistemica cardiovascolare (ex 2)\", \"CARATTERISTICHE MOLECOLARI\", \"ace\", \"dbh\", \"sod 2\", \"TRIGGER\", \"alcool si=1/no=0\", \"ipertensione arteriosa\", \"diabete si=1/no=0\"], \"name\": \"\", \"parents\": [\"\", \"DEMOGRAFICHE\", \"DEMOGRAFICHE\", \"DEMOGRAFICHE\", \"\", \"CARATTERISTICHE CLINICHE\", \"CARATTERISTICHE CLINICHE\", \"CARATTERISTICHE CLINICHE\", \"\", \"TERAPIA\", \"TERAPIA\", \"TERAPIA\", \"\", \"SINTOMATOLOGIA\", \"SINTOMATOLOGIA\", \"SINTOMATOLOGIA\", \"\", \"CARATTERISTICHE MOLECOLARI\", \"CARATTERISTICHE MOLECOLARI\", \"CARATTERISTICHE MOLECOLARI\", \"\", \"TRIGGER\", \"TRIGGER\", \"TRIGGER\"], \"type\": \"sunburst\", \"values\": [2.5277376470246575, 0.9999999999999999, 0.9851022459465836, 0.23308437224598375, 1.4948860126980585, 1.0, 0.04674799368110519, 0.021744261279917645, 1.382104056614016, 1.0, 0.15547847490481037, 0.13713370599174085, 2.5688460596676235, 0.9999999999999999, 0.7417220537406733, 0.7175090415486716, 2.359791603748291, 1.0000000000000002, 0.7326485037431231, 0.3742758930766301, 2.099221250133282, 1.0000000000000002, 0.48514317737359536, 0.44357832169548994]}],                        {\"legend\": {\"tracegroupgap\": 0}, \"margin\": {\"t\": 60}, \"template\": {\"data\": {\"bar\": [{\"error_x\": {\"color\": \"#2a3f5f\"}, \"error_y\": {\"color\": \"#2a3f5f\"}, \"marker\": {\"line\": {\"color\": \"#E5ECF6\", \"width\": 0.5}}, \"type\": \"bar\"}], \"barpolar\": [{\"marker\": {\"line\": {\"color\": \"#E5ECF6\", \"width\": 0.5}}, \"type\": \"barpolar\"}], \"carpet\": [{\"aaxis\": {\"endlinecolor\": \"#2a3f5f\", \"gridcolor\": \"white\", \"linecolor\": \"white\", \"minorgridcolor\": \"white\", \"startlinecolor\": \"#2a3f5f\"}, \"baxis\": {\"endlinecolor\": \"#2a3f5f\", \"gridcolor\": \"white\", \"linecolor\": \"white\", \"minorgridcolor\": \"white\", \"startlinecolor\": \"#2a3f5f\"}, \"type\": \"carpet\"}], \"choropleth\": [{\"colorbar\": {\"outlinewidth\": 0, \"ticks\": \"\"}, \"type\": \"choropleth\"}], \"contour\": [{\"colorbar\": {\"outlinewidth\": 0, \"ticks\": \"\"}, \"colorscale\": [[0.0, \"#0d0887\"], [0.1111111111111111, \"#46039f\"], [0.2222222222222222, \"#7201a8\"], [0.3333333333333333, \"#9c179e\"], [0.4444444444444444, \"#bd3786\"], [0.5555555555555556, \"#d8576b\"], [0.6666666666666666, \"#ed7953\"], [0.7777777777777778, \"#fb9f3a\"], [0.8888888888888888, \"#fdca26\"], [1.0, \"#f0f921\"]], \"type\": \"contour\"}], \"contourcarpet\": [{\"colorbar\": {\"outlinewidth\": 0, \"ticks\": \"\"}, \"type\": \"contourcarpet\"}], \"heatmap\": [{\"colorbar\": {\"outlinewidth\": 0, \"ticks\": \"\"}, \"colorscale\": [[0.0, \"#0d0887\"], [0.1111111111111111, \"#46039f\"], [0.2222222222222222, \"#7201a8\"], [0.3333333333333333, \"#9c179e\"], [0.4444444444444444, \"#bd3786\"], [0.5555555555555556, \"#d8576b\"], [0.6666666666666666, \"#ed7953\"], [0.7777777777777778, \"#fb9f3a\"], [0.8888888888888888, \"#fdca26\"], [1.0, \"#f0f921\"]], \"type\": \"heatmap\"}], \"heatmapgl\": [{\"colorbar\": {\"outlinewidth\": 0, \"ticks\": \"\"}, \"colorscale\": [[0.0, \"#0d0887\"], [0.1111111111111111, \"#46039f\"], [0.2222222222222222, \"#7201a8\"], [0.3333333333333333, \"#9c179e\"], [0.4444444444444444, \"#bd3786\"], [0.5555555555555556, \"#d8576b\"], [0.6666666666666666, \"#ed7953\"], [0.7777777777777778, \"#fb9f3a\"], [0.8888888888888888, \"#fdca26\"], [1.0, \"#f0f921\"]], \"type\": \"heatmapgl\"}], \"histogram\": [{\"marker\": {\"colorbar\": {\"outlinewidth\": 0, \"ticks\": \"\"}}, \"type\": \"histogram\"}], \"histogram2d\": [{\"colorbar\": {\"outlinewidth\": 0, \"ticks\": \"\"}, \"colorscale\": [[0.0, \"#0d0887\"], [0.1111111111111111, \"#46039f\"], [0.2222222222222222, \"#7201a8\"], [0.3333333333333333, \"#9c179e\"], [0.4444444444444444, \"#bd3786\"], [0.5555555555555556, \"#d8576b\"], [0.6666666666666666, \"#ed7953\"], [0.7777777777777778, \"#fb9f3a\"], [0.8888888888888888, \"#fdca26\"], [1.0, \"#f0f921\"]], \"type\": \"histogram2d\"}], \"histogram2dcontour\": [{\"colorbar\": {\"outlinewidth\": 0, \"ticks\": \"\"}, \"colorscale\": [[0.0, \"#0d0887\"], [0.1111111111111111, \"#46039f\"], [0.2222222222222222, \"#7201a8\"], [0.3333333333333333, \"#9c179e\"], [0.4444444444444444, \"#bd3786\"], [0.5555555555555556, \"#d8576b\"], [0.6666666666666666, \"#ed7953\"], [0.7777777777777778, \"#fb9f3a\"], [0.8888888888888888, \"#fdca26\"], [1.0, \"#f0f921\"]], \"type\": \"histogram2dcontour\"}], \"mesh3d\": [{\"colorbar\": {\"outlinewidth\": 0, \"ticks\": \"\"}, \"type\": \"mesh3d\"}], \"parcoords\": [{\"line\": {\"colorbar\": {\"outlinewidth\": 0, \"ticks\": \"\"}}, \"type\": \"parcoords\"}], \"pie\": [{\"automargin\": true, \"type\": \"pie\"}], \"scatter\": [{\"marker\": {\"colorbar\": {\"outlinewidth\": 0, \"ticks\": \"\"}}, \"type\": \"scatter\"}], \"scatter3d\": [{\"line\": {\"colorbar\": {\"outlinewidth\": 0, \"ticks\": \"\"}}, \"marker\": {\"colorbar\": {\"outlinewidth\": 0, \"ticks\": \"\"}}, \"type\": \"scatter3d\"}], \"scattercarpet\": [{\"marker\": {\"colorbar\": {\"outlinewidth\": 0, \"ticks\": \"\"}}, \"type\": \"scattercarpet\"}], \"scattergeo\": [{\"marker\": {\"colorbar\": {\"outlinewidth\": 0, \"ticks\": \"\"}}, \"type\": \"scattergeo\"}], \"scattergl\": [{\"marker\": {\"colorbar\": {\"outlinewidth\": 0, \"ticks\": \"\"}}, \"type\": \"scattergl\"}], \"scattermapbox\": [{\"marker\": {\"colorbar\": {\"outlinewidth\": 0, \"ticks\": \"\"}}, \"type\": \"scattermapbox\"}], \"scatterpolar\": [{\"marker\": {\"colorbar\": {\"outlinewidth\": 0, \"ticks\": \"\"}}, \"type\": \"scatterpolar\"}], \"scatterpolargl\": [{\"marker\": {\"colorbar\": {\"outlinewidth\": 0, \"ticks\": \"\"}}, \"type\": \"scatterpolargl\"}], \"scatterternary\": [{\"marker\": {\"colorbar\": {\"outlinewidth\": 0, \"ticks\": \"\"}}, \"type\": \"scatterternary\"}], \"surface\": [{\"colorbar\": {\"outlinewidth\": 0, \"ticks\": \"\"}, \"colorscale\": [[0.0, \"#0d0887\"], [0.1111111111111111, \"#46039f\"], [0.2222222222222222, \"#7201a8\"], [0.3333333333333333, \"#9c179e\"], [0.4444444444444444, \"#bd3786\"], [0.5555555555555556, \"#d8576b\"], [0.6666666666666666, \"#ed7953\"], [0.7777777777777778, \"#fb9f3a\"], [0.8888888888888888, \"#fdca26\"], [1.0, \"#f0f921\"]], \"type\": \"surface\"}], \"table\": [{\"cells\": {\"fill\": {\"color\": \"#EBF0F8\"}, \"line\": {\"color\": \"white\"}}, \"header\": {\"fill\": {\"color\": \"#C8D4E3\"}, \"line\": {\"color\": \"white\"}}, \"type\": \"table\"}]}, \"layout\": {\"annotationdefaults\": {\"arrowcolor\": \"#2a3f5f\", \"arrowhead\": 0, \"arrowwidth\": 1}, \"autotypenumbers\": \"strict\", \"coloraxis\": {\"colorbar\": {\"outlinewidth\": 0, \"ticks\": \"\"}}, \"colorscale\": {\"diverging\": [[0, \"#8e0152\"], [0.1, \"#c51b7d\"], [0.2, \"#de77ae\"], [0.3, \"#f1b6da\"], [0.4, \"#fde0ef\"], [0.5, \"#f7f7f7\"], [0.6, \"#e6f5d0\"], [0.7, \"#b8e186\"], [0.8, \"#7fbc41\"], [0.9, \"#4d9221\"], [1, \"#276419\"]], \"sequential\": [[0.0, \"#0d0887\"], [0.1111111111111111, \"#46039f\"], [0.2222222222222222, \"#7201a8\"], [0.3333333333333333, \"#9c179e\"], [0.4444444444444444, \"#bd3786\"], [0.5555555555555556, \"#d8576b\"], [0.6666666666666666, \"#ed7953\"], [0.7777777777777778, \"#fb9f3a\"], [0.8888888888888888, \"#fdca26\"], [1.0, \"#f0f921\"]], \"sequentialminus\": [[0.0, \"#0d0887\"], [0.1111111111111111, \"#46039f\"], [0.2222222222222222, \"#7201a8\"], [0.3333333333333333, \"#9c179e\"], [0.4444444444444444, \"#bd3786\"], [0.5555555555555556, \"#d8576b\"], [0.6666666666666666, \"#ed7953\"], [0.7777777777777778, \"#fb9f3a\"], [0.8888888888888888, \"#fdca26\"], [1.0, \"#f0f921\"]]}, \"colorway\": [\"#636efa\", \"#EF553B\", \"#00cc96\", \"#ab63fa\", \"#FFA15A\", \"#19d3f3\", \"#FF6692\", \"#B6E880\", \"#FF97FF\", \"#FECB52\"], \"font\": {\"color\": \"#2a3f5f\"}, \"geo\": {\"bgcolor\": \"white\", \"lakecolor\": \"white\", \"landcolor\": \"#E5ECF6\", \"showlakes\": true, \"showland\": true, \"subunitcolor\": \"white\"}, \"hoverlabel\": {\"align\": \"left\"}, \"hovermode\": \"closest\", \"mapbox\": {\"style\": \"light\"}, \"paper_bgcolor\": \"white\", \"plot_bgcolor\": \"#E5ECF6\", \"polar\": {\"angularaxis\": {\"gridcolor\": \"white\", \"linecolor\": \"white\", \"ticks\": \"\"}, \"bgcolor\": \"#E5ECF6\", \"radialaxis\": {\"gridcolor\": \"white\", \"linecolor\": \"white\", \"ticks\": \"\"}}, \"scene\": {\"xaxis\": {\"backgroundcolor\": \"#E5ECF6\", \"gridcolor\": \"white\", \"gridwidth\": 2, \"linecolor\": \"white\", \"showbackground\": true, \"ticks\": \"\", \"zerolinecolor\": \"white\"}, \"yaxis\": {\"backgroundcolor\": \"#E5ECF6\", \"gridcolor\": \"white\", \"gridwidth\": 2, \"linecolor\": \"white\", \"showbackground\": true, \"ticks\": \"\", \"zerolinecolor\": \"white\"}, \"zaxis\": {\"backgroundcolor\": \"#E5ECF6\", \"gridcolor\": \"white\", \"gridwidth\": 2, \"linecolor\": \"white\", \"showbackground\": true, \"ticks\": \"\", \"zerolinecolor\": \"white\"}}, \"shapedefaults\": {\"line\": {\"color\": \"#2a3f5f\"}}, \"ternary\": {\"aaxis\": {\"gridcolor\": \"white\", \"linecolor\": \"white\", \"ticks\": \"\"}, \"baxis\": {\"gridcolor\": \"white\", \"linecolor\": \"white\", \"ticks\": \"\"}, \"bgcolor\": \"#E5ECF6\", \"caxis\": {\"gridcolor\": \"white\", \"linecolor\": \"white\", \"ticks\": \"\"}}, \"title\": {\"x\": 0.05}, \"xaxis\": {\"automargin\": true, \"gridcolor\": \"white\", \"linecolor\": \"white\", \"ticks\": \"\", \"title\": {\"standoff\": 15}, \"zerolinecolor\": \"white\", \"zerolinewidth\": 2}, \"yaxis\": {\"automargin\": true, \"gridcolor\": \"white\", \"linecolor\": \"white\", \"ticks\": \"\", \"title\": {\"standoff\": 15}, \"zerolinecolor\": \"white\", \"zerolinewidth\": 2}}}},                        {\"responsive\": true}                    ).then(function(){\n",
       "                            \n",
       "var gd = document.getElementById('dc4269cc-ceff-4f06-aabb-cc5abc24479e');\n",
       "var x = new MutationObserver(function (mutations, observer) {{\n",
       "        var display = window.getComputedStyle(gd).display;\n",
       "        if (!display || display === 'none') {{\n",
       "            console.log([gd, 'removed!']);\n",
       "            Plotly.purge(gd);\n",
       "            observer.disconnect();\n",
       "        }}\n",
       "}});\n",
       "\n",
       "// Listen for the removal of the full notebook cells\n",
       "var notebookContainer = gd.closest('#notebook-container');\n",
       "if (notebookContainer) {{\n",
       "    x.observe(notebookContainer, {childList: true});\n",
       "}}\n",
       "\n",
       "// Listen for the clearing of the current output cell\n",
       "var outputEl = gd.closest('.output');\n",
       "if (outputEl) {{\n",
       "    x.observe(outputEl, {childList: true});\n",
       "}}\n",
       "\n",
       "                        })                };                });            </script>        </div>"
      ]
     },
     "metadata": {},
     "output_type": "display_data"
    },
    {
     "data": {
      "text/html": [
       "<div>\n",
       "<style scoped>\n",
       "    .dataframe tbody tr th:only-of-type {\n",
       "        vertical-align: middle;\n",
       "    }\n",
       "\n",
       "    .dataframe tbody tr th {\n",
       "        vertical-align: top;\n",
       "    }\n",
       "\n",
       "    .dataframe thead th {\n",
       "        text-align: right;\n",
       "    }\n",
       "</style>\n",
       "<table border=\"1\" class=\"dataframe\">\n",
       "  <thead>\n",
       "    <tr style=\"text-align: right;\">\n",
       "      <th></th>\n",
       "      <th>genere</th>\n",
       "      <th>menarca (età)</th>\n",
       "      <th>menopausa</th>\n",
       "      <th>diagnosi</th>\n",
       "      <th>frequenza attacchi al mese</th>\n",
       "      <th>uas</th>\n",
       "      <th>abuso farmaco</th>\n",
       "      <th>durata abuso (anni)</th>\n",
       "      <th>profilassi</th>\n",
       "      <th>sistemica endocrino-metabolica (ex 3)</th>\n",
       "      <th>sistemica altro (ex 4)</th>\n",
       "      <th>sistemica cardiovascolare (ex 2)</th>\n",
       "      <th>ace</th>\n",
       "      <th>dbh</th>\n",
       "      <th>sod 2</th>\n",
       "      <th>alcool si=1/no=0</th>\n",
       "      <th>ipertensione arteriosa</th>\n",
       "      <th>diabete si=1/no=0</th>\n",
       "    </tr>\n",
       "  </thead>\n",
       "  <tbody>\n",
       "    <tr>\n",
       "      <th>0</th>\n",
       "      <td>1</td>\n",
       "      <td>0</td>\n",
       "      <td>0.0</td>\n",
       "      <td>1</td>\n",
       "      <td>0</td>\n",
       "      <td>1.0</td>\n",
       "      <td>0.0</td>\n",
       "      <td>-1.0</td>\n",
       "      <td>1.0</td>\n",
       "      <td>0.0</td>\n",
       "      <td>0.0</td>\n",
       "      <td>0.0</td>\n",
       "      <td>0</td>\n",
       "      <td>3</td>\n",
       "      <td>0</td>\n",
       "      <td>0.0</td>\n",
       "      <td>0</td>\n",
       "      <td>0</td>\n",
       "    </tr>\n",
       "  </tbody>\n",
       "</table>\n",
       "</div>"
      ],
      "text/plain": [
       "   genere  menarca (età)  menopausa  diagnosi  frequenza attacchi al mese  \\\n",
       "0       1              0        0.0         1                           0   \n",
       "\n",
       "   uas  abuso farmaco  durata abuso (anni)  profilassi  \\\n",
       "0  1.0            0.0                 -1.0         1.0   \n",
       "\n",
       "   sistemica endocrino-metabolica (ex 3)  sistemica altro (ex 4)  \\\n",
       "0                                    0.0                     0.0   \n",
       "\n",
       "   sistemica cardiovascolare (ex 2)  ace  dbh  sod 2  alcool si=1/no=0  \\\n",
       "0                               0.0    0    3      0               0.0   \n",
       "\n",
       "   ipertensione arteriosa  diabete si=1/no=0  \n",
       "0                       0                  0  "
      ]
     },
     "execution_count": 310,
     "metadata": {},
     "output_type": "execute_result"
    }
   ],
   "source": [
    "example = plot_bubbles(results, original_example)\n",
    "example"
   ]
  },
  {
   "cell_type": "code",
   "execution_count": null,
   "metadata": {},
   "outputs": [],
   "source": []
  },
  {
   "cell_type": "code",
   "execution_count": null,
   "metadata": {},
   "outputs": [],
   "source": []
  }
 ],
 "metadata": {
  "kernelspec": {
   "display_name": "Python 3",
   "language": "python",
   "name": "python3"
  },
  "language_info": {
   "codemirror_mode": {
    "name": "ipython",
    "version": 3
   },
   "file_extension": ".py",
   "mimetype": "text/x-python",
   "name": "python",
   "nbconvert_exporter": "python",
   "pygments_lexer": "ipython3",
   "version": "3.8.5"
  }
 },
 "nbformat": 4,
 "nbformat_minor": 4
}
